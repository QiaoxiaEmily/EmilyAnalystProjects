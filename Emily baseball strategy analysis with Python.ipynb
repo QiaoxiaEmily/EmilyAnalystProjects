{
 "cells": [
  {
   "cell_type": "markdown",
   "id": "29f8a076",
   "metadata": {},
   "source": [
    "**Section 1 – Purpose and Objectives of the Project**"
   ]
  },
  {
   "cell_type": "markdown",
   "id": "2f524ae5",
   "metadata": {},
   "source": [
    "**A baseball fan is curious about the most effective strategy for teams won in different years, for example, if teams are more successful with high offenses, tight defenses or a balance of the two.**\n",
    "\n",
    "**Here is the list we will do to predict it.**\n",
    "\n",
    "**1. Import historical baseball team performance data, do some correlation analysis and find the independent variables that are good predictors of games won.** \n",
    "\n",
    "**2. Build a Game_Won model using these variables and Validate the model. We will set 95% Statistical significance of the overall model.**\n",
    "\n",
    "**3. Predict the most effective strategy for teams won using the recent year's data**\n"
   ]
  },
  {
   "cell_type": "code",
   "execution_count": null,
   "id": "643cfb53",
   "metadata": {},
   "outputs": [],
   "source": []
  },
  {
   "cell_type": "markdown",
   "id": "9cf15482",
   "metadata": {},
   "source": [
    "**Section 2 – Data Exploration**"
   ]
  },
  {
   "cell_type": "code",
   "execution_count": 1,
   "id": "401e33b1",
   "metadata": {},
   "outputs": [],
   "source": [
    "import pandas as pd\n",
    "import seaborn as sns\n",
    "import statsmodels.formula.api as smf\n",
    "import statsmodels.api as sm2\n",
    "import matplotlib.pyplot as plt\n",
    "from sklearn.linear_model import LinearRegression\n",
    "from sklearn import metrics \n",
    "from sklearn.model_selection import train_test_split\n",
    "import numpy as np\n",
    "\n",
    "%matplotlib inline\n"
   ]
  },
  {
   "cell_type": "code",
   "execution_count": 2,
   "id": "8f207896",
   "metadata": {},
   "outputs": [],
   "source": [
    "df=pd.read_csv('baseball_teams.csv')"
   ]
  },
  {
   "cell_type": "code",
   "execution_count": null,
   "id": "69535dc1",
   "metadata": {},
   "outputs": [],
   "source": []
  },
  {
   "cell_type": "markdown",
   "id": "6b22f8b5",
   "metadata": {},
   "source": [
    "**Period 1 – before 1920**"
   ]
  },
  {
   "cell_type": "markdown",
   "id": "58b74cf8",
   "metadata": {},
   "source": [
    "**Section 2 – Data Exploration**"
   ]
  },
  {
   "cell_type": "code",
   "execution_count": 3,
   "id": "a108a48a",
   "metadata": {},
   "outputs": [],
   "source": [
    "df_1920=df[df['Year']<1920]"
   ]
  },
  {
   "cell_type": "code",
   "execution_count": 4,
   "id": "d1e36a83",
   "metadata": {},
   "outputs": [],
   "source": [
    "df_1920.reset_index(drop=True, inplace=True)"
   ]
  },
  {
   "cell_type": "code",
   "execution_count": 5,
   "id": "e2d841bc",
   "metadata": {
    "scrolled": true
   },
   "outputs": [
    {
     "data": {
      "text/html": [
       "<div>\n",
       "<style scoped>\n",
       "    .dataframe tbody tr th:only-of-type {\n",
       "        vertical-align: middle;\n",
       "    }\n",
       "\n",
       "    .dataframe tbody tr th {\n",
       "        vertical-align: top;\n",
       "    }\n",
       "\n",
       "    .dataframe thead th {\n",
       "        text-align: right;\n",
       "    }\n",
       "</style>\n",
       "<table border=\"1\" class=\"dataframe\">\n",
       "  <thead>\n",
       "    <tr style=\"text-align: right;\">\n",
       "      <th></th>\n",
       "      <th>Year</th>\n",
       "      <th>League</th>\n",
       "      <th>Team</th>\n",
       "      <th>Franchise</th>\n",
       "      <th>Division</th>\n",
       "      <th>Final_Standing</th>\n",
       "      <th>Games_Played</th>\n",
       "      <th>Unnamed: 7</th>\n",
       "      <th>Games_Won</th>\n",
       "      <th>Games_Lost</th>\n",
       "      <th>...</th>\n",
       "      <th>Hits_Allowed</th>\n",
       "      <th>Home_Run_Allowed</th>\n",
       "      <th>Walks_Allowed</th>\n",
       "      <th>Strikeouts_Allowed</th>\n",
       "      <th>Errors</th>\n",
       "      <th>Double_Plays</th>\n",
       "      <th>Fielding_Percentage</th>\n",
       "      <th>Team_Name</th>\n",
       "      <th>Home_Ball_Park</th>\n",
       "      <th>Attendance</th>\n",
       "    </tr>\n",
       "  </thead>\n",
       "  <tbody>\n",
       "    <tr>\n",
       "      <th>0</th>\n",
       "      <td>1871</td>\n",
       "      <td>NaN</td>\n",
       "      <td>BS1</td>\n",
       "      <td>BNA</td>\n",
       "      <td>NaN</td>\n",
       "      <td>3</td>\n",
       "      <td>31</td>\n",
       "      <td>NaN</td>\n",
       "      <td>20</td>\n",
       "      <td>10</td>\n",
       "      <td>...</td>\n",
       "      <td>367</td>\n",
       "      <td>2</td>\n",
       "      <td>42</td>\n",
       "      <td>23</td>\n",
       "      <td>225</td>\n",
       "      <td>NaN</td>\n",
       "      <td>0.83</td>\n",
       "      <td>Boston Red Stockings</td>\n",
       "      <td>South End Grounds I</td>\n",
       "      <td>NaN</td>\n",
       "    </tr>\n",
       "    <tr>\n",
       "      <th>1</th>\n",
       "      <td>1871</td>\n",
       "      <td>NaN</td>\n",
       "      <td>CH1</td>\n",
       "      <td>CNA</td>\n",
       "      <td>NaN</td>\n",
       "      <td>2</td>\n",
       "      <td>28</td>\n",
       "      <td>NaN</td>\n",
       "      <td>19</td>\n",
       "      <td>9</td>\n",
       "      <td>...</td>\n",
       "      <td>308</td>\n",
       "      <td>6</td>\n",
       "      <td>28</td>\n",
       "      <td>22</td>\n",
       "      <td>218</td>\n",
       "      <td>NaN</td>\n",
       "      <td>0.82</td>\n",
       "      <td>Chicago White Stockings</td>\n",
       "      <td>Union Base-Ball Grounds</td>\n",
       "      <td>NaN</td>\n",
       "    </tr>\n",
       "    <tr>\n",
       "      <th>2</th>\n",
       "      <td>1871</td>\n",
       "      <td>NaN</td>\n",
       "      <td>CL1</td>\n",
       "      <td>CFC</td>\n",
       "      <td>NaN</td>\n",
       "      <td>8</td>\n",
       "      <td>29</td>\n",
       "      <td>NaN</td>\n",
       "      <td>10</td>\n",
       "      <td>19</td>\n",
       "      <td>...</td>\n",
       "      <td>346</td>\n",
       "      <td>13</td>\n",
       "      <td>53</td>\n",
       "      <td>34</td>\n",
       "      <td>223</td>\n",
       "      <td>NaN</td>\n",
       "      <td>0.81</td>\n",
       "      <td>Cleveland Forest Citys</td>\n",
       "      <td>National Association Grounds</td>\n",
       "      <td>NaN</td>\n",
       "    </tr>\n",
       "    <tr>\n",
       "      <th>3</th>\n",
       "      <td>1871</td>\n",
       "      <td>NaN</td>\n",
       "      <td>FW1</td>\n",
       "      <td>KEK</td>\n",
       "      <td>NaN</td>\n",
       "      <td>7</td>\n",
       "      <td>19</td>\n",
       "      <td>NaN</td>\n",
       "      <td>7</td>\n",
       "      <td>12</td>\n",
       "      <td>...</td>\n",
       "      <td>261</td>\n",
       "      <td>5</td>\n",
       "      <td>21</td>\n",
       "      <td>17</td>\n",
       "      <td>163</td>\n",
       "      <td>NaN</td>\n",
       "      <td>0.80</td>\n",
       "      <td>Fort Wayne Kekiongas</td>\n",
       "      <td>Hamilton Field</td>\n",
       "      <td>NaN</td>\n",
       "    </tr>\n",
       "    <tr>\n",
       "      <th>4</th>\n",
       "      <td>1871</td>\n",
       "      <td>NaN</td>\n",
       "      <td>NY2</td>\n",
       "      <td>NNA</td>\n",
       "      <td>NaN</td>\n",
       "      <td>5</td>\n",
       "      <td>33</td>\n",
       "      <td>NaN</td>\n",
       "      <td>16</td>\n",
       "      <td>17</td>\n",
       "      <td>...</td>\n",
       "      <td>373</td>\n",
       "      <td>7</td>\n",
       "      <td>42</td>\n",
       "      <td>22</td>\n",
       "      <td>227</td>\n",
       "      <td>NaN</td>\n",
       "      <td>0.83</td>\n",
       "      <td>New York Mutuals</td>\n",
       "      <td>Union Grounds (Brooklyn)</td>\n",
       "      <td>NaN</td>\n",
       "    </tr>\n",
       "  </tbody>\n",
       "</table>\n",
       "<p>5 rows × 43 columns</p>\n",
       "</div>"
      ],
      "text/plain": [
       "   Year League Team  Franchise  Division  Final_Standing  Games_Played  \\\n",
       "0  1871    NaN   BS1        BNA      NaN               3            31   \n",
       "1  1871    NaN   CH1        CNA      NaN               2            28   \n",
       "2  1871    NaN   CL1        CFC      NaN               8            29   \n",
       "3  1871    NaN   FW1        KEK      NaN               7            19   \n",
       "4  1871    NaN   NY2        NNA      NaN               5            33   \n",
       "\n",
       "   Unnamed: 7  Games_Won  Games_Lost  ... Hits_Allowed Home_Run_Allowed  \\\n",
       "0         NaN         20          10  ...          367                2   \n",
       "1         NaN         19           9  ...          308                6   \n",
       "2         NaN         10          19  ...          346               13   \n",
       "3         NaN          7          12  ...          261                5   \n",
       "4         NaN         16          17  ...          373                7   \n",
       "\n",
       "  Walks_Allowed Strikeouts_Allowed  Errors  Double_Plays  Fielding_Percentage  \\\n",
       "0            42                 23     225           NaN                 0.83   \n",
       "1            28                 22     218           NaN                 0.82   \n",
       "2            53                 34     223           NaN                 0.81   \n",
       "3            21                 17     163           NaN                 0.80   \n",
       "4            42                 22     227           NaN                 0.83   \n",
       "\n",
       "                 Team_Name                Home_Ball_Park  Attendance  \n",
       "0     Boston Red Stockings           South End Grounds I         NaN  \n",
       "1  Chicago White Stockings       Union Base-Ball Grounds         NaN  \n",
       "2   Cleveland Forest Citys  National Association Grounds         NaN  \n",
       "3     Fort Wayne Kekiongas                Hamilton Field         NaN  \n",
       "4         New York Mutuals      Union Grounds (Brooklyn)         NaN  \n",
       "\n",
       "[5 rows x 43 columns]"
      ]
     },
     "execution_count": 5,
     "metadata": {},
     "output_type": "execute_result"
    }
   ],
   "source": [
    "df_1920.head()"
   ]
  },
  {
   "cell_type": "code",
   "execution_count": 6,
   "id": "7e14217c",
   "metadata": {
    "scrolled": false
   },
   "outputs": [
    {
     "data": {
      "text/html": [
       "<div>\n",
       "<style scoped>\n",
       "    .dataframe tbody tr th:only-of-type {\n",
       "        vertical-align: middle;\n",
       "    }\n",
       "\n",
       "    .dataframe tbody tr th {\n",
       "        vertical-align: top;\n",
       "    }\n",
       "\n",
       "    .dataframe thead th {\n",
       "        text-align: right;\n",
       "    }\n",
       "</style>\n",
       "<table border=\"1\" class=\"dataframe\">\n",
       "  <thead>\n",
       "    <tr style=\"text-align: right;\">\n",
       "      <th></th>\n",
       "      <th>Year</th>\n",
       "      <th>Final_Standing</th>\n",
       "      <th>Games_Played</th>\n",
       "      <th>Unnamed: 7</th>\n",
       "      <th>Games_Won</th>\n",
       "      <th>Games_Lost</th>\n",
       "      <th>Runs_Scored</th>\n",
       "      <th>At_Bats</th>\n",
       "      <th>Hits</th>\n",
       "      <th>Doubles</th>\n",
       "      <th>...</th>\n",
       "      <th>Saves</th>\n",
       "      <th>Infield_Put_Outs</th>\n",
       "      <th>Hits_Allowed</th>\n",
       "      <th>Home_Run_Allowed</th>\n",
       "      <th>Walks_Allowed</th>\n",
       "      <th>Strikeouts_Allowed</th>\n",
       "      <th>Errors</th>\n",
       "      <th>Double_Plays</th>\n",
       "      <th>Fielding_Percentage</th>\n",
       "      <th>Attendance</th>\n",
       "    </tr>\n",
       "  </thead>\n",
       "  <tbody>\n",
       "    <tr>\n",
       "      <th>Year</th>\n",
       "      <td>1.000000</td>\n",
       "      <td>-0.082193</td>\n",
       "      <td>0.802923</td>\n",
       "      <td>0.039266</td>\n",
       "      <td>0.602368</td>\n",
       "      <td>0.620393</td>\n",
       "      <td>0.170307</td>\n",
       "      <td>0.735271</td>\n",
       "      <td>0.655431</td>\n",
       "      <td>0.562873</td>\n",
       "      <td>...</td>\n",
       "      <td>0.676590</td>\n",
       "      <td>0.821519</td>\n",
       "      <td>0.664930</td>\n",
       "      <td>0.230242</td>\n",
       "      <td>0.679998</td>\n",
       "      <td>0.676153</td>\n",
       "      <td>-0.549536</td>\n",
       "      <td>0.785223</td>\n",
       "      <td>0.878291</td>\n",
       "      <td>0.391909</td>\n",
       "    </tr>\n",
       "    <tr>\n",
       "      <th>Final_Standing</th>\n",
       "      <td>-0.082193</td>\n",
       "      <td>1.000000</td>\n",
       "      <td>-0.108053</td>\n",
       "      <td>-0.091165</td>\n",
       "      <td>-0.635882</td>\n",
       "      <td>0.489376</td>\n",
       "      <td>-0.335152</td>\n",
       "      <td>-0.131851</td>\n",
       "      <td>-0.225380</td>\n",
       "      <td>-0.311365</td>\n",
       "      <td>...</td>\n",
       "      <td>-0.277237</td>\n",
       "      <td>-0.136902</td>\n",
       "      <td>0.121449</td>\n",
       "      <td>0.159822</td>\n",
       "      <td>0.095441</td>\n",
       "      <td>-0.242680</td>\n",
       "      <td>0.186997</td>\n",
       "      <td>0.087461</td>\n",
       "      <td>-0.234411</td>\n",
       "      <td>-0.567874</td>\n",
       "    </tr>\n",
       "    <tr>\n",
       "      <th>Games_Played</th>\n",
       "      <td>0.802923</td>\n",
       "      <td>-0.108053</td>\n",
       "      <td>1.000000</td>\n",
       "      <td>0.889232</td>\n",
       "      <td>0.765999</td>\n",
       "      <td>0.745224</td>\n",
       "      <td>0.564020</td>\n",
       "      <td>0.987764</td>\n",
       "      <td>0.905877</td>\n",
       "      <td>0.760180</td>\n",
       "      <td>...</td>\n",
       "      <td>0.481929</td>\n",
       "      <td>0.997586</td>\n",
       "      <td>0.900834</td>\n",
       "      <td>0.464565</td>\n",
       "      <td>0.834464</td>\n",
       "      <td>0.798978</td>\n",
       "      <td>-0.087397</td>\n",
       "      <td>0.764035</td>\n",
       "      <td>0.880804</td>\n",
       "      <td>0.377435</td>\n",
       "    </tr>\n",
       "    <tr>\n",
       "      <th>Unnamed: 7</th>\n",
       "      <td>0.039266</td>\n",
       "      <td>-0.091165</td>\n",
       "      <td>0.889232</td>\n",
       "      <td>1.000000</td>\n",
       "      <td>0.303142</td>\n",
       "      <td>0.137983</td>\n",
       "      <td>0.123811</td>\n",
       "      <td>0.800200</td>\n",
       "      <td>0.307485</td>\n",
       "      <td>0.120461</td>\n",
       "      <td>...</td>\n",
       "      <td>0.248635</td>\n",
       "      <td>0.882112</td>\n",
       "      <td>0.244269</td>\n",
       "      <td>0.015318</td>\n",
       "      <td>0.301987</td>\n",
       "      <td>0.577207</td>\n",
       "      <td>0.087324</td>\n",
       "      <td>0.211687</td>\n",
       "      <td>0.140322</td>\n",
       "      <td>0.336252</td>\n",
       "    </tr>\n",
       "    <tr>\n",
       "      <th>Games_Won</th>\n",
       "      <td>0.602368</td>\n",
       "      <td>-0.635882</td>\n",
       "      <td>0.765999</td>\n",
       "      <td>0.303142</td>\n",
       "      <td>1.000000</td>\n",
       "      <td>0.144745</td>\n",
       "      <td>0.681313</td>\n",
       "      <td>0.775265</td>\n",
       "      <td>0.808361</td>\n",
       "      <td>0.749308</td>\n",
       "      <td>...</td>\n",
       "      <td>0.526227</td>\n",
       "      <td>0.779830</td>\n",
       "      <td>0.555890</td>\n",
       "      <td>0.243336</td>\n",
       "      <td>0.532710</td>\n",
       "      <td>0.695112</td>\n",
       "      <td>-0.199159</td>\n",
       "      <td>0.497300</td>\n",
       "      <td>0.752685</td>\n",
       "      <td>0.638185</td>\n",
       "    </tr>\n",
       "    <tr>\n",
       "      <th>Games_Lost</th>\n",
       "      <td>0.620393</td>\n",
       "      <td>0.489376</td>\n",
       "      <td>0.745224</td>\n",
       "      <td>0.137983</td>\n",
       "      <td>0.144745</td>\n",
       "      <td>1.000000</td>\n",
       "      <td>0.160974</td>\n",
       "      <td>0.716733</td>\n",
       "      <td>0.558298</td>\n",
       "      <td>0.397839</td>\n",
       "      <td>...</td>\n",
       "      <td>0.202158</td>\n",
       "      <td>0.727625</td>\n",
       "      <td>0.811717</td>\n",
       "      <td>0.464053</td>\n",
       "      <td>0.732441</td>\n",
       "      <td>0.506540</td>\n",
       "      <td>0.065033</td>\n",
       "      <td>0.544475</td>\n",
       "      <td>0.580469</td>\n",
       "      <td>-0.409876</td>\n",
       "    </tr>\n",
       "    <tr>\n",
       "      <th>Runs_Scored</th>\n",
       "      <td>0.170307</td>\n",
       "      <td>-0.335152</td>\n",
       "      <td>0.564020</td>\n",
       "      <td>0.123811</td>\n",
       "      <td>0.681313</td>\n",
       "      <td>0.160974</td>\n",
       "      <td>1.000000</td>\n",
       "      <td>0.659766</td>\n",
       "      <td>0.809644</td>\n",
       "      <td>0.756382</td>\n",
       "      <td>...</td>\n",
       "      <td>0.140634</td>\n",
       "      <td>0.544808</td>\n",
       "      <td>0.632833</td>\n",
       "      <td>0.558037</td>\n",
       "      <td>0.556296</td>\n",
       "      <td>0.334195</td>\n",
       "      <td>0.333870</td>\n",
       "      <td>0.484396</td>\n",
       "      <td>0.395619</td>\n",
       "      <td>-0.039060</td>\n",
       "    </tr>\n",
       "    <tr>\n",
       "      <th>At_Bats</th>\n",
       "      <td>0.735271</td>\n",
       "      <td>-0.131851</td>\n",
       "      <td>0.987764</td>\n",
       "      <td>0.800200</td>\n",
       "      <td>0.775265</td>\n",
       "      <td>0.716733</td>\n",
       "      <td>0.659766</td>\n",
       "      <td>1.000000</td>\n",
       "      <td>0.946003</td>\n",
       "      <td>0.802197</td>\n",
       "      <td>...</td>\n",
       "      <td>0.427719</td>\n",
       "      <td>0.983225</td>\n",
       "      <td>0.918925</td>\n",
       "      <td>0.510169</td>\n",
       "      <td>0.830906</td>\n",
       "      <td>0.760765</td>\n",
       "      <td>0.004864</td>\n",
       "      <td>0.765141</td>\n",
       "      <td>0.848008</td>\n",
       "      <td>0.228045</td>\n",
       "    </tr>\n",
       "    <tr>\n",
       "      <th>Hits</th>\n",
       "      <td>0.655431</td>\n",
       "      <td>-0.225380</td>\n",
       "      <td>0.905877</td>\n",
       "      <td>0.307485</td>\n",
       "      <td>0.808361</td>\n",
       "      <td>0.558298</td>\n",
       "      <td>0.809644</td>\n",
       "      <td>0.946003</td>\n",
       "      <td>1.000000</td>\n",
       "      <td>0.875189</td>\n",
       "      <td>...</td>\n",
       "      <td>0.406667</td>\n",
       "      <td>0.898052</td>\n",
       "      <td>0.896290</td>\n",
       "      <td>0.541807</td>\n",
       "      <td>0.788433</td>\n",
       "      <td>0.631432</td>\n",
       "      <td>0.003521</td>\n",
       "      <td>0.730875</td>\n",
       "      <td>0.790960</td>\n",
       "      <td>0.119034</td>\n",
       "    </tr>\n",
       "    <tr>\n",
       "      <th>Doubles</th>\n",
       "      <td>0.562873</td>\n",
       "      <td>-0.311365</td>\n",
       "      <td>0.760180</td>\n",
       "      <td>0.120461</td>\n",
       "      <td>0.749308</td>\n",
       "      <td>0.397839</td>\n",
       "      <td>0.756382</td>\n",
       "      <td>0.802197</td>\n",
       "      <td>0.875189</td>\n",
       "      <td>1.000000</td>\n",
       "      <td>...</td>\n",
       "      <td>0.389172</td>\n",
       "      <td>0.756859</td>\n",
       "      <td>0.753645</td>\n",
       "      <td>0.494058</td>\n",
       "      <td>0.654073</td>\n",
       "      <td>0.587034</td>\n",
       "      <td>0.004483</td>\n",
       "      <td>0.582737</td>\n",
       "      <td>0.685504</td>\n",
       "      <td>0.262775</td>\n",
       "    </tr>\n",
       "    <tr>\n",
       "      <th>Triples</th>\n",
       "      <td>0.424524</td>\n",
       "      <td>-0.178688</td>\n",
       "      <td>0.666072</td>\n",
       "      <td>0.165061</td>\n",
       "      <td>0.644800</td>\n",
       "      <td>0.362214</td>\n",
       "      <td>0.750391</td>\n",
       "      <td>0.712543</td>\n",
       "      <td>0.787124</td>\n",
       "      <td>0.676356</td>\n",
       "      <td>...</td>\n",
       "      <td>0.272724</td>\n",
       "      <td>0.655342</td>\n",
       "      <td>0.679766</td>\n",
       "      <td>0.444315</td>\n",
       "      <td>0.625115</td>\n",
       "      <td>0.460045</td>\n",
       "      <td>0.086207</td>\n",
       "      <td>0.531607</td>\n",
       "      <td>0.558020</td>\n",
       "      <td>0.017024</td>\n",
       "    </tr>\n",
       "    <tr>\n",
       "      <th>Home_Runs</th>\n",
       "      <td>0.207973</td>\n",
       "      <td>-0.151843</td>\n",
       "      <td>0.431225</td>\n",
       "      <td>0.037063</td>\n",
       "      <td>0.456323</td>\n",
       "      <td>0.192673</td>\n",
       "      <td>0.683735</td>\n",
       "      <td>0.489277</td>\n",
       "      <td>0.580259</td>\n",
       "      <td>0.583327</td>\n",
       "      <td>...</td>\n",
       "      <td>0.143588</td>\n",
       "      <td>0.419918</td>\n",
       "      <td>0.488955</td>\n",
       "      <td>0.731245</td>\n",
       "      <td>0.472745</td>\n",
       "      <td>0.310827</td>\n",
       "      <td>0.172111</td>\n",
       "      <td>0.426718</td>\n",
       "      <td>0.323759</td>\n",
       "      <td>-0.053442</td>\n",
       "    </tr>\n",
       "    <tr>\n",
       "      <th>Walks</th>\n",
       "      <td>0.684370</td>\n",
       "      <td>-0.118003</td>\n",
       "      <td>0.844984</td>\n",
       "      <td>0.348215</td>\n",
       "      <td>0.712184</td>\n",
       "      <td>0.563769</td>\n",
       "      <td>0.674472</td>\n",
       "      <td>0.840788</td>\n",
       "      <td>0.829771</td>\n",
       "      <td>0.719134</td>\n",
       "      <td>...</td>\n",
       "      <td>0.496357</td>\n",
       "      <td>0.839668</td>\n",
       "      <td>0.809204</td>\n",
       "      <td>0.546246</td>\n",
       "      <td>0.872174</td>\n",
       "      <td>0.631832</td>\n",
       "      <td>-0.101283</td>\n",
       "      <td>0.724397</td>\n",
       "      <td>0.741792</td>\n",
       "      <td>0.127423</td>\n",
       "    </tr>\n",
       "    <tr>\n",
       "      <th>Strike_Outs</th>\n",
       "      <td>0.665538</td>\n",
       "      <td>-0.014480</td>\n",
       "      <td>0.803176</td>\n",
       "      <td>0.654670</td>\n",
       "      <td>0.549502</td>\n",
       "      <td>0.702733</td>\n",
       "      <td>0.312593</td>\n",
       "      <td>0.759834</td>\n",
       "      <td>0.593831</td>\n",
       "      <td>0.577013</td>\n",
       "      <td>...</td>\n",
       "      <td>0.452996</td>\n",
       "      <td>0.806878</td>\n",
       "      <td>0.645443</td>\n",
       "      <td>0.417957</td>\n",
       "      <td>0.653870</td>\n",
       "      <td>0.886535</td>\n",
       "      <td>0.006505</td>\n",
       "      <td>0.760487</td>\n",
       "      <td>0.684980</td>\n",
       "      <td>0.212821</td>\n",
       "    </tr>\n",
       "    <tr>\n",
       "      <th>Stolen_Bases</th>\n",
       "      <td>-0.133942</td>\n",
       "      <td>-0.213909</td>\n",
       "      <td>0.352508</td>\n",
       "      <td>0.325600</td>\n",
       "      <td>0.430729</td>\n",
       "      <td>0.023014</td>\n",
       "      <td>0.692148</td>\n",
       "      <td>0.421617</td>\n",
       "      <td>0.489156</td>\n",
       "      <td>0.398296</td>\n",
       "      <td>...</td>\n",
       "      <td>-0.007050</td>\n",
       "      <td>0.325935</td>\n",
       "      <td>0.355760</td>\n",
       "      <td>0.317657</td>\n",
       "      <td>0.361104</td>\n",
       "      <td>0.241447</td>\n",
       "      <td>0.525051</td>\n",
       "      <td>-0.004099</td>\n",
       "      <td>0.129222</td>\n",
       "      <td>0.033946</td>\n",
       "    </tr>\n",
       "    <tr>\n",
       "      <th>Caught_Stealing</th>\n",
       "      <td>0.942084</td>\n",
       "      <td>-0.252966</td>\n",
       "      <td>0.943815</td>\n",
       "      <td>0.327101</td>\n",
       "      <td>0.883660</td>\n",
       "      <td>0.854059</td>\n",
       "      <td>0.647880</td>\n",
       "      <td>0.922526</td>\n",
       "      <td>0.895305</td>\n",
       "      <td>0.851077</td>\n",
       "      <td>...</td>\n",
       "      <td>0.795747</td>\n",
       "      <td>0.943704</td>\n",
       "      <td>0.917357</td>\n",
       "      <td>0.756340</td>\n",
       "      <td>0.878240</td>\n",
       "      <td>0.935674</td>\n",
       "      <td>-0.118970</td>\n",
       "      <td>0.090686</td>\n",
       "      <td>0.917627</td>\n",
       "      <td>0.258539</td>\n",
       "    </tr>\n",
       "    <tr>\n",
       "      <th>Hit_By_Pitch</th>\n",
       "      <td>NaN</td>\n",
       "      <td>NaN</td>\n",
       "      <td>NaN</td>\n",
       "      <td>NaN</td>\n",
       "      <td>NaN</td>\n",
       "      <td>NaN</td>\n",
       "      <td>NaN</td>\n",
       "      <td>NaN</td>\n",
       "      <td>NaN</td>\n",
       "      <td>NaN</td>\n",
       "      <td>...</td>\n",
       "      <td>NaN</td>\n",
       "      <td>NaN</td>\n",
       "      <td>NaN</td>\n",
       "      <td>NaN</td>\n",
       "      <td>NaN</td>\n",
       "      <td>NaN</td>\n",
       "      <td>NaN</td>\n",
       "      <td>NaN</td>\n",
       "      <td>NaN</td>\n",
       "      <td>NaN</td>\n",
       "    </tr>\n",
       "    <tr>\n",
       "      <th>Sacrifice_Fly</th>\n",
       "      <td>NaN</td>\n",
       "      <td>NaN</td>\n",
       "      <td>NaN</td>\n",
       "      <td>NaN</td>\n",
       "      <td>NaN</td>\n",
       "      <td>NaN</td>\n",
       "      <td>NaN</td>\n",
       "      <td>NaN</td>\n",
       "      <td>NaN</td>\n",
       "      <td>NaN</td>\n",
       "      <td>...</td>\n",
       "      <td>NaN</td>\n",
       "      <td>NaN</td>\n",
       "      <td>NaN</td>\n",
       "      <td>NaN</td>\n",
       "      <td>NaN</td>\n",
       "      <td>NaN</td>\n",
       "      <td>NaN</td>\n",
       "      <td>NaN</td>\n",
       "      <td>NaN</td>\n",
       "      <td>NaN</td>\n",
       "    </tr>\n",
       "    <tr>\n",
       "      <th>Runs_Against</th>\n",
       "      <td>0.173375</td>\n",
       "      <td>0.391338</td>\n",
       "      <td>0.535903</td>\n",
       "      <td>-0.004590</td>\n",
       "      <td>0.132917</td>\n",
       "      <td>0.685972</td>\n",
       "      <td>0.623214</td>\n",
       "      <td>0.597350</td>\n",
       "      <td>0.614369</td>\n",
       "      <td>0.510208</td>\n",
       "      <td>...</td>\n",
       "      <td>-0.054171</td>\n",
       "      <td>0.496275</td>\n",
       "      <td>0.796049</td>\n",
       "      <td>0.707940</td>\n",
       "      <td>0.683735</td>\n",
       "      <td>0.205571</td>\n",
       "      <td>0.508983</td>\n",
       "      <td>0.498850</td>\n",
       "      <td>0.257274</td>\n",
       "      <td>-0.546002</td>\n",
       "    </tr>\n",
       "    <tr>\n",
       "      <th>Earned_Runs</th>\n",
       "      <td>0.465079</td>\n",
       "      <td>0.315659</td>\n",
       "      <td>0.714682</td>\n",
       "      <td>-0.008117</td>\n",
       "      <td>0.316495</td>\n",
       "      <td>0.772942</td>\n",
       "      <td>0.621027</td>\n",
       "      <td>0.748671</td>\n",
       "      <td>0.757934</td>\n",
       "      <td>0.637186</td>\n",
       "      <td>...</td>\n",
       "      <td>0.159770</td>\n",
       "      <td>0.684184</td>\n",
       "      <td>0.913134</td>\n",
       "      <td>0.725107</td>\n",
       "      <td>0.819111</td>\n",
       "      <td>0.364220</td>\n",
       "      <td>0.202614</td>\n",
       "      <td>0.672975</td>\n",
       "      <td>0.528473</td>\n",
       "      <td>-0.484233</td>\n",
       "    </tr>\n",
       "    <tr>\n",
       "      <th>Earned_Run_Average</th>\n",
       "      <td>-0.207545</td>\n",
       "      <td>0.597110</td>\n",
       "      <td>-0.122262</td>\n",
       "      <td>-0.297767</td>\n",
       "      <td>-0.408200</td>\n",
       "      <td>0.235102</td>\n",
       "      <td>0.162734</td>\n",
       "      <td>-0.085422</td>\n",
       "      <td>0.001272</td>\n",
       "      <td>-0.006648</td>\n",
       "      <td>...</td>\n",
       "      <td>-0.273035</td>\n",
       "      <td>-0.161328</td>\n",
       "      <td>0.233120</td>\n",
       "      <td>0.450811</td>\n",
       "      <td>0.210562</td>\n",
       "      <td>-0.340162</td>\n",
       "      <td>0.273944</td>\n",
       "      <td>0.239982</td>\n",
       "      <td>-0.282180</td>\n",
       "      <td>-0.522571</td>\n",
       "    </tr>\n",
       "    <tr>\n",
       "      <th>Complete_Games</th>\n",
       "      <td>0.232261</td>\n",
       "      <td>-0.071234</td>\n",
       "      <td>0.701214</td>\n",
       "      <td>0.010033</td>\n",
       "      <td>0.553754</td>\n",
       "      <td>0.498868</td>\n",
       "      <td>0.642861</td>\n",
       "      <td>0.746686</td>\n",
       "      <td>0.702275</td>\n",
       "      <td>0.562868</td>\n",
       "      <td>...</td>\n",
       "      <td>-0.130170</td>\n",
       "      <td>0.675320</td>\n",
       "      <td>0.690725</td>\n",
       "      <td>0.435153</td>\n",
       "      <td>0.524350</td>\n",
       "      <td>0.502871</td>\n",
       "      <td>0.359929</td>\n",
       "      <td>0.183580</td>\n",
       "      <td>0.502318</td>\n",
       "      <td>-0.196378</td>\n",
       "    </tr>\n",
       "    <tr>\n",
       "      <th>Shutout</th>\n",
       "      <td>0.627117</td>\n",
       "      <td>-0.462850</td>\n",
       "      <td>0.553754</td>\n",
       "      <td>0.311831</td>\n",
       "      <td>0.673471</td>\n",
       "      <td>0.156623</td>\n",
       "      <td>0.067464</td>\n",
       "      <td>0.490849</td>\n",
       "      <td>0.393214</td>\n",
       "      <td>0.355533</td>\n",
       "      <td>...</td>\n",
       "      <td>0.525711</td>\n",
       "      <td>0.582466</td>\n",
       "      <td>0.242227</td>\n",
       "      <td>-0.096823</td>\n",
       "      <td>0.272328</td>\n",
       "      <td>0.639151</td>\n",
       "      <td>-0.468268</td>\n",
       "      <td>0.313057</td>\n",
       "      <td>0.638370</td>\n",
       "      <td>0.547483</td>\n",
       "    </tr>\n",
       "    <tr>\n",
       "      <th>Saves</th>\n",
       "      <td>0.676590</td>\n",
       "      <td>-0.277237</td>\n",
       "      <td>0.481929</td>\n",
       "      <td>0.248635</td>\n",
       "      <td>0.526227</td>\n",
       "      <td>0.202158</td>\n",
       "      <td>0.140634</td>\n",
       "      <td>0.427719</td>\n",
       "      <td>0.406667</td>\n",
       "      <td>0.389172</td>\n",
       "      <td>...</td>\n",
       "      <td>1.000000</td>\n",
       "      <td>0.509277</td>\n",
       "      <td>0.324520</td>\n",
       "      <td>0.087551</td>\n",
       "      <td>0.415482</td>\n",
       "      <td>0.474213</td>\n",
       "      <td>-0.464788</td>\n",
       "      <td>0.499361</td>\n",
       "      <td>0.550381</td>\n",
       "      <td>0.496242</td>\n",
       "    </tr>\n",
       "    <tr>\n",
       "      <th>Infield_Put_Outs</th>\n",
       "      <td>0.821519</td>\n",
       "      <td>-0.136902</td>\n",
       "      <td>0.997586</td>\n",
       "      <td>0.882112</td>\n",
       "      <td>0.779830</td>\n",
       "      <td>0.727625</td>\n",
       "      <td>0.544808</td>\n",
       "      <td>0.983225</td>\n",
       "      <td>0.898052</td>\n",
       "      <td>0.756859</td>\n",
       "      <td>...</td>\n",
       "      <td>0.509277</td>\n",
       "      <td>1.000000</td>\n",
       "      <td>0.883458</td>\n",
       "      <td>0.442546</td>\n",
       "      <td>0.823115</td>\n",
       "      <td>0.809748</td>\n",
       "      <td>-0.119781</td>\n",
       "      <td>0.767297</td>\n",
       "      <td>0.891558</td>\n",
       "      <td>0.463378</td>\n",
       "    </tr>\n",
       "    <tr>\n",
       "      <th>Hits_Allowed</th>\n",
       "      <td>0.664930</td>\n",
       "      <td>0.121449</td>\n",
       "      <td>0.900834</td>\n",
       "      <td>0.244269</td>\n",
       "      <td>0.555890</td>\n",
       "      <td>0.811717</td>\n",
       "      <td>0.632833</td>\n",
       "      <td>0.918925</td>\n",
       "      <td>0.896290</td>\n",
       "      <td>0.753645</td>\n",
       "      <td>...</td>\n",
       "      <td>0.324520</td>\n",
       "      <td>0.883458</td>\n",
       "      <td>1.000000</td>\n",
       "      <td>0.620656</td>\n",
       "      <td>0.832171</td>\n",
       "      <td>0.559483</td>\n",
       "      <td>0.079702</td>\n",
       "      <td>0.746267</td>\n",
       "      <td>0.733774</td>\n",
       "      <td>-0.336590</td>\n",
       "    </tr>\n",
       "    <tr>\n",
       "      <th>Home_Run_Allowed</th>\n",
       "      <td>0.230242</td>\n",
       "      <td>0.159822</td>\n",
       "      <td>0.464565</td>\n",
       "      <td>0.015318</td>\n",
       "      <td>0.243336</td>\n",
       "      <td>0.464053</td>\n",
       "      <td>0.558037</td>\n",
       "      <td>0.510169</td>\n",
       "      <td>0.541807</td>\n",
       "      <td>0.494058</td>\n",
       "      <td>...</td>\n",
       "      <td>0.087551</td>\n",
       "      <td>0.442546</td>\n",
       "      <td>0.620656</td>\n",
       "      <td>1.000000</td>\n",
       "      <td>0.548336</td>\n",
       "      <td>0.254038</td>\n",
       "      <td>0.243551</td>\n",
       "      <td>0.477066</td>\n",
       "      <td>0.314357</td>\n",
       "      <td>-0.293820</td>\n",
       "    </tr>\n",
       "    <tr>\n",
       "      <th>Walks_Allowed</th>\n",
       "      <td>0.679998</td>\n",
       "      <td>0.095441</td>\n",
       "      <td>0.834464</td>\n",
       "      <td>0.301987</td>\n",
       "      <td>0.532710</td>\n",
       "      <td>0.732441</td>\n",
       "      <td>0.556296</td>\n",
       "      <td>0.830906</td>\n",
       "      <td>0.788433</td>\n",
       "      <td>0.654073</td>\n",
       "      <td>...</td>\n",
       "      <td>0.415482</td>\n",
       "      <td>0.823115</td>\n",
       "      <td>0.832171</td>\n",
       "      <td>0.548336</td>\n",
       "      <td>1.000000</td>\n",
       "      <td>0.609423</td>\n",
       "      <td>-0.049290</td>\n",
       "      <td>0.763985</td>\n",
       "      <td>0.708332</td>\n",
       "      <td>-0.236123</td>\n",
       "    </tr>\n",
       "    <tr>\n",
       "      <th>Strikeouts_Allowed</th>\n",
       "      <td>0.676153</td>\n",
       "      <td>-0.242680</td>\n",
       "      <td>0.798978</td>\n",
       "      <td>0.577207</td>\n",
       "      <td>0.695112</td>\n",
       "      <td>0.506540</td>\n",
       "      <td>0.334195</td>\n",
       "      <td>0.760765</td>\n",
       "      <td>0.631432</td>\n",
       "      <td>0.587034</td>\n",
       "      <td>...</td>\n",
       "      <td>0.474213</td>\n",
       "      <td>0.809748</td>\n",
       "      <td>0.559483</td>\n",
       "      <td>0.254038</td>\n",
       "      <td>0.609423</td>\n",
       "      <td>1.000000</td>\n",
       "      <td>-0.129172</td>\n",
       "      <td>0.563768</td>\n",
       "      <td>0.722024</td>\n",
       "      <td>0.512957</td>\n",
       "    </tr>\n",
       "    <tr>\n",
       "      <th>Errors</th>\n",
       "      <td>-0.549536</td>\n",
       "      <td>0.186997</td>\n",
       "      <td>-0.087397</td>\n",
       "      <td>0.087324</td>\n",
       "      <td>-0.199159</td>\n",
       "      <td>0.065033</td>\n",
       "      <td>0.333870</td>\n",
       "      <td>0.004864</td>\n",
       "      <td>0.003521</td>\n",
       "      <td>0.004483</td>\n",
       "      <td>...</td>\n",
       "      <td>-0.464788</td>\n",
       "      <td>-0.119781</td>\n",
       "      <td>0.079702</td>\n",
       "      <td>0.243551</td>\n",
       "      <td>-0.049290</td>\n",
       "      <td>-0.129172</td>\n",
       "      <td>1.000000</td>\n",
       "      <td>-0.459197</td>\n",
       "      <td>-0.428669</td>\n",
       "      <td>-0.472910</td>\n",
       "    </tr>\n",
       "    <tr>\n",
       "      <th>Double_Plays</th>\n",
       "      <td>0.785223</td>\n",
       "      <td>0.087461</td>\n",
       "      <td>0.764035</td>\n",
       "      <td>0.211687</td>\n",
       "      <td>0.497300</td>\n",
       "      <td>0.544475</td>\n",
       "      <td>0.484396</td>\n",
       "      <td>0.765141</td>\n",
       "      <td>0.730875</td>\n",
       "      <td>0.582737</td>\n",
       "      <td>...</td>\n",
       "      <td>0.499361</td>\n",
       "      <td>0.767297</td>\n",
       "      <td>0.746267</td>\n",
       "      <td>0.477066</td>\n",
       "      <td>0.763985</td>\n",
       "      <td>0.563768</td>\n",
       "      <td>-0.459197</td>\n",
       "      <td>1.000000</td>\n",
       "      <td>0.736788</td>\n",
       "      <td>-0.078197</td>\n",
       "    </tr>\n",
       "    <tr>\n",
       "      <th>Fielding_Percentage</th>\n",
       "      <td>0.878291</td>\n",
       "      <td>-0.234411</td>\n",
       "      <td>0.880804</td>\n",
       "      <td>0.140322</td>\n",
       "      <td>0.752685</td>\n",
       "      <td>0.580469</td>\n",
       "      <td>0.395619</td>\n",
       "      <td>0.848008</td>\n",
       "      <td>0.790960</td>\n",
       "      <td>0.685504</td>\n",
       "      <td>...</td>\n",
       "      <td>0.550381</td>\n",
       "      <td>0.891558</td>\n",
       "      <td>0.733774</td>\n",
       "      <td>0.314357</td>\n",
       "      <td>0.708332</td>\n",
       "      <td>0.722024</td>\n",
       "      <td>-0.428669</td>\n",
       "      <td>0.736788</td>\n",
       "      <td>1.000000</td>\n",
       "      <td>0.512662</td>\n",
       "    </tr>\n",
       "    <tr>\n",
       "      <th>Attendance</th>\n",
       "      <td>0.391909</td>\n",
       "      <td>-0.567874</td>\n",
       "      <td>0.377435</td>\n",
       "      <td>0.336252</td>\n",
       "      <td>0.638185</td>\n",
       "      <td>-0.409876</td>\n",
       "      <td>-0.039060</td>\n",
       "      <td>0.228045</td>\n",
       "      <td>0.119034</td>\n",
       "      <td>0.262775</td>\n",
       "      <td>...</td>\n",
       "      <td>0.496242</td>\n",
       "      <td>0.463378</td>\n",
       "      <td>-0.336590</td>\n",
       "      <td>-0.293820</td>\n",
       "      <td>-0.236123</td>\n",
       "      <td>0.512957</td>\n",
       "      <td>-0.472910</td>\n",
       "      <td>-0.078197</td>\n",
       "      <td>0.512662</td>\n",
       "      <td>1.000000</td>\n",
       "    </tr>\n",
       "  </tbody>\n",
       "</table>\n",
       "<p>33 rows × 33 columns</p>\n",
       "</div>"
      ],
      "text/plain": [
       "                         Year  Final_Standing  Games_Played  Unnamed: 7  \\\n",
       "Year                 1.000000       -0.082193      0.802923    0.039266   \n",
       "Final_Standing      -0.082193        1.000000     -0.108053   -0.091165   \n",
       "Games_Played         0.802923       -0.108053      1.000000    0.889232   \n",
       "Unnamed: 7           0.039266       -0.091165      0.889232    1.000000   \n",
       "Games_Won            0.602368       -0.635882      0.765999    0.303142   \n",
       "Games_Lost           0.620393        0.489376      0.745224    0.137983   \n",
       "Runs_Scored          0.170307       -0.335152      0.564020    0.123811   \n",
       "At_Bats              0.735271       -0.131851      0.987764    0.800200   \n",
       "Hits                 0.655431       -0.225380      0.905877    0.307485   \n",
       "Doubles              0.562873       -0.311365      0.760180    0.120461   \n",
       "Triples              0.424524       -0.178688      0.666072    0.165061   \n",
       "Home_Runs            0.207973       -0.151843      0.431225    0.037063   \n",
       "Walks                0.684370       -0.118003      0.844984    0.348215   \n",
       "Strike_Outs          0.665538       -0.014480      0.803176    0.654670   \n",
       "Stolen_Bases        -0.133942       -0.213909      0.352508    0.325600   \n",
       "Caught_Stealing      0.942084       -0.252966      0.943815    0.327101   \n",
       "Hit_By_Pitch              NaN             NaN           NaN         NaN   \n",
       "Sacrifice_Fly             NaN             NaN           NaN         NaN   \n",
       "Runs_Against         0.173375        0.391338      0.535903   -0.004590   \n",
       "Earned_Runs          0.465079        0.315659      0.714682   -0.008117   \n",
       "Earned_Run_Average  -0.207545        0.597110     -0.122262   -0.297767   \n",
       "Complete_Games       0.232261       -0.071234      0.701214    0.010033   \n",
       "Shutout              0.627117       -0.462850      0.553754    0.311831   \n",
       "Saves                0.676590       -0.277237      0.481929    0.248635   \n",
       "Infield_Put_Outs     0.821519       -0.136902      0.997586    0.882112   \n",
       "Hits_Allowed         0.664930        0.121449      0.900834    0.244269   \n",
       "Home_Run_Allowed     0.230242        0.159822      0.464565    0.015318   \n",
       "Walks_Allowed        0.679998        0.095441      0.834464    0.301987   \n",
       "Strikeouts_Allowed   0.676153       -0.242680      0.798978    0.577207   \n",
       "Errors              -0.549536        0.186997     -0.087397    0.087324   \n",
       "Double_Plays         0.785223        0.087461      0.764035    0.211687   \n",
       "Fielding_Percentage  0.878291       -0.234411      0.880804    0.140322   \n",
       "Attendance           0.391909       -0.567874      0.377435    0.336252   \n",
       "\n",
       "                     Games_Won  Games_Lost  Runs_Scored   At_Bats      Hits  \\\n",
       "Year                  0.602368    0.620393     0.170307  0.735271  0.655431   \n",
       "Final_Standing       -0.635882    0.489376    -0.335152 -0.131851 -0.225380   \n",
       "Games_Played          0.765999    0.745224     0.564020  0.987764  0.905877   \n",
       "Unnamed: 7            0.303142    0.137983     0.123811  0.800200  0.307485   \n",
       "Games_Won             1.000000    0.144745     0.681313  0.775265  0.808361   \n",
       "Games_Lost            0.144745    1.000000     0.160974  0.716733  0.558298   \n",
       "Runs_Scored           0.681313    0.160974     1.000000  0.659766  0.809644   \n",
       "At_Bats               0.775265    0.716733     0.659766  1.000000  0.946003   \n",
       "Hits                  0.808361    0.558298     0.809644  0.946003  1.000000   \n",
       "Doubles               0.749308    0.397839     0.756382  0.802197  0.875189   \n",
       "Triples               0.644800    0.362214     0.750391  0.712543  0.787124   \n",
       "Home_Runs             0.456323    0.192673     0.683735  0.489277  0.580259   \n",
       "Walks                 0.712184    0.563769     0.674472  0.840788  0.829771   \n",
       "Strike_Outs           0.549502    0.702733     0.312593  0.759834  0.593831   \n",
       "Stolen_Bases          0.430729    0.023014     0.692148  0.421617  0.489156   \n",
       "Caught_Stealing       0.883660    0.854059     0.647880  0.922526  0.895305   \n",
       "Hit_By_Pitch               NaN         NaN          NaN       NaN       NaN   \n",
       "Sacrifice_Fly              NaN         NaN          NaN       NaN       NaN   \n",
       "Runs_Against          0.132917    0.685972     0.623214  0.597350  0.614369   \n",
       "Earned_Runs           0.316495    0.772942     0.621027  0.748671  0.757934   \n",
       "Earned_Run_Average   -0.408200    0.235102     0.162734 -0.085422  0.001272   \n",
       "Complete_Games        0.553754    0.498868     0.642861  0.746686  0.702275   \n",
       "Shutout               0.673471    0.156623     0.067464  0.490849  0.393214   \n",
       "Saves                 0.526227    0.202158     0.140634  0.427719  0.406667   \n",
       "Infield_Put_Outs      0.779830    0.727625     0.544808  0.983225  0.898052   \n",
       "Hits_Allowed          0.555890    0.811717     0.632833  0.918925  0.896290   \n",
       "Home_Run_Allowed      0.243336    0.464053     0.558037  0.510169  0.541807   \n",
       "Walks_Allowed         0.532710    0.732441     0.556296  0.830906  0.788433   \n",
       "Strikeouts_Allowed    0.695112    0.506540     0.334195  0.760765  0.631432   \n",
       "Errors               -0.199159    0.065033     0.333870  0.004864  0.003521   \n",
       "Double_Plays          0.497300    0.544475     0.484396  0.765141  0.730875   \n",
       "Fielding_Percentage   0.752685    0.580469     0.395619  0.848008  0.790960   \n",
       "Attendance            0.638185   -0.409876    -0.039060  0.228045  0.119034   \n",
       "\n",
       "                      Doubles  ...     Saves  Infield_Put_Outs  Hits_Allowed  \\\n",
       "Year                 0.562873  ...  0.676590          0.821519      0.664930   \n",
       "Final_Standing      -0.311365  ... -0.277237         -0.136902      0.121449   \n",
       "Games_Played         0.760180  ...  0.481929          0.997586      0.900834   \n",
       "Unnamed: 7           0.120461  ...  0.248635          0.882112      0.244269   \n",
       "Games_Won            0.749308  ...  0.526227          0.779830      0.555890   \n",
       "Games_Lost           0.397839  ...  0.202158          0.727625      0.811717   \n",
       "Runs_Scored          0.756382  ...  0.140634          0.544808      0.632833   \n",
       "At_Bats              0.802197  ...  0.427719          0.983225      0.918925   \n",
       "Hits                 0.875189  ...  0.406667          0.898052      0.896290   \n",
       "Doubles              1.000000  ...  0.389172          0.756859      0.753645   \n",
       "Triples              0.676356  ...  0.272724          0.655342      0.679766   \n",
       "Home_Runs            0.583327  ...  0.143588          0.419918      0.488955   \n",
       "Walks                0.719134  ...  0.496357          0.839668      0.809204   \n",
       "Strike_Outs          0.577013  ...  0.452996          0.806878      0.645443   \n",
       "Stolen_Bases         0.398296  ... -0.007050          0.325935      0.355760   \n",
       "Caught_Stealing      0.851077  ...  0.795747          0.943704      0.917357   \n",
       "Hit_By_Pitch              NaN  ...       NaN               NaN           NaN   \n",
       "Sacrifice_Fly             NaN  ...       NaN               NaN           NaN   \n",
       "Runs_Against         0.510208  ... -0.054171          0.496275      0.796049   \n",
       "Earned_Runs          0.637186  ...  0.159770          0.684184      0.913134   \n",
       "Earned_Run_Average  -0.006648  ... -0.273035         -0.161328      0.233120   \n",
       "Complete_Games       0.562868  ... -0.130170          0.675320      0.690725   \n",
       "Shutout              0.355533  ...  0.525711          0.582466      0.242227   \n",
       "Saves                0.389172  ...  1.000000          0.509277      0.324520   \n",
       "Infield_Put_Outs     0.756859  ...  0.509277          1.000000      0.883458   \n",
       "Hits_Allowed         0.753645  ...  0.324520          0.883458      1.000000   \n",
       "Home_Run_Allowed     0.494058  ...  0.087551          0.442546      0.620656   \n",
       "Walks_Allowed        0.654073  ...  0.415482          0.823115      0.832171   \n",
       "Strikeouts_Allowed   0.587034  ...  0.474213          0.809748      0.559483   \n",
       "Errors               0.004483  ... -0.464788         -0.119781      0.079702   \n",
       "Double_Plays         0.582737  ...  0.499361          0.767297      0.746267   \n",
       "Fielding_Percentage  0.685504  ...  0.550381          0.891558      0.733774   \n",
       "Attendance           0.262775  ...  0.496242          0.463378     -0.336590   \n",
       "\n",
       "                     Home_Run_Allowed  Walks_Allowed  Strikeouts_Allowed  \\\n",
       "Year                         0.230242       0.679998            0.676153   \n",
       "Final_Standing               0.159822       0.095441           -0.242680   \n",
       "Games_Played                 0.464565       0.834464            0.798978   \n",
       "Unnamed: 7                   0.015318       0.301987            0.577207   \n",
       "Games_Won                    0.243336       0.532710            0.695112   \n",
       "Games_Lost                   0.464053       0.732441            0.506540   \n",
       "Runs_Scored                  0.558037       0.556296            0.334195   \n",
       "At_Bats                      0.510169       0.830906            0.760765   \n",
       "Hits                         0.541807       0.788433            0.631432   \n",
       "Doubles                      0.494058       0.654073            0.587034   \n",
       "Triples                      0.444315       0.625115            0.460045   \n",
       "Home_Runs                    0.731245       0.472745            0.310827   \n",
       "Walks                        0.546246       0.872174            0.631832   \n",
       "Strike_Outs                  0.417957       0.653870            0.886535   \n",
       "Stolen_Bases                 0.317657       0.361104            0.241447   \n",
       "Caught_Stealing              0.756340       0.878240            0.935674   \n",
       "Hit_By_Pitch                      NaN            NaN                 NaN   \n",
       "Sacrifice_Fly                     NaN            NaN                 NaN   \n",
       "Runs_Against                 0.707940       0.683735            0.205571   \n",
       "Earned_Runs                  0.725107       0.819111            0.364220   \n",
       "Earned_Run_Average           0.450811       0.210562           -0.340162   \n",
       "Complete_Games               0.435153       0.524350            0.502871   \n",
       "Shutout                     -0.096823       0.272328            0.639151   \n",
       "Saves                        0.087551       0.415482            0.474213   \n",
       "Infield_Put_Outs             0.442546       0.823115            0.809748   \n",
       "Hits_Allowed                 0.620656       0.832171            0.559483   \n",
       "Home_Run_Allowed             1.000000       0.548336            0.254038   \n",
       "Walks_Allowed                0.548336       1.000000            0.609423   \n",
       "Strikeouts_Allowed           0.254038       0.609423            1.000000   \n",
       "Errors                       0.243551      -0.049290           -0.129172   \n",
       "Double_Plays                 0.477066       0.763985            0.563768   \n",
       "Fielding_Percentage          0.314357       0.708332            0.722024   \n",
       "Attendance                  -0.293820      -0.236123            0.512957   \n",
       "\n",
       "                       Errors  Double_Plays  Fielding_Percentage  Attendance  \n",
       "Year                -0.549536      0.785223             0.878291    0.391909  \n",
       "Final_Standing       0.186997      0.087461            -0.234411   -0.567874  \n",
       "Games_Played        -0.087397      0.764035             0.880804    0.377435  \n",
       "Unnamed: 7           0.087324      0.211687             0.140322    0.336252  \n",
       "Games_Won           -0.199159      0.497300             0.752685    0.638185  \n",
       "Games_Lost           0.065033      0.544475             0.580469   -0.409876  \n",
       "Runs_Scored          0.333870      0.484396             0.395619   -0.039060  \n",
       "At_Bats              0.004864      0.765141             0.848008    0.228045  \n",
       "Hits                 0.003521      0.730875             0.790960    0.119034  \n",
       "Doubles              0.004483      0.582737             0.685504    0.262775  \n",
       "Triples              0.086207      0.531607             0.558020    0.017024  \n",
       "Home_Runs            0.172111      0.426718             0.323759   -0.053442  \n",
       "Walks               -0.101283      0.724397             0.741792    0.127423  \n",
       "Strike_Outs          0.006505      0.760487             0.684980    0.212821  \n",
       "Stolen_Bases         0.525051     -0.004099             0.129222    0.033946  \n",
       "Caught_Stealing     -0.118970      0.090686             0.917627    0.258539  \n",
       "Hit_By_Pitch              NaN           NaN                  NaN         NaN  \n",
       "Sacrifice_Fly             NaN           NaN                  NaN         NaN  \n",
       "Runs_Against         0.508983      0.498850             0.257274   -0.546002  \n",
       "Earned_Runs          0.202614      0.672975             0.528473   -0.484233  \n",
       "Earned_Run_Average   0.273944      0.239982            -0.282180   -0.522571  \n",
       "Complete_Games       0.359929      0.183580             0.502318   -0.196378  \n",
       "Shutout             -0.468268      0.313057             0.638370    0.547483  \n",
       "Saves               -0.464788      0.499361             0.550381    0.496242  \n",
       "Infield_Put_Outs    -0.119781      0.767297             0.891558    0.463378  \n",
       "Hits_Allowed         0.079702      0.746267             0.733774   -0.336590  \n",
       "Home_Run_Allowed     0.243551      0.477066             0.314357   -0.293820  \n",
       "Walks_Allowed       -0.049290      0.763985             0.708332   -0.236123  \n",
       "Strikeouts_Allowed  -0.129172      0.563768             0.722024    0.512957  \n",
       "Errors               1.000000     -0.459197            -0.428669   -0.472910  \n",
       "Double_Plays        -0.459197      1.000000             0.736788   -0.078197  \n",
       "Fielding_Percentage -0.428669      0.736788             1.000000    0.512662  \n",
       "Attendance          -0.472910     -0.078197             0.512662    1.000000  \n",
       "\n",
       "[33 rows x 33 columns]"
      ]
     },
     "execution_count": 6,
     "metadata": {},
     "output_type": "execute_result"
    }
   ],
   "source": [
    "df_1920.corr()"
   ]
  },
  {
   "cell_type": "markdown",
   "id": "0f113d76",
   "metadata": {},
   "source": [
    "**1. Calculate the descriptive statistics for the 8 variables**"
   ]
  },
  {
   "cell_type": "code",
   "execution_count": 7,
   "id": "fdf99513",
   "metadata": {
    "scrolled": true
   },
   "outputs": [
    {
     "data": {
      "text/html": [
       "<div>\n",
       "<style scoped>\n",
       "    .dataframe tbody tr th:only-of-type {\n",
       "        vertical-align: middle;\n",
       "    }\n",
       "\n",
       "    .dataframe tbody tr th {\n",
       "        vertical-align: top;\n",
       "    }\n",
       "\n",
       "    .dataframe thead th {\n",
       "        text-align: right;\n",
       "    }\n",
       "</style>\n",
       "<table border=\"1\" class=\"dataframe\">\n",
       "  <thead>\n",
       "    <tr style=\"text-align: right;\">\n",
       "      <th></th>\n",
       "      <th>Caught_Stealing</th>\n",
       "      <th>Hits</th>\n",
       "      <th>Infield_Put_Outs</th>\n",
       "      <th>At_Bats</th>\n",
       "      <th>Games_Played</th>\n",
       "      <th>Fielding_Percentage</th>\n",
       "      <th>Doubles</th>\n",
       "      <th>Walks</th>\n",
       "    </tr>\n",
       "  </thead>\n",
       "  <tbody>\n",
       "    <tr>\n",
       "      <th>count</th>\n",
       "      <td>44.000000</td>\n",
       "      <td>703.000000</td>\n",
       "      <td>703.000000</td>\n",
       "      <td>703.000000</td>\n",
       "      <td>703.000000</td>\n",
       "      <td>703.000000</td>\n",
       "      <td>703.000000</td>\n",
       "      <td>703.000000</td>\n",
       "    </tr>\n",
       "    <tr>\n",
       "      <th>mean</th>\n",
       "      <td>82.431818</td>\n",
       "      <td>1133.233286</td>\n",
       "      <td>3388.967283</td>\n",
       "      <td>4373.335704</td>\n",
       "      <td>127.769559</td>\n",
       "      <td>0.923329</td>\n",
       "      <td>161.051209</td>\n",
       "      <td>337.608819</td>\n",
       "    </tr>\n",
       "    <tr>\n",
       "      <th>std</th>\n",
       "      <td>70.171020</td>\n",
       "      <td>300.714850</td>\n",
       "      <td>941.005032</td>\n",
       "      <td>1089.714978</td>\n",
       "      <td>35.340280</td>\n",
       "      <td>0.039173</td>\n",
       "      <td>49.703023</td>\n",
       "      <td>159.653558</td>\n",
       "    </tr>\n",
       "    <tr>\n",
       "      <th>min</th>\n",
       "      <td>0.000000</td>\n",
       "      <td>33.000000</td>\n",
       "      <td>162.000000</td>\n",
       "      <td>211.000000</td>\n",
       "      <td>6.000000</td>\n",
       "      <td>0.760000</td>\n",
       "      <td>3.000000</td>\n",
       "      <td>0.000000</td>\n",
       "    </tr>\n",
       "    <tr>\n",
       "      <th>25%</th>\n",
       "      <td>9.750000</td>\n",
       "      <td>1038.000000</td>\n",
       "      <td>3097.500000</td>\n",
       "      <td>4108.500000</td>\n",
       "      <td>116.000000</td>\n",
       "      <td>0.900000</td>\n",
       "      <td>138.000000</td>\n",
       "      <td>247.500000</td>\n",
       "    </tr>\n",
       "    <tr>\n",
       "      <th>50%</th>\n",
       "      <td>102.000000</td>\n",
       "      <td>1228.000000</td>\n",
       "      <td>3654.000000</td>\n",
       "      <td>4816.000000</td>\n",
       "      <td>139.000000</td>\n",
       "      <td>0.930000</td>\n",
       "      <td>167.000000</td>\n",
       "      <td>375.000000</td>\n",
       "    </tr>\n",
       "    <tr>\n",
       "      <th>75%</th>\n",
       "      <td>144.500000</td>\n",
       "      <td>1320.000000</td>\n",
       "      <td>4099.500000</td>\n",
       "      <td>5067.500000</td>\n",
       "      <td>154.000000</td>\n",
       "      <td>0.950000</td>\n",
       "      <td>193.500000</td>\n",
       "      <td>452.500000</td>\n",
       "    </tr>\n",
       "    <tr>\n",
       "      <th>max</th>\n",
       "      <td>191.000000</td>\n",
       "      <td>1732.000000</td>\n",
       "      <td>4401.000000</td>\n",
       "      <td>5485.000000</td>\n",
       "      <td>162.000000</td>\n",
       "      <td>0.970000</td>\n",
       "      <td>277.000000</td>\n",
       "      <td>681.000000</td>\n",
       "    </tr>\n",
       "  </tbody>\n",
       "</table>\n",
       "</div>"
      ],
      "text/plain": [
       "       Caught_Stealing         Hits  Infield_Put_Outs      At_Bats  \\\n",
       "count        44.000000   703.000000        703.000000   703.000000   \n",
       "mean         82.431818  1133.233286       3388.967283  4373.335704   \n",
       "std          70.171020   300.714850        941.005032  1089.714978   \n",
       "min           0.000000    33.000000        162.000000   211.000000   \n",
       "25%           9.750000  1038.000000       3097.500000  4108.500000   \n",
       "50%         102.000000  1228.000000       3654.000000  4816.000000   \n",
       "75%         144.500000  1320.000000       4099.500000  5067.500000   \n",
       "max         191.000000  1732.000000       4401.000000  5485.000000   \n",
       "\n",
       "       Games_Played  Fielding_Percentage     Doubles       Walks  \n",
       "count    703.000000           703.000000  703.000000  703.000000  \n",
       "mean     127.769559             0.923329  161.051209  337.608819  \n",
       "std       35.340280             0.039173   49.703023  159.653558  \n",
       "min        6.000000             0.760000    3.000000    0.000000  \n",
       "25%      116.000000             0.900000  138.000000  247.500000  \n",
       "50%      139.000000             0.930000  167.000000  375.000000  \n",
       "75%      154.000000             0.950000  193.500000  452.500000  \n",
       "max      162.000000             0.970000  277.000000  681.000000  "
      ]
     },
     "execution_count": 7,
     "metadata": {},
     "output_type": "execute_result"
    }
   ],
   "source": [
    "df_1920[['Caught_Stealing','Hits','Infield_Put_Outs', 'At_Bats', 'Games_Played', 'Fielding_Percentage', 'Doubles', 'Walks']].describe()"
   ]
  },
  {
   "cell_type": "markdown",
   "id": "3720d0c8",
   "metadata": {},
   "source": [
    "**2. Show a histogram and boxplot for each of the 8 variables**"
   ]
  },
  {
   "cell_type": "code",
   "execution_count": 8,
   "id": "5f1c4b42",
   "metadata": {
    "scrolled": true
   },
   "outputs": [
    {
     "data": {
      "text/plain": [
       "<AxesSubplot:ylabel='Frequency'>"
      ]
     },
     "execution_count": 8,
     "metadata": {},
     "output_type": "execute_result"
    },
    {
     "data": {
      "image/png": "[encoded data removed]",
      "text/plain": [
       "<Figure size 432x288 with 1 Axes>"
      ]
     },
     "metadata": {
      "needs_background": "light"
     },
     "output_type": "display_data"
    }
   ],
   "source": [
    "df_1920['Caught_Stealing'].plot.hist(bins=20, density=True)"
   ]
  },
  {
   "cell_type": "code",
   "execution_count": 9,
   "id": "89030074",
   "metadata": {},
   "outputs": [
    {
     "data": {
      "text/plain": [
       "<AxesSubplot:>"
      ]
     },
     "execution_count": 9,
     "metadata": {},
     "output_type": "execute_result"
    },
    {
     "data": {
      "image/png": "[encoded data removed]",
      "text/plain": [
       "<Figure size 432x288 with 1 Axes>"
      ]
     },
     "metadata": {
      "needs_background": "light"
     },
     "output_type": "display_data"
    }
   ],
   "source": [
    "df_1920.boxplot(column='Caught_Stealing')"
   ]
  },
  {
   "cell_type": "markdown",
   "id": "e6060b93",
   "metadata": {},
   "source": [
    "**The visual shape of 'Caught_Stealing' is not symmetric.**"
   ]
  },
  {
   "cell_type": "code",
   "execution_count": null,
   "id": "89ad678f",
   "metadata": {},
   "outputs": [],
   "source": []
  },
  {
   "cell_type": "code",
   "execution_count": 10,
   "id": "1e94fcc5",
   "metadata": {
    "scrolled": true
   },
   "outputs": [
    {
     "data": {
      "text/plain": [
       "<AxesSubplot:ylabel='Frequency'>"
      ]
     },
     "execution_count": 10,
     "metadata": {},
     "output_type": "execute_result"
    },
    {
     "data": {
      "image/png": "[encoded data removed]",
      "text/plain": [
       "<Figure size 432x288 with 1 Axes>"
      ]
     },
     "metadata": {
      "needs_background": "light"
     },
     "output_type": "display_data"
    }
   ],
   "source": [
    "df_1920['Hits'].plot.hist(bins=20, density=True)"
   ]
  },
  {
   "cell_type": "code",
   "execution_count": 11,
   "id": "99c77eb7",
   "metadata": {},
   "outputs": [
    {
     "data": {
      "text/plain": [
       "<AxesSubplot:>"
      ]
     },
     "execution_count": 11,
     "metadata": {},
     "output_type": "execute_result"
    },
    {
     "data": {
      "image/png": "[encoded data removed]",
      "text/plain": [
       "<Figure size 432x288 with 1 Axes>"
      ]
     },
     "metadata": {
      "needs_background": "light"
     },
     "output_type": "display_data"
    }
   ],
   "source": [
    "df_1920.boxplot(column='Hits')"
   ]
  },
  {
   "cell_type": "markdown",
   "id": "e9733d2e",
   "metadata": {},
   "source": [
    "**The visual shape of 'Hits' is not symmetric. It has one mode and it is narrow. There are many outliners.**"
   ]
  },
  {
   "cell_type": "code",
   "execution_count": null,
   "id": "53fcf475",
   "metadata": {},
   "outputs": [],
   "source": []
  },
  {
   "cell_type": "code",
   "execution_count": 12,
   "id": "639439cb",
   "metadata": {
    "scrolled": true
   },
   "outputs": [
    {
     "data": {
      "text/plain": [
       "<AxesSubplot:ylabel='Frequency'>"
      ]
     },
     "execution_count": 12,
     "metadata": {},
     "output_type": "execute_result"
    },
    {
     "data": {
      "image/png": "[encoded data removed]",
      "text/plain": [
       "<Figure size 432x288 with 1 Axes>"
      ]
     },
     "metadata": {
      "needs_background": "light"
     },
     "output_type": "display_data"
    }
   ],
   "source": [
    "df_1920['Infield_Put_Outs'].plot.hist(bins=20, density=True)"
   ]
  },
  {
   "cell_type": "code",
   "execution_count": 13,
   "id": "f604727c",
   "metadata": {},
   "outputs": [
    {
     "data": {
      "text/plain": [
       "<AxesSubplot:>"
      ]
     },
     "execution_count": 13,
     "metadata": {},
     "output_type": "execute_result"
    },
    {
     "data": {
      "image/png": "[encoded data removed]",
      "text/plain": [
       "<Figure size 432x288 with 1 Axes>"
      ]
     },
     "metadata": {
      "needs_background": "light"
     },
     "output_type": "display_data"
    }
   ],
   "source": [
    "df_1920.boxplot(column='Infield_Put_Outs')"
   ]
  },
  {
   "cell_type": "markdown",
   "id": "1985a4e1",
   "metadata": {},
   "source": [
    "**The visual shape of 'Infield_Put_Outs' is not symmetric. There are many outliners.**"
   ]
  },
  {
   "cell_type": "code",
   "execution_count": null,
   "id": "61f848b8",
   "metadata": {},
   "outputs": [],
   "source": []
  },
  {
   "cell_type": "code",
   "execution_count": 14,
   "id": "78f94ede",
   "metadata": {},
   "outputs": [
    {
     "data": {
      "text/plain": [
       "<AxesSubplot:ylabel='Frequency'>"
      ]
     },
     "execution_count": 14,
     "metadata": {},
     "output_type": "execute_result"
    },
    {
     "data": {
      "image/png": "[encoded data removed]",
      "text/plain": [
       "<Figure size 432x288 with 1 Axes>"
      ]
     },
     "metadata": {
      "needs_background": "light"
     },
     "output_type": "display_data"
    }
   ],
   "source": [
    "df_1920['At_Bats'].plot.hist(bins=20, density=True)"
   ]
  },
  {
   "cell_type": "code",
   "execution_count": 15,
   "id": "87af9965",
   "metadata": {},
   "outputs": [
    {
     "data": {
      "text/plain": [
       "<AxesSubplot:>"
      ]
     },
     "execution_count": 15,
     "metadata": {},
     "output_type": "execute_result"
    },
    {
     "data": {
      "image/png": "[encoded data removed]",
      "text/plain": [
       "<Figure size 432x288 with 1 Axes>"
      ]
     },
     "metadata": {
      "needs_background": "light"
     },
     "output_type": "display_data"
    }
   ],
   "source": [
    "df_1920.boxplot(column='At_Bats')"
   ]
  },
  {
   "cell_type": "markdown",
   "id": "11dcc03c",
   "metadata": {},
   "source": [
    "**The visual shape of 'At_Bats' is not symmetric. There are many outliners.**"
   ]
  },
  {
   "cell_type": "code",
   "execution_count": null,
   "id": "6ed69d9a",
   "metadata": {},
   "outputs": [],
   "source": []
  },
  {
   "cell_type": "code",
   "execution_count": 16,
   "id": "c424639b",
   "metadata": {
    "scrolled": true
   },
   "outputs": [
    {
     "data": {
      "text/plain": [
       "<AxesSubplot:ylabel='Frequency'>"
      ]
     },
     "execution_count": 16,
     "metadata": {},
     "output_type": "execute_result"
    },
    {
     "data": {
      "image/png": "[encoded data removed]",
      "text/plain": [
       "<Figure size 432x288 with 1 Axes>"
      ]
     },
     "metadata": {
      "needs_background": "light"
     },
     "output_type": "display_data"
    }
   ],
   "source": [
    "df_1920['Games_Played'].plot.hist(bins=20, density=True)"
   ]
  },
  {
   "cell_type": "code",
   "execution_count": 17,
   "id": "fa8e1085",
   "metadata": {},
   "outputs": [
    {
     "data": {
      "text/plain": [
       "<AxesSubplot:>"
      ]
     },
     "execution_count": 17,
     "metadata": {},
     "output_type": "execute_result"
    },
    {
     "data": {
      "image/png": "[encoded data removed]",
      "text/plain": [
       "<Figure size 432x288 with 1 Axes>"
      ]
     },
     "metadata": {
      "needs_background": "light"
     },
     "output_type": "display_data"
    }
   ],
   "source": [
    "df_1920.boxplot(column='Games_Played')"
   ]
  },
  {
   "cell_type": "markdown",
   "id": "8a64086f",
   "metadata": {},
   "source": [
    "**The visual shape of 'Games_Played' is not symmetric. There are many outliners.**"
   ]
  },
  {
   "cell_type": "code",
   "execution_count": null,
   "id": "237e82f7",
   "metadata": {},
   "outputs": [],
   "source": []
  },
  {
   "cell_type": "code",
   "execution_count": 18,
   "id": "b5154d1e",
   "metadata": {},
   "outputs": [
    {
     "data": {
      "text/plain": [
       "<AxesSubplot:ylabel='Frequency'>"
      ]
     },
     "execution_count": 18,
     "metadata": {},
     "output_type": "execute_result"
    },
    {
     "data": {
      "image/png": "[encoded data removed]",
      "text/plain": [
       "<Figure size 432x288 with 1 Axes>"
      ]
     },
     "metadata": {
      "needs_background": "light"
     },
     "output_type": "display_data"
    }
   ],
   "source": [
    "df_1920['Fielding_Percentage'].plot.hist(bins=20, density=True)"
   ]
  },
  {
   "cell_type": "code",
   "execution_count": 19,
   "id": "58c87fc4",
   "metadata": {},
   "outputs": [
    {
     "data": {
      "text/plain": [
       "<AxesSubplot:>"
      ]
     },
     "execution_count": 19,
     "metadata": {},
     "output_type": "execute_result"
    },
    {
     "data": {
      "image/png": "[encoded data removed]",
      "text/plain": [
       "<Figure size 432x288 with 1 Axes>"
      ]
     },
     "metadata": {
      "needs_background": "light"
     },
     "output_type": "display_data"
    }
   ],
   "source": [
    "df_1920.boxplot(column='Fielding_Percentage')"
   ]
  },
  {
   "cell_type": "markdown",
   "id": "c0db2183",
   "metadata": {},
   "source": [
    "**The visual shape of 'Fielding_Percentage' is not symmetric. There are some outliners.**"
   ]
  },
  {
   "cell_type": "code",
   "execution_count": null,
   "id": "62891eff",
   "metadata": {},
   "outputs": [],
   "source": []
  },
  {
   "cell_type": "code",
   "execution_count": 20,
   "id": "1b800dd7",
   "metadata": {},
   "outputs": [
    {
     "data": {
      "text/plain": [
       "<AxesSubplot:ylabel='Frequency'>"
      ]
     },
     "execution_count": 20,
     "metadata": {},
     "output_type": "execute_result"
    },
    {
     "data": {
      "image/png": "[encoded data removed]",
      "text/plain": [
       "<Figure size 432x288 with 1 Axes>"
      ]
     },
     "metadata": {
      "needs_background": "light"
     },
     "output_type": "display_data"
    }
   ],
   "source": [
    "df_1920['Doubles'].plot.hist(bins=20, density=True)"
   ]
  },
  {
   "cell_type": "code",
   "execution_count": 21,
   "id": "2bbd8729",
   "metadata": {},
   "outputs": [
    {
     "data": {
      "text/plain": [
       "<AxesSubplot:>"
      ]
     },
     "execution_count": 21,
     "metadata": {},
     "output_type": "execute_result"
    },
    {
     "data": {
      "image/png": "[encoded data removed]",
      "text/plain": [
       "<Figure size 432x288 with 1 Axes>"
      ]
     },
     "metadata": {
      "needs_background": "light"
     },
     "output_type": "display_data"
    }
   ],
   "source": [
    "df_1920.boxplot(column='Doubles')"
   ]
  },
  {
   "cell_type": "markdown",
   "id": "7c55edc2",
   "metadata": {},
   "source": [
    "**The visual shape of 'Doubles' is close to symmetric. There are many outliners.**"
   ]
  },
  {
   "cell_type": "code",
   "execution_count": null,
   "id": "4855d07f",
   "metadata": {},
   "outputs": [],
   "source": []
  },
  {
   "cell_type": "code",
   "execution_count": 22,
   "id": "31030706",
   "metadata": {},
   "outputs": [
    {
     "data": {
      "text/plain": [
       "<AxesSubplot:ylabel='Frequency'>"
      ]
     },
     "execution_count": 22,
     "metadata": {},
     "output_type": "execute_result"
    },
    {
     "data": {
      "image/png": "[encoded data removed]",
      "text/plain": [
       "<Figure size 432x288 with 1 Axes>"
      ]
     },
     "metadata": {
      "needs_background": "light"
     },
     "output_type": "display_data"
    }
   ],
   "source": [
    "df_1920['Walks'].plot.hist(bins=20, density=True)"
   ]
  },
  {
   "cell_type": "code",
   "execution_count": 23,
   "id": "febcfe5d",
   "metadata": {},
   "outputs": [
    {
     "data": {
      "text/plain": [
       "<AxesSubplot:>"
      ]
     },
     "execution_count": 23,
     "metadata": {},
     "output_type": "execute_result"
    },
    {
     "data": {
      "image/png": "[encoded data removed]",
      "text/plain": [
       "<Figure size 432x288 with 1 Axes>"
      ]
     },
     "metadata": {
      "needs_background": "light"
     },
     "output_type": "display_data"
    }
   ],
   "source": [
    "df_1920.boxplot(column='Walks')"
   ]
  },
  {
   "cell_type": "markdown",
   "id": "d7fd8943",
   "metadata": {},
   "source": [
    "**The visual shape of 'Walks' is not symmetric. There is no outliner.**"
   ]
  },
  {
   "cell_type": "code",
   "execution_count": null,
   "id": "e34a7d22",
   "metadata": {},
   "outputs": [],
   "source": []
  },
  {
   "cell_type": "markdown",
   "id": "30cfc849",
   "metadata": {},
   "source": [
    "**Section 3 – Correlation Analysis**"
   ]
  },
  {
   "cell_type": "code",
   "execution_count": 24,
   "id": "6d216f76",
   "metadata": {
    "scrolled": true
   },
   "outputs": [
    {
     "data": {
      "text/html": [
       "<div>\n",
       "<style scoped>\n",
       "    .dataframe tbody tr th:only-of-type {\n",
       "        vertical-align: middle;\n",
       "    }\n",
       "\n",
       "    .dataframe tbody tr th {\n",
       "        vertical-align: top;\n",
       "    }\n",
       "\n",
       "    .dataframe thead th {\n",
       "        text-align: right;\n",
       "    }\n",
       "</style>\n",
       "<table border=\"1\" class=\"dataframe\">\n",
       "  <thead>\n",
       "    <tr style=\"text-align: right;\">\n",
       "      <th></th>\n",
       "      <th>Caught_Stealing</th>\n",
       "      <th>Hits</th>\n",
       "      <th>Infield_Put_Outs</th>\n",
       "      <th>At_Bats</th>\n",
       "      <th>Games_Played</th>\n",
       "      <th>Fielding_Percentage</th>\n",
       "      <th>Doubles</th>\n",
       "      <th>Walks</th>\n",
       "    </tr>\n",
       "  </thead>\n",
       "  <tbody>\n",
       "    <tr>\n",
       "      <th>Caught_Stealing</th>\n",
       "      <td>1.000000</td>\n",
       "      <td>0.895305</td>\n",
       "      <td>0.943704</td>\n",
       "      <td>0.922526</td>\n",
       "      <td>0.943815</td>\n",
       "      <td>0.917627</td>\n",
       "      <td>0.851077</td>\n",
       "      <td>0.933467</td>\n",
       "    </tr>\n",
       "    <tr>\n",
       "      <th>Hits</th>\n",
       "      <td>0.895305</td>\n",
       "      <td>1.000000</td>\n",
       "      <td>0.898052</td>\n",
       "      <td>0.946003</td>\n",
       "      <td>0.905877</td>\n",
       "      <td>0.790960</td>\n",
       "      <td>0.875189</td>\n",
       "      <td>0.829771</td>\n",
       "    </tr>\n",
       "    <tr>\n",
       "      <th>Infield_Put_Outs</th>\n",
       "      <td>0.943704</td>\n",
       "      <td>0.898052</td>\n",
       "      <td>1.000000</td>\n",
       "      <td>0.983225</td>\n",
       "      <td>0.997586</td>\n",
       "      <td>0.891558</td>\n",
       "      <td>0.756859</td>\n",
       "      <td>0.839668</td>\n",
       "    </tr>\n",
       "    <tr>\n",
       "      <th>At_Bats</th>\n",
       "      <td>0.922526</td>\n",
       "      <td>0.946003</td>\n",
       "      <td>0.983225</td>\n",
       "      <td>1.000000</td>\n",
       "      <td>0.987764</td>\n",
       "      <td>0.848008</td>\n",
       "      <td>0.802197</td>\n",
       "      <td>0.840788</td>\n",
       "    </tr>\n",
       "    <tr>\n",
       "      <th>Games_Played</th>\n",
       "      <td>0.943815</td>\n",
       "      <td>0.905877</td>\n",
       "      <td>0.997586</td>\n",
       "      <td>0.987764</td>\n",
       "      <td>1.000000</td>\n",
       "      <td>0.880804</td>\n",
       "      <td>0.760180</td>\n",
       "      <td>0.844984</td>\n",
       "    </tr>\n",
       "    <tr>\n",
       "      <th>Fielding_Percentage</th>\n",
       "      <td>0.917627</td>\n",
       "      <td>0.790960</td>\n",
       "      <td>0.891558</td>\n",
       "      <td>0.848008</td>\n",
       "      <td>0.880804</td>\n",
       "      <td>1.000000</td>\n",
       "      <td>0.685504</td>\n",
       "      <td>0.741792</td>\n",
       "    </tr>\n",
       "    <tr>\n",
       "      <th>Doubles</th>\n",
       "      <td>0.851077</td>\n",
       "      <td>0.875189</td>\n",
       "      <td>0.756859</td>\n",
       "      <td>0.802197</td>\n",
       "      <td>0.760180</td>\n",
       "      <td>0.685504</td>\n",
       "      <td>1.000000</td>\n",
       "      <td>0.719134</td>\n",
       "    </tr>\n",
       "    <tr>\n",
       "      <th>Walks</th>\n",
       "      <td>0.933467</td>\n",
       "      <td>0.829771</td>\n",
       "      <td>0.839668</td>\n",
       "      <td>0.840788</td>\n",
       "      <td>0.844984</td>\n",
       "      <td>0.741792</td>\n",
       "      <td>0.719134</td>\n",
       "      <td>1.000000</td>\n",
       "    </tr>\n",
       "  </tbody>\n",
       "</table>\n",
       "</div>"
      ],
      "text/plain": [
       "                     Caught_Stealing      Hits  Infield_Put_Outs   At_Bats  \\\n",
       "Caught_Stealing             1.000000  0.895305          0.943704  0.922526   \n",
       "Hits                        0.895305  1.000000          0.898052  0.946003   \n",
       "Infield_Put_Outs            0.943704  0.898052          1.000000  0.983225   \n",
       "At_Bats                     0.922526  0.946003          0.983225  1.000000   \n",
       "Games_Played                0.943815  0.905877          0.997586  0.987764   \n",
       "Fielding_Percentage         0.917627  0.790960          0.891558  0.848008   \n",
       "Doubles                     0.851077  0.875189          0.756859  0.802197   \n",
       "Walks                       0.933467  0.829771          0.839668  0.840788   \n",
       "\n",
       "                     Games_Played  Fielding_Percentage   Doubles     Walks  \n",
       "Caught_Stealing          0.943815             0.917627  0.851077  0.933467  \n",
       "Hits                     0.905877             0.790960  0.875189  0.829771  \n",
       "Infield_Put_Outs         0.997586             0.891558  0.756859  0.839668  \n",
       "At_Bats                  0.987764             0.848008  0.802197  0.840788  \n",
       "Games_Played             1.000000             0.880804  0.760180  0.844984  \n",
       "Fielding_Percentage      0.880804             1.000000  0.685504  0.741792  \n",
       "Doubles                  0.760180             0.685504  1.000000  0.719134  \n",
       "Walks                    0.844984             0.741792  0.719134  1.000000  "
      ]
     },
     "execution_count": 24,
     "metadata": {},
     "output_type": "execute_result"
    }
   ],
   "source": [
    "df_1920[['Caught_Stealing','Hits','Infield_Put_Outs', 'At_Bats', 'Games_Played','Fielding_Percentage', 'Doubles','Walks']].corr()"
   ]
  },
  {
   "cell_type": "markdown",
   "id": "8e4409f0",
   "metadata": {},
   "source": [
    "**The above 8 variables are linearly related to the dependent variable 'Games_Won', and five of them are offensive Measurements.  We can conclude that offensive Measurements are more effective before 1920.**\n",
    "\n",
    "* 'Infield_Put_Outs''has high coefficient with'Games_Played' and 'At_Bats'. \n",
    "* 'Walks'/Fielding_Percentage have high coefficient with 'Caught_Stealing'."
   ]
  },
  {
   "cell_type": "code",
   "execution_count": null,
   "id": "8dacadc6",
   "metadata": {},
   "outputs": [],
   "source": []
  },
  {
   "cell_type": "markdown",
   "id": "e3350cdd",
   "metadata": {},
   "source": [
    "**Section 4 – Linear Regression Models**"
   ]
  },
  {
   "cell_type": "markdown",
   "id": "04e47e83",
   "metadata": {},
   "source": [
    "**Create an initial multiple linear regression model using 8 variables for period before 1920**"
   ]
  },
  {
   "cell_type": "code",
   "execution_count": 25,
   "id": "e557fff1",
   "metadata": {},
   "outputs": [
    {
     "data": {
      "text/html": [
       "<table class=\"simpletable\">\n",
       "<caption>OLS Regression Results</caption>\n",
       "<tr>\n",
       "  <th>Dep. Variable:</th>        <td>Games_Won</td>    <th>  R-squared:         </th> <td>   0.965</td>\n",
       "</tr>\n",
       "<tr>\n",
       "  <th>Model:</th>                   <td>OLS</td>       <th>  Adj. R-squared:    </th> <td>   0.957</td>\n",
       "</tr>\n",
       "<tr>\n",
       "  <th>Method:</th>             <td>Least Squares</td>  <th>  F-statistic:       </th> <td>   119.9</td>\n",
       "</tr>\n",
       "<tr>\n",
       "  <th>Date:</th>             <td>Sun, 17 Jul 2022</td> <th>  Prob (F-statistic):</th> <td>4.07e-23</td>\n",
       "</tr>\n",
       "<tr>\n",
       "  <th>Time:</th>                 <td>20:53:36</td>     <th>  Log-Likelihood:    </th> <td> -141.69</td>\n",
       "</tr>\n",
       "<tr>\n",
       "  <th>No. Observations:</th>      <td>    44</td>      <th>  AIC:               </th> <td>   301.4</td>\n",
       "</tr>\n",
       "<tr>\n",
       "  <th>Df Residuals:</th>          <td>    35</td>      <th>  BIC:               </th> <td>   317.4</td>\n",
       "</tr>\n",
       "<tr>\n",
       "  <th>Df Model:</th>              <td>     8</td>      <th>                     </th>     <td> </td>   \n",
       "</tr>\n",
       "<tr>\n",
       "  <th>Covariance Type:</th>      <td>nonrobust</td>    <th>                     </th>     <td> </td>   \n",
       "</tr>\n",
       "</table>\n",
       "<table class=\"simpletable\">\n",
       "<tr>\n",
       "           <td></td>              <th>coef</th>     <th>std err</th>      <th>t</th>      <th>P>|t|</th>  <th>[0.025</th>    <th>0.975]</th>  \n",
       "</tr>\n",
       "<tr>\n",
       "  <th>Intercept</th>           <td>  -56.3069</td> <td>   53.708</td> <td>   -1.048</td> <td> 0.302</td> <td> -165.340</td> <td>   52.726</td>\n",
       "</tr>\n",
       "<tr>\n",
       "  <th>Caught_Stealing</th>     <td>    0.0082</td> <td>    0.057</td> <td>    0.143</td> <td> 0.887</td> <td>   -0.108</td> <td>    0.125</td>\n",
       "</tr>\n",
       "<tr>\n",
       "  <th>Hits</th>                <td>    0.1205</td> <td>    0.030</td> <td>    3.991</td> <td> 0.000</td> <td>    0.059</td> <td>    0.182</td>\n",
       "</tr>\n",
       "<tr>\n",
       "  <th>Infield_Put_Outs</th>    <td>    0.2081</td> <td>    0.042</td> <td>    4.943</td> <td> 0.000</td> <td>    0.123</td> <td>    0.293</td>\n",
       "</tr>\n",
       "<tr>\n",
       "  <th>At_Bats</th>             <td>   -0.0463</td> <td>    0.017</td> <td>   -2.730</td> <td> 0.010</td> <td>   -0.081</td> <td>   -0.012</td>\n",
       "</tr>\n",
       "<tr>\n",
       "  <th>Games_Played</th>        <td>   -4.7840</td> <td>    1.191</td> <td>   -4.018</td> <td> 0.000</td> <td>   -7.201</td> <td>   -2.367</td>\n",
       "</tr>\n",
       "<tr>\n",
       "  <th>Fielding_Percentage</th> <td>   69.5503</td> <td>   69.597</td> <td>    0.999</td> <td> 0.324</td> <td>  -71.738</td> <td>  210.839</td>\n",
       "</tr>\n",
       "<tr>\n",
       "  <th>Doubles</th>             <td>    0.0807</td> <td>    0.064</td> <td>    1.271</td> <td> 0.212</td> <td>   -0.048</td> <td>    0.210</td>\n",
       "</tr>\n",
       "<tr>\n",
       "  <th>Walks</th>               <td>    0.0209</td> <td>    0.018</td> <td>    1.134</td> <td> 0.265</td> <td>   -0.017</td> <td>    0.058</td>\n",
       "</tr>\n",
       "</table>\n",
       "<table class=\"simpletable\">\n",
       "<tr>\n",
       "  <th>Omnibus:</th>       <td> 0.569</td> <th>  Durbin-Watson:     </th> <td>   1.604</td>\n",
       "</tr>\n",
       "<tr>\n",
       "  <th>Prob(Omnibus):</th> <td> 0.753</td> <th>  Jarque-Bera (JB):  </th> <td>   0.656</td>\n",
       "</tr>\n",
       "<tr>\n",
       "  <th>Skew:</th>          <td>-0.052</td> <th>  Prob(JB):          </th> <td>   0.720</td>\n",
       "</tr>\n",
       "<tr>\n",
       "  <th>Kurtosis:</th>      <td> 2.411</td> <th>  Cond. No.          </th> <td>4.45e+05</td>\n",
       "</tr>\n",
       "</table><br/><br/>Notes:<br/>[1] Standard Errors assume that the covariance matrix of the errors is correctly specified.<br/>[2] The condition number is large, 4.45e+05. This might indicate that there are<br/>strong multicollinearity or other numerical problems."
      ],
      "text/plain": [
       "<class 'statsmodels.iolib.summary.Summary'>\n",
       "\"\"\"\n",
       "                            OLS Regression Results                            \n",
       "==============================================================================\n",
       "Dep. Variable:              Games_Won   R-squared:                       0.965\n",
       "Model:                            OLS   Adj. R-squared:                  0.957\n",
       "Method:                 Least Squares   F-statistic:                     119.9\n",
       "Date:                Sun, 17 Jul 2022   Prob (F-statistic):           4.07e-23\n",
       "Time:                        20:53:36   Log-Likelihood:                -141.69\n",
       "No. Observations:                  44   AIC:                             301.4\n",
       "Df Residuals:                      35   BIC:                             317.4\n",
       "Df Model:                           8                                         \n",
       "Covariance Type:            nonrobust                                         \n",
       "=======================================================================================\n",
       "                          coef    std err          t      P>|t|      [0.025      0.975]\n",
       "---------------------------------------------------------------------------------------\n",
       "Intercept             -56.3069     53.708     -1.048      0.302    -165.340      52.726\n",
       "Caught_Stealing         0.0082      0.057      0.143      0.887      -0.108       0.125\n",
       "Hits                    0.1205      0.030      3.991      0.000       0.059       0.182\n",
       "Infield_Put_Outs        0.2081      0.042      4.943      0.000       0.123       0.293\n",
       "At_Bats                -0.0463      0.017     -2.730      0.010      -0.081      -0.012\n",
       "Games_Played           -4.7840      1.191     -4.018      0.000      -7.201      -2.367\n",
       "Fielding_Percentage    69.5503     69.597      0.999      0.324     -71.738     210.839\n",
       "Doubles                 0.0807      0.064      1.271      0.212      -0.048       0.210\n",
       "Walks                   0.0209      0.018      1.134      0.265      -0.017       0.058\n",
       "==============================================================================\n",
       "Omnibus:                        0.569   Durbin-Watson:                   1.604\n",
       "Prob(Omnibus):                  0.753   Jarque-Bera (JB):                0.656\n",
       "Skew:                          -0.052   Prob(JB):                        0.720\n",
       "Kurtosis:                       2.411   Cond. No.                     4.45e+05\n",
       "==============================================================================\n",
       "\n",
       "Notes:\n",
       "[1] Standard Errors assume that the covariance matrix of the errors is correctly specified.\n",
       "[2] The condition number is large, 4.45e+05. This might indicate that there are\n",
       "strong multicollinearity or other numerical problems.\n",
       "\"\"\""
      ]
     },
     "execution_count": 25,
     "metadata": {},
     "output_type": "execute_result"
    }
   ],
   "source": [
    "lm_1920=smf.ols(formula='Games_Won ~ Caught_Stealing + Hits + Infield_Put_Outs + At_Bats + Games_Played +  Fielding_Percentage + Doubles + Walks', data=df_1920).fit()\n",
    "lm_1920.summary()"
   ]
  },
  {
   "cell_type": "markdown",
   "id": "6ed8fcda",
   "metadata": {},
   "source": [
    "**Second iteration**\n",
    "\n",
    "**To keep the model simple, delete'Caught_Stealing' + Fielding_Percentage + Doubles + Walks + intercept because of their high P-Values**\n"
   ]
  },
  {
   "cell_type": "code",
   "execution_count": 26,
   "id": "66531c78",
   "metadata": {},
   "outputs": [
    {
     "data": {
      "text/html": [
       "<table class=\"simpletable\">\n",
       "<caption>OLS Regression Results</caption>\n",
       "<tr>\n",
       "  <th>Dep. Variable:</th>        <td>Games_Won</td>    <th>  R-squared (uncentered):</th>      <td>   0.970</td>\n",
       "</tr>\n",
       "<tr>\n",
       "  <th>Model:</th>                   <td>OLS</td>       <th>  Adj. R-squared (uncentered):</th> <td>   0.970</td>\n",
       "</tr>\n",
       "<tr>\n",
       "  <th>Method:</th>             <td>Least Squares</td>  <th>  F-statistic:       </th>          <td>   5732.</td>\n",
       "</tr>\n",
       "<tr>\n",
       "  <th>Date:</th>             <td>Sun, 17 Jul 2022</td> <th>  Prob (F-statistic):</th>           <td>  0.00</td> \n",
       "</tr>\n",
       "<tr>\n",
       "  <th>Time:</th>                 <td>20:53:36</td>     <th>  Log-Likelihood:    </th>          <td> -2715.0</td>\n",
       "</tr>\n",
       "<tr>\n",
       "  <th>No. Observations:</th>      <td>   703</td>      <th>  AIC:               </th>          <td>   5438.</td>\n",
       "</tr>\n",
       "<tr>\n",
       "  <th>Df Residuals:</th>          <td>   699</td>      <th>  BIC:               </th>          <td>   5456.</td>\n",
       "</tr>\n",
       "<tr>\n",
       "  <th>Df Model:</th>              <td>     4</td>      <th>                     </th>              <td> </td>   \n",
       "</tr>\n",
       "<tr>\n",
       "  <th>Covariance Type:</th>      <td>nonrobust</td>    <th>                     </th>              <td> </td>   \n",
       "</tr>\n",
       "</table>\n",
       "<table class=\"simpletable\">\n",
       "<tr>\n",
       "          <td></td>            <th>coef</th>     <th>std err</th>      <th>t</th>      <th>P>|t|</th>  <th>[0.025</th>    <th>0.975]</th>  \n",
       "</tr>\n",
       "<tr>\n",
       "  <th>Hits</th>             <td>    0.0870</td> <td>    0.005</td> <td>   16.932</td> <td> 0.000</td> <td>    0.077</td> <td>    0.097</td>\n",
       "</tr>\n",
       "<tr>\n",
       "  <th>Infield_Put_Outs</th> <td>    0.0986</td> <td>    0.007</td> <td>   14.512</td> <td> 0.000</td> <td>    0.085</td> <td>    0.112</td>\n",
       "</tr>\n",
       "<tr>\n",
       "  <th>At_Bats</th>          <td>   -0.0275</td> <td>    0.003</td> <td>   -8.584</td> <td> 0.000</td> <td>   -0.034</td> <td>   -0.021</td>\n",
       "</tr>\n",
       "<tr>\n",
       "  <th>Games_Played</th>     <td>   -1.9530</td> <td>    0.205</td> <td>   -9.535</td> <td> 0.000</td> <td>   -2.355</td> <td>   -1.551</td>\n",
       "</tr>\n",
       "</table>\n",
       "<table class=\"simpletable\">\n",
       "<tr>\n",
       "  <th>Omnibus:</th>       <td> 1.205</td> <th>  Durbin-Watson:     </th> <td>   1.618</td>\n",
       "</tr>\n",
       "<tr>\n",
       "  <th>Prob(Omnibus):</th> <td> 0.547</td> <th>  Jarque-Bera (JB):  </th> <td>   1.062</td>\n",
       "</tr>\n",
       "<tr>\n",
       "  <th>Skew:</th>          <td> 0.085</td> <th>  Prob(JB):          </th> <td>   0.588</td>\n",
       "</tr>\n",
       "<tr>\n",
       "  <th>Kurtosis:</th>      <td> 3.085</td> <th>  Cond. No.          </th> <td>2.75e+03</td>\n",
       "</tr>\n",
       "</table><br/><br/>Notes:<br/>[1] R² is computed without centering (uncentered) since the model does not contain a constant.<br/>[2] Standard Errors assume that the covariance matrix of the errors is correctly specified.<br/>[3] The condition number is large, 2.75e+03. This might indicate that there are<br/>strong multicollinearity or other numerical problems."
      ],
      "text/plain": [
       "<class 'statsmodels.iolib.summary.Summary'>\n",
       "\"\"\"\n",
       "                                 OLS Regression Results                                \n",
       "=======================================================================================\n",
       "Dep. Variable:              Games_Won   R-squared (uncentered):                   0.970\n",
       "Model:                            OLS   Adj. R-squared (uncentered):              0.970\n",
       "Method:                 Least Squares   F-statistic:                              5732.\n",
       "Date:                Sun, 17 Jul 2022   Prob (F-statistic):                        0.00\n",
       "Time:                        20:53:36   Log-Likelihood:                         -2715.0\n",
       "No. Observations:                 703   AIC:                                      5438.\n",
       "Df Residuals:                     699   BIC:                                      5456.\n",
       "Df Model:                           4                                                  \n",
       "Covariance Type:            nonrobust                                                  \n",
       "====================================================================================\n",
       "                       coef    std err          t      P>|t|      [0.025      0.975]\n",
       "------------------------------------------------------------------------------------\n",
       "Hits                 0.0870      0.005     16.932      0.000       0.077       0.097\n",
       "Infield_Put_Outs     0.0986      0.007     14.512      0.000       0.085       0.112\n",
       "At_Bats             -0.0275      0.003     -8.584      0.000      -0.034      -0.021\n",
       "Games_Played        -1.9530      0.205     -9.535      0.000      -2.355      -1.551\n",
       "==============================================================================\n",
       "Omnibus:                        1.205   Durbin-Watson:                   1.618\n",
       "Prob(Omnibus):                  0.547   Jarque-Bera (JB):                1.062\n",
       "Skew:                           0.085   Prob(JB):                        0.588\n",
       "Kurtosis:                       3.085   Cond. No.                     2.75e+03\n",
       "==============================================================================\n",
       "\n",
       "Notes:\n",
       "[1] R² is computed without centering (uncentered) since the model does not contain a constant.\n",
       "[2] Standard Errors assume that the covariance matrix of the errors is correctly specified.\n",
       "[3] The condition number is large, 2.75e+03. This might indicate that there are\n",
       "strong multicollinearity or other numerical problems.\n",
       "\"\"\""
      ]
     },
     "execution_count": 26,
     "metadata": {},
     "output_type": "execute_result"
    }
   ],
   "source": [
    "lm_1920=smf.ols(formula='Games_Won ~ Hits + Infield_Put_Outs + At_Bats + Games_Played -1', data=df_1920).fit()\n",
    "lm_1920.summary()"
   ]
  },
  {
   "cell_type": "markdown",
   "id": "fc618e25",
   "metadata": {},
   "source": [
    "**Third iteration**\n",
    "\n",
    "**Delete'Games_Played' and 'At_Bats', 'Infield_Put_Outs', because they has high coefficient with 'Infield_Put_Outs'.**"
   ]
  },
  {
   "cell_type": "code",
   "execution_count": 27,
   "id": "d9d0b800",
   "metadata": {},
   "outputs": [
    {
     "data": {
      "text/html": [
       "<table class=\"simpletable\">\n",
       "<caption>OLS Regression Results</caption>\n",
       "<tr>\n",
       "  <th>Dep. Variable:</th>        <td>Games_Won</td>    <th>  R-squared (uncentered):</th>      <td>   0.957</td> \n",
       "</tr>\n",
       "<tr>\n",
       "  <th>Model:</th>                   <td>OLS</td>       <th>  Adj. R-squared (uncentered):</th> <td>   0.957</td> \n",
       "</tr>\n",
       "<tr>\n",
       "  <th>Method:</th>             <td>Least Squares</td>  <th>  F-statistic:       </th>          <td>1.577e+04</td>\n",
       "</tr>\n",
       "<tr>\n",
       "  <th>Date:</th>             <td>Sun, 17 Jul 2022</td> <th>  Prob (F-statistic):</th>           <td>  0.00</td>  \n",
       "</tr>\n",
       "<tr>\n",
       "  <th>Time:</th>                 <td>20:53:36</td>     <th>  Log-Likelihood:    </th>          <td> -2843.4</td> \n",
       "</tr>\n",
       "<tr>\n",
       "  <th>No. Observations:</th>      <td>   703</td>      <th>  AIC:               </th>          <td>   5689.</td> \n",
       "</tr>\n",
       "<tr>\n",
       "  <th>Df Residuals:</th>          <td>   702</td>      <th>  BIC:               </th>          <td>   5693.</td> \n",
       "</tr>\n",
       "<tr>\n",
       "  <th>Df Model:</th>              <td>     1</td>      <th>                     </th>              <td> </td>    \n",
       "</tr>\n",
       "<tr>\n",
       "  <th>Covariance Type:</th>      <td>nonrobust</td>    <th>                     </th>              <td> </td>    \n",
       "</tr>\n",
       "</table>\n",
       "<table class=\"simpletable\">\n",
       "<tr>\n",
       "    <td></td>      <th>coef</th>     <th>std err</th>      <th>t</th>      <th>P>|t|</th>  <th>[0.025</th>    <th>0.975]</th>  \n",
       "</tr>\n",
       "<tr>\n",
       "  <th>Hits</th> <td>    0.0558</td> <td>    0.000</td> <td>  125.572</td> <td> 0.000</td> <td>    0.055</td> <td>    0.057</td>\n",
       "</tr>\n",
       "</table>\n",
       "<table class=\"simpletable\">\n",
       "<tr>\n",
       "  <th>Omnibus:</th>       <td> 2.170</td> <th>  Durbin-Watson:     </th> <td>   1.687</td>\n",
       "</tr>\n",
       "<tr>\n",
       "  <th>Prob(Omnibus):</th> <td> 0.338</td> <th>  Jarque-Bera (JB):  </th> <td>   2.047</td>\n",
       "</tr>\n",
       "<tr>\n",
       "  <th>Skew:</th>          <td>-0.081</td> <th>  Prob(JB):          </th> <td>   0.359</td>\n",
       "</tr>\n",
       "<tr>\n",
       "  <th>Kurtosis:</th>      <td> 3.209</td> <th>  Cond. No.          </th> <td>    1.00</td>\n",
       "</tr>\n",
       "</table><br/><br/>Notes:<br/>[1] R² is computed without centering (uncentered) since the model does not contain a constant.<br/>[2] Standard Errors assume that the covariance matrix of the errors is correctly specified."
      ],
      "text/plain": [
       "<class 'statsmodels.iolib.summary.Summary'>\n",
       "\"\"\"\n",
       "                                 OLS Regression Results                                \n",
       "=======================================================================================\n",
       "Dep. Variable:              Games_Won   R-squared (uncentered):                   0.957\n",
       "Model:                            OLS   Adj. R-squared (uncentered):              0.957\n",
       "Method:                 Least Squares   F-statistic:                          1.577e+04\n",
       "Date:                Sun, 17 Jul 2022   Prob (F-statistic):                        0.00\n",
       "Time:                        20:53:36   Log-Likelihood:                         -2843.4\n",
       "No. Observations:                 703   AIC:                                      5689.\n",
       "Df Residuals:                     702   BIC:                                      5693.\n",
       "Df Model:                           1                                                  \n",
       "Covariance Type:            nonrobust                                                  \n",
       "==============================================================================\n",
       "                 coef    std err          t      P>|t|      [0.025      0.975]\n",
       "------------------------------------------------------------------------------\n",
       "Hits           0.0558      0.000    125.572      0.000       0.055       0.057\n",
       "==============================================================================\n",
       "Omnibus:                        2.170   Durbin-Watson:                   1.687\n",
       "Prob(Omnibus):                  0.338   Jarque-Bera (JB):                2.047\n",
       "Skew:                          -0.081   Prob(JB):                        0.359\n",
       "Kurtosis:                       3.209   Cond. No.                         1.00\n",
       "==============================================================================\n",
       "\n",
       "Notes:\n",
       "[1] R² is computed without centering (uncentered) since the model does not contain a constant.\n",
       "[2] Standard Errors assume that the covariance matrix of the errors is correctly specified.\n",
       "\"\"\""
      ]
     },
     "execution_count": 27,
     "metadata": {},
     "output_type": "execute_result"
    }
   ],
   "source": [
    "lm_1920=smf.ols(formula='Games_Won ~ Hits -1', data=df_1920).fit()\n",
    "lm_1920.summary()"
   ]
  },
  {
   "cell_type": "markdown",
   "id": "741e4064",
   "metadata": {},
   "source": [
    "**Ajusted r2 and F-statistic are very large which is good and the p-values for the coefficient is close to zero which means is statisically significant. And also, the model is very simple. The independent variable is approximately normally distributed**"
   ]
  },
  {
   "cell_type": "code",
   "execution_count": null,
   "id": "5e649918",
   "metadata": {},
   "outputs": [],
   "source": []
  },
  {
   "cell_type": "code",
   "execution_count": null,
   "id": "84d86a07",
   "metadata": {},
   "outputs": [],
   "source": []
  },
  {
   "cell_type": "markdown",
   "id": "e57cf6f4",
   "metadata": {},
   "source": [
    "**Period 2 -  1920 to 1960**"
   ]
  },
  {
   "cell_type": "markdown",
   "id": "a4b94f8b",
   "metadata": {},
   "source": [
    "**Section 2 – Data Exploration**"
   ]
  },
  {
   "cell_type": "code",
   "execution_count": 28,
   "id": "8cfd9d25",
   "metadata": {},
   "outputs": [],
   "source": [
    "df_1920_1960=df[df['Year'].between(1920,1959)]"
   ]
  },
  {
   "cell_type": "code",
   "execution_count": 29,
   "id": "7a7a93bb",
   "metadata": {},
   "outputs": [],
   "source": [
    "df_1920_1960.reset_index(drop=True, inplace=True)"
   ]
  },
  {
   "cell_type": "code",
   "execution_count": 30,
   "id": "e23ae58f",
   "metadata": {
    "scrolled": true
   },
   "outputs": [
    {
     "data": {
      "text/html": [
       "<div>\n",
       "<style scoped>\n",
       "    .dataframe tbody tr th:only-of-type {\n",
       "        vertical-align: middle;\n",
       "    }\n",
       "\n",
       "    .dataframe tbody tr th {\n",
       "        vertical-align: top;\n",
       "    }\n",
       "\n",
       "    .dataframe thead th {\n",
       "        text-align: right;\n",
       "    }\n",
       "</style>\n",
       "<table border=\"1\" class=\"dataframe\">\n",
       "  <thead>\n",
       "    <tr style=\"text-align: right;\">\n",
       "      <th></th>\n",
       "      <th>Year</th>\n",
       "      <th>League</th>\n",
       "      <th>Team</th>\n",
       "      <th>Franchise</th>\n",
       "      <th>Division</th>\n",
       "      <th>Final_Standing</th>\n",
       "      <th>Games_Played</th>\n",
       "      <th>Unnamed: 7</th>\n",
       "      <th>Games_Won</th>\n",
       "      <th>Games_Lost</th>\n",
       "      <th>...</th>\n",
       "      <th>Hits_Allowed</th>\n",
       "      <th>Home_Run_Allowed</th>\n",
       "      <th>Walks_Allowed</th>\n",
       "      <th>Strikeouts_Allowed</th>\n",
       "      <th>Errors</th>\n",
       "      <th>Double_Plays</th>\n",
       "      <th>Fielding_Percentage</th>\n",
       "      <th>Team_Name</th>\n",
       "      <th>Home_Ball_Park</th>\n",
       "      <th>Attendance</th>\n",
       "    </tr>\n",
       "  </thead>\n",
       "  <tbody>\n",
       "    <tr>\n",
       "      <th>0</th>\n",
       "      <td>1920</td>\n",
       "      <td>AL</td>\n",
       "      <td>BOS</td>\n",
       "      <td>BOS</td>\n",
       "      <td>NaN</td>\n",
       "      <td>5</td>\n",
       "      <td>154</td>\n",
       "      <td>76.0</td>\n",
       "      <td>72</td>\n",
       "      <td>81</td>\n",
       "      <td>...</td>\n",
       "      <td>1481</td>\n",
       "      <td>39</td>\n",
       "      <td>461</td>\n",
       "      <td>481</td>\n",
       "      <td>183</td>\n",
       "      <td>131.0</td>\n",
       "      <td>0.97</td>\n",
       "      <td>Boston Red Sox</td>\n",
       "      <td>Fenway Park I</td>\n",
       "      <td>402445.0</td>\n",
       "    </tr>\n",
       "    <tr>\n",
       "      <th>1</th>\n",
       "      <td>1920</td>\n",
       "      <td>NL</td>\n",
       "      <td>BRO</td>\n",
       "      <td>LAD</td>\n",
       "      <td>NaN</td>\n",
       "      <td>1</td>\n",
       "      <td>155</td>\n",
       "      <td>78.0</td>\n",
       "      <td>93</td>\n",
       "      <td>61</td>\n",
       "      <td>...</td>\n",
       "      <td>1381</td>\n",
       "      <td>25</td>\n",
       "      <td>327</td>\n",
       "      <td>553</td>\n",
       "      <td>226</td>\n",
       "      <td>118.0</td>\n",
       "      <td>0.96</td>\n",
       "      <td>Brooklyn Robins</td>\n",
       "      <td>Ebbets Field</td>\n",
       "      <td>808722.0</td>\n",
       "    </tr>\n",
       "    <tr>\n",
       "      <th>2</th>\n",
       "      <td>1920</td>\n",
       "      <td>NL</td>\n",
       "      <td>BSN</td>\n",
       "      <td>ATL</td>\n",
       "      <td>NaN</td>\n",
       "      <td>7</td>\n",
       "      <td>153</td>\n",
       "      <td>74.0</td>\n",
       "      <td>62</td>\n",
       "      <td>90</td>\n",
       "      <td>...</td>\n",
       "      <td>1464</td>\n",
       "      <td>39</td>\n",
       "      <td>415</td>\n",
       "      <td>368</td>\n",
       "      <td>239</td>\n",
       "      <td>125.0</td>\n",
       "      <td>0.96</td>\n",
       "      <td>Boston Braves</td>\n",
       "      <td>Braves Field</td>\n",
       "      <td>162483.0</td>\n",
       "    </tr>\n",
       "    <tr>\n",
       "      <th>3</th>\n",
       "      <td>1920</td>\n",
       "      <td>AL</td>\n",
       "      <td>CHA</td>\n",
       "      <td>CHW</td>\n",
       "      <td>NaN</td>\n",
       "      <td>2</td>\n",
       "      <td>154</td>\n",
       "      <td>77.0</td>\n",
       "      <td>96</td>\n",
       "      <td>58</td>\n",
       "      <td>...</td>\n",
       "      <td>1467</td>\n",
       "      <td>45</td>\n",
       "      <td>405</td>\n",
       "      <td>438</td>\n",
       "      <td>194</td>\n",
       "      <td>142.0</td>\n",
       "      <td>0.96</td>\n",
       "      <td>Chicago White Sox</td>\n",
       "      <td>Comiskey Park</td>\n",
       "      <td>833492.0</td>\n",
       "    </tr>\n",
       "    <tr>\n",
       "      <th>4</th>\n",
       "      <td>1920</td>\n",
       "      <td>NL</td>\n",
       "      <td>CHN</td>\n",
       "      <td>CHC</td>\n",
       "      <td>NaN</td>\n",
       "      <td>5</td>\n",
       "      <td>154</td>\n",
       "      <td>77.0</td>\n",
       "      <td>75</td>\n",
       "      <td>79</td>\n",
       "      <td>...</td>\n",
       "      <td>1459</td>\n",
       "      <td>37</td>\n",
       "      <td>382</td>\n",
       "      <td>508</td>\n",
       "      <td>225</td>\n",
       "      <td>112.0</td>\n",
       "      <td>0.96</td>\n",
       "      <td>Chicago Cubs</td>\n",
       "      <td>Wrigley Field</td>\n",
       "      <td>480783.0</td>\n",
       "    </tr>\n",
       "  </tbody>\n",
       "</table>\n",
       "<p>5 rows × 43 columns</p>\n",
       "</div>"
      ],
      "text/plain": [
       "   Year League Team  Franchise  Division  Final_Standing  Games_Played  \\\n",
       "0  1920     AL   BOS        BOS      NaN               5           154   \n",
       "1  1920     NL   BRO        LAD      NaN               1           155   \n",
       "2  1920     NL   BSN        ATL      NaN               7           153   \n",
       "3  1920     AL   CHA        CHW      NaN               2           154   \n",
       "4  1920     NL   CHN        CHC      NaN               5           154   \n",
       "\n",
       "   Unnamed: 7  Games_Won  Games_Lost  ... Hits_Allowed Home_Run_Allowed  \\\n",
       "0        76.0         72          81  ...         1481               39   \n",
       "1        78.0         93          61  ...         1381               25   \n",
       "2        74.0         62          90  ...         1464               39   \n",
       "3        77.0         96          58  ...         1467               45   \n",
       "4        77.0         75          79  ...         1459               37   \n",
       "\n",
       "  Walks_Allowed Strikeouts_Allowed  Errors  Double_Plays  Fielding_Percentage  \\\n",
       "0           461                481     183         131.0                 0.97   \n",
       "1           327                553     226         118.0                 0.96   \n",
       "2           415                368     239         125.0                 0.96   \n",
       "3           405                438     194         142.0                 0.96   \n",
       "4           382                508     225         112.0                 0.96   \n",
       "\n",
       "           Team_Name  Home_Ball_Park  Attendance  \n",
       "0     Boston Red Sox   Fenway Park I    402445.0  \n",
       "1    Brooklyn Robins    Ebbets Field    808722.0  \n",
       "2      Boston Braves    Braves Field    162483.0  \n",
       "3  Chicago White Sox   Comiskey Park    833492.0  \n",
       "4       Chicago Cubs   Wrigley Field    480783.0  \n",
       "\n",
       "[5 rows x 43 columns]"
      ]
     },
     "execution_count": 30,
     "metadata": {},
     "output_type": "execute_result"
    }
   ],
   "source": [
    "df_1920_1960.head()"
   ]
  },
  {
   "cell_type": "code",
   "execution_count": 31,
   "id": "91f19b8a",
   "metadata": {
    "scrolled": true
   },
   "outputs": [
    {
     "data": {
      "text/html": [
       "<div>\n",
       "<style scoped>\n",
       "    .dataframe tbody tr th:only-of-type {\n",
       "        vertical-align: middle;\n",
       "    }\n",
       "\n",
       "    .dataframe tbody tr th {\n",
       "        vertical-align: top;\n",
       "    }\n",
       "\n",
       "    .dataframe thead th {\n",
       "        text-align: right;\n",
       "    }\n",
       "</style>\n",
       "<table border=\"1\" class=\"dataframe\">\n",
       "  <thead>\n",
       "    <tr style=\"text-align: right;\">\n",
       "      <th></th>\n",
       "      <th>Year</th>\n",
       "      <th>Final_Standing</th>\n",
       "      <th>Games_Played</th>\n",
       "      <th>Unnamed: 7</th>\n",
       "      <th>Games_Won</th>\n",
       "      <th>Games_Lost</th>\n",
       "      <th>Runs_Scored</th>\n",
       "      <th>At_Bats</th>\n",
       "      <th>Hits</th>\n",
       "      <th>Doubles</th>\n",
       "      <th>...</th>\n",
       "      <th>Saves</th>\n",
       "      <th>Infield_Put_Outs</th>\n",
       "      <th>Hits_Allowed</th>\n",
       "      <th>Home_Run_Allowed</th>\n",
       "      <th>Walks_Allowed</th>\n",
       "      <th>Strikeouts_Allowed</th>\n",
       "      <th>Errors</th>\n",
       "      <th>Double_Plays</th>\n",
       "      <th>Fielding_Percentage</th>\n",
       "      <th>Attendance</th>\n",
       "    </tr>\n",
       "  </thead>\n",
       "  <tbody>\n",
       "    <tr>\n",
       "      <th>Year</th>\n",
       "      <td>1.000000</td>\n",
       "      <td>-0.001304</td>\n",
       "      <td>0.192082</td>\n",
       "      <td>0.097743</td>\n",
       "      <td>0.010198</td>\n",
       "      <td>0.010289</td>\n",
       "      <td>-0.258987</td>\n",
       "      <td>-0.210648</td>\n",
       "      <td>-0.584943</td>\n",
       "      <td>-0.466542</td>\n",
       "      <td>...</td>\n",
       "      <td>0.545567</td>\n",
       "      <td>0.150066</td>\n",
       "      <td>-0.555421</td>\n",
       "      <td>0.694801</td>\n",
       "      <td>0.405078</td>\n",
       "      <td>0.727917</td>\n",
       "      <td>-0.698763</td>\n",
       "      <td>0.338805</td>\n",
       "      <td>0.561683</td>\n",
       "      <td>0.482990</td>\n",
       "    </tr>\n",
       "    <tr>\n",
       "      <th>Final_Standing</th>\n",
       "      <td>-0.001304</td>\n",
       "      <td>1.000000</td>\n",
       "      <td>-0.100993</td>\n",
       "      <td>-0.194760</td>\n",
       "      <td>-0.943117</td>\n",
       "      <td>0.941480</td>\n",
       "      <td>-0.604405</td>\n",
       "      <td>-0.233620</td>\n",
       "      <td>-0.400515</td>\n",
       "      <td>-0.260416</td>\n",
       "      <td>...</td>\n",
       "      <td>-0.378809</td>\n",
       "      <td>-0.368772</td>\n",
       "      <td>0.463080</td>\n",
       "      <td>0.113610</td>\n",
       "      <td>0.231671</td>\n",
       "      <td>-0.302148</td>\n",
       "      <td>0.320931</td>\n",
       "      <td>-0.054454</td>\n",
       "      <td>-0.304868</td>\n",
       "      <td>-0.508392</td>\n",
       "    </tr>\n",
       "    <tr>\n",
       "      <th>Games_Played</th>\n",
       "      <td>0.192082</td>\n",
       "      <td>-0.100993</td>\n",
       "      <td>1.000000</td>\n",
       "      <td>0.578682</td>\n",
       "      <td>0.126110</td>\n",
       "      <td>-0.063668</td>\n",
       "      <td>0.052838</td>\n",
       "      <td>0.387640</td>\n",
       "      <td>0.027784</td>\n",
       "      <td>-0.003913</td>\n",
       "      <td>...</td>\n",
       "      <td>0.122603</td>\n",
       "      <td>0.683713</td>\n",
       "      <td>-0.036221</td>\n",
       "      <td>0.122384</td>\n",
       "      <td>0.116195</td>\n",
       "      <td>0.233522</td>\n",
       "      <td>-0.115146</td>\n",
       "      <td>0.113417</td>\n",
       "      <td>0.152909</td>\n",
       "      <td>0.227935</td>\n",
       "    </tr>\n",
       "    <tr>\n",
       "      <th>Unnamed: 7</th>\n",
       "      <td>0.097743</td>\n",
       "      <td>-0.194760</td>\n",
       "      <td>0.578682</td>\n",
       "      <td>1.000000</td>\n",
       "      <td>0.213334</td>\n",
       "      <td>-0.178210</td>\n",
       "      <td>0.104336</td>\n",
       "      <td>0.256315</td>\n",
       "      <td>0.081437</td>\n",
       "      <td>0.065151</td>\n",
       "      <td>...</td>\n",
       "      <td>0.069988</td>\n",
       "      <td>0.447107</td>\n",
       "      <td>-0.103691</td>\n",
       "      <td>0.018962</td>\n",
       "      <td>0.007245</td>\n",
       "      <td>0.173961</td>\n",
       "      <td>-0.133682</td>\n",
       "      <td>0.124200</td>\n",
       "      <td>0.155526</td>\n",
       "      <td>0.210293</td>\n",
       "    </tr>\n",
       "    <tr>\n",
       "      <th>Games_Won</th>\n",
       "      <td>0.010198</td>\n",
       "      <td>-0.943117</td>\n",
       "      <td>0.126110</td>\n",
       "      <td>0.213334</td>\n",
       "      <td>1.000000</td>\n",
       "      <td>-0.996277</td>\n",
       "      <td>0.631354</td>\n",
       "      <td>0.240289</td>\n",
       "      <td>0.409058</td>\n",
       "      <td>0.261418</td>\n",
       "      <td>...</td>\n",
       "      <td>0.406390</td>\n",
       "      <td>0.402680</td>\n",
       "      <td>-0.495191</td>\n",
       "      <td>-0.118193</td>\n",
       "      <td>-0.248450</td>\n",
       "      <td>0.331990</td>\n",
       "      <td>-0.347208</td>\n",
       "      <td>0.058955</td>\n",
       "      <td>0.324120</td>\n",
       "      <td>0.533717</td>\n",
       "    </tr>\n",
       "    <tr>\n",
       "      <th>Games_Lost</th>\n",
       "      <td>0.010289</td>\n",
       "      <td>0.941480</td>\n",
       "      <td>-0.063668</td>\n",
       "      <td>-0.178210</td>\n",
       "      <td>-0.996277</td>\n",
       "      <td>1.000000</td>\n",
       "      <td>-0.632325</td>\n",
       "      <td>-0.222175</td>\n",
       "      <td>-0.411843</td>\n",
       "      <td>-0.267111</td>\n",
       "      <td>...</td>\n",
       "      <td>-0.395021</td>\n",
       "      <td>-0.360497</td>\n",
       "      <td>0.493108</td>\n",
       "      <td>0.138471</td>\n",
       "      <td>0.256700</td>\n",
       "      <td>-0.309925</td>\n",
       "      <td>0.337765</td>\n",
       "      <td>-0.044732</td>\n",
       "      <td>-0.313448</td>\n",
       "      <td>-0.510924</td>\n",
       "    </tr>\n",
       "    <tr>\n",
       "      <th>Runs_Scored</th>\n",
       "      <td>-0.258987</td>\n",
       "      <td>-0.604405</td>\n",
       "      <td>0.052838</td>\n",
       "      <td>0.104336</td>\n",
       "      <td>0.631354</td>\n",
       "      <td>-0.632325</td>\n",
       "      <td>1.000000</td>\n",
       "      <td>0.522392</td>\n",
       "      <td>0.803037</td>\n",
       "      <td>0.646119</td>\n",
       "      <td>...</td>\n",
       "      <td>0.177893</td>\n",
       "      <td>0.042366</td>\n",
       "      <td>0.165700</td>\n",
       "      <td>0.037802</td>\n",
       "      <td>0.011666</td>\n",
       "      <td>0.050653</td>\n",
       "      <td>0.013402</td>\n",
       "      <td>0.034874</td>\n",
       "      <td>-0.033701</td>\n",
       "      <td>0.250720</td>\n",
       "    </tr>\n",
       "    <tr>\n",
       "      <th>At_Bats</th>\n",
       "      <td>-0.210648</td>\n",
       "      <td>-0.233620</td>\n",
       "      <td>0.387640</td>\n",
       "      <td>0.256315</td>\n",
       "      <td>0.240289</td>\n",
       "      <td>-0.222175</td>\n",
       "      <td>0.522392</td>\n",
       "      <td>1.000000</td>\n",
       "      <td>0.705432</td>\n",
       "      <td>0.537054</td>\n",
       "      <td>...</td>\n",
       "      <td>-0.054764</td>\n",
       "      <td>0.429028</td>\n",
       "      <td>0.319494</td>\n",
       "      <td>-0.031541</td>\n",
       "      <td>-0.050517</td>\n",
       "      <td>-0.024231</td>\n",
       "      <td>0.154297</td>\n",
       "      <td>0.018185</td>\n",
       "      <td>-0.090508</td>\n",
       "      <td>-0.057020</td>\n",
       "    </tr>\n",
       "    <tr>\n",
       "      <th>Hits</th>\n",
       "      <td>-0.584943</td>\n",
       "      <td>-0.400515</td>\n",
       "      <td>0.027784</td>\n",
       "      <td>0.081437</td>\n",
       "      <td>0.409058</td>\n",
       "      <td>-0.411843</td>\n",
       "      <td>0.803037</td>\n",
       "      <td>0.705432</td>\n",
       "      <td>1.000000</td>\n",
       "      <td>0.736214</td>\n",
       "      <td>...</td>\n",
       "      <td>-0.104987</td>\n",
       "      <td>0.046449</td>\n",
       "      <td>0.428339</td>\n",
       "      <td>-0.237101</td>\n",
       "      <td>-0.219626</td>\n",
       "      <td>-0.259469</td>\n",
       "      <td>0.321596</td>\n",
       "      <td>-0.101900</td>\n",
       "      <td>-0.261254</td>\n",
       "      <td>-0.056737</td>\n",
       "    </tr>\n",
       "    <tr>\n",
       "      <th>Doubles</th>\n",
       "      <td>-0.466542</td>\n",
       "      <td>-0.260416</td>\n",
       "      <td>-0.003913</td>\n",
       "      <td>0.065151</td>\n",
       "      <td>0.261418</td>\n",
       "      <td>-0.267111</td>\n",
       "      <td>0.646119</td>\n",
       "      <td>0.537054</td>\n",
       "      <td>0.736214</td>\n",
       "      <td>1.000000</td>\n",
       "      <td>...</td>\n",
       "      <td>-0.143947</td>\n",
       "      <td>-0.047540</td>\n",
       "      <td>0.426616</td>\n",
       "      <td>-0.208543</td>\n",
       "      <td>-0.080676</td>\n",
       "      <td>-0.231654</td>\n",
       "      <td>0.266792</td>\n",
       "      <td>-0.081168</td>\n",
       "      <td>-0.222275</td>\n",
       "      <td>-0.173723</td>\n",
       "    </tr>\n",
       "    <tr>\n",
       "      <th>Triples</th>\n",
       "      <td>-0.648725</td>\n",
       "      <td>-0.235997</td>\n",
       "      <td>-0.021618</td>\n",
       "      <td>0.079063</td>\n",
       "      <td>0.252842</td>\n",
       "      <td>-0.256936</td>\n",
       "      <td>0.445862</td>\n",
       "      <td>0.295359</td>\n",
       "      <td>0.620930</td>\n",
       "      <td>0.409632</td>\n",
       "      <td>...</td>\n",
       "      <td>-0.209559</td>\n",
       "      <td>0.013625</td>\n",
       "      <td>0.304549</td>\n",
       "      <td>-0.435183</td>\n",
       "      <td>-0.285374</td>\n",
       "      <td>-0.375472</td>\n",
       "      <td>0.428501</td>\n",
       "      <td>-0.166315</td>\n",
       "      <td>-0.359328</td>\n",
       "      <td>-0.162034</td>\n",
       "    </tr>\n",
       "    <tr>\n",
       "      <th>Home_Runs</th>\n",
       "      <td>0.560872</td>\n",
       "      <td>-0.321792</td>\n",
       "      <td>0.125336</td>\n",
       "      <td>0.071540</td>\n",
       "      <td>0.340361</td>\n",
       "      <td>-0.325534</td>\n",
       "      <td>0.388558</td>\n",
       "      <td>0.095510</td>\n",
       "      <td>-0.007929</td>\n",
       "      <td>-0.083268</td>\n",
       "      <td>...</td>\n",
       "      <td>0.533137</td>\n",
       "      <td>0.085426</td>\n",
       "      <td>-0.292873</td>\n",
       "      <td>0.689495</td>\n",
       "      <td>0.254573</td>\n",
       "      <td>0.627609</td>\n",
       "      <td>-0.489182</td>\n",
       "      <td>0.231671</td>\n",
       "      <td>0.356962</td>\n",
       "      <td>0.563638</td>\n",
       "    </tr>\n",
       "    <tr>\n",
       "      <th>Walks</th>\n",
       "      <td>0.385002</td>\n",
       "      <td>-0.337788</td>\n",
       "      <td>0.172692</td>\n",
       "      <td>0.118057</td>\n",
       "      <td>0.359762</td>\n",
       "      <td>-0.352001</td>\n",
       "      <td>0.442595</td>\n",
       "      <td>-0.047524</td>\n",
       "      <td>-0.025584</td>\n",
       "      <td>0.082535</td>\n",
       "      <td>...</td>\n",
       "      <td>0.347602</td>\n",
       "      <td>0.100907</td>\n",
       "      <td>-0.252929</td>\n",
       "      <td>0.280523</td>\n",
       "      <td>0.464334</td>\n",
       "      <td>0.352846</td>\n",
       "      <td>-0.392052</td>\n",
       "      <td>0.235863</td>\n",
       "      <td>0.301670</td>\n",
       "      <td>0.441104</td>\n",
       "    </tr>\n",
       "    <tr>\n",
       "      <th>Strike_Outs</th>\n",
       "      <td>0.762560</td>\n",
       "      <td>0.069362</td>\n",
       "      <td>0.183583</td>\n",
       "      <td>0.039737</td>\n",
       "      <td>-0.058730</td>\n",
       "      <td>0.079289</td>\n",
       "      <td>-0.170563</td>\n",
       "      <td>-0.180004</td>\n",
       "      <td>-0.501814</td>\n",
       "      <td>-0.363425</td>\n",
       "      <td>...</td>\n",
       "      <td>0.450307</td>\n",
       "      <td>0.117757</td>\n",
       "      <td>-0.336340</td>\n",
       "      <td>0.669652</td>\n",
       "      <td>0.332657</td>\n",
       "      <td>0.664693</td>\n",
       "      <td>-0.465950</td>\n",
       "      <td>0.201708</td>\n",
       "      <td>0.354242</td>\n",
       "      <td>0.369788</td>\n",
       "    </tr>\n",
       "    <tr>\n",
       "      <th>Stolen_Bases</th>\n",
       "      <td>-0.524321</td>\n",
       "      <td>-0.151821</td>\n",
       "      <td>-0.021144</td>\n",
       "      <td>0.025937</td>\n",
       "      <td>0.165879</td>\n",
       "      <td>-0.168173</td>\n",
       "      <td>0.234886</td>\n",
       "      <td>0.048555</td>\n",
       "      <td>0.341270</td>\n",
       "      <td>0.217563</td>\n",
       "      <td>...</td>\n",
       "      <td>-0.189686</td>\n",
       "      <td>0.095330</td>\n",
       "      <td>0.162985</td>\n",
       "      <td>-0.392784</td>\n",
       "      <td>-0.234784</td>\n",
       "      <td>-0.287279</td>\n",
       "      <td>0.363241</td>\n",
       "      <td>-0.145770</td>\n",
       "      <td>-0.278147</td>\n",
       "      <td>-0.146277</td>\n",
       "    </tr>\n",
       "    <tr>\n",
       "      <th>Caught_Stealing</th>\n",
       "      <td>-0.715987</td>\n",
       "      <td>-0.006758</td>\n",
       "      <td>-0.093040</td>\n",
       "      <td>-0.048535</td>\n",
       "      <td>0.020104</td>\n",
       "      <td>-0.027852</td>\n",
       "      <td>0.041476</td>\n",
       "      <td>-0.015937</td>\n",
       "      <td>0.347716</td>\n",
       "      <td>0.153485</td>\n",
       "      <td>...</td>\n",
       "      <td>-0.389260</td>\n",
       "      <td>0.079340</td>\n",
       "      <td>0.305260</td>\n",
       "      <td>-0.587316</td>\n",
       "      <td>-0.455651</td>\n",
       "      <td>-0.524634</td>\n",
       "      <td>0.540035</td>\n",
       "      <td>-0.316474</td>\n",
       "      <td>-0.435300</td>\n",
       "      <td>-0.310427</td>\n",
       "    </tr>\n",
       "    <tr>\n",
       "      <th>Hit_By_Pitch</th>\n",
       "      <td>NaN</td>\n",
       "      <td>NaN</td>\n",
       "      <td>NaN</td>\n",
       "      <td>NaN</td>\n",
       "      <td>NaN</td>\n",
       "      <td>NaN</td>\n",
       "      <td>NaN</td>\n",
       "      <td>NaN</td>\n",
       "      <td>NaN</td>\n",
       "      <td>NaN</td>\n",
       "      <td>...</td>\n",
       "      <td>NaN</td>\n",
       "      <td>NaN</td>\n",
       "      <td>NaN</td>\n",
       "      <td>NaN</td>\n",
       "      <td>NaN</td>\n",
       "      <td>NaN</td>\n",
       "      <td>NaN</td>\n",
       "      <td>NaN</td>\n",
       "      <td>NaN</td>\n",
       "      <td>NaN</td>\n",
       "    </tr>\n",
       "    <tr>\n",
       "      <th>Sacrifice_Fly</th>\n",
       "      <td>NaN</td>\n",
       "      <td>NaN</td>\n",
       "      <td>NaN</td>\n",
       "      <td>NaN</td>\n",
       "      <td>NaN</td>\n",
       "      <td>NaN</td>\n",
       "      <td>NaN</td>\n",
       "      <td>NaN</td>\n",
       "      <td>NaN</td>\n",
       "      <td>NaN</td>\n",
       "      <td>...</td>\n",
       "      <td>NaN</td>\n",
       "      <td>NaN</td>\n",
       "      <td>NaN</td>\n",
       "      <td>NaN</td>\n",
       "      <td>NaN</td>\n",
       "      <td>NaN</td>\n",
       "      <td>NaN</td>\n",
       "      <td>NaN</td>\n",
       "      <td>NaN</td>\n",
       "      <td>NaN</td>\n",
       "    </tr>\n",
       "    <tr>\n",
       "      <th>Runs_Against</th>\n",
       "      <td>-0.263624</td>\n",
       "      <td>0.588324</td>\n",
       "      <td>-0.047651</td>\n",
       "      <td>-0.140252</td>\n",
       "      <td>-0.632423</td>\n",
       "      <td>0.632839</td>\n",
       "      <td>0.126268</td>\n",
       "      <td>0.203178</td>\n",
       "      <td>0.242783</td>\n",
       "      <td>0.294764</td>\n",
       "      <td>...</td>\n",
       "      <td>-0.308665</td>\n",
       "      <td>-0.420085</td>\n",
       "      <td>0.847236</td>\n",
       "      <td>0.218784</td>\n",
       "      <td>0.352789</td>\n",
       "      <td>-0.375598</td>\n",
       "      <td>0.477772</td>\n",
       "      <td>-0.019266</td>\n",
       "      <td>-0.460336</td>\n",
       "      <td>-0.440889</td>\n",
       "    </tr>\n",
       "    <tr>\n",
       "      <th>Earned_Runs</th>\n",
       "      <td>-0.103638</td>\n",
       "      <td>0.570624</td>\n",
       "      <td>-0.026273</td>\n",
       "      <td>-0.129340</td>\n",
       "      <td>-0.609819</td>\n",
       "      <td>0.612572</td>\n",
       "      <td>0.124004</td>\n",
       "      <td>0.184304</td>\n",
       "      <td>0.175818</td>\n",
       "      <td>0.247325</td>\n",
       "      <td>...</td>\n",
       "      <td>-0.215634</td>\n",
       "      <td>-0.407139</td>\n",
       "      <td>0.769701</td>\n",
       "      <td>0.361247</td>\n",
       "      <td>0.443841</td>\n",
       "      <td>-0.253039</td>\n",
       "      <td>0.284805</td>\n",
       "      <td>0.068050</td>\n",
       "      <td>-0.296253</td>\n",
       "      <td>-0.355509</td>\n",
       "    </tr>\n",
       "    <tr>\n",
       "      <th>Earned_Run_Average</th>\n",
       "      <td>-0.114081</td>\n",
       "      <td>0.581689</td>\n",
       "      <td>-0.090531</td>\n",
       "      <td>-0.167579</td>\n",
       "      <td>-0.623251</td>\n",
       "      <td>0.621795</td>\n",
       "      <td>0.112615</td>\n",
       "      <td>0.134807</td>\n",
       "      <td>0.162695</td>\n",
       "      <td>0.240493</td>\n",
       "      <td>...</td>\n",
       "      <td>-0.226049</td>\n",
       "      <td>-0.485561</td>\n",
       "      <td>0.764261</td>\n",
       "      <td>0.348608</td>\n",
       "      <td>0.435196</td>\n",
       "      <td>-0.274643</td>\n",
       "      <td>0.292386</td>\n",
       "      <td>0.058413</td>\n",
       "      <td>-0.308695</td>\n",
       "      <td>-0.369547</td>\n",
       "    </tr>\n",
       "    <tr>\n",
       "      <th>Complete_Games</th>\n",
       "      <td>-0.607040</td>\n",
       "      <td>-0.324366</td>\n",
       "      <td>-0.042506</td>\n",
       "      <td>0.060759</td>\n",
       "      <td>0.356110</td>\n",
       "      <td>-0.367710</td>\n",
       "      <td>0.247935</td>\n",
       "      <td>0.134440</td>\n",
       "      <td>0.369435</td>\n",
       "      <td>0.301153</td>\n",
       "      <td>...</td>\n",
       "      <td>-0.531925</td>\n",
       "      <td>0.093729</td>\n",
       "      <td>0.036838</td>\n",
       "      <td>-0.614521</td>\n",
       "      <td>-0.420887</td>\n",
       "      <td>-0.406557</td>\n",
       "      <td>0.283317</td>\n",
       "      <td>-0.214634</td>\n",
       "      <td>-0.200567</td>\n",
       "      <td>-0.143901</td>\n",
       "    </tr>\n",
       "    <tr>\n",
       "      <th>Shutout</th>\n",
       "      <td>0.200117</td>\n",
       "      <td>-0.503074</td>\n",
       "      <td>0.125350</td>\n",
       "      <td>0.203502</td>\n",
       "      <td>0.528809</td>\n",
       "      <td>-0.524259</td>\n",
       "      <td>-0.014833</td>\n",
       "      <td>-0.074955</td>\n",
       "      <td>-0.124380</td>\n",
       "      <td>-0.165088</td>\n",
       "      <td>...</td>\n",
       "      <td>0.226694</td>\n",
       "      <td>0.362650</td>\n",
       "      <td>-0.619267</td>\n",
       "      <td>-0.168708</td>\n",
       "      <td>-0.212300</td>\n",
       "      <td>0.306065</td>\n",
       "      <td>-0.381436</td>\n",
       "      <td>0.066071</td>\n",
       "      <td>0.359110</td>\n",
       "      <td>0.380822</td>\n",
       "    </tr>\n",
       "    <tr>\n",
       "      <th>Saves</th>\n",
       "      <td>0.545567</td>\n",
       "      <td>-0.378809</td>\n",
       "      <td>0.122603</td>\n",
       "      <td>0.069988</td>\n",
       "      <td>0.406390</td>\n",
       "      <td>-0.395021</td>\n",
       "      <td>0.177893</td>\n",
       "      <td>-0.054764</td>\n",
       "      <td>-0.104987</td>\n",
       "      <td>-0.143947</td>\n",
       "      <td>...</td>\n",
       "      <td>1.000000</td>\n",
       "      <td>0.194045</td>\n",
       "      <td>-0.457366</td>\n",
       "      <td>0.406478</td>\n",
       "      <td>0.198504</td>\n",
       "      <td>0.602412</td>\n",
       "      <td>-0.503558</td>\n",
       "      <td>0.258290</td>\n",
       "      <td>0.399229</td>\n",
       "      <td>0.523561</td>\n",
       "    </tr>\n",
       "    <tr>\n",
       "      <th>Infield_Put_Outs</th>\n",
       "      <td>0.150066</td>\n",
       "      <td>-0.368772</td>\n",
       "      <td>0.683713</td>\n",
       "      <td>0.447107</td>\n",
       "      <td>0.402680</td>\n",
       "      <td>-0.360497</td>\n",
       "      <td>0.042366</td>\n",
       "      <td>0.429028</td>\n",
       "      <td>0.046449</td>\n",
       "      <td>-0.047540</td>\n",
       "      <td>...</td>\n",
       "      <td>0.194045</td>\n",
       "      <td>1.000000</td>\n",
       "      <td>-0.290355</td>\n",
       "      <td>-0.044213</td>\n",
       "      <td>-0.104588</td>\n",
       "      <td>0.320964</td>\n",
       "      <td>-0.191034</td>\n",
       "      <td>0.070902</td>\n",
       "      <td>0.251321</td>\n",
       "      <td>0.284570</td>\n",
       "    </tr>\n",
       "    <tr>\n",
       "      <th>Hits_Allowed</th>\n",
       "      <td>-0.555421</td>\n",
       "      <td>0.463080</td>\n",
       "      <td>-0.036221</td>\n",
       "      <td>-0.103691</td>\n",
       "      <td>-0.495191</td>\n",
       "      <td>0.493108</td>\n",
       "      <td>0.165700</td>\n",
       "      <td>0.319494</td>\n",
       "      <td>0.428339</td>\n",
       "      <td>0.426616</td>\n",
       "      <td>...</td>\n",
       "      <td>-0.457366</td>\n",
       "      <td>-0.290355</td>\n",
       "      <td>1.000000</td>\n",
       "      <td>-0.092213</td>\n",
       "      <td>-0.060153</td>\n",
       "      <td>-0.590823</td>\n",
       "      <td>0.602350</td>\n",
       "      <td>-0.114694</td>\n",
       "      <td>-0.512768</td>\n",
       "      <td>-0.559936</td>\n",
       "    </tr>\n",
       "    <tr>\n",
       "      <th>Home_Run_Allowed</th>\n",
       "      <td>0.694801</td>\n",
       "      <td>0.113610</td>\n",
       "      <td>0.122384</td>\n",
       "      <td>0.018962</td>\n",
       "      <td>-0.118193</td>\n",
       "      <td>0.138471</td>\n",
       "      <td>0.037802</td>\n",
       "      <td>-0.031541</td>\n",
       "      <td>-0.237101</td>\n",
       "      <td>-0.208543</td>\n",
       "      <td>...</td>\n",
       "      <td>0.406478</td>\n",
       "      <td>-0.044213</td>\n",
       "      <td>-0.092213</td>\n",
       "      <td>1.000000</td>\n",
       "      <td>0.357702</td>\n",
       "      <td>0.556014</td>\n",
       "      <td>-0.457202</td>\n",
       "      <td>0.245100</td>\n",
       "      <td>0.310379</td>\n",
       "      <td>0.324713</td>\n",
       "    </tr>\n",
       "    <tr>\n",
       "      <th>Walks_Allowed</th>\n",
       "      <td>0.405078</td>\n",
       "      <td>0.231671</td>\n",
       "      <td>0.116195</td>\n",
       "      <td>0.007245</td>\n",
       "      <td>-0.248450</td>\n",
       "      <td>0.256700</td>\n",
       "      <td>0.011666</td>\n",
       "      <td>-0.050517</td>\n",
       "      <td>-0.219626</td>\n",
       "      <td>-0.080676</td>\n",
       "      <td>...</td>\n",
       "      <td>0.198504</td>\n",
       "      <td>-0.104588</td>\n",
       "      <td>-0.060153</td>\n",
       "      <td>0.357702</td>\n",
       "      <td>1.000000</td>\n",
       "      <td>0.262407</td>\n",
       "      <td>-0.190388</td>\n",
       "      <td>0.369522</td>\n",
       "      <td>0.102491</td>\n",
       "      <td>0.182309</td>\n",
       "    </tr>\n",
       "    <tr>\n",
       "      <th>Strikeouts_Allowed</th>\n",
       "      <td>0.727917</td>\n",
       "      <td>-0.302148</td>\n",
       "      <td>0.233522</td>\n",
       "      <td>0.173961</td>\n",
       "      <td>0.331990</td>\n",
       "      <td>-0.309925</td>\n",
       "      <td>0.050653</td>\n",
       "      <td>-0.024231</td>\n",
       "      <td>-0.259469</td>\n",
       "      <td>-0.231654</td>\n",
       "      <td>...</td>\n",
       "      <td>0.602412</td>\n",
       "      <td>0.320964</td>\n",
       "      <td>-0.590823</td>\n",
       "      <td>0.556014</td>\n",
       "      <td>0.262407</td>\n",
       "      <td>1.000000</td>\n",
       "      <td>-0.608081</td>\n",
       "      <td>0.117443</td>\n",
       "      <td>0.488142</td>\n",
       "      <td>0.584475</td>\n",
       "    </tr>\n",
       "    <tr>\n",
       "      <th>Errors</th>\n",
       "      <td>-0.698763</td>\n",
       "      <td>0.320931</td>\n",
       "      <td>-0.115146</td>\n",
       "      <td>-0.133682</td>\n",
       "      <td>-0.347208</td>\n",
       "      <td>0.337765</td>\n",
       "      <td>0.013402</td>\n",
       "      <td>0.154297</td>\n",
       "      <td>0.321596</td>\n",
       "      <td>0.266792</td>\n",
       "      <td>...</td>\n",
       "      <td>-0.503558</td>\n",
       "      <td>-0.191034</td>\n",
       "      <td>0.602350</td>\n",
       "      <td>-0.457202</td>\n",
       "      <td>-0.190388</td>\n",
       "      <td>-0.608081</td>\n",
       "      <td>1.000000</td>\n",
       "      <td>-0.327630</td>\n",
       "      <td>-0.854756</td>\n",
       "      <td>-0.538514</td>\n",
       "    </tr>\n",
       "    <tr>\n",
       "      <th>Double_Plays</th>\n",
       "      <td>0.338805</td>\n",
       "      <td>-0.054454</td>\n",
       "      <td>0.113417</td>\n",
       "      <td>0.124200</td>\n",
       "      <td>0.058955</td>\n",
       "      <td>-0.044732</td>\n",
       "      <td>0.034874</td>\n",
       "      <td>0.018185</td>\n",
       "      <td>-0.101900</td>\n",
       "      <td>-0.081168</td>\n",
       "      <td>...</td>\n",
       "      <td>0.258290</td>\n",
       "      <td>0.070902</td>\n",
       "      <td>-0.114694</td>\n",
       "      <td>0.245100</td>\n",
       "      <td>0.369522</td>\n",
       "      <td>0.117443</td>\n",
       "      <td>-0.327630</td>\n",
       "      <td>1.000000</td>\n",
       "      <td>0.295449</td>\n",
       "      <td>0.231157</td>\n",
       "    </tr>\n",
       "    <tr>\n",
       "      <th>Fielding_Percentage</th>\n",
       "      <td>0.561683</td>\n",
       "      <td>-0.304868</td>\n",
       "      <td>0.152909</td>\n",
       "      <td>0.155526</td>\n",
       "      <td>0.324120</td>\n",
       "      <td>-0.313448</td>\n",
       "      <td>-0.033701</td>\n",
       "      <td>-0.090508</td>\n",
       "      <td>-0.261254</td>\n",
       "      <td>-0.222275</td>\n",
       "      <td>...</td>\n",
       "      <td>0.399229</td>\n",
       "      <td>0.251321</td>\n",
       "      <td>-0.512768</td>\n",
       "      <td>0.310379</td>\n",
       "      <td>0.102491</td>\n",
       "      <td>0.488142</td>\n",
       "      <td>-0.854756</td>\n",
       "      <td>0.295449</td>\n",
       "      <td>1.000000</td>\n",
       "      <td>0.448181</td>\n",
       "    </tr>\n",
       "    <tr>\n",
       "      <th>Attendance</th>\n",
       "      <td>0.482990</td>\n",
       "      <td>-0.508392</td>\n",
       "      <td>0.227935</td>\n",
       "      <td>0.210293</td>\n",
       "      <td>0.533717</td>\n",
       "      <td>-0.510924</td>\n",
       "      <td>0.250720</td>\n",
       "      <td>-0.057020</td>\n",
       "      <td>-0.056737</td>\n",
       "      <td>-0.173723</td>\n",
       "      <td>...</td>\n",
       "      <td>0.523561</td>\n",
       "      <td>0.284570</td>\n",
       "      <td>-0.559936</td>\n",
       "      <td>0.324713</td>\n",
       "      <td>0.182309</td>\n",
       "      <td>0.584475</td>\n",
       "      <td>-0.538514</td>\n",
       "      <td>0.231157</td>\n",
       "      <td>0.448181</td>\n",
       "      <td>1.000000</td>\n",
       "    </tr>\n",
       "  </tbody>\n",
       "</table>\n",
       "<p>33 rows × 33 columns</p>\n",
       "</div>"
      ],
      "text/plain": [
       "                         Year  Final_Standing  Games_Played  Unnamed: 7  \\\n",
       "Year                 1.000000       -0.001304      0.192082    0.097743   \n",
       "Final_Standing      -0.001304        1.000000     -0.100993   -0.194760   \n",
       "Games_Played         0.192082       -0.100993      1.000000    0.578682   \n",
       "Unnamed: 7           0.097743       -0.194760      0.578682    1.000000   \n",
       "Games_Won            0.010198       -0.943117      0.126110    0.213334   \n",
       "Games_Lost           0.010289        0.941480     -0.063668   -0.178210   \n",
       "Runs_Scored         -0.258987       -0.604405      0.052838    0.104336   \n",
       "At_Bats             -0.210648       -0.233620      0.387640    0.256315   \n",
       "Hits                -0.584943       -0.400515      0.027784    0.081437   \n",
       "Doubles             -0.466542       -0.260416     -0.003913    0.065151   \n",
       "Triples             -0.648725       -0.235997     -0.021618    0.079063   \n",
       "Home_Runs            0.560872       -0.321792      0.125336    0.071540   \n",
       "Walks                0.385002       -0.337788      0.172692    0.118057   \n",
       "Strike_Outs          0.762560        0.069362      0.183583    0.039737   \n",
       "Stolen_Bases        -0.524321       -0.151821     -0.021144    0.025937   \n",
       "Caught_Stealing     -0.715987       -0.006758     -0.093040   -0.048535   \n",
       "Hit_By_Pitch              NaN             NaN           NaN         NaN   \n",
       "Sacrifice_Fly             NaN             NaN           NaN         NaN   \n",
       "Runs_Against        -0.263624        0.588324     -0.047651   -0.140252   \n",
       "Earned_Runs         -0.103638        0.570624     -0.026273   -0.129340   \n",
       "Earned_Run_Average  -0.114081        0.581689     -0.090531   -0.167579   \n",
       "Complete_Games      -0.607040       -0.324366     -0.042506    0.060759   \n",
       "Shutout              0.200117       -0.503074      0.125350    0.203502   \n",
       "Saves                0.545567       -0.378809      0.122603    0.069988   \n",
       "Infield_Put_Outs     0.150066       -0.368772      0.683713    0.447107   \n",
       "Hits_Allowed        -0.555421        0.463080     -0.036221   -0.103691   \n",
       "Home_Run_Allowed     0.694801        0.113610      0.122384    0.018962   \n",
       "Walks_Allowed        0.405078        0.231671      0.116195    0.007245   \n",
       "Strikeouts_Allowed   0.727917       -0.302148      0.233522    0.173961   \n",
       "Errors              -0.698763        0.320931     -0.115146   -0.133682   \n",
       "Double_Plays         0.338805       -0.054454      0.113417    0.124200   \n",
       "Fielding_Percentage  0.561683       -0.304868      0.152909    0.155526   \n",
       "Attendance           0.482990       -0.508392      0.227935    0.210293   \n",
       "\n",
       "                     Games_Won  Games_Lost  Runs_Scored   At_Bats      Hits  \\\n",
       "Year                  0.010198    0.010289    -0.258987 -0.210648 -0.584943   \n",
       "Final_Standing       -0.943117    0.941480    -0.604405 -0.233620 -0.400515   \n",
       "Games_Played          0.126110   -0.063668     0.052838  0.387640  0.027784   \n",
       "Unnamed: 7            0.213334   -0.178210     0.104336  0.256315  0.081437   \n",
       "Games_Won             1.000000   -0.996277     0.631354  0.240289  0.409058   \n",
       "Games_Lost           -0.996277    1.000000    -0.632325 -0.222175 -0.411843   \n",
       "Runs_Scored           0.631354   -0.632325     1.000000  0.522392  0.803037   \n",
       "At_Bats               0.240289   -0.222175     0.522392  1.000000  0.705432   \n",
       "Hits                  0.409058   -0.411843     0.803037  0.705432  1.000000   \n",
       "Doubles               0.261418   -0.267111     0.646119  0.537054  0.736214   \n",
       "Triples               0.252842   -0.256936     0.445862  0.295359  0.620930   \n",
       "Home_Runs             0.340361   -0.325534     0.388558  0.095510 -0.007929   \n",
       "Walks                 0.359762   -0.352001     0.442595 -0.047524 -0.025584   \n",
       "Strike_Outs          -0.058730    0.079289    -0.170563 -0.180004 -0.501814   \n",
       "Stolen_Bases          0.165879   -0.168173     0.234886  0.048555  0.341270   \n",
       "Caught_Stealing       0.020104   -0.027852     0.041476 -0.015937  0.347716   \n",
       "Hit_By_Pitch               NaN         NaN          NaN       NaN       NaN   \n",
       "Sacrifice_Fly              NaN         NaN          NaN       NaN       NaN   \n",
       "Runs_Against         -0.632423    0.632839     0.126268  0.203178  0.242783   \n",
       "Earned_Runs          -0.609819    0.612572     0.124004  0.184304  0.175818   \n",
       "Earned_Run_Average   -0.623251    0.621795     0.112615  0.134807  0.162695   \n",
       "Complete_Games        0.356110   -0.367710     0.247935  0.134440  0.369435   \n",
       "Shutout               0.528809   -0.524259    -0.014833 -0.074955 -0.124380   \n",
       "Saves                 0.406390   -0.395021     0.177893 -0.054764 -0.104987   \n",
       "Infield_Put_Outs      0.402680   -0.360497     0.042366  0.429028  0.046449   \n",
       "Hits_Allowed         -0.495191    0.493108     0.165700  0.319494  0.428339   \n",
       "Home_Run_Allowed     -0.118193    0.138471     0.037802 -0.031541 -0.237101   \n",
       "Walks_Allowed        -0.248450    0.256700     0.011666 -0.050517 -0.219626   \n",
       "Strikeouts_Allowed    0.331990   -0.309925     0.050653 -0.024231 -0.259469   \n",
       "Errors               -0.347208    0.337765     0.013402  0.154297  0.321596   \n",
       "Double_Plays          0.058955   -0.044732     0.034874  0.018185 -0.101900   \n",
       "Fielding_Percentage   0.324120   -0.313448    -0.033701 -0.090508 -0.261254   \n",
       "Attendance            0.533717   -0.510924     0.250720 -0.057020 -0.056737   \n",
       "\n",
       "                      Doubles  ...     Saves  Infield_Put_Outs  Hits_Allowed  \\\n",
       "Year                -0.466542  ...  0.545567          0.150066     -0.555421   \n",
       "Final_Standing      -0.260416  ... -0.378809         -0.368772      0.463080   \n",
       "Games_Played        -0.003913  ...  0.122603          0.683713     -0.036221   \n",
       "Unnamed: 7           0.065151  ...  0.069988          0.447107     -0.103691   \n",
       "Games_Won            0.261418  ...  0.406390          0.402680     -0.495191   \n",
       "Games_Lost          -0.267111  ... -0.395021         -0.360497      0.493108   \n",
       "Runs_Scored          0.646119  ...  0.177893          0.042366      0.165700   \n",
       "At_Bats              0.537054  ... -0.054764          0.429028      0.319494   \n",
       "Hits                 0.736214  ... -0.104987          0.046449      0.428339   \n",
       "Doubles              1.000000  ... -0.143947         -0.047540      0.426616   \n",
       "Triples              0.409632  ... -0.209559          0.013625      0.304549   \n",
       "Home_Runs           -0.083268  ...  0.533137          0.085426     -0.292873   \n",
       "Walks                0.082535  ...  0.347602          0.100907     -0.252929   \n",
       "Strike_Outs         -0.363425  ...  0.450307          0.117757     -0.336340   \n",
       "Stolen_Bases         0.217563  ... -0.189686          0.095330      0.162985   \n",
       "Caught_Stealing      0.153485  ... -0.389260          0.079340      0.305260   \n",
       "Hit_By_Pitch              NaN  ...       NaN               NaN           NaN   \n",
       "Sacrifice_Fly             NaN  ...       NaN               NaN           NaN   \n",
       "Runs_Against         0.294764  ... -0.308665         -0.420085      0.847236   \n",
       "Earned_Runs          0.247325  ... -0.215634         -0.407139      0.769701   \n",
       "Earned_Run_Average   0.240493  ... -0.226049         -0.485561      0.764261   \n",
       "Complete_Games       0.301153  ... -0.531925          0.093729      0.036838   \n",
       "Shutout             -0.165088  ...  0.226694          0.362650     -0.619267   \n",
       "Saves               -0.143947  ...  1.000000          0.194045     -0.457366   \n",
       "Infield_Put_Outs    -0.047540  ...  0.194045          1.000000     -0.290355   \n",
       "Hits_Allowed         0.426616  ... -0.457366         -0.290355      1.000000   \n",
       "Home_Run_Allowed    -0.208543  ...  0.406478         -0.044213     -0.092213   \n",
       "Walks_Allowed       -0.080676  ...  0.198504         -0.104588     -0.060153   \n",
       "Strikeouts_Allowed  -0.231654  ...  0.602412          0.320964     -0.590823   \n",
       "Errors               0.266792  ... -0.503558         -0.191034      0.602350   \n",
       "Double_Plays        -0.081168  ...  0.258290          0.070902     -0.114694   \n",
       "Fielding_Percentage -0.222275  ...  0.399229          0.251321     -0.512768   \n",
       "Attendance          -0.173723  ...  0.523561          0.284570     -0.559936   \n",
       "\n",
       "                     Home_Run_Allowed  Walks_Allowed  Strikeouts_Allowed  \\\n",
       "Year                         0.694801       0.405078            0.727917   \n",
       "Final_Standing               0.113610       0.231671           -0.302148   \n",
       "Games_Played                 0.122384       0.116195            0.233522   \n",
       "Unnamed: 7                   0.018962       0.007245            0.173961   \n",
       "Games_Won                   -0.118193      -0.248450            0.331990   \n",
       "Games_Lost                   0.138471       0.256700           -0.309925   \n",
       "Runs_Scored                  0.037802       0.011666            0.050653   \n",
       "At_Bats                     -0.031541      -0.050517           -0.024231   \n",
       "Hits                        -0.237101      -0.219626           -0.259469   \n",
       "Doubles                     -0.208543      -0.080676           -0.231654   \n",
       "Triples                     -0.435183      -0.285374           -0.375472   \n",
       "Home_Runs                    0.689495       0.254573            0.627609   \n",
       "Walks                        0.280523       0.464334            0.352846   \n",
       "Strike_Outs                  0.669652       0.332657            0.664693   \n",
       "Stolen_Bases                -0.392784      -0.234784           -0.287279   \n",
       "Caught_Stealing             -0.587316      -0.455651           -0.524634   \n",
       "Hit_By_Pitch                      NaN            NaN                 NaN   \n",
       "Sacrifice_Fly                     NaN            NaN                 NaN   \n",
       "Runs_Against                 0.218784       0.352789           -0.375598   \n",
       "Earned_Runs                  0.361247       0.443841           -0.253039   \n",
       "Earned_Run_Average           0.348608       0.435196           -0.274643   \n",
       "Complete_Games              -0.614521      -0.420887           -0.406557   \n",
       "Shutout                     -0.168708      -0.212300            0.306065   \n",
       "Saves                        0.406478       0.198504            0.602412   \n",
       "Infield_Put_Outs            -0.044213      -0.104588            0.320964   \n",
       "Hits_Allowed                -0.092213      -0.060153           -0.590823   \n",
       "Home_Run_Allowed             1.000000       0.357702            0.556014   \n",
       "Walks_Allowed                0.357702       1.000000            0.262407   \n",
       "Strikeouts_Allowed           0.556014       0.262407            1.000000   \n",
       "Errors                      -0.457202      -0.190388           -0.608081   \n",
       "Double_Plays                 0.245100       0.369522            0.117443   \n",
       "Fielding_Percentage          0.310379       0.102491            0.488142   \n",
       "Attendance                   0.324713       0.182309            0.584475   \n",
       "\n",
       "                       Errors  Double_Plays  Fielding_Percentage  Attendance  \n",
       "Year                -0.698763      0.338805             0.561683    0.482990  \n",
       "Final_Standing       0.320931     -0.054454            -0.304868   -0.508392  \n",
       "Games_Played        -0.115146      0.113417             0.152909    0.227935  \n",
       "Unnamed: 7          -0.133682      0.124200             0.155526    0.210293  \n",
       "Games_Won           -0.347208      0.058955             0.324120    0.533717  \n",
       "Games_Lost           0.337765     -0.044732            -0.313448   -0.510924  \n",
       "Runs_Scored          0.013402      0.034874            -0.033701    0.250720  \n",
       "At_Bats              0.154297      0.018185            -0.090508   -0.057020  \n",
       "Hits                 0.321596     -0.101900            -0.261254   -0.056737  \n",
       "Doubles              0.266792     -0.081168            -0.222275   -0.173723  \n",
       "Triples              0.428501     -0.166315            -0.359328   -0.162034  \n",
       "Home_Runs           -0.489182      0.231671             0.356962    0.563638  \n",
       "Walks               -0.392052      0.235863             0.301670    0.441104  \n",
       "Strike_Outs         -0.465950      0.201708             0.354242    0.369788  \n",
       "Stolen_Bases         0.363241     -0.145770            -0.278147   -0.146277  \n",
       "Caught_Stealing      0.540035     -0.316474            -0.435300   -0.310427  \n",
       "Hit_By_Pitch              NaN           NaN                  NaN         NaN  \n",
       "Sacrifice_Fly             NaN           NaN                  NaN         NaN  \n",
       "Runs_Against         0.477772     -0.019266            -0.460336   -0.440889  \n",
       "Earned_Runs          0.284805      0.068050            -0.296253   -0.355509  \n",
       "Earned_Run_Average   0.292386      0.058413            -0.308695   -0.369547  \n",
       "Complete_Games       0.283317     -0.214634            -0.200567   -0.143901  \n",
       "Shutout             -0.381436      0.066071             0.359110    0.380822  \n",
       "Saves               -0.503558      0.258290             0.399229    0.523561  \n",
       "Infield_Put_Outs    -0.191034      0.070902             0.251321    0.284570  \n",
       "Hits_Allowed         0.602350     -0.114694            -0.512768   -0.559936  \n",
       "Home_Run_Allowed    -0.457202      0.245100             0.310379    0.324713  \n",
       "Walks_Allowed       -0.190388      0.369522             0.102491    0.182309  \n",
       "Strikeouts_Allowed  -0.608081      0.117443             0.488142    0.584475  \n",
       "Errors               1.000000     -0.327630            -0.854756   -0.538514  \n",
       "Double_Plays        -0.327630      1.000000             0.295449    0.231157  \n",
       "Fielding_Percentage -0.854756      0.295449             1.000000    0.448181  \n",
       "Attendance          -0.538514      0.231157             0.448181    1.000000  \n",
       "\n",
       "[33 rows x 33 columns]"
      ]
     },
     "execution_count": 31,
     "metadata": {},
     "output_type": "execute_result"
    }
   ],
   "source": [
    "df_1920_1960.corr()"
   ]
  },
  {
   "cell_type": "code",
   "execution_count": null,
   "id": "376ff463",
   "metadata": {},
   "outputs": [],
   "source": []
  },
  {
   "cell_type": "markdown",
   "id": "e7483a0c",
   "metadata": {},
   "source": [
    "**1. Calculate the descriptive statistics for the 8 variables**"
   ]
  },
  {
   "cell_type": "code",
   "execution_count": 32,
   "id": "97eb5ecf",
   "metadata": {
    "scrolled": true
   },
   "outputs": [
    {
     "data": {
      "text/html": [
       "<div>\n",
       "<style scoped>\n",
       "    .dataframe tbody tr th:only-of-type {\n",
       "        vertical-align: middle;\n",
       "    }\n",
       "\n",
       "    .dataframe tbody tr th {\n",
       "        vertical-align: top;\n",
       "    }\n",
       "\n",
       "    .dataframe thead th {\n",
       "        text-align: right;\n",
       "    }\n",
       "</style>\n",
       "<table border=\"1\" class=\"dataframe\">\n",
       "  <thead>\n",
       "    <tr style=\"text-align: right;\">\n",
       "      <th></th>\n",
       "      <th>Games_Lost</th>\n",
       "      <th>Final_Standing</th>\n",
       "      <th>Runs_Against</th>\n",
       "      <th>Earned_Run_Average</th>\n",
       "      <th>Runs_Scored</th>\n",
       "      <th>Earned_Runs</th>\n",
       "      <th>Attendance</th>\n",
       "      <th>Shutout</th>\n",
       "    </tr>\n",
       "  </thead>\n",
       "  <tbody>\n",
       "    <tr>\n",
       "      <th>count</th>\n",
       "      <td>640.00000</td>\n",
       "      <td>640.000000</td>\n",
       "      <td>640.000000</td>\n",
       "      <td>640.000000</td>\n",
       "      <td>640.000000</td>\n",
       "      <td>640.000000</td>\n",
       "      <td>6.400000e+02</td>\n",
       "      <td>640.000000</td>\n",
       "    </tr>\n",
       "    <tr>\n",
       "      <th>mean</th>\n",
       "      <td>76.66875</td>\n",
       "      <td>4.478125</td>\n",
       "      <td>713.521875</td>\n",
       "      <td>4.011609</td>\n",
       "      <td>713.521875</td>\n",
       "      <td>612.798437</td>\n",
       "      <td>7.402853e+05</td>\n",
       "      <td>9.554688</td>\n",
       "    </tr>\n",
       "    <tr>\n",
       "      <th>std</th>\n",
       "      <td>14.20583</td>\n",
       "      <td>2.284771</td>\n",
       "      <td>105.294814</td>\n",
       "      <td>0.622430</td>\n",
       "      <td>107.179750</td>\n",
       "      <td>90.876630</td>\n",
       "      <td>4.272222e+05</td>\n",
       "      <td>4.330639</td>\n",
       "    </tr>\n",
       "    <tr>\n",
       "      <th>min</th>\n",
       "      <td>43.00000</td>\n",
       "      <td>1.000000</td>\n",
       "      <td>475.000000</td>\n",
       "      <td>2.550000</td>\n",
       "      <td>394.000000</td>\n",
       "      <td>399.000000</td>\n",
       "      <td>8.092200e+04</td>\n",
       "      <td>1.000000</td>\n",
       "    </tr>\n",
       "    <tr>\n",
       "      <th>25%</th>\n",
       "      <td>66.00000</td>\n",
       "      <td>2.000000</td>\n",
       "      <td>637.000000</td>\n",
       "      <td>3.580000</td>\n",
       "      <td>643.000000</td>\n",
       "      <td>548.000000</td>\n",
       "      <td>4.248002e+05</td>\n",
       "      <td>6.000000</td>\n",
       "    </tr>\n",
       "    <tr>\n",
       "      <th>50%</th>\n",
       "      <td>76.00000</td>\n",
       "      <td>4.000000</td>\n",
       "      <td>706.000000</td>\n",
       "      <td>3.950000</td>\n",
       "      <td>706.500000</td>\n",
       "      <td>603.500000</td>\n",
       "      <td>6.577445e+05</td>\n",
       "      <td>9.000000</td>\n",
       "    </tr>\n",
       "    <tr>\n",
       "      <th>75%</th>\n",
       "      <td>87.00000</td>\n",
       "      <td>6.000000</td>\n",
       "      <td>775.000000</td>\n",
       "      <td>4.390000</td>\n",
       "      <td>775.000000</td>\n",
       "      <td>669.000000</td>\n",
       "      <td>9.715562e+05</td>\n",
       "      <td>12.000000</td>\n",
       "    </tr>\n",
       "    <tr>\n",
       "      <th>max</th>\n",
       "      <td>115.00000</td>\n",
       "      <td>8.000000</td>\n",
       "      <td>1199.000000</td>\n",
       "      <td>6.710000</td>\n",
       "      <td>1067.000000</td>\n",
       "      <td>1023.000000</td>\n",
       "      <td>2.620627e+06</td>\n",
       "      <td>26.000000</td>\n",
       "    </tr>\n",
       "  </tbody>\n",
       "</table>\n",
       "</div>"
      ],
      "text/plain": [
       "       Games_Lost  Final_Standing  Runs_Against  Earned_Run_Average  \\\n",
       "count   640.00000      640.000000    640.000000          640.000000   \n",
       "mean     76.66875        4.478125    713.521875            4.011609   \n",
       "std      14.20583        2.284771    105.294814            0.622430   \n",
       "min      43.00000        1.000000    475.000000            2.550000   \n",
       "25%      66.00000        2.000000    637.000000            3.580000   \n",
       "50%      76.00000        4.000000    706.000000            3.950000   \n",
       "75%      87.00000        6.000000    775.000000            4.390000   \n",
       "max     115.00000        8.000000   1199.000000            6.710000   \n",
       "\n",
       "       Runs_Scored  Earned_Runs    Attendance     Shutout  \n",
       "count   640.000000   640.000000  6.400000e+02  640.000000  \n",
       "mean    713.521875   612.798437  7.402853e+05    9.554688  \n",
       "std     107.179750    90.876630  4.272222e+05    4.330639  \n",
       "min     394.000000   399.000000  8.092200e+04    1.000000  \n",
       "25%     643.000000   548.000000  4.248002e+05    6.000000  \n",
       "50%     706.500000   603.500000  6.577445e+05    9.000000  \n",
       "75%     775.000000   669.000000  9.715562e+05   12.000000  \n",
       "max    1067.000000  1023.000000  2.620627e+06   26.000000  "
      ]
     },
     "execution_count": 32,
     "metadata": {},
     "output_type": "execute_result"
    }
   ],
   "source": [
    "df_1920_1960[['Games_Lost', 'Final_Standing', 'Runs_Against', 'Earned_Run_Average', 'Runs_Scored', 'Earned_Runs', 'Attendance', 'Shutout']].describe()"
   ]
  },
  {
   "cell_type": "code",
   "execution_count": null,
   "id": "78cf314e",
   "metadata": {},
   "outputs": [],
   "source": []
  },
  {
   "cell_type": "markdown",
   "id": "55c4a7b8",
   "metadata": {},
   "source": [
    "**2. Show a histogram and boxplot for each of the 8 variables**"
   ]
  },
  {
   "cell_type": "code",
   "execution_count": 33,
   "id": "554d5bb3",
   "metadata": {},
   "outputs": [
    {
     "data": {
      "text/plain": [
       "<AxesSubplot:ylabel='Frequency'>"
      ]
     },
     "execution_count": 33,
     "metadata": {},
     "output_type": "execute_result"
    },
    {
     "data": {
      "image/png": "[encoded data removed]",
      "text/plain": [
       "<Figure size 432x288 with 1 Axes>"
      ]
     },
     "metadata": {
      "needs_background": "light"
     },
     "output_type": "display_data"
    }
   ],
   "source": [
    "df_1920_1960['Games_Lost'].plot.hist(bins=20, density=True)"
   ]
  },
  {
   "cell_type": "code",
   "execution_count": 34,
   "id": "69fd5188",
   "metadata": {},
   "outputs": [
    {
     "data": {
      "text/plain": [
       "<AxesSubplot:>"
      ]
     },
     "execution_count": 34,
     "metadata": {},
     "output_type": "execute_result"
    },
    {
     "data": {
      "image/png": "[encoded data removed]",
      "text/plain": [
       "<Figure size 432x288 with 1 Axes>"
      ]
     },
     "metadata": {
      "needs_background": "light"
     },
     "output_type": "display_data"
    }
   ],
   "source": [
    "df_1920_1960.boxplot(column='Games_Lost')"
   ]
  },
  {
   "cell_type": "markdown",
   "id": "28b351f4",
   "metadata": {},
   "source": [
    "**The visual shape of 'Games_Lost' is almost symmetric. It is wide. There is no outliner.**"
   ]
  },
  {
   "cell_type": "code",
   "execution_count": null,
   "id": "2bd66550",
   "metadata": {},
   "outputs": [],
   "source": []
  },
  {
   "cell_type": "code",
   "execution_count": 35,
   "id": "8b2a2e1b",
   "metadata": {},
   "outputs": [
    {
     "data": {
      "text/plain": [
       "<AxesSubplot:ylabel='Frequency'>"
      ]
     },
     "execution_count": 35,
     "metadata": {},
     "output_type": "execute_result"
    },
    {
     "data": {
      "image/png": "[encoded data removed]",
      "text/plain": [
       "<Figure size 432x288 with 1 Axes>"
      ]
     },
     "metadata": {
      "needs_background": "light"
     },
     "output_type": "display_data"
    }
   ],
   "source": [
    "df_1920_1960['Final_Standing'].plot.hist(bins=20, density=True)"
   ]
  },
  {
   "cell_type": "code",
   "execution_count": 36,
   "id": "bbf8194d",
   "metadata": {},
   "outputs": [
    {
     "data": {
      "text/plain": [
       "<AxesSubplot:>"
      ]
     },
     "execution_count": 36,
     "metadata": {},
     "output_type": "execute_result"
    },
    {
     "data": {
      "image/png": "[encoded data removed]",
      "text/plain": [
       "<Figure size 432x288 with 1 Axes>"
      ]
     },
     "metadata": {
      "needs_background": "light"
     },
     "output_type": "display_data"
    }
   ],
   "source": [
    "df_1920_1960.boxplot(column='Final_Standing')"
   ]
  },
  {
   "cell_type": "markdown",
   "id": "9e51dba1",
   "metadata": {},
   "source": [
    "**The visual shape of 'Final_Standing' is not symmetric. The data is ordinal.**"
   ]
  },
  {
   "cell_type": "code",
   "execution_count": null,
   "id": "3396202e",
   "metadata": {},
   "outputs": [],
   "source": []
  },
  {
   "cell_type": "code",
   "execution_count": 37,
   "id": "4cc87276",
   "metadata": {},
   "outputs": [
    {
     "data": {
      "text/plain": [
       "<AxesSubplot:ylabel='Frequency'>"
      ]
     },
     "execution_count": 37,
     "metadata": {},
     "output_type": "execute_result"
    },
    {
     "data": {
      "image/png": "[encoded data removed]",
      "text/plain": [
       "<Figure size 432x288 with 1 Axes>"
      ]
     },
     "metadata": {
      "needs_background": "light"
     },
     "output_type": "display_data"
    }
   ],
   "source": [
    "df_1920_1960['Runs_Against'].plot.hist(bins=20, density=True)"
   ]
  },
  {
   "cell_type": "code",
   "execution_count": 38,
   "id": "ff4fc124",
   "metadata": {},
   "outputs": [
    {
     "data": {
      "text/plain": [
       "<AxesSubplot:>"
      ]
     },
     "execution_count": 38,
     "metadata": {},
     "output_type": "execute_result"
    },
    {
     "data": {
      "image/png": "[encoded data removed]",
      "text/plain": [
       "<Figure size 432x288 with 1 Axes>"
      ]
     },
     "metadata": {
      "needs_background": "light"
     },
     "output_type": "display_data"
    }
   ],
   "source": [
    "df_1920_1960.boxplot(column='Runs_Against')"
   ]
  },
  {
   "cell_type": "markdown",
   "id": "77faff3d",
   "metadata": {},
   "source": [
    "**The visual shape of 'Runs_Against' is almost symmetric. It has one mode and it is narrow. There are some outliners.**"
   ]
  },
  {
   "cell_type": "code",
   "execution_count": null,
   "id": "aa70c0e4",
   "metadata": {},
   "outputs": [],
   "source": []
  },
  {
   "cell_type": "code",
   "execution_count": 39,
   "id": "96c6730f",
   "metadata": {},
   "outputs": [
    {
     "data": {
      "text/plain": [
       "<AxesSubplot:ylabel='Frequency'>"
      ]
     },
     "execution_count": 39,
     "metadata": {},
     "output_type": "execute_result"
    },
    {
     "data": {
      "image/png": "[encoded data removed]",
      "text/plain": [
       "<Figure size 432x288 with 1 Axes>"
      ]
     },
     "metadata": {
      "needs_background": "light"
     },
     "output_type": "display_data"
    }
   ],
   "source": [
    "df_1920_1960['Runs_Scored'].plot.hist(bins=20, density=True)"
   ]
  },
  {
   "cell_type": "code",
   "execution_count": 40,
   "id": "acfbbb9b",
   "metadata": {},
   "outputs": [
    {
     "data": {
      "text/plain": [
       "<AxesSubplot:>"
      ]
     },
     "execution_count": 40,
     "metadata": {},
     "output_type": "execute_result"
    },
    {
     "data": {
      "image/png": "[encoded data removed]",
      "text/plain": [
       "<Figure size 432x288 with 1 Axes>"
      ]
     },
     "metadata": {
      "needs_background": "light"
     },
     "output_type": "display_data"
    }
   ],
   "source": [
    "df_1920_1960.boxplot(column='Runs_Scored')"
   ]
  },
  {
   "cell_type": "markdown",
   "id": "b8a5f75c",
   "metadata": {},
   "source": [
    "**The visual shape of 'Runs_Scored' is almost symmetric. It has one mode and it is wide. There are a few outliners.**"
   ]
  },
  {
   "cell_type": "code",
   "execution_count": null,
   "id": "dff4d93a",
   "metadata": {},
   "outputs": [],
   "source": []
  },
  {
   "cell_type": "code",
   "execution_count": 41,
   "id": "4225641f",
   "metadata": {},
   "outputs": [
    {
     "data": {
      "text/plain": [
       "<AxesSubplot:ylabel='Frequency'>"
      ]
     },
     "execution_count": 41,
     "metadata": {},
     "output_type": "execute_result"
    },
    {
     "data": {
      "image/png": "[encoded data removed]",
      "text/plain": [
       "<Figure size 432x288 with 1 Axes>"
      ]
     },
     "metadata": {
      "needs_background": "light"
     },
     "output_type": "display_data"
    }
   ],
   "source": [
    "df_1920_1960['Earned_Run_Average'].plot.hist(bins=20, density=True)"
   ]
  },
  {
   "cell_type": "code",
   "execution_count": 42,
   "id": "21acd138",
   "metadata": {},
   "outputs": [
    {
     "data": {
      "text/plain": [
       "<AxesSubplot:>"
      ]
     },
     "execution_count": 42,
     "metadata": {},
     "output_type": "execute_result"
    },
    {
     "data": {
      "image/png": "[encoded data removed]",
      "text/plain": [
       "<Figure size 432x288 with 1 Axes>"
      ]
     },
     "metadata": {
      "needs_background": "light"
     },
     "output_type": "display_data"
    }
   ],
   "source": [
    "df_1920_1960.boxplot(column='Earned_Run_Average')"
   ]
  },
  {
   "cell_type": "markdown",
   "id": "a55918c8",
   "metadata": {},
   "source": [
    "**The visual shape of 'Earned_Run_Average' is almost symmetric. It has one mode and it is wide. There are a few outliners.**"
   ]
  },
  {
   "cell_type": "code",
   "execution_count": null,
   "id": "952bf912",
   "metadata": {},
   "outputs": [],
   "source": []
  },
  {
   "cell_type": "code",
   "execution_count": 43,
   "id": "b67f40a9",
   "metadata": {},
   "outputs": [
    {
     "data": {
      "text/plain": [
       "<AxesSubplot:ylabel='Frequency'>"
      ]
     },
     "execution_count": 43,
     "metadata": {},
     "output_type": "execute_result"
    },
    {
     "data": {
      "image/png": "[encoded data removed]",
      "text/plain": [
       "<Figure size 432x288 with 1 Axes>"
      ]
     },
     "metadata": {
      "needs_background": "light"
     },
     "output_type": "display_data"
    }
   ],
   "source": [
    "df_1920_1960['Earned_Runs'].plot.hist(bins=20, density=True)"
   ]
  },
  {
   "cell_type": "code",
   "execution_count": 44,
   "id": "cf8a2479",
   "metadata": {},
   "outputs": [
    {
     "data": {
      "text/plain": [
       "<AxesSubplot:>"
      ]
     },
     "execution_count": 44,
     "metadata": {},
     "output_type": "execute_result"
    },
    {
     "data": {
      "image/png": "[encoded data removed]",
      "text/plain": [
       "<Figure size 432x288 with 1 Axes>"
      ]
     },
     "metadata": {
      "needs_background": "light"
     },
     "output_type": "display_data"
    }
   ],
   "source": [
    "df_1920_1960.boxplot(column='Earned_Runs')"
   ]
  },
  {
   "cell_type": "code",
   "execution_count": 45,
   "id": "8e1b1a5d",
   "metadata": {},
   "outputs": [
    {
     "data": {
      "text/plain": [
       "<AxesSubplot:ylabel='Frequency'>"
      ]
     },
     "execution_count": 45,
     "metadata": {},
     "output_type": "execute_result"
    },
    {
     "data": {
      "image/png": "[encoded data removed]",
      "text/plain": [
       "<Figure size 432x288 with 1 Axes>"
      ]
     },
     "metadata": {
      "needs_background": "light"
     },
     "output_type": "display_data"
    }
   ],
   "source": [
    "df_1920_1960['Attendance'].plot.hist(bins=20, density=True)"
   ]
  },
  {
   "cell_type": "code",
   "execution_count": 46,
   "id": "c11d22e0",
   "metadata": {},
   "outputs": [
    {
     "data": {
      "text/plain": [
       "<AxesSubplot:>"
      ]
     },
     "execution_count": 46,
     "metadata": {},
     "output_type": "execute_result"
    },
    {
     "data": {
      "image/png": "[encoded data removed]",
      "text/plain": [
       "<Figure size 432x288 with 1 Axes>"
      ]
     },
     "metadata": {
      "needs_background": "light"
     },
     "output_type": "display_data"
    }
   ],
   "source": [
    "df_1920_1960.boxplot(column='Attendance')"
   ]
  },
  {
   "cell_type": "markdown",
   "id": "e855e593",
   "metadata": {},
   "source": [
    "**The visual shape of 'Attendance' is not symmetric. There are many outliners.**"
   ]
  },
  {
   "cell_type": "code",
   "execution_count": null,
   "id": "858ccba0",
   "metadata": {},
   "outputs": [],
   "source": []
  },
  {
   "cell_type": "code",
   "execution_count": 47,
   "id": "b7a29b9b",
   "metadata": {},
   "outputs": [
    {
     "data": {
      "text/plain": [
       "<AxesSubplot:ylabel='Frequency'>"
      ]
     },
     "execution_count": 47,
     "metadata": {},
     "output_type": "execute_result"
    },
    {
     "data": {
      "image/png": "[encoded data removed]",
      "text/plain": [
       "<Figure size 432x288 with 1 Axes>"
      ]
     },
     "metadata": {
      "needs_background": "light"
     },
     "output_type": "display_data"
    }
   ],
   "source": [
    "df_1920_1960['Shutout'].plot.hist(bins=20, density=True)"
   ]
  },
  {
   "cell_type": "code",
   "execution_count": 48,
   "id": "ca704829",
   "metadata": {
    "scrolled": true
   },
   "outputs": [
    {
     "data": {
      "text/plain": [
       "<AxesSubplot:>"
      ]
     },
     "execution_count": 48,
     "metadata": {},
     "output_type": "execute_result"
    },
    {
     "data": {
      "image/png": "[encoded data removed]",
      "text/plain": [
       "<Figure size 432x288 with 1 Axes>"
      ]
     },
     "metadata": {
      "needs_background": "light"
     },
     "output_type": "display_data"
    }
   ],
   "source": [
    "df_1920_1960.boxplot(column='Shutout')"
   ]
  },
  {
   "cell_type": "markdown",
   "id": "d20ccda9",
   "metadata": {},
   "source": [
    "**The visual shape of 'Shutout' is almost symmetric. It has two mode and it is wide. There are several outliners.**"
   ]
  },
  {
   "cell_type": "code",
   "execution_count": null,
   "id": "dbe92b47",
   "metadata": {},
   "outputs": [],
   "source": []
  },
  {
   "cell_type": "markdown",
   "id": "e5e55a6b",
   "metadata": {},
   "source": [
    "**Section 3 – Correlation Analysis**"
   ]
  },
  {
   "cell_type": "code",
   "execution_count": 49,
   "id": "34f510b4",
   "metadata": {
    "scrolled": false
   },
   "outputs": [
    {
     "data": {
      "text/html": [
       "<div>\n",
       "<style scoped>\n",
       "    .dataframe tbody tr th:only-of-type {\n",
       "        vertical-align: middle;\n",
       "    }\n",
       "\n",
       "    .dataframe tbody tr th {\n",
       "        vertical-align: top;\n",
       "    }\n",
       "\n",
       "    .dataframe thead th {\n",
       "        text-align: right;\n",
       "    }\n",
       "</style>\n",
       "<table border=\"1\" class=\"dataframe\">\n",
       "  <thead>\n",
       "    <tr style=\"text-align: right;\">\n",
       "      <th></th>\n",
       "      <th>Games_Lost</th>\n",
       "      <th>Final_Standing</th>\n",
       "      <th>Runs_Against</th>\n",
       "      <th>Earned_Run_Average</th>\n",
       "      <th>Runs_Scored</th>\n",
       "      <th>Earned_Runs</th>\n",
       "      <th>Attendance</th>\n",
       "      <th>Shutout</th>\n",
       "    </tr>\n",
       "  </thead>\n",
       "  <tbody>\n",
       "    <tr>\n",
       "      <th>Games_Lost</th>\n",
       "      <td>1.000000</td>\n",
       "      <td>0.941480</td>\n",
       "      <td>0.632839</td>\n",
       "      <td>0.621795</td>\n",
       "      <td>-0.632325</td>\n",
       "      <td>0.612572</td>\n",
       "      <td>-0.510924</td>\n",
       "      <td>-0.524259</td>\n",
       "    </tr>\n",
       "    <tr>\n",
       "      <th>Final_Standing</th>\n",
       "      <td>0.941480</td>\n",
       "      <td>1.000000</td>\n",
       "      <td>0.588324</td>\n",
       "      <td>0.581689</td>\n",
       "      <td>-0.604405</td>\n",
       "      <td>0.570624</td>\n",
       "      <td>-0.508392</td>\n",
       "      <td>-0.503074</td>\n",
       "    </tr>\n",
       "    <tr>\n",
       "      <th>Runs_Against</th>\n",
       "      <td>0.632839</td>\n",
       "      <td>0.588324</td>\n",
       "      <td>1.000000</td>\n",
       "      <td>0.967489</td>\n",
       "      <td>0.126268</td>\n",
       "      <td>0.968640</td>\n",
       "      <td>-0.440889</td>\n",
       "      <td>-0.721828</td>\n",
       "    </tr>\n",
       "    <tr>\n",
       "      <th>Earned_Run_Average</th>\n",
       "      <td>0.621795</td>\n",
       "      <td>0.581689</td>\n",
       "      <td>0.967489</td>\n",
       "      <td>1.000000</td>\n",
       "      <td>0.112615</td>\n",
       "      <td>0.996010</td>\n",
       "      <td>-0.369547</td>\n",
       "      <td>-0.705181</td>\n",
       "    </tr>\n",
       "    <tr>\n",
       "      <th>Runs_Scored</th>\n",
       "      <td>-0.632325</td>\n",
       "      <td>-0.604405</td>\n",
       "      <td>0.126268</td>\n",
       "      <td>0.112615</td>\n",
       "      <td>1.000000</td>\n",
       "      <td>0.124004</td>\n",
       "      <td>0.250720</td>\n",
       "      <td>-0.014833</td>\n",
       "    </tr>\n",
       "    <tr>\n",
       "      <th>Earned_Runs</th>\n",
       "      <td>0.612572</td>\n",
       "      <td>0.570624</td>\n",
       "      <td>0.968640</td>\n",
       "      <td>0.996010</td>\n",
       "      <td>0.124004</td>\n",
       "      <td>1.000000</td>\n",
       "      <td>-0.355509</td>\n",
       "      <td>-0.701975</td>\n",
       "    </tr>\n",
       "    <tr>\n",
       "      <th>Attendance</th>\n",
       "      <td>-0.510924</td>\n",
       "      <td>-0.508392</td>\n",
       "      <td>-0.440889</td>\n",
       "      <td>-0.369547</td>\n",
       "      <td>0.250720</td>\n",
       "      <td>-0.355509</td>\n",
       "      <td>1.000000</td>\n",
       "      <td>0.380822</td>\n",
       "    </tr>\n",
       "    <tr>\n",
       "      <th>Shutout</th>\n",
       "      <td>-0.524259</td>\n",
       "      <td>-0.503074</td>\n",
       "      <td>-0.721828</td>\n",
       "      <td>-0.705181</td>\n",
       "      <td>-0.014833</td>\n",
       "      <td>-0.701975</td>\n",
       "      <td>0.380822</td>\n",
       "      <td>1.000000</td>\n",
       "    </tr>\n",
       "  </tbody>\n",
       "</table>\n",
       "</div>"
      ],
      "text/plain": [
       "                    Games_Lost  Final_Standing  Runs_Against  \\\n",
       "Games_Lost            1.000000        0.941480      0.632839   \n",
       "Final_Standing        0.941480        1.000000      0.588324   \n",
       "Runs_Against          0.632839        0.588324      1.000000   \n",
       "Earned_Run_Average    0.621795        0.581689      0.967489   \n",
       "Runs_Scored          -0.632325       -0.604405      0.126268   \n",
       "Earned_Runs           0.612572        0.570624      0.968640   \n",
       "Attendance           -0.510924       -0.508392     -0.440889   \n",
       "Shutout              -0.524259       -0.503074     -0.721828   \n",
       "\n",
       "                    Earned_Run_Average  Runs_Scored  Earned_Runs  Attendance  \\\n",
       "Games_Lost                    0.621795    -0.632325     0.612572   -0.510924   \n",
       "Final_Standing                0.581689    -0.604405     0.570624   -0.508392   \n",
       "Runs_Against                  0.967489     0.126268     0.968640   -0.440889   \n",
       "Earned_Run_Average            1.000000     0.112615     0.996010   -0.369547   \n",
       "Runs_Scored                   0.112615     1.000000     0.124004    0.250720   \n",
       "Earned_Runs                   0.996010     0.124004     1.000000   -0.355509   \n",
       "Attendance                   -0.369547     0.250720    -0.355509    1.000000   \n",
       "Shutout                      -0.705181    -0.014833    -0.701975    0.380822   \n",
       "\n",
       "                     Shutout  \n",
       "Games_Lost         -0.524259  \n",
       "Final_Standing     -0.503074  \n",
       "Runs_Against       -0.721828  \n",
       "Earned_Run_Average -0.705181  \n",
       "Runs_Scored        -0.014833  \n",
       "Earned_Runs        -0.701975  \n",
       "Attendance          0.380822  \n",
       "Shutout             1.000000  "
      ]
     },
     "execution_count": 49,
     "metadata": {},
     "output_type": "execute_result"
    }
   ],
   "source": [
    "df_1920_1960[['Games_Lost', 'Final_Standing','Runs_Against','Earned_Run_Average', 'Runs_Scored', 'Earned_Runs', 'Attendance', 'Shutout']].corr()"
   ]
  },
  {
   "cell_type": "markdown",
   "id": "34b489ad",
   "metadata": {},
   "source": [
    "**The above 8 variables are linearly related to the dependent variable 'Games_Won', and four of them are defensive Measurements and only one of them is offensive Measurement.  We can conclude that defensive Measurements are more effective from 1920-1960.**\n",
    "\n",
    "* 'Runs_Against' has very high coefficient with'Earned_Run_Average' and 'Earned_Runs'. \n",
    "* 'Games_Lost' have high coefficient with 'Final_Standing'.\n"
   ]
  },
  {
   "cell_type": "code",
   "execution_count": null,
   "id": "45e13047",
   "metadata": {},
   "outputs": [],
   "source": []
  },
  {
   "cell_type": "code",
   "execution_count": null,
   "id": "8112caaa",
   "metadata": {},
   "outputs": [],
   "source": []
  },
  {
   "cell_type": "markdown",
   "id": "b9ecc504",
   "metadata": {},
   "source": [
    "**Section 4 – Linear Regression Models**"
   ]
  },
  {
   "cell_type": "markdown",
   "id": "1bc2fd23",
   "metadata": {},
   "source": [
    "**1. Initial Regression model using all input variables to predict Games_Won for period 1920-1960**"
   ]
  },
  {
   "cell_type": "code",
   "execution_count": 50,
   "id": "446a42b2",
   "metadata": {
    "scrolled": true
   },
   "outputs": [
    {
     "data": {
      "text/html": [
       "<table class=\"simpletable\">\n",
       "<caption>OLS Regression Results</caption>\n",
       "<tr>\n",
       "  <th>Dep. Variable:</th>        <td>Games_Won</td>    <th>  R-squared:         </th> <td>   0.996</td> \n",
       "</tr>\n",
       "<tr>\n",
       "  <th>Model:</th>                   <td>OLS</td>       <th>  Adj. R-squared:    </th> <td>   0.996</td> \n",
       "</tr>\n",
       "<tr>\n",
       "  <th>Method:</th>             <td>Least Squares</td>  <th>  F-statistic:       </th> <td>1.767e+04</td>\n",
       "</tr>\n",
       "<tr>\n",
       "  <th>Date:</th>             <td>Sun, 17 Jul 2022</td> <th>  Prob (F-statistic):</th>  <td>  0.00</td>  \n",
       "</tr>\n",
       "<tr>\n",
       "  <th>Time:</th>                 <td>20:53:38</td>     <th>  Log-Likelihood:    </th> <td> -878.46</td> \n",
       "</tr>\n",
       "<tr>\n",
       "  <th>No. Observations:</th>      <td>   640</td>      <th>  AIC:               </th> <td>   1775.</td> \n",
       "</tr>\n",
       "<tr>\n",
       "  <th>Df Residuals:</th>          <td>   631</td>      <th>  BIC:               </th> <td>   1815.</td> \n",
       "</tr>\n",
       "<tr>\n",
       "  <th>Df Model:</th>              <td>     8</td>      <th>                     </th>     <td> </td>    \n",
       "</tr>\n",
       "<tr>\n",
       "  <th>Covariance Type:</th>      <td>nonrobust</td>    <th>                     </th>     <td> </td>    \n",
       "</tr>\n",
       "</table>\n",
       "<table class=\"simpletable\">\n",
       "<tr>\n",
       "           <td></td>             <th>coef</th>     <th>std err</th>      <th>t</th>      <th>P>|t|</th>  <th>[0.025</th>    <th>0.975]</th>  \n",
       "</tr>\n",
       "<tr>\n",
       "  <th>Intercept</th>          <td>  146.1450</td> <td>    0.941</td> <td>  155.285</td> <td> 0.000</td> <td>  144.297</td> <td>  147.993</td>\n",
       "</tr>\n",
       "<tr>\n",
       "  <th>Games_Lost</th>         <td>   -0.9355</td> <td>    0.012</td> <td>  -79.098</td> <td> 0.000</td> <td>   -0.959</td> <td>   -0.912</td>\n",
       "</tr>\n",
       "<tr>\n",
       "  <th>Final_Standing</th>     <td>   -0.1726</td> <td>    0.050</td> <td>   -3.457</td> <td> 0.001</td> <td>   -0.271</td> <td>   -0.075</td>\n",
       "</tr>\n",
       "<tr>\n",
       "  <th>Runs_Against</th>       <td>   -0.0004</td> <td>    0.002</td> <td>   -0.223</td> <td> 0.823</td> <td>   -0.004</td> <td>    0.003</td>\n",
       "</tr>\n",
       "<tr>\n",
       "  <th>Earned_Run_Average</th> <td>  -11.6896</td> <td>    0.704</td> <td>  -16.610</td> <td> 0.000</td> <td>  -13.072</td> <td>  -10.308</td>\n",
       "</tr>\n",
       "<tr>\n",
       "  <th>Runs_Scored</th>        <td>    0.0025</td> <td>    0.001</td> <td>    2.579</td> <td> 0.010</td> <td>    0.001</td> <td>    0.004</td>\n",
       "</tr>\n",
       "<tr>\n",
       "  <th>Earned_Runs</th>        <td>    0.0777</td> <td>    0.005</td> <td>   15.586</td> <td> 0.000</td> <td>    0.068</td> <td>    0.088</td>\n",
       "</tr>\n",
       "<tr>\n",
       "  <th>Attendance</th>         <td> 8.615e-07</td> <td> 1.14e-07</td> <td>    7.561</td> <td> 0.000</td> <td> 6.38e-07</td> <td> 1.09e-06</td>\n",
       "</tr>\n",
       "<tr>\n",
       "  <th>Shutout</th>            <td>    0.0172</td> <td>    0.013</td> <td>    1.341</td> <td> 0.181</td> <td>   -0.008</td> <td>    0.042</td>\n",
       "</tr>\n",
       "</table>\n",
       "<table class=\"simpletable\">\n",
       "<tr>\n",
       "  <th>Omnibus:</th>       <td>147.181</td> <th>  Durbin-Watson:     </th> <td>   1.761</td>\n",
       "</tr>\n",
       "<tr>\n",
       "  <th>Prob(Omnibus):</th> <td> 0.000</td>  <th>  Jarque-Bera (JB):  </th> <td> 400.545</td>\n",
       "</tr>\n",
       "<tr>\n",
       "  <th>Skew:</th>          <td>-1.141</td>  <th>  Prob(JB):          </th> <td>1.05e-87</td>\n",
       "</tr>\n",
       "<tr>\n",
       "  <th>Kurtosis:</th>      <td> 6.133</td>  <th>  Cond. No.          </th> <td>2.13e+07</td>\n",
       "</tr>\n",
       "</table><br/><br/>Notes:<br/>[1] Standard Errors assume that the covariance matrix of the errors is correctly specified.<br/>[2] The condition number is large, 2.13e+07. This might indicate that there are<br/>strong multicollinearity or other numerical problems."
      ],
      "text/plain": [
       "<class 'statsmodels.iolib.summary.Summary'>\n",
       "\"\"\"\n",
       "                            OLS Regression Results                            \n",
       "==============================================================================\n",
       "Dep. Variable:              Games_Won   R-squared:                       0.996\n",
       "Model:                            OLS   Adj. R-squared:                  0.996\n",
       "Method:                 Least Squares   F-statistic:                 1.767e+04\n",
       "Date:                Sun, 17 Jul 2022   Prob (F-statistic):               0.00\n",
       "Time:                        20:53:38   Log-Likelihood:                -878.46\n",
       "No. Observations:                 640   AIC:                             1775.\n",
       "Df Residuals:                     631   BIC:                             1815.\n",
       "Df Model:                           8                                         \n",
       "Covariance Type:            nonrobust                                         \n",
       "======================================================================================\n",
       "                         coef    std err          t      P>|t|      [0.025      0.975]\n",
       "--------------------------------------------------------------------------------------\n",
       "Intercept            146.1450      0.941    155.285      0.000     144.297     147.993\n",
       "Games_Lost            -0.9355      0.012    -79.098      0.000      -0.959      -0.912\n",
       "Final_Standing        -0.1726      0.050     -3.457      0.001      -0.271      -0.075\n",
       "Runs_Against          -0.0004      0.002     -0.223      0.823      -0.004       0.003\n",
       "Earned_Run_Average   -11.6896      0.704    -16.610      0.000     -13.072     -10.308\n",
       "Runs_Scored            0.0025      0.001      2.579      0.010       0.001       0.004\n",
       "Earned_Runs            0.0777      0.005     15.586      0.000       0.068       0.088\n",
       "Attendance          8.615e-07   1.14e-07      7.561      0.000    6.38e-07    1.09e-06\n",
       "Shutout                0.0172      0.013      1.341      0.181      -0.008       0.042\n",
       "==============================================================================\n",
       "Omnibus:                      147.181   Durbin-Watson:                   1.761\n",
       "Prob(Omnibus):                  0.000   Jarque-Bera (JB):              400.545\n",
       "Skew:                          -1.141   Prob(JB):                     1.05e-87\n",
       "Kurtosis:                       6.133   Cond. No.                     2.13e+07\n",
       "==============================================================================\n",
       "\n",
       "Notes:\n",
       "[1] Standard Errors assume that the covariance matrix of the errors is correctly specified.\n",
       "[2] The condition number is large, 2.13e+07. This might indicate that there are\n",
       "strong multicollinearity or other numerical problems.\n",
       "\"\"\""
      ]
     },
     "execution_count": 50,
     "metadata": {},
     "output_type": "execute_result"
    }
   ],
   "source": [
    "lm_1920_1960=smf.ols(formula ='Games_Won ~ Games_Lost+ Final_Standing + Runs_Against + Earned_Run_Average+  Runs_Scored+ Earned_Runs+ Attendance+ Shutout', data=df_1920_1960).fit()\n",
    "lm_1920_1960.summary()"
   ]
  },
  {
   "cell_type": "markdown",
   "id": "07289e00",
   "metadata": {},
   "source": []
  },
  {
   "cell_type": "markdown",
   "id": "8abaf26f",
   "metadata": {},
   "source": [
    "**2. Second iteration**\n",
    "* To keep the model simple, delete 'Runs_Against'+ 'Shutout' because of their high P-Values\n"
   ]
  },
  {
   "cell_type": "code",
   "execution_count": 51,
   "id": "9323fe6e",
   "metadata": {
    "scrolled": false
   },
   "outputs": [
    {
     "data": {
      "text/html": [
       "<table class=\"simpletable\">\n",
       "<caption>OLS Regression Results</caption>\n",
       "<tr>\n",
       "  <th>Dep. Variable:</th>        <td>Games_Won</td>    <th>  R-squared:         </th> <td>   0.996</td> \n",
       "</tr>\n",
       "<tr>\n",
       "  <th>Model:</th>                   <td>OLS</td>       <th>  Adj. R-squared:    </th> <td>   0.996</td> \n",
       "</tr>\n",
       "<tr>\n",
       "  <th>Method:</th>             <td>Least Squares</td>  <th>  F-statistic:       </th> <td>2.356e+04</td>\n",
       "</tr>\n",
       "<tr>\n",
       "  <th>Date:</th>             <td>Sun, 17 Jul 2022</td> <th>  Prob (F-statistic):</th>  <td>  0.00</td>  \n",
       "</tr>\n",
       "<tr>\n",
       "  <th>Time:</th>                 <td>20:53:38</td>     <th>  Log-Likelihood:    </th> <td> -879.45</td> \n",
       "</tr>\n",
       "<tr>\n",
       "  <th>No. Observations:</th>      <td>   640</td>      <th>  AIC:               </th> <td>   1773.</td> \n",
       "</tr>\n",
       "<tr>\n",
       "  <th>Df Residuals:</th>          <td>   633</td>      <th>  BIC:               </th> <td>   1804.</td> \n",
       "</tr>\n",
       "<tr>\n",
       "  <th>Df Model:</th>              <td>     6</td>      <th>                     </th>     <td> </td>    \n",
       "</tr>\n",
       "<tr>\n",
       "  <th>Covariance Type:</th>      <td>nonrobust</td>    <th>                     </th>     <td> </td>    \n",
       "</tr>\n",
       "</table>\n",
       "<table class=\"simpletable\">\n",
       "<tr>\n",
       "           <td></td>             <th>coef</th>     <th>std err</th>      <th>t</th>      <th>P>|t|</th>  <th>[0.025</th>    <th>0.975]</th>  \n",
       "</tr>\n",
       "<tr>\n",
       "  <th>Intercept</th>          <td>  146.7630</td> <td>    0.820</td> <td>  178.939</td> <td> 0.000</td> <td>  145.152</td> <td>  148.374</td>\n",
       "</tr>\n",
       "<tr>\n",
       "  <th>Games_Lost</th>         <td>   -0.9376</td> <td>    0.011</td> <td>  -86.248</td> <td> 0.000</td> <td>   -0.959</td> <td>   -0.916</td>\n",
       "</tr>\n",
       "<tr>\n",
       "  <th>Final_Standing</th>     <td>   -0.1749</td> <td>    0.050</td> <td>   -3.514</td> <td> 0.000</td> <td>   -0.273</td> <td>   -0.077</td>\n",
       "</tr>\n",
       "<tr>\n",
       "  <th>Earned_Run_Average</th> <td>  -11.7350</td> <td>    0.703</td> <td>  -16.695</td> <td> 0.000</td> <td>  -13.115</td> <td>  -10.355</td>\n",
       "</tr>\n",
       "<tr>\n",
       "  <th>Runs_Scored</th>        <td>    0.0023</td> <td>    0.001</td> <td>    2.690</td> <td> 0.007</td> <td>    0.001</td> <td>    0.004</td>\n",
       "</tr>\n",
       "<tr>\n",
       "  <th>Earned_Runs</th>        <td>    0.0773</td> <td>    0.005</td> <td>   16.132</td> <td> 0.000</td> <td>    0.068</td> <td>    0.087</td>\n",
       "</tr>\n",
       "<tr>\n",
       "  <th>Attendance</th>         <td> 8.887e-07</td> <td> 1.06e-07</td> <td>    8.416</td> <td> 0.000</td> <td> 6.81e-07</td> <td>  1.1e-06</td>\n",
       "</tr>\n",
       "</table>\n",
       "<table class=\"simpletable\">\n",
       "<tr>\n",
       "  <th>Omnibus:</th>       <td>144.809</td> <th>  Durbin-Watson:     </th> <td>   1.760</td>\n",
       "</tr>\n",
       "<tr>\n",
       "  <th>Prob(Omnibus):</th> <td> 0.000</td>  <th>  Jarque-Bera (JB):  </th> <td> 385.478</td>\n",
       "</tr>\n",
       "<tr>\n",
       "  <th>Skew:</th>          <td>-1.131</td>  <th>  Prob(JB):          </th> <td>1.97e-84</td>\n",
       "</tr>\n",
       "<tr>\n",
       "  <th>Kurtosis:</th>      <td> 6.056</td>  <th>  Cond. No.          </th> <td>1.89e+07</td>\n",
       "</tr>\n",
       "</table><br/><br/>Notes:<br/>[1] Standard Errors assume that the covariance matrix of the errors is correctly specified.<br/>[2] The condition number is large, 1.89e+07. This might indicate that there are<br/>strong multicollinearity or other numerical problems."
      ],
      "text/plain": [
       "<class 'statsmodels.iolib.summary.Summary'>\n",
       "\"\"\"\n",
       "                            OLS Regression Results                            \n",
       "==============================================================================\n",
       "Dep. Variable:              Games_Won   R-squared:                       0.996\n",
       "Model:                            OLS   Adj. R-squared:                  0.996\n",
       "Method:                 Least Squares   F-statistic:                 2.356e+04\n",
       "Date:                Sun, 17 Jul 2022   Prob (F-statistic):               0.00\n",
       "Time:                        20:53:38   Log-Likelihood:                -879.45\n",
       "No. Observations:                 640   AIC:                             1773.\n",
       "Df Residuals:                     633   BIC:                             1804.\n",
       "Df Model:                           6                                         \n",
       "Covariance Type:            nonrobust                                         \n",
       "======================================================================================\n",
       "                         coef    std err          t      P>|t|      [0.025      0.975]\n",
       "--------------------------------------------------------------------------------------\n",
       "Intercept            146.7630      0.820    178.939      0.000     145.152     148.374\n",
       "Games_Lost            -0.9376      0.011    -86.248      0.000      -0.959      -0.916\n",
       "Final_Standing        -0.1749      0.050     -3.514      0.000      -0.273      -0.077\n",
       "Earned_Run_Average   -11.7350      0.703    -16.695      0.000     -13.115     -10.355\n",
       "Runs_Scored            0.0023      0.001      2.690      0.007       0.001       0.004\n",
       "Earned_Runs            0.0773      0.005     16.132      0.000       0.068       0.087\n",
       "Attendance          8.887e-07   1.06e-07      8.416      0.000    6.81e-07     1.1e-06\n",
       "==============================================================================\n",
       "Omnibus:                      144.809   Durbin-Watson:                   1.760\n",
       "Prob(Omnibus):                  0.000   Jarque-Bera (JB):              385.478\n",
       "Skew:                          -1.131   Prob(JB):                     1.97e-84\n",
       "Kurtosis:                       6.056   Cond. No.                     1.89e+07\n",
       "==============================================================================\n",
       "\n",
       "Notes:\n",
       "[1] Standard Errors assume that the covariance matrix of the errors is correctly specified.\n",
       "[2] The condition number is large, 1.89e+07. This might indicate that there are\n",
       "strong multicollinearity or other numerical problems.\n",
       "\"\"\""
      ]
     },
     "execution_count": 51,
     "metadata": {},
     "output_type": "execute_result"
    }
   ],
   "source": [
    "lm_1920_1960=smf.ols(formula ='Games_Won ~ Games_Lost+ Final_Standing+Earned_Run_Average+Runs_Scored+Earned_Runs+Attendance', data=df_1920_1960).fit()\n",
    "lm_1920_1960.summary()"
   ]
  },
  {
   "cell_type": "markdown",
   "id": "386e50fa",
   "metadata": {},
   "source": [
    "**3. Third iteration**\n",
    "* Delete 'Final_Standing' because it has high coefficient with 'Games_Lost'\n",
    "* Delete 'Earned_Runs', because it has high coefficient with ''arned_Run_Average'.\n",
    "* To keep the model, try to delete 'Runs_Scored' and 'Attendance' "
   ]
  },
  {
   "cell_type": "code",
   "execution_count": 52,
   "id": "e5d25c81",
   "metadata": {
    "scrolled": false
   },
   "outputs": [
    {
     "data": {
      "text/html": [
       "<table class=\"simpletable\">\n",
       "<caption>OLS Regression Results</caption>\n",
       "<tr>\n",
       "  <th>Dep. Variable:</th>        <td>Games_Won</td>    <th>  R-squared:         </th> <td>   0.993</td> \n",
       "</tr>\n",
       "<tr>\n",
       "  <th>Model:</th>                   <td>OLS</td>       <th>  Adj. R-squared:    </th> <td>   0.993</td> \n",
       "</tr>\n",
       "<tr>\n",
       "  <th>Method:</th>             <td>Least Squares</td>  <th>  F-statistic:       </th> <td>4.267e+04</td>\n",
       "</tr>\n",
       "<tr>\n",
       "  <th>Date:</th>             <td>Sun, 17 Jul 2022</td> <th>  Prob (F-statistic):</th>  <td>  0.00</td>  \n",
       "</tr>\n",
       "<tr>\n",
       "  <th>Time:</th>                 <td>20:53:38</td>     <th>  Log-Likelihood:    </th> <td> -1042.0</td> \n",
       "</tr>\n",
       "<tr>\n",
       "  <th>No. Observations:</th>      <td>   640</td>      <th>  AIC:               </th> <td>   2090.</td> \n",
       "</tr>\n",
       "<tr>\n",
       "  <th>Df Residuals:</th>          <td>   637</td>      <th>  BIC:               </th> <td>   2103.</td> \n",
       "</tr>\n",
       "<tr>\n",
       "  <th>Df Model:</th>              <td>     2</td>      <th>                     </th>     <td> </td>    \n",
       "</tr>\n",
       "<tr>\n",
       "  <th>Covariance Type:</th>      <td>nonrobust</td>    <th>                     </th>     <td> </td>    \n",
       "</tr>\n",
       "</table>\n",
       "<table class=\"simpletable\">\n",
       "<tr>\n",
       "           <td></td>             <th>coef</th>     <th>std err</th>      <th>t</th>      <th>P>|t|</th>  <th>[0.025</th>    <th>0.975]</th>  \n",
       "</tr>\n",
       "<tr>\n",
       "  <th>Intercept</th>          <td>  154.0089</td> <td>    0.330</td> <td>  466.145</td> <td> 0.000</td> <td>  153.360</td> <td>  154.658</td>\n",
       "</tr>\n",
       "<tr>\n",
       "  <th>Games_Lost</th>         <td>   -1.0014</td> <td>    0.004</td> <td> -227.917</td> <td> 0.000</td> <td>   -1.010</td> <td>   -0.993</td>\n",
       "</tr>\n",
       "<tr>\n",
       "  <th>Earned_Run_Average</th> <td>   -0.1416</td> <td>    0.100</td> <td>   -1.412</td> <td> 0.159</td> <td>   -0.338</td> <td>    0.055</td>\n",
       "</tr>\n",
       "</table>\n",
       "<table class=\"simpletable\">\n",
       "<tr>\n",
       "  <th>Omnibus:</th>       <td>307.361</td> <th>  Durbin-Watson:     </th> <td>   1.321</td>\n",
       "</tr>\n",
       "<tr>\n",
       "  <th>Prob(Omnibus):</th> <td> 0.000</td>  <th>  Jarque-Bera (JB):  </th> <td>1763.300</td>\n",
       "</tr>\n",
       "<tr>\n",
       "  <th>Skew:</th>          <td>-2.114</td>  <th>  Prob(JB):          </th> <td>    0.00</td>\n",
       "</tr>\n",
       "<tr>\n",
       "  <th>Kurtosis:</th>      <td> 9.946</td>  <th>  Cond. No.          </th> <td>    537.</td>\n",
       "</tr>\n",
       "</table><br/><br/>Notes:<br/>[1] Standard Errors assume that the covariance matrix of the errors is correctly specified."
      ],
      "text/plain": [
       "<class 'statsmodels.iolib.summary.Summary'>\n",
       "\"\"\"\n",
       "                            OLS Regression Results                            \n",
       "==============================================================================\n",
       "Dep. Variable:              Games_Won   R-squared:                       0.993\n",
       "Model:                            OLS   Adj. R-squared:                  0.993\n",
       "Method:                 Least Squares   F-statistic:                 4.267e+04\n",
       "Date:                Sun, 17 Jul 2022   Prob (F-statistic):               0.00\n",
       "Time:                        20:53:38   Log-Likelihood:                -1042.0\n",
       "No. Observations:                 640   AIC:                             2090.\n",
       "Df Residuals:                     637   BIC:                             2103.\n",
       "Df Model:                           2                                         \n",
       "Covariance Type:            nonrobust                                         \n",
       "======================================================================================\n",
       "                         coef    std err          t      P>|t|      [0.025      0.975]\n",
       "--------------------------------------------------------------------------------------\n",
       "Intercept            154.0089      0.330    466.145      0.000     153.360     154.658\n",
       "Games_Lost            -1.0014      0.004   -227.917      0.000      -1.010      -0.993\n",
       "Earned_Run_Average    -0.1416      0.100     -1.412      0.159      -0.338       0.055\n",
       "==============================================================================\n",
       "Omnibus:                      307.361   Durbin-Watson:                   1.321\n",
       "Prob(Omnibus):                  0.000   Jarque-Bera (JB):             1763.300\n",
       "Skew:                          -2.114   Prob(JB):                         0.00\n",
       "Kurtosis:                       9.946   Cond. No.                         537.\n",
       "==============================================================================\n",
       "\n",
       "Notes:\n",
       "[1] Standard Errors assume that the covariance matrix of the errors is correctly specified.\n",
       "\"\"\""
      ]
     },
     "execution_count": 52,
     "metadata": {},
     "output_type": "execute_result"
    }
   ],
   "source": [
    "lm_1920_1960=smf.ols(formula ='Games_Won ~ Games_Lost+Earned_Run_Average', data=df_1920_1960).fit()\n",
    "lm_1920_1960.summary()"
   ]
  },
  {
   "cell_type": "markdown",
   "id": "979ac167",
   "metadata": {},
   "source": [
    "**Ajusted r2 and F-statistic are very large which is good and the p-values for the coefficient is close to zero which means is statisically significant. And also, the model is very simple. The independent variable is normally distributed**"
   ]
  },
  {
   "cell_type": "code",
   "execution_count": null,
   "id": "6a4e87b3",
   "metadata": {},
   "outputs": [],
   "source": []
  },
  {
   "cell_type": "code",
   "execution_count": null,
   "id": "02c0eb15",
   "metadata": {},
   "outputs": [],
   "source": []
  },
  {
   "cell_type": "markdown",
   "id": "1340e17a",
   "metadata": {},
   "source": [
    "**Period 3 – 1960 to 1990**"
   ]
  },
  {
   "cell_type": "markdown",
   "id": "fd849ba5",
   "metadata": {},
   "source": [
    "**Section 2 – Data Exploration**"
   ]
  },
  {
   "cell_type": "code",
   "execution_count": 53,
   "id": "ac265966",
   "metadata": {},
   "outputs": [],
   "source": [
    "df_1960_1990=df[df['Year'].between(1960,1989)]"
   ]
  },
  {
   "cell_type": "code",
   "execution_count": 54,
   "id": "20d9ac6e",
   "metadata": {},
   "outputs": [],
   "source": [
    "df_1960_1990.reset_index(drop=True, inplace=True)"
   ]
  },
  {
   "cell_type": "code",
   "execution_count": 55,
   "id": "80a1f456",
   "metadata": {
    "scrolled": true
   },
   "outputs": [
    {
     "data": {
      "text/html": [
       "<div>\n",
       "<style scoped>\n",
       "    .dataframe tbody tr th:only-of-type {\n",
       "        vertical-align: middle;\n",
       "    }\n",
       "\n",
       "    .dataframe tbody tr th {\n",
       "        vertical-align: top;\n",
       "    }\n",
       "\n",
       "    .dataframe thead th {\n",
       "        text-align: right;\n",
       "    }\n",
       "</style>\n",
       "<table border=\"1\" class=\"dataframe\">\n",
       "  <thead>\n",
       "    <tr style=\"text-align: right;\">\n",
       "      <th></th>\n",
       "      <th>Year</th>\n",
       "      <th>League</th>\n",
       "      <th>Team</th>\n",
       "      <th>Franchise</th>\n",
       "      <th>Division</th>\n",
       "      <th>Final_Standing</th>\n",
       "      <th>Games_Played</th>\n",
       "      <th>Unnamed: 7</th>\n",
       "      <th>Games_Won</th>\n",
       "      <th>Games_Lost</th>\n",
       "      <th>...</th>\n",
       "      <th>Hits_Allowed</th>\n",
       "      <th>Home_Run_Allowed</th>\n",
       "      <th>Walks_Allowed</th>\n",
       "      <th>Strikeouts_Allowed</th>\n",
       "      <th>Errors</th>\n",
       "      <th>Double_Plays</th>\n",
       "      <th>Fielding_Percentage</th>\n",
       "      <th>Team_Name</th>\n",
       "      <th>Home_Ball_Park</th>\n",
       "      <th>Attendance</th>\n",
       "    </tr>\n",
       "  </thead>\n",
       "  <tbody>\n",
       "    <tr>\n",
       "      <th>0</th>\n",
       "      <td>1960</td>\n",
       "      <td>AL</td>\n",
       "      <td>BAL</td>\n",
       "      <td>BAL</td>\n",
       "      <td>NaN</td>\n",
       "      <td>2</td>\n",
       "      <td>154</td>\n",
       "      <td>77.0</td>\n",
       "      <td>89</td>\n",
       "      <td>65</td>\n",
       "      <td>...</td>\n",
       "      <td>1222</td>\n",
       "      <td>117</td>\n",
       "      <td>552</td>\n",
       "      <td>785</td>\n",
       "      <td>107</td>\n",
       "      <td>172.0</td>\n",
       "      <td>0.98</td>\n",
       "      <td>Baltimore Orioles</td>\n",
       "      <td>Memorial Stadium</td>\n",
       "      <td>1187849.0</td>\n",
       "    </tr>\n",
       "    <tr>\n",
       "      <th>1</th>\n",
       "      <td>1960</td>\n",
       "      <td>AL</td>\n",
       "      <td>BOS</td>\n",
       "      <td>BOS</td>\n",
       "      <td>NaN</td>\n",
       "      <td>7</td>\n",
       "      <td>154</td>\n",
       "      <td>77.0</td>\n",
       "      <td>65</td>\n",
       "      <td>89</td>\n",
       "      <td>...</td>\n",
       "      <td>1440</td>\n",
       "      <td>127</td>\n",
       "      <td>580</td>\n",
       "      <td>767</td>\n",
       "      <td>140</td>\n",
       "      <td>156.0</td>\n",
       "      <td>0.97</td>\n",
       "      <td>Boston Red Sox</td>\n",
       "      <td>Fenway Park II</td>\n",
       "      <td>1129866.0</td>\n",
       "    </tr>\n",
       "    <tr>\n",
       "      <th>2</th>\n",
       "      <td>1960</td>\n",
       "      <td>AL</td>\n",
       "      <td>CHA</td>\n",
       "      <td>CHW</td>\n",
       "      <td>NaN</td>\n",
       "      <td>3</td>\n",
       "      <td>154</td>\n",
       "      <td>77.0</td>\n",
       "      <td>87</td>\n",
       "      <td>67</td>\n",
       "      <td>...</td>\n",
       "      <td>1338</td>\n",
       "      <td>127</td>\n",
       "      <td>533</td>\n",
       "      <td>695</td>\n",
       "      <td>109</td>\n",
       "      <td>175.0</td>\n",
       "      <td>0.98</td>\n",
       "      <td>Chicago White Sox</td>\n",
       "      <td>Comiskey Park</td>\n",
       "      <td>1644460.0</td>\n",
       "    </tr>\n",
       "    <tr>\n",
       "      <th>3</th>\n",
       "      <td>1960</td>\n",
       "      <td>NL</td>\n",
       "      <td>CHN</td>\n",
       "      <td>CHC</td>\n",
       "      <td>NaN</td>\n",
       "      <td>7</td>\n",
       "      <td>156</td>\n",
       "      <td>79.0</td>\n",
       "      <td>60</td>\n",
       "      <td>94</td>\n",
       "      <td>...</td>\n",
       "      <td>1393</td>\n",
       "      <td>152</td>\n",
       "      <td>565</td>\n",
       "      <td>805</td>\n",
       "      <td>143</td>\n",
       "      <td>133.0</td>\n",
       "      <td>0.97</td>\n",
       "      <td>Chicago Cubs</td>\n",
       "      <td>Wrigley Field</td>\n",
       "      <td>809770.0</td>\n",
       "    </tr>\n",
       "    <tr>\n",
       "      <th>4</th>\n",
       "      <td>1960</td>\n",
       "      <td>NL</td>\n",
       "      <td>CIN</td>\n",
       "      <td>CIN</td>\n",
       "      <td>NaN</td>\n",
       "      <td>6</td>\n",
       "      <td>154</td>\n",
       "      <td>77.0</td>\n",
       "      <td>67</td>\n",
       "      <td>87</td>\n",
       "      <td>...</td>\n",
       "      <td>1417</td>\n",
       "      <td>134</td>\n",
       "      <td>442</td>\n",
       "      <td>740</td>\n",
       "      <td>125</td>\n",
       "      <td>155.0</td>\n",
       "      <td>0.97</td>\n",
       "      <td>Cincinnati Reds</td>\n",
       "      <td>Crosley Field</td>\n",
       "      <td>663486.0</td>\n",
       "    </tr>\n",
       "  </tbody>\n",
       "</table>\n",
       "<p>5 rows × 43 columns</p>\n",
       "</div>"
      ],
      "text/plain": [
       "   Year League Team  Franchise  Division  Final_Standing  Games_Played  \\\n",
       "0  1960     AL   BAL        BAL      NaN               2           154   \n",
       "1  1960     AL   BOS        BOS      NaN               7           154   \n",
       "2  1960     AL   CHA        CHW      NaN               3           154   \n",
       "3  1960     NL   CHN        CHC      NaN               7           156   \n",
       "4  1960     NL   CIN        CIN      NaN               6           154   \n",
       "\n",
       "   Unnamed: 7  Games_Won  Games_Lost  ... Hits_Allowed Home_Run_Allowed  \\\n",
       "0        77.0         89          65  ...         1222              117   \n",
       "1        77.0         65          89  ...         1440              127   \n",
       "2        77.0         87          67  ...         1338              127   \n",
       "3        79.0         60          94  ...         1393              152   \n",
       "4        77.0         67          87  ...         1417              134   \n",
       "\n",
       "  Walks_Allowed Strikeouts_Allowed  Errors  Double_Plays  Fielding_Percentage  \\\n",
       "0           552                785     107         172.0                 0.98   \n",
       "1           580                767     140         156.0                 0.97   \n",
       "2           533                695     109         175.0                 0.98   \n",
       "3           565                805     143         133.0                 0.97   \n",
       "4           442                740     125         155.0                 0.97   \n",
       "\n",
       "           Team_Name    Home_Ball_Park  Attendance  \n",
       "0  Baltimore Orioles  Memorial Stadium   1187849.0  \n",
       "1     Boston Red Sox    Fenway Park II   1129866.0  \n",
       "2  Chicago White Sox     Comiskey Park   1644460.0  \n",
       "3       Chicago Cubs     Wrigley Field    809770.0  \n",
       "4    Cincinnati Reds     Crosley Field    663486.0  \n",
       "\n",
       "[5 rows x 43 columns]"
      ]
     },
     "execution_count": 55,
     "metadata": {},
     "output_type": "execute_result"
    }
   ],
   "source": [
    "df_1960_1990.head()"
   ]
  },
  {
   "cell_type": "code",
   "execution_count": 56,
   "id": "73c5e4d7",
   "metadata": {
    "scrolled": true
   },
   "outputs": [
    {
     "data": {
      "text/html": [
       "<div>\n",
       "<style scoped>\n",
       "    .dataframe tbody tr th:only-of-type {\n",
       "        vertical-align: middle;\n",
       "    }\n",
       "\n",
       "    .dataframe tbody tr th {\n",
       "        vertical-align: top;\n",
       "    }\n",
       "\n",
       "    .dataframe thead th {\n",
       "        text-align: right;\n",
       "    }\n",
       "</style>\n",
       "<table border=\"1\" class=\"dataframe\">\n",
       "  <thead>\n",
       "    <tr style=\"text-align: right;\">\n",
       "      <th></th>\n",
       "      <th>Year</th>\n",
       "      <th>Final_Standing</th>\n",
       "      <th>Games_Played</th>\n",
       "      <th>Unnamed: 7</th>\n",
       "      <th>Games_Won</th>\n",
       "      <th>Games_Lost</th>\n",
       "      <th>Runs_Scored</th>\n",
       "      <th>At_Bats</th>\n",
       "      <th>Hits</th>\n",
       "      <th>Doubles</th>\n",
       "      <th>...</th>\n",
       "      <th>Saves</th>\n",
       "      <th>Infield_Put_Outs</th>\n",
       "      <th>Hits_Allowed</th>\n",
       "      <th>Home_Run_Allowed</th>\n",
       "      <th>Walks_Allowed</th>\n",
       "      <th>Strikeouts_Allowed</th>\n",
       "      <th>Errors</th>\n",
       "      <th>Double_Plays</th>\n",
       "      <th>Fielding_Percentage</th>\n",
       "      <th>Attendance</th>\n",
       "    </tr>\n",
       "  </thead>\n",
       "  <tbody>\n",
       "    <tr>\n",
       "      <th>Year</th>\n",
       "      <td>1.000000</td>\n",
       "      <td>-0.219368</td>\n",
       "      <td>-0.082544</td>\n",
       "      <td>-0.081487</td>\n",
       "      <td>-0.030197</td>\n",
       "      <td>-0.030379</td>\n",
       "      <td>0.119263</td>\n",
       "      <td>-0.047895</td>\n",
       "      <td>0.120564</td>\n",
       "      <td>0.404803</td>\n",
       "      <td>...</td>\n",
       "      <td>0.284192</td>\n",
       "      <td>-0.091672</td>\n",
       "      <td>0.122212</td>\n",
       "      <td>-0.045908</td>\n",
       "      <td>0.007694</td>\n",
       "      <td>-0.147599</td>\n",
       "      <td>-0.243509</td>\n",
       "      <td>-0.049673</td>\n",
       "      <td>0.216970</td>\n",
       "      <td>0.462684</td>\n",
       "    </tr>\n",
       "    <tr>\n",
       "      <th>Final_Standing</th>\n",
       "      <td>-0.219368</td>\n",
       "      <td>1.000000</td>\n",
       "      <td>0.020926</td>\n",
       "      <td>0.023683</td>\n",
       "      <td>-0.756847</td>\n",
       "      <td>0.774922</td>\n",
       "      <td>-0.437401</td>\n",
       "      <td>-0.031391</td>\n",
       "      <td>-0.274613</td>\n",
       "      <td>-0.277202</td>\n",
       "      <td>...</td>\n",
       "      <td>-0.402218</td>\n",
       "      <td>-0.031503</td>\n",
       "      <td>0.226103</td>\n",
       "      <td>0.225313</td>\n",
       "      <td>0.270035</td>\n",
       "      <td>-0.045049</td>\n",
       "      <td>0.305411</td>\n",
       "      <td>0.017248</td>\n",
       "      <td>-0.268490</td>\n",
       "      <td>-0.489631</td>\n",
       "    </tr>\n",
       "    <tr>\n",
       "      <th>Games_Played</th>\n",
       "      <td>-0.082544</td>\n",
       "      <td>0.020926</td>\n",
       "      <td>1.000000</td>\n",
       "      <td>0.986734</td>\n",
       "      <td>0.415874</td>\n",
       "      <td>0.407425</td>\n",
       "      <td>0.514936</td>\n",
       "      <td>0.973640</td>\n",
       "      <td>0.724570</td>\n",
       "      <td>0.427595</td>\n",
       "      <td>...</td>\n",
       "      <td>0.220178</td>\n",
       "      <td>0.988206</td>\n",
       "      <td>0.726286</td>\n",
       "      <td>0.390661</td>\n",
       "      <td>0.448790</td>\n",
       "      <td>0.531179</td>\n",
       "      <td>0.428791</td>\n",
       "      <td>0.443939</td>\n",
       "      <td>-0.053736</td>\n",
       "      <td>0.156195</td>\n",
       "    </tr>\n",
       "    <tr>\n",
       "      <th>Unnamed: 7</th>\n",
       "      <td>-0.081487</td>\n",
       "      <td>0.023683</td>\n",
       "      <td>0.986734</td>\n",
       "      <td>1.000000</td>\n",
       "      <td>0.405932</td>\n",
       "      <td>0.406184</td>\n",
       "      <td>0.505312</td>\n",
       "      <td>0.959834</td>\n",
       "      <td>0.711020</td>\n",
       "      <td>0.418016</td>\n",
       "      <td>...</td>\n",
       "      <td>0.213483</td>\n",
       "      <td>0.975334</td>\n",
       "      <td>0.722240</td>\n",
       "      <td>0.391438</td>\n",
       "      <td>0.449492</td>\n",
       "      <td>0.525371</td>\n",
       "      <td>0.422386</td>\n",
       "      <td>0.438356</td>\n",
       "      <td>-0.054170</td>\n",
       "      <td>0.152820</td>\n",
       "    </tr>\n",
       "    <tr>\n",
       "      <th>Games_Won</th>\n",
       "      <td>-0.030197</td>\n",
       "      <td>-0.756847</td>\n",
       "      <td>0.415874</td>\n",
       "      <td>0.405932</td>\n",
       "      <td>1.000000</td>\n",
       "      <td>-0.660376</td>\n",
       "      <td>0.674340</td>\n",
       "      <td>0.460104</td>\n",
       "      <td>0.577827</td>\n",
       "      <td>0.416449</td>\n",
       "      <td>...</td>\n",
       "      <td>0.505286</td>\n",
       "      <td>0.466749</td>\n",
       "      <td>0.041663</td>\n",
       "      <td>-0.009140</td>\n",
       "      <td>-0.161321</td>\n",
       "      <td>0.350046</td>\n",
       "      <td>-0.141401</td>\n",
       "      <td>0.165136</td>\n",
       "      <td>0.251768</td>\n",
       "      <td>0.490527</td>\n",
       "    </tr>\n",
       "    <tr>\n",
       "      <th>Games_Lost</th>\n",
       "      <td>-0.030379</td>\n",
       "      <td>0.774922</td>\n",
       "      <td>0.407425</td>\n",
       "      <td>0.406184</td>\n",
       "      <td>-0.660376</td>\n",
       "      <td>1.000000</td>\n",
       "      <td>-0.251263</td>\n",
       "      <td>0.341272</td>\n",
       "      <td>0.018574</td>\n",
       "      <td>-0.061234</td>\n",
       "      <td>...</td>\n",
       "      <td>-0.322977</td>\n",
       "      <td>0.346470</td>\n",
       "      <td>0.558889</td>\n",
       "      <td>0.331676</td>\n",
       "      <td>0.534751</td>\n",
       "      <td>0.085264</td>\n",
       "      <td>0.492975</td>\n",
       "      <td>0.201509</td>\n",
       "      <td>-0.293903</td>\n",
       "      <td>-0.361410</td>\n",
       "    </tr>\n",
       "    <tr>\n",
       "      <th>Runs_Scored</th>\n",
       "      <td>0.119263</td>\n",
       "      <td>-0.437401</td>\n",
       "      <td>0.514936</td>\n",
       "      <td>0.505312</td>\n",
       "      <td>0.674340</td>\n",
       "      <td>-0.251263</td>\n",
       "      <td>1.000000</td>\n",
       "      <td>0.620850</td>\n",
       "      <td>0.848213</td>\n",
       "      <td>0.702693</td>\n",
       "      <td>...</td>\n",
       "      <td>0.380488</td>\n",
       "      <td>0.515172</td>\n",
       "      <td>0.527956</td>\n",
       "      <td>0.487935</td>\n",
       "      <td>0.208417</td>\n",
       "      <td>0.219473</td>\n",
       "      <td>0.050117</td>\n",
       "      <td>0.348456</td>\n",
       "      <td>0.097371</td>\n",
       "      <td>0.399825</td>\n",
       "    </tr>\n",
       "    <tr>\n",
       "      <th>At_Bats</th>\n",
       "      <td>-0.047895</td>\n",
       "      <td>-0.031391</td>\n",
       "      <td>0.973640</td>\n",
       "      <td>0.959834</td>\n",
       "      <td>0.460104</td>\n",
       "      <td>0.341272</td>\n",
       "      <td>0.620850</td>\n",
       "      <td>1.000000</td>\n",
       "      <td>0.836112</td>\n",
       "      <td>0.529217</td>\n",
       "      <td>...</td>\n",
       "      <td>0.246753</td>\n",
       "      <td>0.975238</td>\n",
       "      <td>0.759806</td>\n",
       "      <td>0.417446</td>\n",
       "      <td>0.434627</td>\n",
       "      <td>0.505559</td>\n",
       "      <td>0.406036</td>\n",
       "      <td>0.470125</td>\n",
       "      <td>-0.042724</td>\n",
       "      <td>0.194801</td>\n",
       "    </tr>\n",
       "    <tr>\n",
       "      <th>Hits</th>\n",
       "      <td>0.120564</td>\n",
       "      <td>-0.274613</td>\n",
       "      <td>0.724570</td>\n",
       "      <td>0.711020</td>\n",
       "      <td>0.577827</td>\n",
       "      <td>0.018574</td>\n",
       "      <td>0.848213</td>\n",
       "      <td>0.836112</td>\n",
       "      <td>1.000000</td>\n",
       "      <td>0.735639</td>\n",
       "      <td>...</td>\n",
       "      <td>0.317421</td>\n",
       "      <td>0.723802</td>\n",
       "      <td>0.691017</td>\n",
       "      <td>0.382484</td>\n",
       "      <td>0.285931</td>\n",
       "      <td>0.283859</td>\n",
       "      <td>0.216960</td>\n",
       "      <td>0.452050</td>\n",
       "      <td>0.027017</td>\n",
       "      <td>0.338387</td>\n",
       "    </tr>\n",
       "    <tr>\n",
       "      <th>Doubles</th>\n",
       "      <td>0.404803</td>\n",
       "      <td>-0.277202</td>\n",
       "      <td>0.427595</td>\n",
       "      <td>0.418016</td>\n",
       "      <td>0.416449</td>\n",
       "      <td>-0.061234</td>\n",
       "      <td>0.702693</td>\n",
       "      <td>0.529217</td>\n",
       "      <td>0.735639</td>\n",
       "      <td>1.000000</td>\n",
       "      <td>...</td>\n",
       "      <td>0.365925</td>\n",
       "      <td>0.421235</td>\n",
       "      <td>0.496162</td>\n",
       "      <td>0.298960</td>\n",
       "      <td>0.180209</td>\n",
       "      <td>0.138220</td>\n",
       "      <td>-0.013682</td>\n",
       "      <td>0.260508</td>\n",
       "      <td>0.132456</td>\n",
       "      <td>0.409354</td>\n",
       "    </tr>\n",
       "    <tr>\n",
       "      <th>Triples</th>\n",
       "      <td>-0.140079</td>\n",
       "      <td>-0.094854</td>\n",
       "      <td>0.217818</td>\n",
       "      <td>0.217033</td>\n",
       "      <td>0.231079</td>\n",
       "      <td>-0.055234</td>\n",
       "      <td>0.287111</td>\n",
       "      <td>0.276529</td>\n",
       "      <td>0.378041</td>\n",
       "      <td>0.298720</td>\n",
       "      <td>...</td>\n",
       "      <td>0.104108</td>\n",
       "      <td>0.225824</td>\n",
       "      <td>0.192350</td>\n",
       "      <td>-0.006056</td>\n",
       "      <td>0.021646</td>\n",
       "      <td>0.024060</td>\n",
       "      <td>0.136561</td>\n",
       "      <td>0.157509</td>\n",
       "      <td>-0.074596</td>\n",
       "      <td>0.042577</td>\n",
       "    </tr>\n",
       "    <tr>\n",
       "      <th>Home_Runs</th>\n",
       "      <td>-0.037583</td>\n",
       "      <td>-0.214337</td>\n",
       "      <td>0.322860</td>\n",
       "      <td>0.316095</td>\n",
       "      <td>0.432727</td>\n",
       "      <td>-0.168015</td>\n",
       "      <td>0.705134</td>\n",
       "      <td>0.383201</td>\n",
       "      <td>0.454049</td>\n",
       "      <td>0.362263</td>\n",
       "      <td>...</td>\n",
       "      <td>0.260567</td>\n",
       "      <td>0.312919</td>\n",
       "      <td>0.315754</td>\n",
       "      <td>0.606668</td>\n",
       "      <td>0.156966</td>\n",
       "      <td>0.255490</td>\n",
       "      <td>-0.027765</td>\n",
       "      <td>0.187551</td>\n",
       "      <td>0.123609</td>\n",
       "      <td>0.225956</td>\n",
       "    </tr>\n",
       "    <tr>\n",
       "      <th>Walks</th>\n",
       "      <td>0.007920</td>\n",
       "      <td>-0.214563</td>\n",
       "      <td>0.463397</td>\n",
       "      <td>0.456357</td>\n",
       "      <td>0.397811</td>\n",
       "      <td>-0.015305</td>\n",
       "      <td>0.574892</td>\n",
       "      <td>0.436872</td>\n",
       "      <td>0.374544</td>\n",
       "      <td>0.268265</td>\n",
       "      <td>...</td>\n",
       "      <td>0.165132</td>\n",
       "      <td>0.465885</td>\n",
       "      <td>0.388384</td>\n",
       "      <td>0.334184</td>\n",
       "      <td>0.321254</td>\n",
       "      <td>0.256335</td>\n",
       "      <td>0.130501</td>\n",
       "      <td>0.234791</td>\n",
       "      <td>0.041425</td>\n",
       "      <td>0.207907</td>\n",
       "    </tr>\n",
       "    <tr>\n",
       "      <th>Strike_Outs</th>\n",
       "      <td>-0.155041</td>\n",
       "      <td>0.183024</td>\n",
       "      <td>0.556070</td>\n",
       "      <td>0.552102</td>\n",
       "      <td>0.134189</td>\n",
       "      <td>0.323249</td>\n",
       "      <td>0.145376</td>\n",
       "      <td>0.504385</td>\n",
       "      <td>0.159747</td>\n",
       "      <td>0.065620</td>\n",
       "      <td>...</td>\n",
       "      <td>0.179510</td>\n",
       "      <td>0.558931</td>\n",
       "      <td>0.293649</td>\n",
       "      <td>0.317487</td>\n",
       "      <td>0.317626</td>\n",
       "      <td>0.560094</td>\n",
       "      <td>0.294159</td>\n",
       "      <td>0.140748</td>\n",
       "      <td>-0.071326</td>\n",
       "      <td>-0.004208</td>\n",
       "    </tr>\n",
       "    <tr>\n",
       "      <th>Stolen_Bases</th>\n",
       "      <td>0.490755</td>\n",
       "      <td>-0.273126</td>\n",
       "      <td>0.116818</td>\n",
       "      <td>0.114425</td>\n",
       "      <td>0.199459</td>\n",
       "      <td>-0.101072</td>\n",
       "      <td>0.179143</td>\n",
       "      <td>0.117023</td>\n",
       "      <td>0.190582</td>\n",
       "      <td>0.289608</td>\n",
       "      <td>...</td>\n",
       "      <td>0.274335</td>\n",
       "      <td>0.139493</td>\n",
       "      <td>0.080338</td>\n",
       "      <td>-0.119800</td>\n",
       "      <td>0.025388</td>\n",
       "      <td>-0.025915</td>\n",
       "      <td>-0.000636</td>\n",
       "      <td>-0.050052</td>\n",
       "      <td>0.037829</td>\n",
       "      <td>0.339930</td>\n",
       "    </tr>\n",
       "    <tr>\n",
       "      <th>Caught_Stealing</th>\n",
       "      <td>0.426055</td>\n",
       "      <td>-0.116219</td>\n",
       "      <td>0.135496</td>\n",
       "      <td>0.131153</td>\n",
       "      <td>0.036687</td>\n",
       "      <td>0.079535</td>\n",
       "      <td>0.047437</td>\n",
       "      <td>0.106175</td>\n",
       "      <td>0.131704</td>\n",
       "      <td>0.185231</td>\n",
       "      <td>...</td>\n",
       "      <td>0.118460</td>\n",
       "      <td>0.149778</td>\n",
       "      <td>0.135754</td>\n",
       "      <td>-0.118622</td>\n",
       "      <td>0.097285</td>\n",
       "      <td>-0.026484</td>\n",
       "      <td>0.110513</td>\n",
       "      <td>0.024050</td>\n",
       "      <td>-0.055027</td>\n",
       "      <td>0.135942</td>\n",
       "    </tr>\n",
       "    <tr>\n",
       "      <th>Hit_By_Pitch</th>\n",
       "      <td>NaN</td>\n",
       "      <td>NaN</td>\n",
       "      <td>NaN</td>\n",
       "      <td>NaN</td>\n",
       "      <td>NaN</td>\n",
       "      <td>NaN</td>\n",
       "      <td>NaN</td>\n",
       "      <td>NaN</td>\n",
       "      <td>NaN</td>\n",
       "      <td>NaN</td>\n",
       "      <td>...</td>\n",
       "      <td>NaN</td>\n",
       "      <td>NaN</td>\n",
       "      <td>NaN</td>\n",
       "      <td>NaN</td>\n",
       "      <td>NaN</td>\n",
       "      <td>NaN</td>\n",
       "      <td>NaN</td>\n",
       "      <td>NaN</td>\n",
       "      <td>NaN</td>\n",
       "      <td>NaN</td>\n",
       "    </tr>\n",
       "    <tr>\n",
       "      <th>Sacrifice_Fly</th>\n",
       "      <td>NaN</td>\n",
       "      <td>NaN</td>\n",
       "      <td>NaN</td>\n",
       "      <td>NaN</td>\n",
       "      <td>NaN</td>\n",
       "      <td>NaN</td>\n",
       "      <td>NaN</td>\n",
       "      <td>NaN</td>\n",
       "      <td>NaN</td>\n",
       "      <td>NaN</td>\n",
       "      <td>...</td>\n",
       "      <td>NaN</td>\n",
       "      <td>NaN</td>\n",
       "      <td>NaN</td>\n",
       "      <td>NaN</td>\n",
       "      <td>NaN</td>\n",
       "      <td>NaN</td>\n",
       "      <td>NaN</td>\n",
       "      <td>NaN</td>\n",
       "      <td>NaN</td>\n",
       "      <td>NaN</td>\n",
       "    </tr>\n",
       "    <tr>\n",
       "      <th>Runs_Against</th>\n",
       "      <td>0.119933</td>\n",
       "      <td>0.408896</td>\n",
       "      <td>0.510936</td>\n",
       "      <td>0.511265</td>\n",
       "      <td>-0.241467</td>\n",
       "      <td>0.665588</td>\n",
       "      <td>0.427293</td>\n",
       "      <td>0.540748</td>\n",
       "      <td>0.495847</td>\n",
       "      <td>0.394329</td>\n",
       "      <td>...</td>\n",
       "      <td>-0.036466</td>\n",
       "      <td>0.447235</td>\n",
       "      <td>0.853137</td>\n",
       "      <td>0.713425</td>\n",
       "      <td>0.642757</td>\n",
       "      <td>0.073577</td>\n",
       "      <td>0.429939</td>\n",
       "      <td>0.362312</td>\n",
       "      <td>-0.202958</td>\n",
       "      <td>-0.080649</td>\n",
       "    </tr>\n",
       "    <tr>\n",
       "      <th>Earned_Runs</th>\n",
       "      <td>0.162135</td>\n",
       "      <td>0.381179</td>\n",
       "      <td>0.490261</td>\n",
       "      <td>0.491238</td>\n",
       "      <td>-0.220624</td>\n",
       "      <td>0.628037</td>\n",
       "      <td>0.449853</td>\n",
       "      <td>0.526070</td>\n",
       "      <td>0.504250</td>\n",
       "      <td>0.424507</td>\n",
       "      <td>...</td>\n",
       "      <td>-0.009555</td>\n",
       "      <td>0.427505</td>\n",
       "      <td>0.845044</td>\n",
       "      <td>0.733017</td>\n",
       "      <td>0.628103</td>\n",
       "      <td>0.060692</td>\n",
       "      <td>0.318437</td>\n",
       "      <td>0.368022</td>\n",
       "      <td>-0.118619</td>\n",
       "      <td>-0.042064</td>\n",
       "    </tr>\n",
       "    <tr>\n",
       "      <th>Earned_Run_Average</th>\n",
       "      <td>0.220310</td>\n",
       "      <td>0.439074</td>\n",
       "      <td>0.058338</td>\n",
       "      <td>0.067728</td>\n",
       "      <td>-0.473342</td>\n",
       "      <td>0.525496</td>\n",
       "      <td>0.243249</td>\n",
       "      <td>0.104094</td>\n",
       "      <td>0.201692</td>\n",
       "      <td>0.261205</td>\n",
       "      <td>...</td>\n",
       "      <td>-0.130315</td>\n",
       "      <td>-0.016557</td>\n",
       "      <td>0.597069</td>\n",
       "      <td>0.641414</td>\n",
       "      <td>0.488535</td>\n",
       "      <td>-0.204697</td>\n",
       "      <td>0.151210</td>\n",
       "      <td>0.196333</td>\n",
       "      <td>-0.116346</td>\n",
       "      <td>-0.135895</td>\n",
       "    </tr>\n",
       "    <tr>\n",
       "      <th>Complete_Games</th>\n",
       "      <td>-0.497359</td>\n",
       "      <td>-0.159444</td>\n",
       "      <td>0.189036</td>\n",
       "      <td>0.187126</td>\n",
       "      <td>0.315956</td>\n",
       "      <td>-0.164070</td>\n",
       "      <td>0.113021</td>\n",
       "      <td>0.175213</td>\n",
       "      <td>0.137908</td>\n",
       "      <td>-0.126846</td>\n",
       "      <td>...</td>\n",
       "      <td>-0.490557</td>\n",
       "      <td>0.202763</td>\n",
       "      <td>-0.046792</td>\n",
       "      <td>-0.067268</td>\n",
       "      <td>-0.129385</td>\n",
       "      <td>0.087164</td>\n",
       "      <td>0.087496</td>\n",
       "      <td>0.083910</td>\n",
       "      <td>-0.030605</td>\n",
       "      <td>-0.114231</td>\n",
       "    </tr>\n",
       "    <tr>\n",
       "      <th>Shutout</th>\n",
       "      <td>-0.219688</td>\n",
       "      <td>-0.332606</td>\n",
       "      <td>0.132395</td>\n",
       "      <td>0.130465</td>\n",
       "      <td>0.453864</td>\n",
       "      <td>-0.348258</td>\n",
       "      <td>-0.077122</td>\n",
       "      <td>0.098115</td>\n",
       "      <td>0.005219</td>\n",
       "      <td>-0.104292</td>\n",
       "      <td>...</td>\n",
       "      <td>0.027263</td>\n",
       "      <td>0.181407</td>\n",
       "      <td>-0.314578</td>\n",
       "      <td>-0.390508</td>\n",
       "      <td>-0.287823</td>\n",
       "      <td>0.273428</td>\n",
       "      <td>-0.065932</td>\n",
       "      <td>-0.035232</td>\n",
       "      <td>0.096793</td>\n",
       "      <td>0.160922</td>\n",
       "    </tr>\n",
       "    <tr>\n",
       "      <th>Saves</th>\n",
       "      <td>0.284192</td>\n",
       "      <td>-0.402218</td>\n",
       "      <td>0.220178</td>\n",
       "      <td>0.213483</td>\n",
       "      <td>0.505286</td>\n",
       "      <td>-0.322977</td>\n",
       "      <td>0.380488</td>\n",
       "      <td>0.246753</td>\n",
       "      <td>0.317421</td>\n",
       "      <td>0.365925</td>\n",
       "      <td>...</td>\n",
       "      <td>1.000000</td>\n",
       "      <td>0.240745</td>\n",
       "      <td>0.079871</td>\n",
       "      <td>0.070522</td>\n",
       "      <td>-0.008305</td>\n",
       "      <td>0.226362</td>\n",
       "      <td>-0.136959</td>\n",
       "      <td>0.088809</td>\n",
       "      <td>0.175996</td>\n",
       "      <td>0.368077</td>\n",
       "    </tr>\n",
       "    <tr>\n",
       "      <th>Infield_Put_Outs</th>\n",
       "      <td>-0.091672</td>\n",
       "      <td>-0.031503</td>\n",
       "      <td>0.988206</td>\n",
       "      <td>0.975334</td>\n",
       "      <td>0.466749</td>\n",
       "      <td>0.346470</td>\n",
       "      <td>0.515172</td>\n",
       "      <td>0.975238</td>\n",
       "      <td>0.723802</td>\n",
       "      <td>0.421235</td>\n",
       "      <td>...</td>\n",
       "      <td>0.240745</td>\n",
       "      <td>1.000000</td>\n",
       "      <td>0.688383</td>\n",
       "      <td>0.343779</td>\n",
       "      <td>0.418356</td>\n",
       "      <td>0.555448</td>\n",
       "      <td>0.413056</td>\n",
       "      <td>0.433251</td>\n",
       "      <td>-0.037403</td>\n",
       "      <td>0.176987</td>\n",
       "    </tr>\n",
       "    <tr>\n",
       "      <th>Hits_Allowed</th>\n",
       "      <td>0.122212</td>\n",
       "      <td>0.226103</td>\n",
       "      <td>0.726286</td>\n",
       "      <td>0.722240</td>\n",
       "      <td>0.041663</td>\n",
       "      <td>0.558889</td>\n",
       "      <td>0.527956</td>\n",
       "      <td>0.759806</td>\n",
       "      <td>0.691017</td>\n",
       "      <td>0.496162</td>\n",
       "      <td>...</td>\n",
       "      <td>0.079871</td>\n",
       "      <td>0.688383</td>\n",
       "      <td>1.000000</td>\n",
       "      <td>0.538590</td>\n",
       "      <td>0.436438</td>\n",
       "      <td>0.124090</td>\n",
       "      <td>0.458034</td>\n",
       "      <td>0.499130</td>\n",
       "      <td>-0.142349</td>\n",
       "      <td>0.083498</td>\n",
       "    </tr>\n",
       "    <tr>\n",
       "      <th>Home_Run_Allowed</th>\n",
       "      <td>-0.045908</td>\n",
       "      <td>0.225313</td>\n",
       "      <td>0.390661</td>\n",
       "      <td>0.391438</td>\n",
       "      <td>-0.009140</td>\n",
       "      <td>0.331676</td>\n",
       "      <td>0.487935</td>\n",
       "      <td>0.417446</td>\n",
       "      <td>0.382484</td>\n",
       "      <td>0.298960</td>\n",
       "      <td>...</td>\n",
       "      <td>0.070522</td>\n",
       "      <td>0.343779</td>\n",
       "      <td>0.538590</td>\n",
       "      <td>1.000000</td>\n",
       "      <td>0.396936</td>\n",
       "      <td>0.190269</td>\n",
       "      <td>0.106892</td>\n",
       "      <td>0.234339</td>\n",
       "      <td>0.005705</td>\n",
       "      <td>-0.029141</td>\n",
       "    </tr>\n",
       "    <tr>\n",
       "      <th>Walks_Allowed</th>\n",
       "      <td>0.007694</td>\n",
       "      <td>0.270035</td>\n",
       "      <td>0.448790</td>\n",
       "      <td>0.449492</td>\n",
       "      <td>-0.161321</td>\n",
       "      <td>0.534751</td>\n",
       "      <td>0.208417</td>\n",
       "      <td>0.434627</td>\n",
       "      <td>0.285931</td>\n",
       "      <td>0.180209</td>\n",
       "      <td>...</td>\n",
       "      <td>-0.008305</td>\n",
       "      <td>0.418356</td>\n",
       "      <td>0.436438</td>\n",
       "      <td>0.396936</td>\n",
       "      <td>1.000000</td>\n",
       "      <td>0.257391</td>\n",
       "      <td>0.323182</td>\n",
       "      <td>0.323835</td>\n",
       "      <td>-0.177458</td>\n",
       "      <td>-0.169541</td>\n",
       "    </tr>\n",
       "    <tr>\n",
       "      <th>Strikeouts_Allowed</th>\n",
       "      <td>-0.147599</td>\n",
       "      <td>-0.045049</td>\n",
       "      <td>0.531179</td>\n",
       "      <td>0.525371</td>\n",
       "      <td>0.350046</td>\n",
       "      <td>0.085264</td>\n",
       "      <td>0.219473</td>\n",
       "      <td>0.505559</td>\n",
       "      <td>0.283859</td>\n",
       "      <td>0.138220</td>\n",
       "      <td>...</td>\n",
       "      <td>0.226362</td>\n",
       "      <td>0.555448</td>\n",
       "      <td>0.124090</td>\n",
       "      <td>0.190269</td>\n",
       "      <td>0.257391</td>\n",
       "      <td>1.000000</td>\n",
       "      <td>0.144050</td>\n",
       "      <td>-0.073086</td>\n",
       "      <td>-0.002755</td>\n",
       "      <td>0.164468</td>\n",
       "    </tr>\n",
       "    <tr>\n",
       "      <th>Errors</th>\n",
       "      <td>-0.243509</td>\n",
       "      <td>0.305411</td>\n",
       "      <td>0.428791</td>\n",
       "      <td>0.422386</td>\n",
       "      <td>-0.141401</td>\n",
       "      <td>0.492975</td>\n",
       "      <td>0.050117</td>\n",
       "      <td>0.406036</td>\n",
       "      <td>0.216960</td>\n",
       "      <td>-0.013682</td>\n",
       "      <td>...</td>\n",
       "      <td>-0.136959</td>\n",
       "      <td>0.413056</td>\n",
       "      <td>0.458034</td>\n",
       "      <td>0.106892</td>\n",
       "      <td>0.323182</td>\n",
       "      <td>0.144050</td>\n",
       "      <td>1.000000</td>\n",
       "      <td>0.170124</td>\n",
       "      <td>-0.705210</td>\n",
       "      <td>-0.208485</td>\n",
       "    </tr>\n",
       "    <tr>\n",
       "      <th>Double_Plays</th>\n",
       "      <td>-0.049673</td>\n",
       "      <td>0.017248</td>\n",
       "      <td>0.443939</td>\n",
       "      <td>0.438356</td>\n",
       "      <td>0.165136</td>\n",
       "      <td>0.201509</td>\n",
       "      <td>0.348456</td>\n",
       "      <td>0.470125</td>\n",
       "      <td>0.452050</td>\n",
       "      <td>0.260508</td>\n",
       "      <td>...</td>\n",
       "      <td>0.088809</td>\n",
       "      <td>0.433251</td>\n",
       "      <td>0.499130</td>\n",
       "      <td>0.234339</td>\n",
       "      <td>0.323835</td>\n",
       "      <td>-0.073086</td>\n",
       "      <td>0.170124</td>\n",
       "      <td>1.000000</td>\n",
       "      <td>0.013508</td>\n",
       "      <td>-0.000243</td>\n",
       "    </tr>\n",
       "    <tr>\n",
       "      <th>Fielding_Percentage</th>\n",
       "      <td>0.216970</td>\n",
       "      <td>-0.268490</td>\n",
       "      <td>-0.053736</td>\n",
       "      <td>-0.054170</td>\n",
       "      <td>0.251768</td>\n",
       "      <td>-0.293903</td>\n",
       "      <td>0.097371</td>\n",
       "      <td>-0.042724</td>\n",
       "      <td>0.027017</td>\n",
       "      <td>0.132456</td>\n",
       "      <td>...</td>\n",
       "      <td>0.175996</td>\n",
       "      <td>-0.037403</td>\n",
       "      <td>-0.142349</td>\n",
       "      <td>0.005705</td>\n",
       "      <td>-0.177458</td>\n",
       "      <td>-0.002755</td>\n",
       "      <td>-0.705210</td>\n",
       "      <td>0.013508</td>\n",
       "      <td>1.000000</td>\n",
       "      <td>0.247056</td>\n",
       "    </tr>\n",
       "    <tr>\n",
       "      <th>Attendance</th>\n",
       "      <td>0.462684</td>\n",
       "      <td>-0.489631</td>\n",
       "      <td>0.156195</td>\n",
       "      <td>0.152820</td>\n",
       "      <td>0.490527</td>\n",
       "      <td>-0.361410</td>\n",
       "      <td>0.399825</td>\n",
       "      <td>0.194801</td>\n",
       "      <td>0.338387</td>\n",
       "      <td>0.409354</td>\n",
       "      <td>...</td>\n",
       "      <td>0.368077</td>\n",
       "      <td>0.176987</td>\n",
       "      <td>0.083498</td>\n",
       "      <td>-0.029141</td>\n",
       "      <td>-0.169541</td>\n",
       "      <td>0.164468</td>\n",
       "      <td>-0.208485</td>\n",
       "      <td>-0.000243</td>\n",
       "      <td>0.247056</td>\n",
       "      <td>1.000000</td>\n",
       "    </tr>\n",
       "  </tbody>\n",
       "</table>\n",
       "<p>33 rows × 33 columns</p>\n",
       "</div>"
      ],
      "text/plain": [
       "                         Year  Final_Standing  Games_Played  Unnamed: 7  \\\n",
       "Year                 1.000000       -0.219368     -0.082544   -0.081487   \n",
       "Final_Standing      -0.219368        1.000000      0.020926    0.023683   \n",
       "Games_Played        -0.082544        0.020926      1.000000    0.986734   \n",
       "Unnamed: 7          -0.081487        0.023683      0.986734    1.000000   \n",
       "Games_Won           -0.030197       -0.756847      0.415874    0.405932   \n",
       "Games_Lost          -0.030379        0.774922      0.407425    0.406184   \n",
       "Runs_Scored          0.119263       -0.437401      0.514936    0.505312   \n",
       "At_Bats             -0.047895       -0.031391      0.973640    0.959834   \n",
       "Hits                 0.120564       -0.274613      0.724570    0.711020   \n",
       "Doubles              0.404803       -0.277202      0.427595    0.418016   \n",
       "Triples             -0.140079       -0.094854      0.217818    0.217033   \n",
       "Home_Runs           -0.037583       -0.214337      0.322860    0.316095   \n",
       "Walks                0.007920       -0.214563      0.463397    0.456357   \n",
       "Strike_Outs         -0.155041        0.183024      0.556070    0.552102   \n",
       "Stolen_Bases         0.490755       -0.273126      0.116818    0.114425   \n",
       "Caught_Stealing      0.426055       -0.116219      0.135496    0.131153   \n",
       "Hit_By_Pitch              NaN             NaN           NaN         NaN   \n",
       "Sacrifice_Fly             NaN             NaN           NaN         NaN   \n",
       "Runs_Against         0.119933        0.408896      0.510936    0.511265   \n",
       "Earned_Runs          0.162135        0.381179      0.490261    0.491238   \n",
       "Earned_Run_Average   0.220310        0.439074      0.058338    0.067728   \n",
       "Complete_Games      -0.497359       -0.159444      0.189036    0.187126   \n",
       "Shutout             -0.219688       -0.332606      0.132395    0.130465   \n",
       "Saves                0.284192       -0.402218      0.220178    0.213483   \n",
       "Infield_Put_Outs    -0.091672       -0.031503      0.988206    0.975334   \n",
       "Hits_Allowed         0.122212        0.226103      0.726286    0.722240   \n",
       "Home_Run_Allowed    -0.045908        0.225313      0.390661    0.391438   \n",
       "Walks_Allowed        0.007694        0.270035      0.448790    0.449492   \n",
       "Strikeouts_Allowed  -0.147599       -0.045049      0.531179    0.525371   \n",
       "Errors              -0.243509        0.305411      0.428791    0.422386   \n",
       "Double_Plays        -0.049673        0.017248      0.443939    0.438356   \n",
       "Fielding_Percentage  0.216970       -0.268490     -0.053736   -0.054170   \n",
       "Attendance           0.462684       -0.489631      0.156195    0.152820   \n",
       "\n",
       "                     Games_Won  Games_Lost  Runs_Scored   At_Bats      Hits  \\\n",
       "Year                 -0.030197   -0.030379     0.119263 -0.047895  0.120564   \n",
       "Final_Standing       -0.756847    0.774922    -0.437401 -0.031391 -0.274613   \n",
       "Games_Played          0.415874    0.407425     0.514936  0.973640  0.724570   \n",
       "Unnamed: 7            0.405932    0.406184     0.505312  0.959834  0.711020   \n",
       "Games_Won             1.000000   -0.660376     0.674340  0.460104  0.577827   \n",
       "Games_Lost           -0.660376    1.000000    -0.251263  0.341272  0.018574   \n",
       "Runs_Scored           0.674340   -0.251263     1.000000  0.620850  0.848213   \n",
       "At_Bats               0.460104    0.341272     0.620850  1.000000  0.836112   \n",
       "Hits                  0.577827    0.018574     0.848213  0.836112  1.000000   \n",
       "Doubles               0.416449   -0.061234     0.702693  0.529217  0.735639   \n",
       "Triples               0.231079   -0.055234     0.287111  0.276529  0.378041   \n",
       "Home_Runs             0.432727   -0.168015     0.705134  0.383201  0.454049   \n",
       "Walks                 0.397811   -0.015305     0.574892  0.436872  0.374544   \n",
       "Strike_Outs           0.134189    0.323249     0.145376  0.504385  0.159747   \n",
       "Stolen_Bases          0.199459   -0.101072     0.179143  0.117023  0.190582   \n",
       "Caught_Stealing       0.036687    0.079535     0.047437  0.106175  0.131704   \n",
       "Hit_By_Pitch               NaN         NaN          NaN       NaN       NaN   \n",
       "Sacrifice_Fly              NaN         NaN          NaN       NaN       NaN   \n",
       "Runs_Against         -0.241467    0.665588     0.427293  0.540748  0.495847   \n",
       "Earned_Runs          -0.220624    0.628037     0.449853  0.526070  0.504250   \n",
       "Earned_Run_Average   -0.473342    0.525496     0.243249  0.104094  0.201692   \n",
       "Complete_Games        0.315956   -0.164070     0.113021  0.175213  0.137908   \n",
       "Shutout               0.453864   -0.348258    -0.077122  0.098115  0.005219   \n",
       "Saves                 0.505286   -0.322977     0.380488  0.246753  0.317421   \n",
       "Infield_Put_Outs      0.466749    0.346470     0.515172  0.975238  0.723802   \n",
       "Hits_Allowed          0.041663    0.558889     0.527956  0.759806  0.691017   \n",
       "Home_Run_Allowed     -0.009140    0.331676     0.487935  0.417446  0.382484   \n",
       "Walks_Allowed        -0.161321    0.534751     0.208417  0.434627  0.285931   \n",
       "Strikeouts_Allowed    0.350046    0.085264     0.219473  0.505559  0.283859   \n",
       "Errors               -0.141401    0.492975     0.050117  0.406036  0.216960   \n",
       "Double_Plays          0.165136    0.201509     0.348456  0.470125  0.452050   \n",
       "Fielding_Percentage   0.251768   -0.293903     0.097371 -0.042724  0.027017   \n",
       "Attendance            0.490527   -0.361410     0.399825  0.194801  0.338387   \n",
       "\n",
       "                      Doubles  ...     Saves  Infield_Put_Outs  Hits_Allowed  \\\n",
       "Year                 0.404803  ...  0.284192         -0.091672      0.122212   \n",
       "Final_Standing      -0.277202  ... -0.402218         -0.031503      0.226103   \n",
       "Games_Played         0.427595  ...  0.220178          0.988206      0.726286   \n",
       "Unnamed: 7           0.418016  ...  0.213483          0.975334      0.722240   \n",
       "Games_Won            0.416449  ...  0.505286          0.466749      0.041663   \n",
       "Games_Lost          -0.061234  ... -0.322977          0.346470      0.558889   \n",
       "Runs_Scored          0.702693  ...  0.380488          0.515172      0.527956   \n",
       "At_Bats              0.529217  ...  0.246753          0.975238      0.759806   \n",
       "Hits                 0.735639  ...  0.317421          0.723802      0.691017   \n",
       "Doubles              1.000000  ...  0.365925          0.421235      0.496162   \n",
       "Triples              0.298720  ...  0.104108          0.225824      0.192350   \n",
       "Home_Runs            0.362263  ...  0.260567          0.312919      0.315754   \n",
       "Walks                0.268265  ...  0.165132          0.465885      0.388384   \n",
       "Strike_Outs          0.065620  ...  0.179510          0.558931      0.293649   \n",
       "Stolen_Bases         0.289608  ...  0.274335          0.139493      0.080338   \n",
       "Caught_Stealing      0.185231  ...  0.118460          0.149778      0.135754   \n",
       "Hit_By_Pitch              NaN  ...       NaN               NaN           NaN   \n",
       "Sacrifice_Fly             NaN  ...       NaN               NaN           NaN   \n",
       "Runs_Against         0.394329  ... -0.036466          0.447235      0.853137   \n",
       "Earned_Runs          0.424507  ... -0.009555          0.427505      0.845044   \n",
       "Earned_Run_Average   0.261205  ... -0.130315         -0.016557      0.597069   \n",
       "Complete_Games      -0.126846  ... -0.490557          0.202763     -0.046792   \n",
       "Shutout             -0.104292  ...  0.027263          0.181407     -0.314578   \n",
       "Saves                0.365925  ...  1.000000          0.240745      0.079871   \n",
       "Infield_Put_Outs     0.421235  ...  0.240745          1.000000      0.688383   \n",
       "Hits_Allowed         0.496162  ...  0.079871          0.688383      1.000000   \n",
       "Home_Run_Allowed     0.298960  ...  0.070522          0.343779      0.538590   \n",
       "Walks_Allowed        0.180209  ... -0.008305          0.418356      0.436438   \n",
       "Strikeouts_Allowed   0.138220  ...  0.226362          0.555448      0.124090   \n",
       "Errors              -0.013682  ... -0.136959          0.413056      0.458034   \n",
       "Double_Plays         0.260508  ...  0.088809          0.433251      0.499130   \n",
       "Fielding_Percentage  0.132456  ...  0.175996         -0.037403     -0.142349   \n",
       "Attendance           0.409354  ...  0.368077          0.176987      0.083498   \n",
       "\n",
       "                     Home_Run_Allowed  Walks_Allowed  Strikeouts_Allowed  \\\n",
       "Year                        -0.045908       0.007694           -0.147599   \n",
       "Final_Standing               0.225313       0.270035           -0.045049   \n",
       "Games_Played                 0.390661       0.448790            0.531179   \n",
       "Unnamed: 7                   0.391438       0.449492            0.525371   \n",
       "Games_Won                   -0.009140      -0.161321            0.350046   \n",
       "Games_Lost                   0.331676       0.534751            0.085264   \n",
       "Runs_Scored                  0.487935       0.208417            0.219473   \n",
       "At_Bats                      0.417446       0.434627            0.505559   \n",
       "Hits                         0.382484       0.285931            0.283859   \n",
       "Doubles                      0.298960       0.180209            0.138220   \n",
       "Triples                     -0.006056       0.021646            0.024060   \n",
       "Home_Runs                    0.606668       0.156966            0.255490   \n",
       "Walks                        0.334184       0.321254            0.256335   \n",
       "Strike_Outs                  0.317487       0.317626            0.560094   \n",
       "Stolen_Bases                -0.119800       0.025388           -0.025915   \n",
       "Caught_Stealing             -0.118622       0.097285           -0.026484   \n",
       "Hit_By_Pitch                      NaN            NaN                 NaN   \n",
       "Sacrifice_Fly                     NaN            NaN                 NaN   \n",
       "Runs_Against                 0.713425       0.642757            0.073577   \n",
       "Earned_Runs                  0.733017       0.628103            0.060692   \n",
       "Earned_Run_Average           0.641414       0.488535           -0.204697   \n",
       "Complete_Games              -0.067268      -0.129385            0.087164   \n",
       "Shutout                     -0.390508      -0.287823            0.273428   \n",
       "Saves                        0.070522      -0.008305            0.226362   \n",
       "Infield_Put_Outs             0.343779       0.418356            0.555448   \n",
       "Hits_Allowed                 0.538590       0.436438            0.124090   \n",
       "Home_Run_Allowed             1.000000       0.396936            0.190269   \n",
       "Walks_Allowed                0.396936       1.000000            0.257391   \n",
       "Strikeouts_Allowed           0.190269       0.257391            1.000000   \n",
       "Errors                       0.106892       0.323182            0.144050   \n",
       "Double_Plays                 0.234339       0.323835           -0.073086   \n",
       "Fielding_Percentage          0.005705      -0.177458           -0.002755   \n",
       "Attendance                  -0.029141      -0.169541            0.164468   \n",
       "\n",
       "                       Errors  Double_Plays  Fielding_Percentage  Attendance  \n",
       "Year                -0.243509     -0.049673             0.216970    0.462684  \n",
       "Final_Standing       0.305411      0.017248            -0.268490   -0.489631  \n",
       "Games_Played         0.428791      0.443939            -0.053736    0.156195  \n",
       "Unnamed: 7           0.422386      0.438356            -0.054170    0.152820  \n",
       "Games_Won           -0.141401      0.165136             0.251768    0.490527  \n",
       "Games_Lost           0.492975      0.201509            -0.293903   -0.361410  \n",
       "Runs_Scored          0.050117      0.348456             0.097371    0.399825  \n",
       "At_Bats              0.406036      0.470125            -0.042724    0.194801  \n",
       "Hits                 0.216960      0.452050             0.027017    0.338387  \n",
       "Doubles             -0.013682      0.260508             0.132456    0.409354  \n",
       "Triples              0.136561      0.157509            -0.074596    0.042577  \n",
       "Home_Runs           -0.027765      0.187551             0.123609    0.225956  \n",
       "Walks                0.130501      0.234791             0.041425    0.207907  \n",
       "Strike_Outs          0.294159      0.140748            -0.071326   -0.004208  \n",
       "Stolen_Bases        -0.000636     -0.050052             0.037829    0.339930  \n",
       "Caught_Stealing      0.110513      0.024050            -0.055027    0.135942  \n",
       "Hit_By_Pitch              NaN           NaN                  NaN         NaN  \n",
       "Sacrifice_Fly             NaN           NaN                  NaN         NaN  \n",
       "Runs_Against         0.429939      0.362312            -0.202958   -0.080649  \n",
       "Earned_Runs          0.318437      0.368022            -0.118619   -0.042064  \n",
       "Earned_Run_Average   0.151210      0.196333            -0.116346   -0.135895  \n",
       "Complete_Games       0.087496      0.083910            -0.030605   -0.114231  \n",
       "Shutout             -0.065932     -0.035232             0.096793    0.160922  \n",
       "Saves               -0.136959      0.088809             0.175996    0.368077  \n",
       "Infield_Put_Outs     0.413056      0.433251            -0.037403    0.176987  \n",
       "Hits_Allowed         0.458034      0.499130            -0.142349    0.083498  \n",
       "Home_Run_Allowed     0.106892      0.234339             0.005705   -0.029141  \n",
       "Walks_Allowed        0.323182      0.323835            -0.177458   -0.169541  \n",
       "Strikeouts_Allowed   0.144050     -0.073086            -0.002755    0.164468  \n",
       "Errors               1.000000      0.170124            -0.705210   -0.208485  \n",
       "Double_Plays         0.170124      1.000000             0.013508   -0.000243  \n",
       "Fielding_Percentage -0.705210      0.013508             1.000000    0.247056  \n",
       "Attendance          -0.208485     -0.000243             0.247056    1.000000  \n",
       "\n",
       "[33 rows x 33 columns]"
      ]
     },
     "execution_count": 56,
     "metadata": {},
     "output_type": "execute_result"
    }
   ],
   "source": [
    "df_1960_1990.corr()"
   ]
  },
  {
   "cell_type": "markdown",
   "id": "42cd113a",
   "metadata": {},
   "source": [
    "**1. Calculate the descriptive statistics for the 8 variables**"
   ]
  },
  {
   "cell_type": "code",
   "execution_count": 57,
   "id": "c84a3ee8",
   "metadata": {
    "scrolled": true
   },
   "outputs": [
    {
     "data": {
      "text/html": [
       "<div>\n",
       "<style scoped>\n",
       "    .dataframe tbody tr th:only-of-type {\n",
       "        vertical-align: middle;\n",
       "    }\n",
       "\n",
       "    .dataframe tbody tr th {\n",
       "        vertical-align: top;\n",
       "    }\n",
       "\n",
       "    .dataframe thead th {\n",
       "        text-align: right;\n",
       "    }\n",
       "</style>\n",
       "<table border=\"1\" class=\"dataframe\">\n",
       "  <thead>\n",
       "    <tr style=\"text-align: right;\">\n",
       "      <th></th>\n",
       "      <th>Final_Standing</th>\n",
       "      <th>Runs_Scored</th>\n",
       "      <th>Games_Lost</th>\n",
       "      <th>Hits</th>\n",
       "      <th>Saves</th>\n",
       "      <th>Attendance</th>\n",
       "      <th>Earned_Run_Average</th>\n",
       "      <th>Infield_Put_Outs</th>\n",
       "    </tr>\n",
       "  </thead>\n",
       "  <tbody>\n",
       "    <tr>\n",
       "      <th>count</th>\n",
       "      <td>704.000000</td>\n",
       "      <td>704.000000</td>\n",
       "      <td>704.000000</td>\n",
       "      <td>704.000000</td>\n",
       "      <td>704.000000</td>\n",
       "      <td>7.040000e+02</td>\n",
       "      <td>704.000000</td>\n",
       "      <td>704.000000</td>\n",
       "    </tr>\n",
       "    <tr>\n",
       "      <th>mean</th>\n",
       "      <td>4.049716</td>\n",
       "      <td>665.413352</td>\n",
       "      <td>79.590909</td>\n",
       "      <td>1380.603693</td>\n",
       "      <td>32.806818</td>\n",
       "      <td>1.437778e+06</td>\n",
       "      <td>3.715000</td>\n",
       "      <td>4287.139205</td>\n",
       "    </tr>\n",
       "    <tr>\n",
       "      <th>std</th>\n",
       "      <td>2.227866</td>\n",
       "      <td>93.438707</td>\n",
       "      <td>12.646984</td>\n",
       "      <td>126.142001</td>\n",
       "      <td>9.318585</td>\n",
       "      <td>6.315309e+05</td>\n",
       "      <td>0.478665</td>\n",
       "      <td>281.413523</td>\n",
       "    </tr>\n",
       "    <tr>\n",
       "      <th>min</th>\n",
       "      <td>1.000000</td>\n",
       "      <td>329.000000</td>\n",
       "      <td>42.000000</td>\n",
       "      <td>797.000000</td>\n",
       "      <td>10.000000</td>\n",
       "      <td>3.067630e+05</td>\n",
       "      <td>2.450000</td>\n",
       "      <td>2767.000000</td>\n",
       "    </tr>\n",
       "    <tr>\n",
       "      <th>25%</th>\n",
       "      <td>2.000000</td>\n",
       "      <td>613.000000</td>\n",
       "      <td>71.000000</td>\n",
       "      <td>1327.000000</td>\n",
       "      <td>26.000000</td>\n",
       "      <td>9.436432e+05</td>\n",
       "      <td>3.370000</td>\n",
       "      <td>4302.000000</td>\n",
       "    </tr>\n",
       "    <tr>\n",
       "      <th>50%</th>\n",
       "      <td>4.000000</td>\n",
       "      <td>673.000000</td>\n",
       "      <td>79.000000</td>\n",
       "      <td>1395.000000</td>\n",
       "      <td>32.000000</td>\n",
       "      <td>1.300845e+06</td>\n",
       "      <td>3.710000</td>\n",
       "      <td>4347.000000</td>\n",
       "    </tr>\n",
       "    <tr>\n",
       "      <th>75%</th>\n",
       "      <td>6.000000</td>\n",
       "      <td>729.000000</td>\n",
       "      <td>88.000000</td>\n",
       "      <td>1455.500000</td>\n",
       "      <td>40.000000</td>\n",
       "      <td>1.834691e+06</td>\n",
       "      <td>4.032500</td>\n",
       "      <td>4383.000000</td>\n",
       "    </tr>\n",
       "    <tr>\n",
       "      <th>max</th>\n",
       "      <td>10.000000</td>\n",
       "      <td>896.000000</td>\n",
       "      <td>120.000000</td>\n",
       "      <td>1633.000000</td>\n",
       "      <td>64.000000</td>\n",
       "      <td>3.608881e+06</td>\n",
       "      <td>5.280000</td>\n",
       "      <td>4518.000000</td>\n",
       "    </tr>\n",
       "  </tbody>\n",
       "</table>\n",
       "</div>"
      ],
      "text/plain": [
       "       Final_Standing  Runs_Scored  Games_Lost         Hits       Saves  \\\n",
       "count      704.000000   704.000000  704.000000   704.000000  704.000000   \n",
       "mean         4.049716   665.413352   79.590909  1380.603693   32.806818   \n",
       "std          2.227866    93.438707   12.646984   126.142001    9.318585   \n",
       "min          1.000000   329.000000   42.000000   797.000000   10.000000   \n",
       "25%          2.000000   613.000000   71.000000  1327.000000   26.000000   \n",
       "50%          4.000000   673.000000   79.000000  1395.000000   32.000000   \n",
       "75%          6.000000   729.000000   88.000000  1455.500000   40.000000   \n",
       "max         10.000000   896.000000  120.000000  1633.000000   64.000000   \n",
       "\n",
       "         Attendance  Earned_Run_Average  Infield_Put_Outs  \n",
       "count  7.040000e+02          704.000000        704.000000  \n",
       "mean   1.437778e+06            3.715000       4287.139205  \n",
       "std    6.315309e+05            0.478665        281.413523  \n",
       "min    3.067630e+05            2.450000       2767.000000  \n",
       "25%    9.436432e+05            3.370000       4302.000000  \n",
       "50%    1.300845e+06            3.710000       4347.000000  \n",
       "75%    1.834691e+06            4.032500       4383.000000  \n",
       "max    3.608881e+06            5.280000       4518.000000  "
      ]
     },
     "execution_count": 57,
     "metadata": {},
     "output_type": "execute_result"
    }
   ],
   "source": [
    "df_1960_1990[['Final_Standing','Runs_Scored','Games_Lost','Hits','Saves','Attendance','Earned_Run_Average','Infield_Put_Outs']].describe()"
   ]
  },
  {
   "cell_type": "code",
   "execution_count": null,
   "id": "8acf30a5",
   "metadata": {},
   "outputs": [],
   "source": []
  },
  {
   "cell_type": "markdown",
   "id": "58c0dcaa",
   "metadata": {},
   "source": [
    "**2. Show a histogram and boxplot for each of the 8 variables**"
   ]
  },
  {
   "cell_type": "code",
   "execution_count": 58,
   "id": "0be7f12d",
   "metadata": {},
   "outputs": [
    {
     "data": {
      "text/plain": [
       "<AxesSubplot:ylabel='Frequency'>"
      ]
     },
     "execution_count": 58,
     "metadata": {},
     "output_type": "execute_result"
    },
    {
     "data": {
      "image/png": "[encoded data removed]",
      "text/plain": [
       "<Figure size 432x288 with 1 Axes>"
      ]
     },
     "metadata": {
      "needs_background": "light"
     },
     "output_type": "display_data"
    }
   ],
   "source": [
    "df_1960_1990['Final_Standing'].plot.hist(bins=20, density=True)"
   ]
  },
  {
   "cell_type": "code",
   "execution_count": 59,
   "id": "69acc15a",
   "metadata": {},
   "outputs": [
    {
     "data": {
      "text/plain": [
       "<AxesSubplot:>"
      ]
     },
     "execution_count": 59,
     "metadata": {},
     "output_type": "execute_result"
    },
    {
     "data": {
      "image/png": "[encoded data removed]",
      "text/plain": [
       "<Figure size 432x288 with 1 Axes>"
      ]
     },
     "metadata": {
      "needs_background": "light"
     },
     "output_type": "display_data"
    }
   ],
   "source": [
    "df_1960_1990.boxplot(column='Final_Standing')"
   ]
  },
  {
   "cell_type": "markdown",
   "id": "e36fbcea",
   "metadata": {},
   "source": [
    "**The visual shape of 'Final_Standing' is not symmetric. The data is ordinal.**"
   ]
  },
  {
   "cell_type": "code",
   "execution_count": null,
   "id": "e0af44d3",
   "metadata": {},
   "outputs": [],
   "source": []
  },
  {
   "cell_type": "code",
   "execution_count": 60,
   "id": "97c58ed2",
   "metadata": {},
   "outputs": [
    {
     "data": {
      "text/plain": [
       "<AxesSubplot:ylabel='Frequency'>"
      ]
     },
     "execution_count": 60,
     "metadata": {},
     "output_type": "execute_result"
    },
    {
     "data": {
      "image/png": "[encoded data removed]",
      "text/plain": [
       "<Figure size 432x288 with 1 Axes>"
      ]
     },
     "metadata": {
      "needs_background": "light"
     },
     "output_type": "display_data"
    }
   ],
   "source": [
    "df_1960_1990['Games_Lost'].plot.hist(bins=20, density=True)"
   ]
  },
  {
   "cell_type": "code",
   "execution_count": 61,
   "id": "d1146350",
   "metadata": {},
   "outputs": [
    {
     "data": {
      "text/plain": [
       "<AxesSubplot:>"
      ]
     },
     "execution_count": 61,
     "metadata": {},
     "output_type": "execute_result"
    },
    {
     "data": {
      "image/png": "[encoded data removed]",
      "text/plain": [
       "<Figure size 432x288 with 1 Axes>"
      ]
     },
     "metadata": {
      "needs_background": "light"
     },
     "output_type": "display_data"
    }
   ],
   "source": [
    "df_1960_1990.boxplot(column='Games_Lost')"
   ]
  },
  {
   "cell_type": "markdown",
   "id": "ff2b6428",
   "metadata": {},
   "source": [
    "**The visual shape of 'Games_Lost' is alomost symmetric, there are a few outliners.**"
   ]
  },
  {
   "cell_type": "code",
   "execution_count": null,
   "id": "43cf9481",
   "metadata": {},
   "outputs": [],
   "source": []
  },
  {
   "cell_type": "code",
   "execution_count": 62,
   "id": "f5709fe5",
   "metadata": {},
   "outputs": [
    {
     "data": {
      "text/plain": [
       "<AxesSubplot:ylabel='Frequency'>"
      ]
     },
     "execution_count": 62,
     "metadata": {},
     "output_type": "execute_result"
    },
    {
     "data": {
      "image/png": "[encoded data removed]",
      "text/plain": [
       "<Figure size 432x288 with 1 Axes>"
      ]
     },
     "metadata": {
      "needs_background": "light"
     },
     "output_type": "display_data"
    }
   ],
   "source": [
    "df_1960_1990['Hits'].plot.hist(bins=20, density=True)"
   ]
  },
  {
   "cell_type": "code",
   "execution_count": 63,
   "id": "04804b83",
   "metadata": {},
   "outputs": [
    {
     "data": {
      "text/plain": [
       "<AxesSubplot:>"
      ]
     },
     "execution_count": 63,
     "metadata": {},
     "output_type": "execute_result"
    },
    {
     "data": {
      "image/png": "[encoded data removed]",
      "text/plain": [
       "<Figure size 432x288 with 1 Axes>"
      ]
     },
     "metadata": {
      "needs_background": "light"
     },
     "output_type": "display_data"
    }
   ],
   "source": [
    "df_1960_1990.boxplot(column='Hits')"
   ]
  },
  {
   "cell_type": "markdown",
   "id": "562036c2",
   "metadata": {},
   "source": [
    "**The visual shape of 'Hits' is not symmetric. It has one mode and it is narrow. There are many outliners.**"
   ]
  },
  {
   "cell_type": "code",
   "execution_count": null,
   "id": "f4bd46e4",
   "metadata": {},
   "outputs": [],
   "source": []
  },
  {
   "cell_type": "code",
   "execution_count": 64,
   "id": "8a1287b2",
   "metadata": {},
   "outputs": [
    {
     "data": {
      "text/plain": [
       "<AxesSubplot:ylabel='Frequency'>"
      ]
     },
     "execution_count": 64,
     "metadata": {},
     "output_type": "execute_result"
    },
    {
     "data": {
      "image/png": "[encoded data removed]",
      "text/plain": [
       "<Figure size 432x288 with 1 Axes>"
      ]
     },
     "metadata": {
      "needs_background": "light"
     },
     "output_type": "display_data"
    }
   ],
   "source": [
    "df_1960_1990['Runs_Scored'].plot.hist(bins=20, density=True)"
   ]
  },
  {
   "cell_type": "code",
   "execution_count": 65,
   "id": "83347a88",
   "metadata": {},
   "outputs": [
    {
     "data": {
      "text/plain": [
       "<AxesSubplot:>"
      ]
     },
     "execution_count": 65,
     "metadata": {},
     "output_type": "execute_result"
    },
    {
     "data": {
      "image/png": "[encoded data removed]",
      "text/plain": [
       "<Figure size 432x288 with 1 Axes>"
      ]
     },
     "metadata": {
      "needs_background": "light"
     },
     "output_type": "display_data"
    }
   ],
   "source": [
    "df_1960_1990.boxplot(column='Runs_Scored')"
   ]
  },
  {
   "cell_type": "markdown",
   "id": "9fea5019",
   "metadata": {},
   "source": [
    "**The visual shape of 'Runs_Scored' is almost symmetric. It has one mode and it is wide. There are a few outliners.**"
   ]
  },
  {
   "cell_type": "code",
   "execution_count": null,
   "id": "6f9ac251",
   "metadata": {},
   "outputs": [],
   "source": []
  },
  {
   "cell_type": "code",
   "execution_count": 66,
   "id": "e21fc3eb",
   "metadata": {},
   "outputs": [
    {
     "data": {
      "text/plain": [
       "<AxesSubplot:ylabel='Frequency'>"
      ]
     },
     "execution_count": 66,
     "metadata": {},
     "output_type": "execute_result"
    },
    {
     "data": {
      "image/png": "[encoded data removed]",
      "text/plain": [
       "<Figure size 432x288 with 1 Axes>"
      ]
     },
     "metadata": {
      "needs_background": "light"
     },
     "output_type": "display_data"
    }
   ],
   "source": [
    "df_1960_1990['Earned_Run_Average'].plot.hist(bins=20, density=True)"
   ]
  },
  {
   "cell_type": "code",
   "execution_count": 67,
   "id": "7166402a",
   "metadata": {},
   "outputs": [
    {
     "data": {
      "text/plain": [
       "<AxesSubplot:>"
      ]
     },
     "execution_count": 67,
     "metadata": {},
     "output_type": "execute_result"
    },
    {
     "data": {
      "image/png": "[encoded data removed]",
      "text/plain": [
       "<Figure size 432x288 with 1 Axes>"
      ]
     },
     "metadata": {
      "needs_background": "light"
     },
     "output_type": "display_data"
    }
   ],
   "source": [
    "df_1960_1990.boxplot(column='Earned_Run_Average')"
   ]
  },
  {
   "cell_type": "markdown",
   "id": "b797ccab",
   "metadata": {},
   "source": [
    "**The visual shape of 'Earned_Run_Average' is almost symmetric. It has one mode and it is wide. There are a few outliners.**"
   ]
  },
  {
   "cell_type": "code",
   "execution_count": null,
   "id": "ed7b2dde",
   "metadata": {},
   "outputs": [],
   "source": []
  },
  {
   "cell_type": "code",
   "execution_count": 68,
   "id": "673e97a2",
   "metadata": {},
   "outputs": [
    {
     "data": {
      "text/plain": [
       "<AxesSubplot:ylabel='Frequency'>"
      ]
     },
     "execution_count": 68,
     "metadata": {},
     "output_type": "execute_result"
    },
    {
     "data": {
      "image/png": "[encoded data removed]",
      "text/plain": [
       "<Figure size 432x288 with 1 Axes>"
      ]
     },
     "metadata": {
      "needs_background": "light"
     },
     "output_type": "display_data"
    }
   ],
   "source": [
    "df_1960_1990['Saves'].plot.hist(bins=20, density=True)"
   ]
  },
  {
   "cell_type": "code",
   "execution_count": 69,
   "id": "2d896119",
   "metadata": {},
   "outputs": [
    {
     "data": {
      "text/plain": [
       "<AxesSubplot:>"
      ]
     },
     "execution_count": 69,
     "metadata": {},
     "output_type": "execute_result"
    },
    {
     "data": {
      "image/png": "[encoded data removed]",
      "text/plain": [
       "<Figure size 432x288 with 1 Axes>"
      ]
     },
     "metadata": {
      "needs_background": "light"
     },
     "output_type": "display_data"
    }
   ],
   "source": [
    "df_1960_1990.boxplot(column='Saves')"
   ]
  },
  {
   "cell_type": "markdown",
   "id": "af2a3063",
   "metadata": {},
   "source": [
    "**The visual shape of 'Saves' is kind of symmetric. There is one outliner.**"
   ]
  },
  {
   "cell_type": "code",
   "execution_count": null,
   "id": "b6b1474c",
   "metadata": {},
   "outputs": [],
   "source": []
  },
  {
   "cell_type": "code",
   "execution_count": 70,
   "id": "29566957",
   "metadata": {},
   "outputs": [
    {
     "data": {
      "text/plain": [
       "<AxesSubplot:ylabel='Frequency'>"
      ]
     },
     "execution_count": 70,
     "metadata": {},
     "output_type": "execute_result"
    },
    {
     "data": {
      "image/png": "[encoded data removed]",
      "text/plain": [
       "<Figure size 432x288 with 1 Axes>"
      ]
     },
     "metadata": {
      "needs_background": "light"
     },
     "output_type": "display_data"
    }
   ],
   "source": [
    "df_1960_1990['Attendance'].plot.hist(bins=20, density=True)"
   ]
  },
  {
   "cell_type": "code",
   "execution_count": 71,
   "id": "acc7c2b3",
   "metadata": {},
   "outputs": [
    {
     "data": {
      "text/plain": [
       "<AxesSubplot:>"
      ]
     },
     "execution_count": 71,
     "metadata": {},
     "output_type": "execute_result"
    },
    {
     "data": {
      "image/png": "[encoded data removed]",
      "text/plain": [
       "<Figure size 432x288 with 1 Axes>"
      ]
     },
     "metadata": {
      "needs_background": "light"
     },
     "output_type": "display_data"
    }
   ],
   "source": [
    "df_1960_1990.boxplot(column='Attendance')"
   ]
  },
  {
   "cell_type": "markdown",
   "id": "d43b7fc4",
   "metadata": {},
   "source": [
    "**The visual shape of 'Attendance' is not symmetric. There are some outliners.**"
   ]
  },
  {
   "cell_type": "code",
   "execution_count": null,
   "id": "20f6848d",
   "metadata": {},
   "outputs": [],
   "source": []
  },
  {
   "cell_type": "code",
   "execution_count": 72,
   "id": "b502c0bd",
   "metadata": {},
   "outputs": [
    {
     "data": {
      "text/plain": [
       "<AxesSubplot:ylabel='Frequency'>"
      ]
     },
     "execution_count": 72,
     "metadata": {},
     "output_type": "execute_result"
    },
    {
     "data": {
      "image/png": "[encoded data removed]",
      "text/plain": [
       "<Figure size 432x288 with 1 Axes>"
      ]
     },
     "metadata": {
      "needs_background": "light"
     },
     "output_type": "display_data"
    }
   ],
   "source": [
    "df_1960_1990['Infield_Put_Outs'].plot.hist(bins=20, density=True)"
   ]
  },
  {
   "cell_type": "code",
   "execution_count": 73,
   "id": "f3019c50",
   "metadata": {
    "scrolled": true
   },
   "outputs": [
    {
     "data": {
      "text/plain": [
       "<AxesSubplot:>"
      ]
     },
     "execution_count": 73,
     "metadata": {},
     "output_type": "execute_result"
    },
    {
     "data": {
      "image/png": "[encoded data removed]",
      "text/plain": [
       "<Figure size 432x288 with 1 Axes>"
      ]
     },
     "metadata": {
      "needs_background": "light"
     },
     "output_type": "display_data"
    }
   ],
   "source": [
    "df_1960_1990.boxplot(column='Infield_Put_Outs')"
   ]
  },
  {
   "cell_type": "markdown",
   "id": "623fdc90",
   "metadata": {},
   "source": [
    "**The visual shape of 'Infield_Put_Outs' is not symmetric. There are many outliners.**"
   ]
  },
  {
   "cell_type": "code",
   "execution_count": null,
   "id": "425c8d44",
   "metadata": {},
   "outputs": [],
   "source": []
  },
  {
   "cell_type": "markdown",
   "id": "84b1d6b0",
   "metadata": {},
   "source": [
    "**Section 3 – Correlation Analysis**"
   ]
  },
  {
   "cell_type": "code",
   "execution_count": 74,
   "id": "36ab008a",
   "metadata": {},
   "outputs": [
    {
     "data": {
      "text/html": [
       "<div>\n",
       "<style scoped>\n",
       "    .dataframe tbody tr th:only-of-type {\n",
       "        vertical-align: middle;\n",
       "    }\n",
       "\n",
       "    .dataframe tbody tr th {\n",
       "        vertical-align: top;\n",
       "    }\n",
       "\n",
       "    .dataframe thead th {\n",
       "        text-align: right;\n",
       "    }\n",
       "</style>\n",
       "<table border=\"1\" class=\"dataframe\">\n",
       "  <thead>\n",
       "    <tr style=\"text-align: right;\">\n",
       "      <th></th>\n",
       "      <th>Final_Standing</th>\n",
       "      <th>Runs_Scored</th>\n",
       "      <th>Games_Lost</th>\n",
       "      <th>Hits</th>\n",
       "      <th>Saves</th>\n",
       "      <th>Attendance</th>\n",
       "      <th>Earned_Run_Average</th>\n",
       "      <th>Infield_Put_Outs</th>\n",
       "    </tr>\n",
       "  </thead>\n",
       "  <tbody>\n",
       "    <tr>\n",
       "      <th>Final_Standing</th>\n",
       "      <td>1.000000</td>\n",
       "      <td>-0.437401</td>\n",
       "      <td>0.774922</td>\n",
       "      <td>-0.274613</td>\n",
       "      <td>-0.402218</td>\n",
       "      <td>-0.489631</td>\n",
       "      <td>0.439074</td>\n",
       "      <td>-0.031503</td>\n",
       "    </tr>\n",
       "    <tr>\n",
       "      <th>Runs_Scored</th>\n",
       "      <td>-0.437401</td>\n",
       "      <td>1.000000</td>\n",
       "      <td>-0.251263</td>\n",
       "      <td>0.848213</td>\n",
       "      <td>0.380488</td>\n",
       "      <td>0.399825</td>\n",
       "      <td>0.243249</td>\n",
       "      <td>0.515172</td>\n",
       "    </tr>\n",
       "    <tr>\n",
       "      <th>Games_Lost</th>\n",
       "      <td>0.774922</td>\n",
       "      <td>-0.251263</td>\n",
       "      <td>1.000000</td>\n",
       "      <td>0.018574</td>\n",
       "      <td>-0.322977</td>\n",
       "      <td>-0.361410</td>\n",
       "      <td>0.525496</td>\n",
       "      <td>0.346470</td>\n",
       "    </tr>\n",
       "    <tr>\n",
       "      <th>Hits</th>\n",
       "      <td>-0.274613</td>\n",
       "      <td>0.848213</td>\n",
       "      <td>0.018574</td>\n",
       "      <td>1.000000</td>\n",
       "      <td>0.317421</td>\n",
       "      <td>0.338387</td>\n",
       "      <td>0.201692</td>\n",
       "      <td>0.723802</td>\n",
       "    </tr>\n",
       "    <tr>\n",
       "      <th>Saves</th>\n",
       "      <td>-0.402218</td>\n",
       "      <td>0.380488</td>\n",
       "      <td>-0.322977</td>\n",
       "      <td>0.317421</td>\n",
       "      <td>1.000000</td>\n",
       "      <td>0.368077</td>\n",
       "      <td>-0.130315</td>\n",
       "      <td>0.240745</td>\n",
       "    </tr>\n",
       "    <tr>\n",
       "      <th>Attendance</th>\n",
       "      <td>-0.489631</td>\n",
       "      <td>0.399825</td>\n",
       "      <td>-0.361410</td>\n",
       "      <td>0.338387</td>\n",
       "      <td>0.368077</td>\n",
       "      <td>1.000000</td>\n",
       "      <td>-0.135895</td>\n",
       "      <td>0.176987</td>\n",
       "    </tr>\n",
       "    <tr>\n",
       "      <th>Earned_Run_Average</th>\n",
       "      <td>0.439074</td>\n",
       "      <td>0.243249</td>\n",
       "      <td>0.525496</td>\n",
       "      <td>0.201692</td>\n",
       "      <td>-0.130315</td>\n",
       "      <td>-0.135895</td>\n",
       "      <td>1.000000</td>\n",
       "      <td>-0.016557</td>\n",
       "    </tr>\n",
       "    <tr>\n",
       "      <th>Infield_Put_Outs</th>\n",
       "      <td>-0.031503</td>\n",
       "      <td>0.515172</td>\n",
       "      <td>0.346470</td>\n",
       "      <td>0.723802</td>\n",
       "      <td>0.240745</td>\n",
       "      <td>0.176987</td>\n",
       "      <td>-0.016557</td>\n",
       "      <td>1.000000</td>\n",
       "    </tr>\n",
       "  </tbody>\n",
       "</table>\n",
       "</div>"
      ],
      "text/plain": [
       "                    Final_Standing  Runs_Scored  Games_Lost      Hits  \\\n",
       "Final_Standing            1.000000    -0.437401    0.774922 -0.274613   \n",
       "Runs_Scored              -0.437401     1.000000   -0.251263  0.848213   \n",
       "Games_Lost                0.774922    -0.251263    1.000000  0.018574   \n",
       "Hits                     -0.274613     0.848213    0.018574  1.000000   \n",
       "Saves                    -0.402218     0.380488   -0.322977  0.317421   \n",
       "Attendance               -0.489631     0.399825   -0.361410  0.338387   \n",
       "Earned_Run_Average        0.439074     0.243249    0.525496  0.201692   \n",
       "Infield_Put_Outs         -0.031503     0.515172    0.346470  0.723802   \n",
       "\n",
       "                       Saves  Attendance  Earned_Run_Average  Infield_Put_Outs  \n",
       "Final_Standing     -0.402218   -0.489631            0.439074         -0.031503  \n",
       "Runs_Scored         0.380488    0.399825            0.243249          0.515172  \n",
       "Games_Lost         -0.322977   -0.361410            0.525496          0.346470  \n",
       "Hits                0.317421    0.338387            0.201692          0.723802  \n",
       "Saves               1.000000    0.368077           -0.130315          0.240745  \n",
       "Attendance          0.368077    1.000000           -0.135895          0.176987  \n",
       "Earned_Run_Average -0.130315   -0.135895            1.000000         -0.016557  \n",
       "Infield_Put_Outs    0.240745    0.176987           -0.016557          1.000000  "
      ]
     },
     "execution_count": 74,
     "metadata": {},
     "output_type": "execute_result"
    }
   ],
   "source": [
    "df_1960_1990[['Final_Standing','Runs_Scored','Games_Lost','Hits','Saves','Attendance','Earned_Run_Average','Infield_Put_Outs']].corr()"
   ]
  },
  {
   "cell_type": "markdown",
   "id": "6858ef50",
   "metadata": {},
   "source": [
    "**The above 8 variables are linearly related to the dependent variable 'Games_Won', and three of them are offensive Measurements and two of them are defensive Measurements.  We can conclude that defensive Measurements are a little bit more effective than offensive Measurement, but almost the same.**\n",
    "\n",
    "* 'Hits''has high coefficient with'Runs_Scored'. \n",
    "* 'Final_Standing'have high coefficient with 'Games_Lost'  .\n"
   ]
  },
  {
   "cell_type": "code",
   "execution_count": null,
   "id": "e7139b37",
   "metadata": {},
   "outputs": [],
   "source": []
  },
  {
   "cell_type": "markdown",
   "id": "a9959abe",
   "metadata": {},
   "source": [
    "**Section 4 – Linear Regression Models**"
   ]
  },
  {
   "cell_type": "markdown",
   "id": "b09a34fe",
   "metadata": {},
   "source": [
    "**1. Create an initial multiple linear regression model using 8 variables for period 1960_1990**"
   ]
  },
  {
   "cell_type": "code",
   "execution_count": 75,
   "id": "d9db323b",
   "metadata": {
    "scrolled": true
   },
   "outputs": [
    {
     "data": {
      "text/html": [
       "<table class=\"simpletable\">\n",
       "<caption>OLS Regression Results</caption>\n",
       "<tr>\n",
       "  <th>Dep. Variable:</th>        <td>Games_Won</td>    <th>  R-squared:         </th> <td>   0.988</td>\n",
       "</tr>\n",
       "<tr>\n",
       "  <th>Model:</th>                   <td>OLS</td>       <th>  Adj. R-squared:    </th> <td>   0.988</td>\n",
       "</tr>\n",
       "<tr>\n",
       "  <th>Method:</th>             <td>Least Squares</td>  <th>  F-statistic:       </th> <td>   7237.</td>\n",
       "</tr>\n",
       "<tr>\n",
       "  <th>Date:</th>             <td>Sun, 17 Jul 2022</td> <th>  Prob (F-statistic):</th>  <td>  0.00</td> \n",
       "</tr>\n",
       "<tr>\n",
       "  <th>Time:</th>                 <td>20:53:39</td>     <th>  Log-Likelihood:    </th> <td> -1228.1</td>\n",
       "</tr>\n",
       "<tr>\n",
       "  <th>No. Observations:</th>      <td>   704</td>      <th>  AIC:               </th> <td>   2474.</td>\n",
       "</tr>\n",
       "<tr>\n",
       "  <th>Df Residuals:</th>          <td>   695</td>      <th>  BIC:               </th> <td>   2515.</td>\n",
       "</tr>\n",
       "<tr>\n",
       "  <th>Df Model:</th>              <td>     8</td>      <th>                     </th>     <td> </td>   \n",
       "</tr>\n",
       "<tr>\n",
       "  <th>Covariance Type:</th>      <td>nonrobust</td>    <th>                     </th>     <td> </td>   \n",
       "</tr>\n",
       "</table>\n",
       "<table class=\"simpletable\">\n",
       "<tr>\n",
       "           <td></td>             <th>coef</th>     <th>std err</th>      <th>t</th>      <th>P>|t|</th>  <th>[0.025</th>    <th>0.975]</th>  \n",
       "</tr>\n",
       "<tr>\n",
       "  <th>Intercept</th>          <td>    2.5221</td> <td>    1.254</td> <td>    2.011</td> <td> 0.045</td> <td>    0.060</td> <td>    4.984</td>\n",
       "</tr>\n",
       "<tr>\n",
       "  <th>Final_Standing</th>     <td>   -0.0929</td> <td>    0.045</td> <td>   -2.082</td> <td> 0.038</td> <td>   -0.181</td> <td>   -0.005</td>\n",
       "</tr>\n",
       "<tr>\n",
       "  <th>Runs_Scored</th>        <td>    0.0090</td> <td>    0.002</td> <td>    5.063</td> <td> 0.000</td> <td>    0.006</td> <td>    0.013</td>\n",
       "</tr>\n",
       "<tr>\n",
       "  <th>Games_Lost</th>         <td>   -0.8781</td> <td>    0.014</td> <td>  -62.848</td> <td> 0.000</td> <td>   -0.906</td> <td>   -0.851</td>\n",
       "</tr>\n",
       "<tr>\n",
       "  <th>Hits</th>               <td>    0.0002</td> <td>    0.001</td> <td>    0.199</td> <td> 0.842</td> <td>   -0.002</td> <td>    0.002</td>\n",
       "</tr>\n",
       "<tr>\n",
       "  <th>Saves</th>              <td>    0.0169</td> <td>    0.007</td> <td>    2.518</td> <td> 0.012</td> <td>    0.004</td> <td>    0.030</td>\n",
       "</tr>\n",
       "<tr>\n",
       "  <th>Attendance</th>         <td> 1.015e-07</td> <td>    1e-07</td> <td>    1.014</td> <td> 0.311</td> <td> -9.5e-08</td> <td> 2.98e-07</td>\n",
       "</tr>\n",
       "<tr>\n",
       "  <th>Earned_Run_Average</th> <td>   -0.2576</td> <td>    0.262</td> <td>   -0.983</td> <td> 0.326</td> <td>   -0.772</td> <td>    0.257</td>\n",
       "</tr>\n",
       "<tr>\n",
       "  <th>Infield_Put_Outs</th>   <td>    0.0330</td> <td>    0.001</td> <td>   62.684</td> <td> 0.000</td> <td>    0.032</td> <td>    0.034</td>\n",
       "</tr>\n",
       "</table>\n",
       "<table class=\"simpletable\">\n",
       "<tr>\n",
       "  <th>Omnibus:</th>       <td>10.605</td> <th>  Durbin-Watson:     </th> <td>   1.988</td>\n",
       "</tr>\n",
       "<tr>\n",
       "  <th>Prob(Omnibus):</th> <td> 0.005</td> <th>  Jarque-Bera (JB):  </th> <td>  10.914</td>\n",
       "</tr>\n",
       "<tr>\n",
       "  <th>Skew:</th>          <td>-0.297</td> <th>  Prob(JB):          </th> <td> 0.00427</td>\n",
       "</tr>\n",
       "<tr>\n",
       "  <th>Kurtosis:</th>      <td> 2.864</td> <th>  Cond. No.          </th> <td>3.80e+07</td>\n",
       "</tr>\n",
       "</table><br/><br/>Notes:<br/>[1] Standard Errors assume that the covariance matrix of the errors is correctly specified.<br/>[2] The condition number is large, 3.8e+07. This might indicate that there are<br/>strong multicollinearity or other numerical problems."
      ],
      "text/plain": [
       "<class 'statsmodels.iolib.summary.Summary'>\n",
       "\"\"\"\n",
       "                            OLS Regression Results                            \n",
       "==============================================================================\n",
       "Dep. Variable:              Games_Won   R-squared:                       0.988\n",
       "Model:                            OLS   Adj. R-squared:                  0.988\n",
       "Method:                 Least Squares   F-statistic:                     7237.\n",
       "Date:                Sun, 17 Jul 2022   Prob (F-statistic):               0.00\n",
       "Time:                        20:53:39   Log-Likelihood:                -1228.1\n",
       "No. Observations:                 704   AIC:                             2474.\n",
       "Df Residuals:                     695   BIC:                             2515.\n",
       "Df Model:                           8                                         \n",
       "Covariance Type:            nonrobust                                         \n",
       "======================================================================================\n",
       "                         coef    std err          t      P>|t|      [0.025      0.975]\n",
       "--------------------------------------------------------------------------------------\n",
       "Intercept              2.5221      1.254      2.011      0.045       0.060       4.984\n",
       "Final_Standing        -0.0929      0.045     -2.082      0.038      -0.181      -0.005\n",
       "Runs_Scored            0.0090      0.002      5.063      0.000       0.006       0.013\n",
       "Games_Lost            -0.8781      0.014    -62.848      0.000      -0.906      -0.851\n",
       "Hits                   0.0002      0.001      0.199      0.842      -0.002       0.002\n",
       "Saves                  0.0169      0.007      2.518      0.012       0.004       0.030\n",
       "Attendance          1.015e-07      1e-07      1.014      0.311    -9.5e-08    2.98e-07\n",
       "Earned_Run_Average    -0.2576      0.262     -0.983      0.326      -0.772       0.257\n",
       "Infield_Put_Outs       0.0330      0.001     62.684      0.000       0.032       0.034\n",
       "==============================================================================\n",
       "Omnibus:                       10.605   Durbin-Watson:                   1.988\n",
       "Prob(Omnibus):                  0.005   Jarque-Bera (JB):               10.914\n",
       "Skew:                          -0.297   Prob(JB):                      0.00427\n",
       "Kurtosis:                       2.864   Cond. No.                     3.80e+07\n",
       "==============================================================================\n",
       "\n",
       "Notes:\n",
       "[1] Standard Errors assume that the covariance matrix of the errors is correctly specified.\n",
       "[2] The condition number is large, 3.8e+07. This might indicate that there are\n",
       "strong multicollinearity or other numerical problems.\n",
       "\"\"\""
      ]
     },
     "execution_count": 75,
     "metadata": {},
     "output_type": "execute_result"
    }
   ],
   "source": [
    "lm_1960_1990=smf.ols(formula ='Games_Won ~ Final_Standing+ Runs_Scored+ Games_Lost+ Hits+ Saves+ Attendance+ Earned_Run_Average+ Infield_Put_Outs', data=df_1960_1990).fit()\n",
    "lm_1960_1990.summary()"
   ]
  },
  {
   "cell_type": "code",
   "execution_count": null,
   "id": "fbb7e516",
   "metadata": {},
   "outputs": [],
   "source": []
  },
  {
   "cell_type": "markdown",
   "id": "a53399dc",
   "metadata": {},
   "source": [
    "**2. Second iteration**\n",
    "* To keep the model simple, delete 'Hits + Attendance + Earned_Run_Average' because of their high P-Values\n",
    "* Delete 'Final_Standing' because it has high coefficient with 'Games_Lost'."
   ]
  },
  {
   "cell_type": "code",
   "execution_count": 76,
   "id": "ef9ed179",
   "metadata": {
    "scrolled": true
   },
   "outputs": [
    {
     "data": {
      "text/html": [
       "<table class=\"simpletable\">\n",
       "<caption>OLS Regression Results</caption>\n",
       "<tr>\n",
       "  <th>Dep. Variable:</th>        <td>Games_Won</td>    <th>  R-squared:         </th> <td>   0.988</td> \n",
       "</tr>\n",
       "<tr>\n",
       "  <th>Model:</th>                   <td>OLS</td>       <th>  Adj. R-squared:    </th> <td>   0.988</td> \n",
       "</tr>\n",
       "<tr>\n",
       "  <th>Method:</th>             <td>Least Squares</td>  <th>  F-statistic:       </th> <td>1.440e+04</td>\n",
       "</tr>\n",
       "<tr>\n",
       "  <th>Date:</th>             <td>Sun, 17 Jul 2022</td> <th>  Prob (F-statistic):</th>  <td>  0.00</td>  \n",
       "</tr>\n",
       "<tr>\n",
       "  <th>Time:</th>                 <td>20:53:39</td>     <th>  Log-Likelihood:    </th> <td> -1231.9</td> \n",
       "</tr>\n",
       "<tr>\n",
       "  <th>No. Observations:</th>      <td>   704</td>      <th>  AIC:               </th> <td>   2474.</td> \n",
       "</tr>\n",
       "<tr>\n",
       "  <th>Df Residuals:</th>          <td>   699</td>      <th>  BIC:               </th> <td>   2497.</td> \n",
       "</tr>\n",
       "<tr>\n",
       "  <th>Df Model:</th>              <td>     4</td>      <th>                     </th>     <td> </td>    \n",
       "</tr>\n",
       "<tr>\n",
       "  <th>Covariance Type:</th>      <td>nonrobust</td>    <th>                     </th>     <td> </td>    \n",
       "</tr>\n",
       "</table>\n",
       "<table class=\"simpletable\">\n",
       "<tr>\n",
       "          <td></td>            <th>coef</th>     <th>std err</th>      <th>t</th>      <th>P>|t|</th>  <th>[0.025</th>    <th>0.975]</th>  \n",
       "</tr>\n",
       "<tr>\n",
       "  <th>Intercept</th>        <td>    1.3107</td> <td>    0.807</td> <td>    1.624</td> <td> 0.105</td> <td>   -0.274</td> <td>    2.895</td>\n",
       "</tr>\n",
       "<tr>\n",
       "  <th>Runs_Scored</th>      <td>    0.0082</td> <td>    0.001</td> <td>   10.501</td> <td> 0.000</td> <td>    0.007</td> <td>    0.010</td>\n",
       "</tr>\n",
       "<tr>\n",
       "  <th>Games_Lost</th>       <td>   -0.9042</td> <td>    0.006</td> <td> -161.146</td> <td> 0.000</td> <td>   -0.915</td> <td>   -0.893</td>\n",
       "</tr>\n",
       "<tr>\n",
       "  <th>Saves</th>            <td>    0.0177</td> <td>    0.007</td> <td>    2.701</td> <td> 0.007</td> <td>    0.005</td> <td>    0.031</td>\n",
       "</tr>\n",
       "<tr>\n",
       "  <th>Infield_Put_Outs</th> <td>    0.0336</td> <td>    0.000</td> <td>  121.924</td> <td> 0.000</td> <td>    0.033</td> <td>    0.034</td>\n",
       "</tr>\n",
       "</table>\n",
       "<table class=\"simpletable\">\n",
       "<tr>\n",
       "  <th>Omnibus:</th>       <td>11.498</td> <th>  Durbin-Watson:     </th> <td>   1.984</td>\n",
       "</tr>\n",
       "<tr>\n",
       "  <th>Prob(Omnibus):</th> <td> 0.003</td> <th>  Jarque-Bera (JB):  </th> <td>  11.880</td>\n",
       "</tr>\n",
       "<tr>\n",
       "  <th>Skew:</th>          <td>-0.314</td> <th>  Prob(JB):          </th> <td> 0.00263</td>\n",
       "</tr>\n",
       "<tr>\n",
       "  <th>Kurtosis:</th>      <td> 2.896</td> <th>  Cond. No.          </th> <td>6.66e+04</td>\n",
       "</tr>\n",
       "</table><br/><br/>Notes:<br/>[1] Standard Errors assume that the covariance matrix of the errors is correctly specified.<br/>[2] The condition number is large, 6.66e+04. This might indicate that there are<br/>strong multicollinearity or other numerical problems."
      ],
      "text/plain": [
       "<class 'statsmodels.iolib.summary.Summary'>\n",
       "\"\"\"\n",
       "                            OLS Regression Results                            \n",
       "==============================================================================\n",
       "Dep. Variable:              Games_Won   R-squared:                       0.988\n",
       "Model:                            OLS   Adj. R-squared:                  0.988\n",
       "Method:                 Least Squares   F-statistic:                 1.440e+04\n",
       "Date:                Sun, 17 Jul 2022   Prob (F-statistic):               0.00\n",
       "Time:                        20:53:39   Log-Likelihood:                -1231.9\n",
       "No. Observations:                 704   AIC:                             2474.\n",
       "Df Residuals:                     699   BIC:                             2497.\n",
       "Df Model:                           4                                         \n",
       "Covariance Type:            nonrobust                                         \n",
       "====================================================================================\n",
       "                       coef    std err          t      P>|t|      [0.025      0.975]\n",
       "------------------------------------------------------------------------------------\n",
       "Intercept            1.3107      0.807      1.624      0.105      -0.274       2.895\n",
       "Runs_Scored          0.0082      0.001     10.501      0.000       0.007       0.010\n",
       "Games_Lost          -0.9042      0.006   -161.146      0.000      -0.915      -0.893\n",
       "Saves                0.0177      0.007      2.701      0.007       0.005       0.031\n",
       "Infield_Put_Outs     0.0336      0.000    121.924      0.000       0.033       0.034\n",
       "==============================================================================\n",
       "Omnibus:                       11.498   Durbin-Watson:                   1.984\n",
       "Prob(Omnibus):                  0.003   Jarque-Bera (JB):               11.880\n",
       "Skew:                          -0.314   Prob(JB):                      0.00263\n",
       "Kurtosis:                       2.896   Cond. No.                     6.66e+04\n",
       "==============================================================================\n",
       "\n",
       "Notes:\n",
       "[1] Standard Errors assume that the covariance matrix of the errors is correctly specified.\n",
       "[2] The condition number is large, 6.66e+04. This might indicate that there are\n",
       "strong multicollinearity or other numerical problems.\n",
       "\"\"\""
      ]
     },
     "execution_count": 76,
     "metadata": {},
     "output_type": "execute_result"
    }
   ],
   "source": [
    "lm_1960_1990=smf.ols(formula ='Games_Won ~  Runs_Scored+ Games_Lost+ Saves+ Infield_Put_Outs', data=df_1960_1990).fit()\n",
    "lm_1960_1990.summary()"
   ]
  },
  {
   "cell_type": "markdown",
   "id": "eaaf2e41",
   "metadata": {},
   "source": [
    "**3. delete 'Intercept' because of its high P-Values**\n",
    "* **To keep the model simple, try to delete 'Infield_Put_Outs' and 'Saves'**\n"
   ]
  },
  {
   "cell_type": "code",
   "execution_count": 77,
   "id": "0f24d1b7",
   "metadata": {
    "scrolled": true
   },
   "outputs": [
    {
     "data": {
      "text/html": [
       "<table class=\"simpletable\">\n",
       "<caption>OLS Regression Results</caption>\n",
       "<tr>\n",
       "  <th>Dep. Variable:</th>        <td>Games_Won</td>    <th>  R-squared (uncentered):</th>      <td>   0.986</td> \n",
       "</tr>\n",
       "<tr>\n",
       "  <th>Model:</th>                   <td>OLS</td>       <th>  Adj. R-squared (uncentered):</th> <td>   0.986</td> \n",
       "</tr>\n",
       "<tr>\n",
       "  <th>Method:</th>             <td>Least Squares</td>  <th>  F-statistic:       </th>          <td>2.509e+04</td>\n",
       "</tr>\n",
       "<tr>\n",
       "  <th>Date:</th>             <td>Sun, 17 Jul 2022</td> <th>  Prob (F-statistic):</th>           <td>  0.00</td>  \n",
       "</tr>\n",
       "<tr>\n",
       "  <th>Time:</th>                 <td>20:53:39</td>     <th>  Log-Likelihood:    </th>          <td> -2581.4</td> \n",
       "</tr>\n",
       "<tr>\n",
       "  <th>No. Observations:</th>      <td>   704</td>      <th>  AIC:               </th>          <td>   5167.</td> \n",
       "</tr>\n",
       "<tr>\n",
       "  <th>Df Residuals:</th>          <td>   702</td>      <th>  BIC:               </th>          <td>   5176.</td> \n",
       "</tr>\n",
       "<tr>\n",
       "  <th>Df Model:</th>              <td>     2</td>      <th>                     </th>              <td> </td>    \n",
       "</tr>\n",
       "<tr>\n",
       "  <th>Covariance Type:</th>      <td>nonrobust</td>    <th>                     </th>              <td> </td>    \n",
       "</tr>\n",
       "</table>\n",
       "<table class=\"simpletable\">\n",
       "<tr>\n",
       "       <td></td>          <th>coef</th>     <th>std err</th>      <th>t</th>      <th>P>|t|</th>  <th>[0.025</th>    <th>0.975]</th>  \n",
       "</tr>\n",
       "<tr>\n",
       "  <th>Runs_Scored</th> <td>    0.1331</td> <td>    0.002</td> <td>   58.240</td> <td> 0.000</td> <td>    0.129</td> <td>    0.138</td>\n",
       "</tr>\n",
       "<tr>\n",
       "  <th>Games_Lost</th>  <td>   -0.1206</td> <td>    0.019</td> <td>   -6.328</td> <td> 0.000</td> <td>   -0.158</td> <td>   -0.083</td>\n",
       "</tr>\n",
       "</table>\n",
       "<table class=\"simpletable\">\n",
       "<tr>\n",
       "  <th>Omnibus:</th>       <td> 0.956</td> <th>  Durbin-Watson:     </th> <td>   1.513</td>\n",
       "</tr>\n",
       "<tr>\n",
       "  <th>Prob(Omnibus):</th> <td> 0.620</td> <th>  Jarque-Bera (JB):  </th> <td>   1.046</td>\n",
       "</tr>\n",
       "<tr>\n",
       "  <th>Skew:</th>          <td> 0.065</td> <th>  Prob(JB):          </th> <td>   0.593</td>\n",
       "</tr>\n",
       "<tr>\n",
       "  <th>Kurtosis:</th>      <td> 2.863</td> <th>  Cond. No.          </th> <td>    36.3</td>\n",
       "</tr>\n",
       "</table><br/><br/>Notes:<br/>[1] R² is computed without centering (uncentered) since the model does not contain a constant.<br/>[2] Standard Errors assume that the covariance matrix of the errors is correctly specified."
      ],
      "text/plain": [
       "<class 'statsmodels.iolib.summary.Summary'>\n",
       "\"\"\"\n",
       "                                 OLS Regression Results                                \n",
       "=======================================================================================\n",
       "Dep. Variable:              Games_Won   R-squared (uncentered):                   0.986\n",
       "Model:                            OLS   Adj. R-squared (uncentered):              0.986\n",
       "Method:                 Least Squares   F-statistic:                          2.509e+04\n",
       "Date:                Sun, 17 Jul 2022   Prob (F-statistic):                        0.00\n",
       "Time:                        20:53:39   Log-Likelihood:                         -2581.4\n",
       "No. Observations:                 704   AIC:                                      5167.\n",
       "Df Residuals:                     702   BIC:                                      5176.\n",
       "Df Model:                           2                                                  \n",
       "Covariance Type:            nonrobust                                                  \n",
       "===============================================================================\n",
       "                  coef    std err          t      P>|t|      [0.025      0.975]\n",
       "-------------------------------------------------------------------------------\n",
       "Runs_Scored     0.1331      0.002     58.240      0.000       0.129       0.138\n",
       "Games_Lost     -0.1206      0.019     -6.328      0.000      -0.158      -0.083\n",
       "==============================================================================\n",
       "Omnibus:                        0.956   Durbin-Watson:                   1.513\n",
       "Prob(Omnibus):                  0.620   Jarque-Bera (JB):                1.046\n",
       "Skew:                           0.065   Prob(JB):                        0.593\n",
       "Kurtosis:                       2.863   Cond. No.                         36.3\n",
       "==============================================================================\n",
       "\n",
       "Notes:\n",
       "[1] R² is computed without centering (uncentered) since the model does not contain a constant.\n",
       "[2] Standard Errors assume that the covariance matrix of the errors is correctly specified.\n",
       "\"\"\""
      ]
     },
     "execution_count": 77,
     "metadata": {},
     "output_type": "execute_result"
    }
   ],
   "source": [
    "lm_1960_1990=smf.ols(formula ='Games_Won ~  Runs_Scored+ Games_Lost -1', data=df_1960_1990).fit()\n",
    "lm_1960_1990.summary()"
   ]
  },
  {
   "cell_type": "markdown",
   "id": "7ed7b364",
   "metadata": {},
   "source": [
    "**Ajusted r2 and F-statistic are very large which is good and the p-values for the coefficient is close to zero which means is statisically significant. And also, the model is very simple. The independent variable is approximately normally distributed**"
   ]
  },
  {
   "cell_type": "code",
   "execution_count": null,
   "id": "d22f0711",
   "metadata": {},
   "outputs": [],
   "source": []
  },
  {
   "cell_type": "code",
   "execution_count": null,
   "id": "a0e33675",
   "metadata": {},
   "outputs": [],
   "source": []
  },
  {
   "cell_type": "markdown",
   "id": "79fbc765",
   "metadata": {},
   "source": [
    "**Period 4 – 1990 to 2010**"
   ]
  },
  {
   "cell_type": "markdown",
   "id": "bd7eeb61",
   "metadata": {},
   "source": [
    "**Section 2 – Data Exploration**"
   ]
  },
  {
   "cell_type": "code",
   "execution_count": 78,
   "id": "b5340289",
   "metadata": {},
   "outputs": [
    {
     "data": {
      "text/html": [
       "<div>\n",
       "<style scoped>\n",
       "    .dataframe tbody tr th:only-of-type {\n",
       "        vertical-align: middle;\n",
       "    }\n",
       "\n",
       "    .dataframe tbody tr th {\n",
       "        vertical-align: top;\n",
       "    }\n",
       "\n",
       "    .dataframe thead th {\n",
       "        text-align: right;\n",
       "    }\n",
       "</style>\n",
       "<table border=\"1\" class=\"dataframe\">\n",
       "  <thead>\n",
       "    <tr style=\"text-align: right;\">\n",
       "      <th></th>\n",
       "      <th>Year</th>\n",
       "      <th>League</th>\n",
       "      <th>Team</th>\n",
       "      <th>Franchise</th>\n",
       "      <th>Division</th>\n",
       "      <th>Final_Standing</th>\n",
       "      <th>Games_Played</th>\n",
       "      <th>Unnamed: 7</th>\n",
       "      <th>Games_Won</th>\n",
       "      <th>Games_Lost</th>\n",
       "      <th>...</th>\n",
       "      <th>Hits_Allowed</th>\n",
       "      <th>Home_Run_Allowed</th>\n",
       "      <th>Walks_Allowed</th>\n",
       "      <th>Strikeouts_Allowed</th>\n",
       "      <th>Errors</th>\n",
       "      <th>Double_Plays</th>\n",
       "      <th>Fielding_Percentage</th>\n",
       "      <th>Team_Name</th>\n",
       "      <th>Home_Ball_Park</th>\n",
       "      <th>Attendance</th>\n",
       "    </tr>\n",
       "  </thead>\n",
       "  <tbody>\n",
       "    <tr>\n",
       "      <th>0</th>\n",
       "      <td>1990</td>\n",
       "      <td>NL</td>\n",
       "      <td>ATL</td>\n",
       "      <td>ATL</td>\n",
       "      <td>W</td>\n",
       "      <td>6</td>\n",
       "      <td>162</td>\n",
       "      <td>81.0</td>\n",
       "      <td>65</td>\n",
       "      <td>97</td>\n",
       "      <td>...</td>\n",
       "      <td>1527</td>\n",
       "      <td>128</td>\n",
       "      <td>579</td>\n",
       "      <td>938</td>\n",
       "      <td>158</td>\n",
       "      <td>133.0</td>\n",
       "      <td>0.97</td>\n",
       "      <td>Atlanta Braves</td>\n",
       "      <td>Atlanta-Fulton County Stadium</td>\n",
       "      <td>980129.0</td>\n",
       "    </tr>\n",
       "    <tr>\n",
       "      <th>1</th>\n",
       "      <td>1990</td>\n",
       "      <td>AL</td>\n",
       "      <td>BAL</td>\n",
       "      <td>BAL</td>\n",
       "      <td>E</td>\n",
       "      <td>5</td>\n",
       "      <td>161</td>\n",
       "      <td>80.0</td>\n",
       "      <td>76</td>\n",
       "      <td>85</td>\n",
       "      <td>...</td>\n",
       "      <td>1445</td>\n",
       "      <td>161</td>\n",
       "      <td>537</td>\n",
       "      <td>776</td>\n",
       "      <td>91</td>\n",
       "      <td>151.0</td>\n",
       "      <td>0.98</td>\n",
       "      <td>Baltimore Orioles</td>\n",
       "      <td>Memorial Stadium</td>\n",
       "      <td>2415189.0</td>\n",
       "    </tr>\n",
       "    <tr>\n",
       "      <th>2</th>\n",
       "      <td>1990</td>\n",
       "      <td>AL</td>\n",
       "      <td>BOS</td>\n",
       "      <td>BOS</td>\n",
       "      <td>E</td>\n",
       "      <td>1</td>\n",
       "      <td>162</td>\n",
       "      <td>81.0</td>\n",
       "      <td>88</td>\n",
       "      <td>74</td>\n",
       "      <td>...</td>\n",
       "      <td>1439</td>\n",
       "      <td>92</td>\n",
       "      <td>519</td>\n",
       "      <td>997</td>\n",
       "      <td>123</td>\n",
       "      <td>154.0</td>\n",
       "      <td>0.98</td>\n",
       "      <td>Boston Red Sox</td>\n",
       "      <td>Fenway Park II</td>\n",
       "      <td>2528986.0</td>\n",
       "    </tr>\n",
       "    <tr>\n",
       "      <th>3</th>\n",
       "      <td>1990</td>\n",
       "      <td>AL</td>\n",
       "      <td>CAL</td>\n",
       "      <td>ANA</td>\n",
       "      <td>W</td>\n",
       "      <td>4</td>\n",
       "      <td>162</td>\n",
       "      <td>81.0</td>\n",
       "      <td>80</td>\n",
       "      <td>82</td>\n",
       "      <td>...</td>\n",
       "      <td>1482</td>\n",
       "      <td>106</td>\n",
       "      <td>544</td>\n",
       "      <td>944</td>\n",
       "      <td>140</td>\n",
       "      <td>186.0</td>\n",
       "      <td>0.97</td>\n",
       "      <td>California Angels</td>\n",
       "      <td>Anaheim Stadium</td>\n",
       "      <td>2555688.0</td>\n",
       "    </tr>\n",
       "    <tr>\n",
       "      <th>4</th>\n",
       "      <td>1990</td>\n",
       "      <td>AL</td>\n",
       "      <td>CHA</td>\n",
       "      <td>CHW</td>\n",
       "      <td>W</td>\n",
       "      <td>2</td>\n",
       "      <td>162</td>\n",
       "      <td>80.0</td>\n",
       "      <td>94</td>\n",
       "      <td>68</td>\n",
       "      <td>...</td>\n",
       "      <td>1313</td>\n",
       "      <td>106</td>\n",
       "      <td>548</td>\n",
       "      <td>914</td>\n",
       "      <td>124</td>\n",
       "      <td>169.0</td>\n",
       "      <td>0.98</td>\n",
       "      <td>Chicago White Sox</td>\n",
       "      <td>Comiskey Park</td>\n",
       "      <td>2002357.0</td>\n",
       "    </tr>\n",
       "  </tbody>\n",
       "</table>\n",
       "<p>5 rows × 43 columns</p>\n",
       "</div>"
      ],
      "text/plain": [
       "   Year League Team  Franchise  Division  Final_Standing  Games_Played  \\\n",
       "0  1990     NL   ATL        ATL        W               6           162   \n",
       "1  1990     AL   BAL        BAL        E               5           161   \n",
       "2  1990     AL   BOS        BOS        E               1           162   \n",
       "3  1990     AL   CAL        ANA        W               4           162   \n",
       "4  1990     AL   CHA        CHW        W               2           162   \n",
       "\n",
       "   Unnamed: 7  Games_Won  Games_Lost  ... Hits_Allowed Home_Run_Allowed  \\\n",
       "0        81.0         65          97  ...         1527              128   \n",
       "1        80.0         76          85  ...         1445              161   \n",
       "2        81.0         88          74  ...         1439               92   \n",
       "3        81.0         80          82  ...         1482              106   \n",
       "4        80.0         94          68  ...         1313              106   \n",
       "\n",
       "  Walks_Allowed Strikeouts_Allowed  Errors  Double_Plays  Fielding_Percentage  \\\n",
       "0           579                938     158         133.0                 0.97   \n",
       "1           537                776      91         151.0                 0.98   \n",
       "2           519                997     123         154.0                 0.98   \n",
       "3           544                944     140         186.0                 0.97   \n",
       "4           548                914     124         169.0                 0.98   \n",
       "\n",
       "           Team_Name                 Home_Ball_Park  Attendance  \n",
       "0     Atlanta Braves  Atlanta-Fulton County Stadium    980129.0  \n",
       "1  Baltimore Orioles               Memorial Stadium   2415189.0  \n",
       "2     Boston Red Sox                 Fenway Park II   2528986.0  \n",
       "3  California Angels                Anaheim Stadium   2555688.0  \n",
       "4  Chicago White Sox                  Comiskey Park   2002357.0  \n",
       "\n",
       "[5 rows x 43 columns]"
      ]
     },
     "execution_count": 78,
     "metadata": {},
     "output_type": "execute_result"
    }
   ],
   "source": [
    "df_1990_2010=df[df['Year'].between(1990,2010)]\n",
    "\n",
    "df_1990_2010.reset_index(drop=True, inplace=True)\n",
    "\n",
    "df_1990_2010.head()"
   ]
  },
  {
   "cell_type": "code",
   "execution_count": 79,
   "id": "49f1caef",
   "metadata": {},
   "outputs": [
    {
     "data": {
      "text/html": [
       "<div>\n",
       "<style scoped>\n",
       "    .dataframe tbody tr th:only-of-type {\n",
       "        vertical-align: middle;\n",
       "    }\n",
       "\n",
       "    .dataframe tbody tr th {\n",
       "        vertical-align: top;\n",
       "    }\n",
       "\n",
       "    .dataframe thead th {\n",
       "        text-align: right;\n",
       "    }\n",
       "</style>\n",
       "<table border=\"1\" class=\"dataframe\">\n",
       "  <thead>\n",
       "    <tr style=\"text-align: right;\">\n",
       "      <th></th>\n",
       "      <th>Year</th>\n",
       "      <th>Final_Standing</th>\n",
       "      <th>Games_Played</th>\n",
       "      <th>Unnamed: 7</th>\n",
       "      <th>Games_Won</th>\n",
       "      <th>Games_Lost</th>\n",
       "      <th>Runs_Scored</th>\n",
       "      <th>At_Bats</th>\n",
       "      <th>Hits</th>\n",
       "      <th>Doubles</th>\n",
       "      <th>...</th>\n",
       "      <th>Saves</th>\n",
       "      <th>Infield_Put_Outs</th>\n",
       "      <th>Hits_Allowed</th>\n",
       "      <th>Home_Run_Allowed</th>\n",
       "      <th>Walks_Allowed</th>\n",
       "      <th>Strikeouts_Allowed</th>\n",
       "      <th>Errors</th>\n",
       "      <th>Double_Plays</th>\n",
       "      <th>Fielding_Percentage</th>\n",
       "      <th>Attendance</th>\n",
       "    </tr>\n",
       "  </thead>\n",
       "  <tbody>\n",
       "    <tr>\n",
       "      <th>Year</th>\n",
       "      <td>1.000000</td>\n",
       "      <td>-0.102183</td>\n",
       "      <td>0.287844</td>\n",
       "      <td>0.281571</td>\n",
       "      <td>0.123664</td>\n",
       "      <td>0.123898</td>\n",
       "      <td>0.227369</td>\n",
       "      <td>0.306147</td>\n",
       "      <td>0.277135</td>\n",
       "      <td>0.488262</td>\n",
       "      <td>...</td>\n",
       "      <td>0.006442</td>\n",
       "      <td>0.267082</td>\n",
       "      <td>0.262800</td>\n",
       "      <td>0.399072</td>\n",
       "      <td>0.067532</td>\n",
       "      <td>0.512945</td>\n",
       "      <td>-0.309249</td>\n",
       "      <td>0.188359</td>\n",
       "      <td>0.603883</td>\n",
       "      <td>0.204119</td>\n",
       "    </tr>\n",
       "    <tr>\n",
       "      <th>Final_Standing</th>\n",
       "      <td>-0.102183</td>\n",
       "      <td>1.000000</td>\n",
       "      <td>0.052529</td>\n",
       "      <td>0.041957</td>\n",
       "      <td>-0.741113</td>\n",
       "      <td>0.788517</td>\n",
       "      <td>-0.431553</td>\n",
       "      <td>0.015545</td>\n",
       "      <td>-0.194709</td>\n",
       "      <td>-0.165722</td>\n",
       "      <td>...</td>\n",
       "      <td>-0.458741</td>\n",
       "      <td>0.005764</td>\n",
       "      <td>0.298186</td>\n",
       "      <td>0.162129</td>\n",
       "      <td>0.311767</td>\n",
       "      <td>-0.266053</td>\n",
       "      <td>0.316957</td>\n",
       "      <td>0.177746</td>\n",
       "      <td>-0.243729</td>\n",
       "      <td>-0.401098</td>\n",
       "    </tr>\n",
       "    <tr>\n",
       "      <th>Games_Played</th>\n",
       "      <td>0.287844</td>\n",
       "      <td>0.052529</td>\n",
       "      <td>1.000000</td>\n",
       "      <td>0.979662</td>\n",
       "      <td>0.431287</td>\n",
       "      <td>0.426342</td>\n",
       "      <td>0.456536</td>\n",
       "      <td>0.977186</td>\n",
       "      <td>0.756702</td>\n",
       "      <td>0.521019</td>\n",
       "      <td>...</td>\n",
       "      <td>0.375009</td>\n",
       "      <td>0.991657</td>\n",
       "      <td>0.715717</td>\n",
       "      <td>0.336367</td>\n",
       "      <td>0.426248</td>\n",
       "      <td>0.546128</td>\n",
       "      <td>0.287454</td>\n",
       "      <td>0.476718</td>\n",
       "      <td>0.159657</td>\n",
       "      <td>0.207552</td>\n",
       "    </tr>\n",
       "    <tr>\n",
       "      <th>Unnamed: 7</th>\n",
       "      <td>0.281571</td>\n",
       "      <td>0.041957</td>\n",
       "      <td>0.979662</td>\n",
       "      <td>1.000000</td>\n",
       "      <td>0.427578</td>\n",
       "      <td>0.412622</td>\n",
       "      <td>0.451428</td>\n",
       "      <td>0.957495</td>\n",
       "      <td>0.744344</td>\n",
       "      <td>0.511617</td>\n",
       "      <td>...</td>\n",
       "      <td>0.372312</td>\n",
       "      <td>0.972317</td>\n",
       "      <td>0.708665</td>\n",
       "      <td>0.338435</td>\n",
       "      <td>0.409030</td>\n",
       "      <td>0.531467</td>\n",
       "      <td>0.270024</td>\n",
       "      <td>0.465946</td>\n",
       "      <td>0.170231</td>\n",
       "      <td>0.222332</td>\n",
       "    </tr>\n",
       "    <tr>\n",
       "      <th>Games_Won</th>\n",
       "      <td>0.123664</td>\n",
       "      <td>-0.741113</td>\n",
       "      <td>0.431287</td>\n",
       "      <td>0.427578</td>\n",
       "      <td>1.000000</td>\n",
       "      <td>-0.632107</td>\n",
       "      <td>0.627615</td>\n",
       "      <td>0.451233</td>\n",
       "      <td>0.548153</td>\n",
       "      <td>0.391859</td>\n",
       "      <td>...</td>\n",
       "      <td>0.702968</td>\n",
       "      <td>0.482071</td>\n",
       "      <td>-0.005547</td>\n",
       "      <td>-0.117280</td>\n",
       "      <td>-0.151105</td>\n",
       "      <td>0.491782</td>\n",
       "      <td>-0.165894</td>\n",
       "      <td>0.052713</td>\n",
       "      <td>0.282799</td>\n",
       "      <td>0.517426</td>\n",
       "    </tr>\n",
       "    <tr>\n",
       "      <th>Games_Lost</th>\n",
       "      <td>0.123898</td>\n",
       "      <td>0.788517</td>\n",
       "      <td>0.426342</td>\n",
       "      <td>0.412622</td>\n",
       "      <td>-0.632107</td>\n",
       "      <td>1.000000</td>\n",
       "      <td>-0.237626</td>\n",
       "      <td>0.386741</td>\n",
       "      <td>0.100145</td>\n",
       "      <td>0.054205</td>\n",
       "      <td>...</td>\n",
       "      <td>-0.383305</td>\n",
       "      <td>0.368332</td>\n",
       "      <td>0.619475</td>\n",
       "      <td>0.405548</td>\n",
       "      <td>0.517503</td>\n",
       "      <td>-0.023376</td>\n",
       "      <td>0.412501</td>\n",
       "      <td>0.356514</td>\n",
       "      <td>-0.145231</td>\n",
       "      <td>-0.340424</td>\n",
       "    </tr>\n",
       "    <tr>\n",
       "      <th>Runs_Scored</th>\n",
       "      <td>0.227369</td>\n",
       "      <td>-0.431553</td>\n",
       "      <td>0.456536</td>\n",
       "      <td>0.451428</td>\n",
       "      <td>0.627615</td>\n",
       "      <td>-0.237626</td>\n",
       "      <td>1.000000</td>\n",
       "      <td>0.566294</td>\n",
       "      <td>0.812417</td>\n",
       "      <td>0.666345</td>\n",
       "      <td>...</td>\n",
       "      <td>0.273339</td>\n",
       "      <td>0.459865</td>\n",
       "      <td>0.483065</td>\n",
       "      <td>0.456906</td>\n",
       "      <td>0.233159</td>\n",
       "      <td>0.341290</td>\n",
       "      <td>-0.018373</td>\n",
       "      <td>0.292467</td>\n",
       "      <td>0.200377</td>\n",
       "      <td>0.383966</td>\n",
       "    </tr>\n",
       "    <tr>\n",
       "      <th>At_Bats</th>\n",
       "      <td>0.306147</td>\n",
       "      <td>0.015545</td>\n",
       "      <td>0.977186</td>\n",
       "      <td>0.957495</td>\n",
       "      <td>0.451233</td>\n",
       "      <td>0.386741</td>\n",
       "      <td>0.566294</td>\n",
       "      <td>1.000000</td>\n",
       "      <td>0.856838</td>\n",
       "      <td>0.603605</td>\n",
       "      <td>...</td>\n",
       "      <td>0.351569</td>\n",
       "      <td>0.976522</td>\n",
       "      <td>0.754550</td>\n",
       "      <td>0.395554</td>\n",
       "      <td>0.441981</td>\n",
       "      <td>0.541776</td>\n",
       "      <td>0.255382</td>\n",
       "      <td>0.494612</td>\n",
       "      <td>0.180787</td>\n",
       "      <td>0.232912</td>\n",
       "    </tr>\n",
       "    <tr>\n",
       "      <th>Hits</th>\n",
       "      <td>0.277135</td>\n",
       "      <td>-0.194709</td>\n",
       "      <td>0.756702</td>\n",
       "      <td>0.744344</td>\n",
       "      <td>0.548153</td>\n",
       "      <td>0.100145</td>\n",
       "      <td>0.812417</td>\n",
       "      <td>0.856838</td>\n",
       "      <td>1.000000</td>\n",
       "      <td>0.715815</td>\n",
       "      <td>...</td>\n",
       "      <td>0.322362</td>\n",
       "      <td>0.756826</td>\n",
       "      <td>0.676103</td>\n",
       "      <td>0.441132</td>\n",
       "      <td>0.345346</td>\n",
       "      <td>0.449514</td>\n",
       "      <td>0.105993</td>\n",
       "      <td>0.433575</td>\n",
       "      <td>0.207507</td>\n",
       "      <td>0.337903</td>\n",
       "    </tr>\n",
       "    <tr>\n",
       "      <th>Doubles</th>\n",
       "      <td>0.488262</td>\n",
       "      <td>-0.165722</td>\n",
       "      <td>0.521019</td>\n",
       "      <td>0.511617</td>\n",
       "      <td>0.391859</td>\n",
       "      <td>0.054205</td>\n",
       "      <td>0.666345</td>\n",
       "      <td>0.603605</td>\n",
       "      <td>0.715815</td>\n",
       "      <td>1.000000</td>\n",
       "      <td>...</td>\n",
       "      <td>0.165411</td>\n",
       "      <td>0.512710</td>\n",
       "      <td>0.499351</td>\n",
       "      <td>0.408222</td>\n",
       "      <td>0.220238</td>\n",
       "      <td>0.454268</td>\n",
       "      <td>-0.044384</td>\n",
       "      <td>0.310247</td>\n",
       "      <td>0.336496</td>\n",
       "      <td>0.175485</td>\n",
       "    </tr>\n",
       "    <tr>\n",
       "      <th>Triples</th>\n",
       "      <td>-0.058134</td>\n",
       "      <td>0.008569</td>\n",
       "      <td>0.151030</td>\n",
       "      <td>0.146789</td>\n",
       "      <td>0.035709</td>\n",
       "      <td>0.094372</td>\n",
       "      <td>0.057284</td>\n",
       "      <td>0.154711</td>\n",
       "      <td>0.173165</td>\n",
       "      <td>0.071823</td>\n",
       "      <td>...</td>\n",
       "      <td>0.055334</td>\n",
       "      <td>0.149050</td>\n",
       "      <td>0.106721</td>\n",
       "      <td>0.000927</td>\n",
       "      <td>0.049534</td>\n",
       "      <td>-0.010431</td>\n",
       "      <td>0.084912</td>\n",
       "      <td>0.049750</td>\n",
       "      <td>-0.015880</td>\n",
       "      <td>0.003470</td>\n",
       "    </tr>\n",
       "    <tr>\n",
       "      <th>Home_Runs</th>\n",
       "      <td>0.323339</td>\n",
       "      <td>-0.347558</td>\n",
       "      <td>0.274204</td>\n",
       "      <td>0.265166</td>\n",
       "      <td>0.422444</td>\n",
       "      <td>-0.188888</td>\n",
       "      <td>0.760520</td>\n",
       "      <td>0.351184</td>\n",
       "      <td>0.480596</td>\n",
       "      <td>0.468252</td>\n",
       "      <td>...</td>\n",
       "      <td>0.164178</td>\n",
       "      <td>0.271952</td>\n",
       "      <td>0.344645</td>\n",
       "      <td>0.472043</td>\n",
       "      <td>0.206654</td>\n",
       "      <td>0.334698</td>\n",
       "      <td>-0.068164</td>\n",
       "      <td>0.199390</td>\n",
       "      <td>0.232407</td>\n",
       "      <td>0.353559</td>\n",
       "    </tr>\n",
       "    <tr>\n",
       "      <th>Walks</th>\n",
       "      <td>0.063179</td>\n",
       "      <td>-0.346693</td>\n",
       "      <td>0.401212</td>\n",
       "      <td>0.399180</td>\n",
       "      <td>0.536093</td>\n",
       "      <td>-0.193270</td>\n",
       "      <td>0.651081</td>\n",
       "      <td>0.415295</td>\n",
       "      <td>0.440473</td>\n",
       "      <td>0.358439</td>\n",
       "      <td>...</td>\n",
       "      <td>0.266852</td>\n",
       "      <td>0.420506</td>\n",
       "      <td>0.279724</td>\n",
       "      <td>0.189981</td>\n",
       "      <td>0.227284</td>\n",
       "      <td>0.302050</td>\n",
       "      <td>0.011936</td>\n",
       "      <td>0.184112</td>\n",
       "      <td>0.089160</td>\n",
       "      <td>0.290256</td>\n",
       "    </tr>\n",
       "    <tr>\n",
       "      <th>Strike_Outs</th>\n",
       "      <td>0.510976</td>\n",
       "      <td>0.067849</td>\n",
       "      <td>0.542786</td>\n",
       "      <td>0.530953</td>\n",
       "      <td>0.125259</td>\n",
       "      <td>0.341169</td>\n",
       "      <td>0.272377</td>\n",
       "      <td>0.518660</td>\n",
       "      <td>0.287843</td>\n",
       "      <td>0.386811</td>\n",
       "      <td>...</td>\n",
       "      <td>0.069273</td>\n",
       "      <td>0.530982</td>\n",
       "      <td>0.455973</td>\n",
       "      <td>0.391678</td>\n",
       "      <td>0.331121</td>\n",
       "      <td>0.511476</td>\n",
       "      <td>0.147750</td>\n",
       "      <td>0.230392</td>\n",
       "      <td>0.185121</td>\n",
       "      <td>0.043196</td>\n",
       "    </tr>\n",
       "    <tr>\n",
       "      <th>Stolen_Bases</th>\n",
       "      <td>-0.247367</td>\n",
       "      <td>-0.067532</td>\n",
       "      <td>0.124739</td>\n",
       "      <td>0.115302</td>\n",
       "      <td>0.159598</td>\n",
       "      <td>-0.053660</td>\n",
       "      <td>0.018980</td>\n",
       "      <td>0.095057</td>\n",
       "      <td>0.074191</td>\n",
       "      <td>-0.132167</td>\n",
       "      <td>...</td>\n",
       "      <td>0.188570</td>\n",
       "      <td>0.143971</td>\n",
       "      <td>-0.012275</td>\n",
       "      <td>-0.100225</td>\n",
       "      <td>-0.020889</td>\n",
       "      <td>-0.009357</td>\n",
       "      <td>0.166781</td>\n",
       "      <td>-0.090218</td>\n",
       "      <td>-0.213727</td>\n",
       "      <td>0.007232</td>\n",
       "    </tr>\n",
       "    <tr>\n",
       "      <th>Caught_Stealing</th>\n",
       "      <td>-0.489164</td>\n",
       "      <td>0.113533</td>\n",
       "      <td>0.109139</td>\n",
       "      <td>0.101175</td>\n",
       "      <td>0.012692</td>\n",
       "      <td>0.081201</td>\n",
       "      <td>-0.124610</td>\n",
       "      <td>0.052273</td>\n",
       "      <td>0.003818</td>\n",
       "      <td>-0.263638</td>\n",
       "      <td>...</td>\n",
       "      <td>0.119888</td>\n",
       "      <td>0.123129</td>\n",
       "      <td>0.025446</td>\n",
       "      <td>-0.155207</td>\n",
       "      <td>-0.008325</td>\n",
       "      <td>-0.170665</td>\n",
       "      <td>0.291782</td>\n",
       "      <td>0.004076</td>\n",
       "      <td>-0.350417</td>\n",
       "      <td>-0.113162</td>\n",
       "    </tr>\n",
       "    <tr>\n",
       "      <th>Hit_By_Pitch</th>\n",
       "      <td>-0.127444</td>\n",
       "      <td>-0.071447</td>\n",
       "      <td>-0.019346</td>\n",
       "      <td>-0.012868</td>\n",
       "      <td>0.112031</td>\n",
       "      <td>-0.114285</td>\n",
       "      <td>0.197890</td>\n",
       "      <td>0.044433</td>\n",
       "      <td>0.042089</td>\n",
       "      <td>0.096554</td>\n",
       "      <td>...</td>\n",
       "      <td>0.079263</td>\n",
       "      <td>0.056405</td>\n",
       "      <td>0.095470</td>\n",
       "      <td>0.088954</td>\n",
       "      <td>-0.082970</td>\n",
       "      <td>-0.062723</td>\n",
       "      <td>0.018804</td>\n",
       "      <td>0.062466</td>\n",
       "      <td>-0.016339</td>\n",
       "      <td>0.010406</td>\n",
       "    </tr>\n",
       "    <tr>\n",
       "      <th>Sacrifice_Fly</th>\n",
       "      <td>-0.131649</td>\n",
       "      <td>-0.264089</td>\n",
       "      <td>0.114591</td>\n",
       "      <td>0.081298</td>\n",
       "      <td>0.327577</td>\n",
       "      <td>-0.324428</td>\n",
       "      <td>0.448835</td>\n",
       "      <td>0.244206</td>\n",
       "      <td>0.439094</td>\n",
       "      <td>0.260810</td>\n",
       "      <td>...</td>\n",
       "      <td>0.127361</td>\n",
       "      <td>0.119090</td>\n",
       "      <td>0.013901</td>\n",
       "      <td>0.040570</td>\n",
       "      <td>-0.120813</td>\n",
       "      <td>-0.045245</td>\n",
       "      <td>-0.132817</td>\n",
       "      <td>0.027275</td>\n",
       "      <td>0.128832</td>\n",
       "      <td>0.134692</td>\n",
       "    </tr>\n",
       "    <tr>\n",
       "      <th>Runs_Against</th>\n",
       "      <td>0.218410</td>\n",
       "      <td>0.413515</td>\n",
       "      <td>0.434838</td>\n",
       "      <td>0.430272</td>\n",
       "      <td>-0.298179</td>\n",
       "      <td>0.671785</td>\n",
       "      <td>0.408190</td>\n",
       "      <td>0.492439</td>\n",
       "      <td>0.486876</td>\n",
       "      <td>0.399333</td>\n",
       "      <td>...</td>\n",
       "      <td>-0.236674</td>\n",
       "      <td>0.376670</td>\n",
       "      <td>0.858325</td>\n",
       "      <td>0.764869</td>\n",
       "      <td>0.619799</td>\n",
       "      <td>0.024239</td>\n",
       "      <td>0.327354</td>\n",
       "      <td>0.445638</td>\n",
       "      <td>-0.052171</td>\n",
       "      <td>-0.130729</td>\n",
       "    </tr>\n",
       "    <tr>\n",
       "      <th>Earned_Runs</th>\n",
       "      <td>0.263521</td>\n",
       "      <td>0.383421</td>\n",
       "      <td>0.432372</td>\n",
       "      <td>0.428635</td>\n",
       "      <td>-0.274627</td>\n",
       "      <td>0.646126</td>\n",
       "      <td>0.428289</td>\n",
       "      <td>0.493529</td>\n",
       "      <td>0.501294</td>\n",
       "      <td>0.420008</td>\n",
       "      <td>...</td>\n",
       "      <td>-0.224449</td>\n",
       "      <td>0.374935</td>\n",
       "      <td>0.853549</td>\n",
       "      <td>0.793155</td>\n",
       "      <td>0.612429</td>\n",
       "      <td>0.037050</td>\n",
       "      <td>0.220400</td>\n",
       "      <td>0.448723</td>\n",
       "      <td>0.039271</td>\n",
       "      <td>-0.099008</td>\n",
       "    </tr>\n",
       "    <tr>\n",
       "      <th>Earned_Run_Average</th>\n",
       "      <td>0.132157</td>\n",
       "      <td>0.405788</td>\n",
       "      <td>-0.079002</td>\n",
       "      <td>-0.070027</td>\n",
       "      <td>-0.554553</td>\n",
       "      <td>0.487567</td>\n",
       "      <td>0.203573</td>\n",
       "      <td>-0.006255</td>\n",
       "      <td>0.119606</td>\n",
       "      <td>0.165986</td>\n",
       "      <td>...</td>\n",
       "      <td>-0.462619</td>\n",
       "      <td>-0.144411</td>\n",
       "      <td>0.540160</td>\n",
       "      <td>0.683160</td>\n",
       "      <td>0.435644</td>\n",
       "      <td>-0.272136</td>\n",
       "      <td>0.086112</td>\n",
       "      <td>0.228585</td>\n",
       "      <td>-0.046232</td>\n",
       "      <td>-0.227338</td>\n",
       "    </tr>\n",
       "    <tr>\n",
       "      <th>Complete_Games</th>\n",
       "      <td>-0.600063</td>\n",
       "      <td>0.004427</td>\n",
       "      <td>-0.047342</td>\n",
       "      <td>-0.051314</td>\n",
       "      <td>0.080280</td>\n",
       "      <td>-0.121123</td>\n",
       "      <td>-0.112656</td>\n",
       "      <td>-0.078799</td>\n",
       "      <td>-0.113080</td>\n",
       "      <td>-0.271443</td>\n",
       "      <td>...</td>\n",
       "      <td>-0.066039</td>\n",
       "      <td>-0.029404</td>\n",
       "      <td>-0.193182</td>\n",
       "      <td>-0.367146</td>\n",
       "      <td>-0.100027</td>\n",
       "      <td>-0.220804</td>\n",
       "      <td>0.168201</td>\n",
       "      <td>-0.062788</td>\n",
       "      <td>-0.367326</td>\n",
       "      <td>-0.056390</td>\n",
       "    </tr>\n",
       "    <tr>\n",
       "      <th>Shutout</th>\n",
       "      <td>0.085466</td>\n",
       "      <td>-0.283777</td>\n",
       "      <td>0.336133</td>\n",
       "      <td>0.319275</td>\n",
       "      <td>0.526188</td>\n",
       "      <td>-0.237612</td>\n",
       "      <td>0.035839</td>\n",
       "      <td>0.286745</td>\n",
       "      <td>0.161952</td>\n",
       "      <td>0.099849</td>\n",
       "      <td>...</td>\n",
       "      <td>0.374470</td>\n",
       "      <td>0.368648</td>\n",
       "      <td>-0.152429</td>\n",
       "      <td>-0.339331</td>\n",
       "      <td>-0.155752</td>\n",
       "      <td>0.380937</td>\n",
       "      <td>-0.097747</td>\n",
       "      <td>0.020821</td>\n",
       "      <td>0.170989</td>\n",
       "      <td>0.260617</td>\n",
       "    </tr>\n",
       "    <tr>\n",
       "      <th>Saves</th>\n",
       "      <td>0.006442</td>\n",
       "      <td>-0.458741</td>\n",
       "      <td>0.375009</td>\n",
       "      <td>0.372312</td>\n",
       "      <td>0.702968</td>\n",
       "      <td>-0.383305</td>\n",
       "      <td>0.273339</td>\n",
       "      <td>0.351569</td>\n",
       "      <td>0.322362</td>\n",
       "      <td>0.165411</td>\n",
       "      <td>...</td>\n",
       "      <td>1.000000</td>\n",
       "      <td>0.413490</td>\n",
       "      <td>0.018344</td>\n",
       "      <td>-0.130731</td>\n",
       "      <td>-0.105382</td>\n",
       "      <td>0.307530</td>\n",
       "      <td>-0.025564</td>\n",
       "      <td>0.016031</td>\n",
       "      <td>0.140466</td>\n",
       "      <td>0.305828</td>\n",
       "    </tr>\n",
       "    <tr>\n",
       "      <th>Infield_Put_Outs</th>\n",
       "      <td>0.267082</td>\n",
       "      <td>0.005764</td>\n",
       "      <td>0.991657</td>\n",
       "      <td>0.972317</td>\n",
       "      <td>0.482071</td>\n",
       "      <td>0.368332</td>\n",
       "      <td>0.459865</td>\n",
       "      <td>0.976522</td>\n",
       "      <td>0.756826</td>\n",
       "      <td>0.512710</td>\n",
       "      <td>...</td>\n",
       "      <td>0.413490</td>\n",
       "      <td>1.000000</td>\n",
       "      <td>0.678277</td>\n",
       "      <td>0.294218</td>\n",
       "      <td>0.399347</td>\n",
       "      <td>0.565801</td>\n",
       "      <td>0.270890</td>\n",
       "      <td>0.458511</td>\n",
       "      <td>0.165711</td>\n",
       "      <td>0.227992</td>\n",
       "    </tr>\n",
       "    <tr>\n",
       "      <th>Hits_Allowed</th>\n",
       "      <td>0.262800</td>\n",
       "      <td>0.298186</td>\n",
       "      <td>0.715717</td>\n",
       "      <td>0.708665</td>\n",
       "      <td>-0.005547</td>\n",
       "      <td>0.619475</td>\n",
       "      <td>0.483065</td>\n",
       "      <td>0.754550</td>\n",
       "      <td>0.676103</td>\n",
       "      <td>0.499351</td>\n",
       "      <td>...</td>\n",
       "      <td>0.018344</td>\n",
       "      <td>0.678277</td>\n",
       "      <td>1.000000</td>\n",
       "      <td>0.633537</td>\n",
       "      <td>0.459956</td>\n",
       "      <td>0.154599</td>\n",
       "      <td>0.329423</td>\n",
       "      <td>0.572159</td>\n",
       "      <td>0.050921</td>\n",
       "      <td>-0.018887</td>\n",
       "    </tr>\n",
       "    <tr>\n",
       "      <th>Home_Run_Allowed</th>\n",
       "      <td>0.399072</td>\n",
       "      <td>0.162129</td>\n",
       "      <td>0.336367</td>\n",
       "      <td>0.338435</td>\n",
       "      <td>-0.117280</td>\n",
       "      <td>0.405548</td>\n",
       "      <td>0.456906</td>\n",
       "      <td>0.395554</td>\n",
       "      <td>0.441132</td>\n",
       "      <td>0.408222</td>\n",
       "      <td>...</td>\n",
       "      <td>-0.130731</td>\n",
       "      <td>0.294218</td>\n",
       "      <td>0.633537</td>\n",
       "      <td>1.000000</td>\n",
       "      <td>0.367217</td>\n",
       "      <td>0.157033</td>\n",
       "      <td>0.010923</td>\n",
       "      <td>0.296836</td>\n",
       "      <td>0.204935</td>\n",
       "      <td>-0.006354</td>\n",
       "    </tr>\n",
       "    <tr>\n",
       "      <th>Walks_Allowed</th>\n",
       "      <td>0.067532</td>\n",
       "      <td>0.311767</td>\n",
       "      <td>0.426248</td>\n",
       "      <td>0.409030</td>\n",
       "      <td>-0.151105</td>\n",
       "      <td>0.517503</td>\n",
       "      <td>0.233159</td>\n",
       "      <td>0.441981</td>\n",
       "      <td>0.345346</td>\n",
       "      <td>0.220238</td>\n",
       "      <td>...</td>\n",
       "      <td>-0.105382</td>\n",
       "      <td>0.399347</td>\n",
       "      <td>0.459956</td>\n",
       "      <td>0.367217</td>\n",
       "      <td>1.000000</td>\n",
       "      <td>0.197854</td>\n",
       "      <td>0.270652</td>\n",
       "      <td>0.395771</td>\n",
       "      <td>-0.074501</td>\n",
       "      <td>-0.043617</td>\n",
       "    </tr>\n",
       "    <tr>\n",
       "      <th>Strikeouts_Allowed</th>\n",
       "      <td>0.512945</td>\n",
       "      <td>-0.266053</td>\n",
       "      <td>0.546128</td>\n",
       "      <td>0.531467</td>\n",
       "      <td>0.491782</td>\n",
       "      <td>-0.023376</td>\n",
       "      <td>0.341290</td>\n",
       "      <td>0.541776</td>\n",
       "      <td>0.449514</td>\n",
       "      <td>0.454268</td>\n",
       "      <td>...</td>\n",
       "      <td>0.307530</td>\n",
       "      <td>0.565801</td>\n",
       "      <td>0.154599</td>\n",
       "      <td>0.157033</td>\n",
       "      <td>0.197854</td>\n",
       "      <td>1.000000</td>\n",
       "      <td>-0.034792</td>\n",
       "      <td>-0.000858</td>\n",
       "      <td>0.304407</td>\n",
       "      <td>0.369663</td>\n",
       "    </tr>\n",
       "    <tr>\n",
       "      <th>Errors</th>\n",
       "      <td>-0.309249</td>\n",
       "      <td>0.316957</td>\n",
       "      <td>0.287454</td>\n",
       "      <td>0.270024</td>\n",
       "      <td>-0.165894</td>\n",
       "      <td>0.412501</td>\n",
       "      <td>-0.018373</td>\n",
       "      <td>0.255382</td>\n",
       "      <td>0.105993</td>\n",
       "      <td>-0.044384</td>\n",
       "      <td>...</td>\n",
       "      <td>-0.025564</td>\n",
       "      <td>0.270890</td>\n",
       "      <td>0.329423</td>\n",
       "      <td>0.010923</td>\n",
       "      <td>0.270652</td>\n",
       "      <td>-0.034792</td>\n",
       "      <td>1.000000</td>\n",
       "      <td>0.103886</td>\n",
       "      <td>-0.739829</td>\n",
       "      <td>-0.216631</td>\n",
       "    </tr>\n",
       "    <tr>\n",
       "      <th>Double_Plays</th>\n",
       "      <td>0.188359</td>\n",
       "      <td>0.177746</td>\n",
       "      <td>0.476718</td>\n",
       "      <td>0.465946</td>\n",
       "      <td>0.052713</td>\n",
       "      <td>0.356514</td>\n",
       "      <td>0.292467</td>\n",
       "      <td>0.494612</td>\n",
       "      <td>0.433575</td>\n",
       "      <td>0.310247</td>\n",
       "      <td>...</td>\n",
       "      <td>0.016031</td>\n",
       "      <td>0.458511</td>\n",
       "      <td>0.572159</td>\n",
       "      <td>0.296836</td>\n",
       "      <td>0.395771</td>\n",
       "      <td>-0.000858</td>\n",
       "      <td>0.103886</td>\n",
       "      <td>1.000000</td>\n",
       "      <td>0.147096</td>\n",
       "      <td>-0.051514</td>\n",
       "    </tr>\n",
       "    <tr>\n",
       "      <th>Fielding_Percentage</th>\n",
       "      <td>0.603883</td>\n",
       "      <td>-0.243729</td>\n",
       "      <td>0.159657</td>\n",
       "      <td>0.170231</td>\n",
       "      <td>0.282799</td>\n",
       "      <td>-0.145231</td>\n",
       "      <td>0.200377</td>\n",
       "      <td>0.180787</td>\n",
       "      <td>0.207507</td>\n",
       "      <td>0.336496</td>\n",
       "      <td>...</td>\n",
       "      <td>0.140466</td>\n",
       "      <td>0.165711</td>\n",
       "      <td>0.050921</td>\n",
       "      <td>0.204935</td>\n",
       "      <td>-0.074501</td>\n",
       "      <td>0.304407</td>\n",
       "      <td>-0.739829</td>\n",
       "      <td>0.147096</td>\n",
       "      <td>1.000000</td>\n",
       "      <td>0.277124</td>\n",
       "    </tr>\n",
       "    <tr>\n",
       "      <th>Attendance</th>\n",
       "      <td>0.204119</td>\n",
       "      <td>-0.401098</td>\n",
       "      <td>0.207552</td>\n",
       "      <td>0.222332</td>\n",
       "      <td>0.517426</td>\n",
       "      <td>-0.340424</td>\n",
       "      <td>0.383966</td>\n",
       "      <td>0.232912</td>\n",
       "      <td>0.337903</td>\n",
       "      <td>0.175485</td>\n",
       "      <td>...</td>\n",
       "      <td>0.305828</td>\n",
       "      <td>0.227992</td>\n",
       "      <td>-0.018887</td>\n",
       "      <td>-0.006354</td>\n",
       "      <td>-0.043617</td>\n",
       "      <td>0.369663</td>\n",
       "      <td>-0.216631</td>\n",
       "      <td>-0.051514</td>\n",
       "      <td>0.277124</td>\n",
       "      <td>1.000000</td>\n",
       "    </tr>\n",
       "  </tbody>\n",
       "</table>\n",
       "<p>33 rows × 33 columns</p>\n",
       "</div>"
      ],
      "text/plain": [
       "                         Year  Final_Standing  Games_Played  Unnamed: 7  \\\n",
       "Year                 1.000000       -0.102183      0.287844    0.281571   \n",
       "Final_Standing      -0.102183        1.000000      0.052529    0.041957   \n",
       "Games_Played         0.287844        0.052529      1.000000    0.979662   \n",
       "Unnamed: 7           0.281571        0.041957      0.979662    1.000000   \n",
       "Games_Won            0.123664       -0.741113      0.431287    0.427578   \n",
       "Games_Lost           0.123898        0.788517      0.426342    0.412622   \n",
       "Runs_Scored          0.227369       -0.431553      0.456536    0.451428   \n",
       "At_Bats              0.306147        0.015545      0.977186    0.957495   \n",
       "Hits                 0.277135       -0.194709      0.756702    0.744344   \n",
       "Doubles              0.488262       -0.165722      0.521019    0.511617   \n",
       "Triples             -0.058134        0.008569      0.151030    0.146789   \n",
       "Home_Runs            0.323339       -0.347558      0.274204    0.265166   \n",
       "Walks                0.063179       -0.346693      0.401212    0.399180   \n",
       "Strike_Outs          0.510976        0.067849      0.542786    0.530953   \n",
       "Stolen_Bases        -0.247367       -0.067532      0.124739    0.115302   \n",
       "Caught_Stealing     -0.489164        0.113533      0.109139    0.101175   \n",
       "Hit_By_Pitch        -0.127444       -0.071447     -0.019346   -0.012868   \n",
       "Sacrifice_Fly       -0.131649       -0.264089      0.114591    0.081298   \n",
       "Runs_Against         0.218410        0.413515      0.434838    0.430272   \n",
       "Earned_Runs          0.263521        0.383421      0.432372    0.428635   \n",
       "Earned_Run_Average   0.132157        0.405788     -0.079002   -0.070027   \n",
       "Complete_Games      -0.600063        0.004427     -0.047342   -0.051314   \n",
       "Shutout              0.085466       -0.283777      0.336133    0.319275   \n",
       "Saves                0.006442       -0.458741      0.375009    0.372312   \n",
       "Infield_Put_Outs     0.267082        0.005764      0.991657    0.972317   \n",
       "Hits_Allowed         0.262800        0.298186      0.715717    0.708665   \n",
       "Home_Run_Allowed     0.399072        0.162129      0.336367    0.338435   \n",
       "Walks_Allowed        0.067532        0.311767      0.426248    0.409030   \n",
       "Strikeouts_Allowed   0.512945       -0.266053      0.546128    0.531467   \n",
       "Errors              -0.309249        0.316957      0.287454    0.270024   \n",
       "Double_Plays         0.188359        0.177746      0.476718    0.465946   \n",
       "Fielding_Percentage  0.603883       -0.243729      0.159657    0.170231   \n",
       "Attendance           0.204119       -0.401098      0.207552    0.222332   \n",
       "\n",
       "                     Games_Won  Games_Lost  Runs_Scored   At_Bats      Hits  \\\n",
       "Year                  0.123664    0.123898     0.227369  0.306147  0.277135   \n",
       "Final_Standing       -0.741113    0.788517    -0.431553  0.015545 -0.194709   \n",
       "Games_Played          0.431287    0.426342     0.456536  0.977186  0.756702   \n",
       "Unnamed: 7            0.427578    0.412622     0.451428  0.957495  0.744344   \n",
       "Games_Won             1.000000   -0.632107     0.627615  0.451233  0.548153   \n",
       "Games_Lost           -0.632107    1.000000    -0.237626  0.386741  0.100145   \n",
       "Runs_Scored           0.627615   -0.237626     1.000000  0.566294  0.812417   \n",
       "At_Bats               0.451233    0.386741     0.566294  1.000000  0.856838   \n",
       "Hits                  0.548153    0.100145     0.812417  0.856838  1.000000   \n",
       "Doubles               0.391859    0.054205     0.666345  0.603605  0.715815   \n",
       "Triples               0.035709    0.094372     0.057284  0.154711  0.173165   \n",
       "Home_Runs             0.422444   -0.188888     0.760520  0.351184  0.480596   \n",
       "Walks                 0.536093   -0.193270     0.651081  0.415295  0.440473   \n",
       "Strike_Outs           0.125259    0.341169     0.272377  0.518660  0.287843   \n",
       "Stolen_Bases          0.159598   -0.053660     0.018980  0.095057  0.074191   \n",
       "Caught_Stealing       0.012692    0.081201    -0.124610  0.052273  0.003818   \n",
       "Hit_By_Pitch          0.112031   -0.114285     0.197890  0.044433  0.042089   \n",
       "Sacrifice_Fly         0.327577   -0.324428     0.448835  0.244206  0.439094   \n",
       "Runs_Against         -0.298179    0.671785     0.408190  0.492439  0.486876   \n",
       "Earned_Runs          -0.274627    0.646126     0.428289  0.493529  0.501294   \n",
       "Earned_Run_Average   -0.554553    0.487567     0.203573 -0.006255  0.119606   \n",
       "Complete_Games        0.080280   -0.121123    -0.112656 -0.078799 -0.113080   \n",
       "Shutout               0.526188   -0.237612     0.035839  0.286745  0.161952   \n",
       "Saves                 0.702968   -0.383305     0.273339  0.351569  0.322362   \n",
       "Infield_Put_Outs      0.482071    0.368332     0.459865  0.976522  0.756826   \n",
       "Hits_Allowed         -0.005547    0.619475     0.483065  0.754550  0.676103   \n",
       "Home_Run_Allowed     -0.117280    0.405548     0.456906  0.395554  0.441132   \n",
       "Walks_Allowed        -0.151105    0.517503     0.233159  0.441981  0.345346   \n",
       "Strikeouts_Allowed    0.491782   -0.023376     0.341290  0.541776  0.449514   \n",
       "Errors               -0.165894    0.412501    -0.018373  0.255382  0.105993   \n",
       "Double_Plays          0.052713    0.356514     0.292467  0.494612  0.433575   \n",
       "Fielding_Percentage   0.282799   -0.145231     0.200377  0.180787  0.207507   \n",
       "Attendance            0.517426   -0.340424     0.383966  0.232912  0.337903   \n",
       "\n",
       "                      Doubles  ...     Saves  Infield_Put_Outs  Hits_Allowed  \\\n",
       "Year                 0.488262  ...  0.006442          0.267082      0.262800   \n",
       "Final_Standing      -0.165722  ... -0.458741          0.005764      0.298186   \n",
       "Games_Played         0.521019  ...  0.375009          0.991657      0.715717   \n",
       "Unnamed: 7           0.511617  ...  0.372312          0.972317      0.708665   \n",
       "Games_Won            0.391859  ...  0.702968          0.482071     -0.005547   \n",
       "Games_Lost           0.054205  ... -0.383305          0.368332      0.619475   \n",
       "Runs_Scored          0.666345  ...  0.273339          0.459865      0.483065   \n",
       "At_Bats              0.603605  ...  0.351569          0.976522      0.754550   \n",
       "Hits                 0.715815  ...  0.322362          0.756826      0.676103   \n",
       "Doubles              1.000000  ...  0.165411          0.512710      0.499351   \n",
       "Triples              0.071823  ...  0.055334          0.149050      0.106721   \n",
       "Home_Runs            0.468252  ...  0.164178          0.271952      0.344645   \n",
       "Walks                0.358439  ...  0.266852          0.420506      0.279724   \n",
       "Strike_Outs          0.386811  ...  0.069273          0.530982      0.455973   \n",
       "Stolen_Bases        -0.132167  ...  0.188570          0.143971     -0.012275   \n",
       "Caught_Stealing     -0.263638  ...  0.119888          0.123129      0.025446   \n",
       "Hit_By_Pitch         0.096554  ...  0.079263          0.056405      0.095470   \n",
       "Sacrifice_Fly        0.260810  ...  0.127361          0.119090      0.013901   \n",
       "Runs_Against         0.399333  ... -0.236674          0.376670      0.858325   \n",
       "Earned_Runs          0.420008  ... -0.224449          0.374935      0.853549   \n",
       "Earned_Run_Average   0.165986  ... -0.462619         -0.144411      0.540160   \n",
       "Complete_Games      -0.271443  ... -0.066039         -0.029404     -0.193182   \n",
       "Shutout              0.099849  ...  0.374470          0.368648     -0.152429   \n",
       "Saves                0.165411  ...  1.000000          0.413490      0.018344   \n",
       "Infield_Put_Outs     0.512710  ...  0.413490          1.000000      0.678277   \n",
       "Hits_Allowed         0.499351  ...  0.018344          0.678277      1.000000   \n",
       "Home_Run_Allowed     0.408222  ... -0.130731          0.294218      0.633537   \n",
       "Walks_Allowed        0.220238  ... -0.105382          0.399347      0.459956   \n",
       "Strikeouts_Allowed   0.454268  ...  0.307530          0.565801      0.154599   \n",
       "Errors              -0.044384  ... -0.025564          0.270890      0.329423   \n",
       "Double_Plays         0.310247  ...  0.016031          0.458511      0.572159   \n",
       "Fielding_Percentage  0.336496  ...  0.140466          0.165711      0.050921   \n",
       "Attendance           0.175485  ...  0.305828          0.227992     -0.018887   \n",
       "\n",
       "                     Home_Run_Allowed  Walks_Allowed  Strikeouts_Allowed  \\\n",
       "Year                         0.399072       0.067532            0.512945   \n",
       "Final_Standing               0.162129       0.311767           -0.266053   \n",
       "Games_Played                 0.336367       0.426248            0.546128   \n",
       "Unnamed: 7                   0.338435       0.409030            0.531467   \n",
       "Games_Won                   -0.117280      -0.151105            0.491782   \n",
       "Games_Lost                   0.405548       0.517503           -0.023376   \n",
       "Runs_Scored                  0.456906       0.233159            0.341290   \n",
       "At_Bats                      0.395554       0.441981            0.541776   \n",
       "Hits                         0.441132       0.345346            0.449514   \n",
       "Doubles                      0.408222       0.220238            0.454268   \n",
       "Triples                      0.000927       0.049534           -0.010431   \n",
       "Home_Runs                    0.472043       0.206654            0.334698   \n",
       "Walks                        0.189981       0.227284            0.302050   \n",
       "Strike_Outs                  0.391678       0.331121            0.511476   \n",
       "Stolen_Bases                -0.100225      -0.020889           -0.009357   \n",
       "Caught_Stealing             -0.155207      -0.008325           -0.170665   \n",
       "Hit_By_Pitch                 0.088954      -0.082970           -0.062723   \n",
       "Sacrifice_Fly                0.040570      -0.120813           -0.045245   \n",
       "Runs_Against                 0.764869       0.619799            0.024239   \n",
       "Earned_Runs                  0.793155       0.612429            0.037050   \n",
       "Earned_Run_Average           0.683160       0.435644           -0.272136   \n",
       "Complete_Games              -0.367146      -0.100027           -0.220804   \n",
       "Shutout                     -0.339331      -0.155752            0.380937   \n",
       "Saves                       -0.130731      -0.105382            0.307530   \n",
       "Infield_Put_Outs             0.294218       0.399347            0.565801   \n",
       "Hits_Allowed                 0.633537       0.459956            0.154599   \n",
       "Home_Run_Allowed             1.000000       0.367217            0.157033   \n",
       "Walks_Allowed                0.367217       1.000000            0.197854   \n",
       "Strikeouts_Allowed           0.157033       0.197854            1.000000   \n",
       "Errors                       0.010923       0.270652           -0.034792   \n",
       "Double_Plays                 0.296836       0.395771           -0.000858   \n",
       "Fielding_Percentage          0.204935      -0.074501            0.304407   \n",
       "Attendance                  -0.006354      -0.043617            0.369663   \n",
       "\n",
       "                       Errors  Double_Plays  Fielding_Percentage  Attendance  \n",
       "Year                -0.309249      0.188359             0.603883    0.204119  \n",
       "Final_Standing       0.316957      0.177746            -0.243729   -0.401098  \n",
       "Games_Played         0.287454      0.476718             0.159657    0.207552  \n",
       "Unnamed: 7           0.270024      0.465946             0.170231    0.222332  \n",
       "Games_Won           -0.165894      0.052713             0.282799    0.517426  \n",
       "Games_Lost           0.412501      0.356514            -0.145231   -0.340424  \n",
       "Runs_Scored         -0.018373      0.292467             0.200377    0.383966  \n",
       "At_Bats              0.255382      0.494612             0.180787    0.232912  \n",
       "Hits                 0.105993      0.433575             0.207507    0.337903  \n",
       "Doubles             -0.044384      0.310247             0.336496    0.175485  \n",
       "Triples              0.084912      0.049750            -0.015880    0.003470  \n",
       "Home_Runs           -0.068164      0.199390             0.232407    0.353559  \n",
       "Walks                0.011936      0.184112             0.089160    0.290256  \n",
       "Strike_Outs          0.147750      0.230392             0.185121    0.043196  \n",
       "Stolen_Bases         0.166781     -0.090218            -0.213727    0.007232  \n",
       "Caught_Stealing      0.291782      0.004076            -0.350417   -0.113162  \n",
       "Hit_By_Pitch         0.018804      0.062466            -0.016339    0.010406  \n",
       "Sacrifice_Fly       -0.132817      0.027275             0.128832    0.134692  \n",
       "Runs_Against         0.327354      0.445638            -0.052171   -0.130729  \n",
       "Earned_Runs          0.220400      0.448723             0.039271   -0.099008  \n",
       "Earned_Run_Average   0.086112      0.228585            -0.046232   -0.227338  \n",
       "Complete_Games       0.168201     -0.062788            -0.367326   -0.056390  \n",
       "Shutout             -0.097747      0.020821             0.170989    0.260617  \n",
       "Saves               -0.025564      0.016031             0.140466    0.305828  \n",
       "Infield_Put_Outs     0.270890      0.458511             0.165711    0.227992  \n",
       "Hits_Allowed         0.329423      0.572159             0.050921   -0.018887  \n",
       "Home_Run_Allowed     0.010923      0.296836             0.204935   -0.006354  \n",
       "Walks_Allowed        0.270652      0.395771            -0.074501   -0.043617  \n",
       "Strikeouts_Allowed  -0.034792     -0.000858             0.304407    0.369663  \n",
       "Errors               1.000000      0.103886            -0.739829   -0.216631  \n",
       "Double_Plays         0.103886      1.000000             0.147096   -0.051514  \n",
       "Fielding_Percentage -0.739829      0.147096             1.000000    0.277124  \n",
       "Attendance          -0.216631     -0.051514             0.277124    1.000000  \n",
       "\n",
       "[33 rows x 33 columns]"
      ]
     },
     "execution_count": 79,
     "metadata": {},
     "output_type": "execute_result"
    }
   ],
   "source": [
    "df_1990_2010.corr()"
   ]
  },
  {
   "cell_type": "code",
   "execution_count": null,
   "id": "e147466e",
   "metadata": {},
   "outputs": [],
   "source": []
  },
  {
   "cell_type": "markdown",
   "id": "9946a652",
   "metadata": {},
   "source": [
    "**1. Calculate the descriptive statistics for the 8 variables**"
   ]
  },
  {
   "cell_type": "code",
   "execution_count": 80,
   "id": "f4aff313",
   "metadata": {
    "scrolled": true
   },
   "outputs": [
    {
     "data": {
      "text/html": [
       "<div>\n",
       "<style scoped>\n",
       "    .dataframe tbody tr th:only-of-type {\n",
       "        vertical-align: middle;\n",
       "    }\n",
       "\n",
       "    .dataframe tbody tr th {\n",
       "        vertical-align: top;\n",
       "    }\n",
       "\n",
       "    .dataframe thead th {\n",
       "        text-align: right;\n",
       "    }\n",
       "</style>\n",
       "<table border=\"1\" class=\"dataframe\">\n",
       "  <thead>\n",
       "    <tr style=\"text-align: right;\">\n",
       "      <th></th>\n",
       "      <th>Final_Standing</th>\n",
       "      <th>Saves</th>\n",
       "      <th>Games_Lost</th>\n",
       "      <th>Runs_Scored</th>\n",
       "      <th>Earned_Run_Average</th>\n",
       "      <th>Hits</th>\n",
       "      <th>Walks</th>\n",
       "      <th>Shutout</th>\n",
       "    </tr>\n",
       "  </thead>\n",
       "  <tbody>\n",
       "    <tr>\n",
       "      <th>count</th>\n",
       "      <td>608.000000</td>\n",
       "      <td>608.000000</td>\n",
       "      <td>608.000000</td>\n",
       "      <td>608.000000</td>\n",
       "      <td>608.000000</td>\n",
       "      <td>608.000000</td>\n",
       "      <td>608.000000</td>\n",
       "      <td>608.000000</td>\n",
       "    </tr>\n",
       "    <tr>\n",
       "      <th>mean</th>\n",
       "      <td>3.120066</td>\n",
       "      <td>40.047697</td>\n",
       "      <td>79.445724</td>\n",
       "      <td>747.483553</td>\n",
       "      <td>4.344375</td>\n",
       "      <td>1441.445724</td>\n",
       "      <td>536.782895</td>\n",
       "      <td>8.276316</td>\n",
       "    </tr>\n",
       "    <tr>\n",
       "      <th>std</th>\n",
       "      <td>1.562659</td>\n",
       "      <td>7.784962</td>\n",
       "      <td>12.259697</td>\n",
       "      <td>93.733980</td>\n",
       "      <td>0.547203</td>\n",
       "      <td>117.725690</td>\n",
       "      <td>78.410122</td>\n",
       "      <td>3.856909</td>\n",
       "    </tr>\n",
       "    <tr>\n",
       "      <th>min</th>\n",
       "      <td>1.000000</td>\n",
       "      <td>20.000000</td>\n",
       "      <td>40.000000</td>\n",
       "      <td>466.000000</td>\n",
       "      <td>3.060000</td>\n",
       "      <td>963.000000</td>\n",
       "      <td>319.000000</td>\n",
       "      <td>0.000000</td>\n",
       "    </tr>\n",
       "    <tr>\n",
       "      <th>25%</th>\n",
       "      <td>2.000000</td>\n",
       "      <td>35.000000</td>\n",
       "      <td>71.000000</td>\n",
       "      <td>686.000000</td>\n",
       "      <td>3.950000</td>\n",
       "      <td>1398.000000</td>\n",
       "      <td>486.750000</td>\n",
       "      <td>6.000000</td>\n",
       "    </tr>\n",
       "    <tr>\n",
       "      <th>50%</th>\n",
       "      <td>3.000000</td>\n",
       "      <td>40.000000</td>\n",
       "      <td>79.000000</td>\n",
       "      <td>747.000000</td>\n",
       "      <td>4.310000</td>\n",
       "      <td>1452.500000</td>\n",
       "      <td>533.000000</td>\n",
       "      <td>8.000000</td>\n",
       "    </tr>\n",
       "    <tr>\n",
       "      <th>75%</th>\n",
       "      <td>4.000000</td>\n",
       "      <td>45.000000</td>\n",
       "      <td>88.000000</td>\n",
       "      <td>807.000000</td>\n",
       "      <td>4.712500</td>\n",
       "      <td>1510.250000</td>\n",
       "      <td>589.250000</td>\n",
       "      <td>11.000000</td>\n",
       "    </tr>\n",
       "    <tr>\n",
       "      <th>max</th>\n",
       "      <td>7.000000</td>\n",
       "      <td>68.000000</td>\n",
       "      <td>119.000000</td>\n",
       "      <td>1009.000000</td>\n",
       "      <td>6.380000</td>\n",
       "      <td>1684.000000</td>\n",
       "      <td>775.000000</td>\n",
       "      <td>24.000000</td>\n",
       "    </tr>\n",
       "  </tbody>\n",
       "</table>\n",
       "</div>"
      ],
      "text/plain": [
       "       Final_Standing       Saves  Games_Lost  Runs_Scored  \\\n",
       "count      608.000000  608.000000  608.000000   608.000000   \n",
       "mean         3.120066   40.047697   79.445724   747.483553   \n",
       "std          1.562659    7.784962   12.259697    93.733980   \n",
       "min          1.000000   20.000000   40.000000   466.000000   \n",
       "25%          2.000000   35.000000   71.000000   686.000000   \n",
       "50%          3.000000   40.000000   79.000000   747.000000   \n",
       "75%          4.000000   45.000000   88.000000   807.000000   \n",
       "max          7.000000   68.000000  119.000000  1009.000000   \n",
       "\n",
       "       Earned_Run_Average         Hits       Walks     Shutout  \n",
       "count          608.000000   608.000000  608.000000  608.000000  \n",
       "mean             4.344375  1441.445724  536.782895    8.276316  \n",
       "std              0.547203   117.725690   78.410122    3.856909  \n",
       "min              3.060000   963.000000  319.000000    0.000000  \n",
       "25%              3.950000  1398.000000  486.750000    6.000000  \n",
       "50%              4.310000  1452.500000  533.000000    8.000000  \n",
       "75%              4.712500  1510.250000  589.250000   11.000000  \n",
       "max              6.380000  1684.000000  775.000000   24.000000  "
      ]
     },
     "execution_count": 80,
     "metadata": {},
     "output_type": "execute_result"
    }
   ],
   "source": [
    "df_1990_2010[['Final_Standing','Saves','Games_Lost','Runs_Scored','Earned_Run_Average','Hits','Walks','Shutout']].describe()"
   ]
  },
  {
   "cell_type": "code",
   "execution_count": null,
   "id": "c89dc2f6",
   "metadata": {},
   "outputs": [],
   "source": []
  },
  {
   "cell_type": "markdown",
   "id": "759af20c",
   "metadata": {},
   "source": [
    "**2. Show a histogram and boxplot for each of the 8 variables**"
   ]
  },
  {
   "cell_type": "code",
   "execution_count": 81,
   "id": "1e9ec601",
   "metadata": {},
   "outputs": [
    {
     "data": {
      "text/plain": [
       "<AxesSubplot:ylabel='Frequency'>"
      ]
     },
     "execution_count": 81,
     "metadata": {},
     "output_type": "execute_result"
    },
    {
     "data": {
      "image/png": "[encoded data removed]",
      "text/plain": [
       "<Figure size 432x288 with 1 Axes>"
      ]
     },
     "metadata": {
      "needs_background": "light"
     },
     "output_type": "display_data"
    }
   ],
   "source": [
    "df_1990_2010['Final_Standing'].plot.hist(bins=20, density=True)"
   ]
  },
  {
   "cell_type": "code",
   "execution_count": 82,
   "id": "72e4c5ce",
   "metadata": {},
   "outputs": [
    {
     "data": {
      "text/plain": [
       "<AxesSubplot:>"
      ]
     },
     "execution_count": 82,
     "metadata": {},
     "output_type": "execute_result"
    },
    {
     "data": {
      "image/png": "[encoded data removed]",
      "text/plain": [
       "<Figure size 432x288 with 1 Axes>"
      ]
     },
     "metadata": {
      "needs_background": "light"
     },
     "output_type": "display_data"
    }
   ],
   "source": [
    "df_1990_2010.boxplot(column='Final_Standing')"
   ]
  },
  {
   "cell_type": "markdown",
   "id": "38b18491",
   "metadata": {},
   "source": [
    "**The visual shape of 'Final_Standing' is not symmetric. The data is ordinal.**"
   ]
  },
  {
   "cell_type": "code",
   "execution_count": null,
   "id": "e00f3d17",
   "metadata": {},
   "outputs": [],
   "source": []
  },
  {
   "cell_type": "code",
   "execution_count": 83,
   "id": "ecf10897",
   "metadata": {},
   "outputs": [
    {
     "data": {
      "text/plain": [
       "<AxesSubplot:ylabel='Frequency'>"
      ]
     },
     "execution_count": 83,
     "metadata": {},
     "output_type": "execute_result"
    },
    {
     "data": {
      "image/png": "[encoded data removed]",
      "text/plain": [
       "<Figure size 432x288 with 1 Axes>"
      ]
     },
     "metadata": {
      "needs_background": "light"
     },
     "output_type": "display_data"
    }
   ],
   "source": [
    "df_1990_2010['Saves'].plot.hist(bins=20, density=True)"
   ]
  },
  {
   "cell_type": "code",
   "execution_count": 84,
   "id": "33d00ee7",
   "metadata": {},
   "outputs": [
    {
     "data": {
      "text/plain": [
       "<AxesSubplot:>"
      ]
     },
     "execution_count": 84,
     "metadata": {},
     "output_type": "execute_result"
    },
    {
     "data": {
      "image/png": "[encoded data removed]",
      "text/plain": [
       "<Figure size 432x288 with 1 Axes>"
      ]
     },
     "metadata": {
      "needs_background": "light"
     },
     "output_type": "display_data"
    }
   ],
   "source": [
    "df_1990_2010.boxplot(column='Saves')"
   ]
  },
  {
   "cell_type": "markdown",
   "id": "2c2c7d03",
   "metadata": {},
   "source": [
    "**The visual shape of 'Saves' is kind of symmetric. There are two modes. There are several outliners.**"
   ]
  },
  {
   "cell_type": "code",
   "execution_count": null,
   "id": "1586a919",
   "metadata": {},
   "outputs": [],
   "source": []
  },
  {
   "cell_type": "code",
   "execution_count": 85,
   "id": "dde2beba",
   "metadata": {},
   "outputs": [
    {
     "data": {
      "text/plain": [
       "<AxesSubplot:ylabel='Frequency'>"
      ]
     },
     "execution_count": 85,
     "metadata": {},
     "output_type": "execute_result"
    },
    {
     "data": {
      "image/png": "[encoded data removed]",
      "text/plain": [
       "<Figure size 432x288 with 1 Axes>"
      ]
     },
     "metadata": {
      "needs_background": "light"
     },
     "output_type": "display_data"
    }
   ],
   "source": [
    "df_1990_2010['Games_Lost'].plot.hist(bins=20, density=True)"
   ]
  },
  {
   "cell_type": "code",
   "execution_count": 86,
   "id": "7e58d16b",
   "metadata": {},
   "outputs": [
    {
     "data": {
      "text/plain": [
       "<AxesSubplot:>"
      ]
     },
     "execution_count": 86,
     "metadata": {},
     "output_type": "execute_result"
    },
    {
     "data": {
      "image/png": "[encoded data removed]",
      "text/plain": [
       "<Figure size 432x288 with 1 Axes>"
      ]
     },
     "metadata": {
      "needs_background": "light"
     },
     "output_type": "display_data"
    }
   ],
   "source": [
    "df_1990_2010.boxplot(column='Games_Lost')"
   ]
  },
  {
   "cell_type": "markdown",
   "id": "7b451a72",
   "metadata": {},
   "source": [
    "**The visual shape of 'Games_Lost' is alomost symmetric, there are a few outliners.**"
   ]
  },
  {
   "cell_type": "code",
   "execution_count": null,
   "id": "da5a2a9a",
   "metadata": {},
   "outputs": [],
   "source": []
  },
  {
   "cell_type": "code",
   "execution_count": 87,
   "id": "f654418c",
   "metadata": {},
   "outputs": [
    {
     "data": {
      "text/plain": [
       "<AxesSubplot:ylabel='Frequency'>"
      ]
     },
     "execution_count": 87,
     "metadata": {},
     "output_type": "execute_result"
    },
    {
     "data": {
      "image/png": "[encoded data removed]",
      "text/plain": [
       "<Figure size 432x288 with 1 Axes>"
      ]
     },
     "metadata": {
      "needs_background": "light"
     },
     "output_type": "display_data"
    }
   ],
   "source": [
    "df_1990_2010['Runs_Scored'].plot.hist(bins=20, density=True)"
   ]
  },
  {
   "cell_type": "code",
   "execution_count": 88,
   "id": "b03be651",
   "metadata": {},
   "outputs": [
    {
     "data": {
      "text/plain": [
       "<AxesSubplot:>"
      ]
     },
     "execution_count": 88,
     "metadata": {},
     "output_type": "execute_result"
    },
    {
     "data": {
      "image/png": "[encoded data removed]",
      "text/plain": [
       "<Figure size 432x288 with 1 Axes>"
      ]
     },
     "metadata": {
      "needs_background": "light"
     },
     "output_type": "display_data"
    }
   ],
   "source": [
    "df_1990_2010.boxplot(column='Runs_Scored')"
   ]
  },
  {
   "cell_type": "markdown",
   "id": "390caec0",
   "metadata": {},
   "source": [
    "**The visual shape of 'Runs_Scored' is almost symmetric. It has one mode and it is wide. There are a few outliners.**"
   ]
  },
  {
   "cell_type": "code",
   "execution_count": null,
   "id": "35acfe7d",
   "metadata": {},
   "outputs": [],
   "source": []
  },
  {
   "cell_type": "code",
   "execution_count": 89,
   "id": "bfc49caa",
   "metadata": {},
   "outputs": [
    {
     "data": {
      "text/plain": [
       "<AxesSubplot:ylabel='Frequency'>"
      ]
     },
     "execution_count": 89,
     "metadata": {},
     "output_type": "execute_result"
    },
    {
     "data": {
      "image/png": "[encoded data removed]",
      "text/plain": [
       "<Figure size 432x288 with 1 Axes>"
      ]
     },
     "metadata": {
      "needs_background": "light"
     },
     "output_type": "display_data"
    }
   ],
   "source": [
    "df_1990_2010['Hits'].plot.hist(bins=20, density=True)"
   ]
  },
  {
   "cell_type": "code",
   "execution_count": 90,
   "id": "537fc437",
   "metadata": {},
   "outputs": [
    {
     "data": {
      "text/plain": [
       "<AxesSubplot:>"
      ]
     },
     "execution_count": 90,
     "metadata": {},
     "output_type": "execute_result"
    },
    {
     "data": {
      "image/png": "[encoded data removed]",
      "text/plain": [
       "<Figure size 432x288 with 1 Axes>"
      ]
     },
     "metadata": {
      "needs_background": "light"
     },
     "output_type": "display_data"
    }
   ],
   "source": [
    "df_1990_2010.boxplot(column='Hits')"
   ]
  },
  {
   "cell_type": "markdown",
   "id": "052405dc",
   "metadata": {},
   "source": [
    "**The visual shape of 'Hits' is not symmetric. It has one mode and it is narrow. There are many outliners.**"
   ]
  },
  {
   "cell_type": "code",
   "execution_count": null,
   "id": "f9cf115b",
   "metadata": {},
   "outputs": [],
   "source": []
  },
  {
   "cell_type": "code",
   "execution_count": 91,
   "id": "78066f1e",
   "metadata": {},
   "outputs": [
    {
     "data": {
      "text/plain": [
       "<AxesSubplot:ylabel='Frequency'>"
      ]
     },
     "execution_count": 91,
     "metadata": {},
     "output_type": "execute_result"
    },
    {
     "data": {
      "image/png": "[encoded data removed]",
      "text/plain": [
       "<Figure size 432x288 with 1 Axes>"
      ]
     },
     "metadata": {
      "needs_background": "light"
     },
     "output_type": "display_data"
    }
   ],
   "source": [
    "df_1990_2010['Walks'].plot.hist(bins=20, density=True)"
   ]
  },
  {
   "cell_type": "code",
   "execution_count": 92,
   "id": "4320fb1c",
   "metadata": {},
   "outputs": [
    {
     "data": {
      "text/plain": [
       "<AxesSubplot:>"
      ]
     },
     "execution_count": 92,
     "metadata": {},
     "output_type": "execute_result"
    },
    {
     "data": {
      "image/png": "[encoded data removed]",
      "text/plain": [
       "<Figure size 432x288 with 1 Axes>"
      ]
     },
     "metadata": {
      "needs_background": "light"
     },
     "output_type": "display_data"
    }
   ],
   "source": [
    "df_1990_2010.boxplot(column='Walks')"
   ]
  },
  {
   "cell_type": "markdown",
   "id": "e5efebe1",
   "metadata": {},
   "source": [
    "**The visual shape of 'Walks' is symmetric. It has one mode and it is wide. There are a few outliners.**"
   ]
  },
  {
   "cell_type": "code",
   "execution_count": null,
   "id": "9c6c8d63",
   "metadata": {},
   "outputs": [],
   "source": []
  },
  {
   "cell_type": "code",
   "execution_count": 93,
   "id": "3d42f175",
   "metadata": {},
   "outputs": [
    {
     "data": {
      "text/plain": [
       "<AxesSubplot:ylabel='Frequency'>"
      ]
     },
     "execution_count": 93,
     "metadata": {},
     "output_type": "execute_result"
    },
    {
     "data": {
      "image/png": "[encoded data removed]",
      "text/plain": [
       "<Figure size 432x288 with 1 Axes>"
      ]
     },
     "metadata": {
      "needs_background": "light"
     },
     "output_type": "display_data"
    }
   ],
   "source": [
    "df_1990_2010['Shutout'].plot.hist(bins=20, density=True)"
   ]
  },
  {
   "cell_type": "code",
   "execution_count": 94,
   "id": "b7d69f56",
   "metadata": {
    "scrolled": true
   },
   "outputs": [
    {
     "data": {
      "text/plain": [
       "<AxesSubplot:>"
      ]
     },
     "execution_count": 94,
     "metadata": {},
     "output_type": "execute_result"
    },
    {
     "data": {
      "image/png": "[encoded data removed]",
      "text/plain": [
       "<Figure size 432x288 with 1 Axes>"
      ]
     },
     "metadata": {
      "needs_background": "light"
     },
     "output_type": "display_data"
    }
   ],
   "source": [
    "df_1990_2010.boxplot(column='Shutout')"
   ]
  },
  {
   "cell_type": "markdown",
   "id": "7ca0fda7",
   "metadata": {},
   "source": [
    "**The visual shape of 'Shutout' is not symmetric. There are several outliners.**"
   ]
  },
  {
   "cell_type": "code",
   "execution_count": null,
   "id": "2dd1b6c9",
   "metadata": {},
   "outputs": [],
   "source": []
  },
  {
   "cell_type": "code",
   "execution_count": 95,
   "id": "88691e84",
   "metadata": {},
   "outputs": [
    {
     "data": {
      "text/plain": [
       "<AxesSubplot:ylabel='Frequency'>"
      ]
     },
     "execution_count": 95,
     "metadata": {},
     "output_type": "execute_result"
    },
    {
     "data": {
      "image/png": "[encoded data removed]",
      "text/plain": [
       "<Figure size 432x288 with 1 Axes>"
      ]
     },
     "metadata": {
      "needs_background": "light"
     },
     "output_type": "display_data"
    }
   ],
   "source": [
    "df_1990_2010['Earned_Run_Average'].plot.hist(bins=20, density=True)"
   ]
  },
  {
   "cell_type": "code",
   "execution_count": 96,
   "id": "ad4dbad4",
   "metadata": {
    "scrolled": true
   },
   "outputs": [
    {
     "data": {
      "text/plain": [
       "<AxesSubplot:>"
      ]
     },
     "execution_count": 96,
     "metadata": {},
     "output_type": "execute_result"
    },
    {
     "data": {
      "image/png": "[encoded data removed]",
      "text/plain": [
       "<Figure size 432x288 with 1 Axes>"
      ]
     },
     "metadata": {
      "needs_background": "light"
     },
     "output_type": "display_data"
    }
   ],
   "source": [
    "df_1990_2010.boxplot(column='Earned_Run_Average')"
   ]
  },
  {
   "cell_type": "markdown",
   "id": "71d073b8",
   "metadata": {},
   "source": [
    "**The visual shape of 'Earned_Run_Average' is almost symmetric. It has one mode and it is wide. There are two outliners.**"
   ]
  },
  {
   "cell_type": "code",
   "execution_count": null,
   "id": "95f9e0bc",
   "metadata": {},
   "outputs": [],
   "source": []
  },
  {
   "cell_type": "markdown",
   "id": "a2453fbb",
   "metadata": {},
   "source": [
    "**Section 3 – Correlation Analysis**"
   ]
  },
  {
   "cell_type": "code",
   "execution_count": 97,
   "id": "790a7e57",
   "metadata": {
    "scrolled": true
   },
   "outputs": [
    {
     "data": {
      "text/html": [
       "<div>\n",
       "<style scoped>\n",
       "    .dataframe tbody tr th:only-of-type {\n",
       "        vertical-align: middle;\n",
       "    }\n",
       "\n",
       "    .dataframe tbody tr th {\n",
       "        vertical-align: top;\n",
       "    }\n",
       "\n",
       "    .dataframe thead th {\n",
       "        text-align: right;\n",
       "    }\n",
       "</style>\n",
       "<table border=\"1\" class=\"dataframe\">\n",
       "  <thead>\n",
       "    <tr style=\"text-align: right;\">\n",
       "      <th></th>\n",
       "      <th>Final_Standing</th>\n",
       "      <th>Saves</th>\n",
       "      <th>Games_Lost</th>\n",
       "      <th>Runs_Scored</th>\n",
       "      <th>Hits</th>\n",
       "      <th>Walks</th>\n",
       "      <th>Shutout</th>\n",
       "      <th>Earned_Run_Average</th>\n",
       "    </tr>\n",
       "  </thead>\n",
       "  <tbody>\n",
       "    <tr>\n",
       "      <th>Final_Standing</th>\n",
       "      <td>1.000000</td>\n",
       "      <td>-0.458741</td>\n",
       "      <td>0.788517</td>\n",
       "      <td>-0.431553</td>\n",
       "      <td>-0.194709</td>\n",
       "      <td>-0.346693</td>\n",
       "      <td>-0.283777</td>\n",
       "      <td>0.405788</td>\n",
       "    </tr>\n",
       "    <tr>\n",
       "      <th>Saves</th>\n",
       "      <td>-0.458741</td>\n",
       "      <td>1.000000</td>\n",
       "      <td>-0.383305</td>\n",
       "      <td>0.273339</td>\n",
       "      <td>0.322362</td>\n",
       "      <td>0.266852</td>\n",
       "      <td>0.374470</td>\n",
       "      <td>-0.462619</td>\n",
       "    </tr>\n",
       "    <tr>\n",
       "      <th>Games_Lost</th>\n",
       "      <td>0.788517</td>\n",
       "      <td>-0.383305</td>\n",
       "      <td>1.000000</td>\n",
       "      <td>-0.237626</td>\n",
       "      <td>0.100145</td>\n",
       "      <td>-0.193270</td>\n",
       "      <td>-0.237612</td>\n",
       "      <td>0.487567</td>\n",
       "    </tr>\n",
       "    <tr>\n",
       "      <th>Runs_Scored</th>\n",
       "      <td>-0.431553</td>\n",
       "      <td>0.273339</td>\n",
       "      <td>-0.237626</td>\n",
       "      <td>1.000000</td>\n",
       "      <td>0.812417</td>\n",
       "      <td>0.651081</td>\n",
       "      <td>0.035839</td>\n",
       "      <td>0.203573</td>\n",
       "    </tr>\n",
       "    <tr>\n",
       "      <th>Hits</th>\n",
       "      <td>-0.194709</td>\n",
       "      <td>0.322362</td>\n",
       "      <td>0.100145</td>\n",
       "      <td>0.812417</td>\n",
       "      <td>1.000000</td>\n",
       "      <td>0.440473</td>\n",
       "      <td>0.161952</td>\n",
       "      <td>0.119606</td>\n",
       "    </tr>\n",
       "    <tr>\n",
       "      <th>Walks</th>\n",
       "      <td>-0.346693</td>\n",
       "      <td>0.266852</td>\n",
       "      <td>-0.193270</td>\n",
       "      <td>0.651081</td>\n",
       "      <td>0.440473</td>\n",
       "      <td>1.000000</td>\n",
       "      <td>0.123384</td>\n",
       "      <td>-0.027009</td>\n",
       "    </tr>\n",
       "    <tr>\n",
       "      <th>Shutout</th>\n",
       "      <td>-0.283777</td>\n",
       "      <td>0.374470</td>\n",
       "      <td>-0.237612</td>\n",
       "      <td>0.035839</td>\n",
       "      <td>0.161952</td>\n",
       "      <td>0.123384</td>\n",
       "      <td>1.000000</td>\n",
       "      <td>-0.631549</td>\n",
       "    </tr>\n",
       "    <tr>\n",
       "      <th>Earned_Run_Average</th>\n",
       "      <td>0.405788</td>\n",
       "      <td>-0.462619</td>\n",
       "      <td>0.487567</td>\n",
       "      <td>0.203573</td>\n",
       "      <td>0.119606</td>\n",
       "      <td>-0.027009</td>\n",
       "      <td>-0.631549</td>\n",
       "      <td>1.000000</td>\n",
       "    </tr>\n",
       "  </tbody>\n",
       "</table>\n",
       "</div>"
      ],
      "text/plain": [
       "                    Final_Standing     Saves  Games_Lost  Runs_Scored  \\\n",
       "Final_Standing            1.000000 -0.458741    0.788517    -0.431553   \n",
       "Saves                    -0.458741  1.000000   -0.383305     0.273339   \n",
       "Games_Lost                0.788517 -0.383305    1.000000    -0.237626   \n",
       "Runs_Scored              -0.431553  0.273339   -0.237626     1.000000   \n",
       "Hits                     -0.194709  0.322362    0.100145     0.812417   \n",
       "Walks                    -0.346693  0.266852   -0.193270     0.651081   \n",
       "Shutout                  -0.283777  0.374470   -0.237612     0.035839   \n",
       "Earned_Run_Average        0.405788 -0.462619    0.487567     0.203573   \n",
       "\n",
       "                        Hits     Walks   Shutout  Earned_Run_Average  \n",
       "Final_Standing     -0.194709 -0.346693 -0.283777            0.405788  \n",
       "Saves               0.322362  0.266852  0.374470           -0.462619  \n",
       "Games_Lost          0.100145 -0.193270 -0.237612            0.487567  \n",
       "Runs_Scored         0.812417  0.651081  0.035839            0.203573  \n",
       "Hits                1.000000  0.440473  0.161952            0.119606  \n",
       "Walks               0.440473  1.000000  0.123384           -0.027009  \n",
       "Shutout             0.161952  0.123384  1.000000           -0.631549  \n",
       "Earned_Run_Average  0.119606 -0.027009 -0.631549            1.000000  "
      ]
     },
     "execution_count": 97,
     "metadata": {},
     "output_type": "execute_result"
    }
   ],
   "source": [
    "df_1990_2010[['Final_Standing','Saves','Games_Lost','Runs_Scored','Hits','Walks','Shutout','Earned_Run_Average']].corr()"
   ]
  },
  {
   "cell_type": "markdown",
   "id": "cc369513",
   "metadata": {},
   "source": [
    "**The above 8 variables are linearly related to the dependent variable 'Games_Won', and three of them are offensive Measurements and two of them are defensive Measurements.  We can conclude that defensive Measurements are the same important as offensive Measurements for the team's  'Games_Won'.**\n",
    "\n",
    "* 'Hits''has high coefficient with'Runs_Scored'. \n",
    "* 'Final_Standing'have high coefficient with 'Games_Lost'.\n",
    "* 'Earned_Run_Average' have high coefficient with 'Shutout'\n"
   ]
  },
  {
   "cell_type": "code",
   "execution_count": null,
   "id": "be09ac27",
   "metadata": {},
   "outputs": [],
   "source": []
  },
  {
   "cell_type": "markdown",
   "id": "28c9182a",
   "metadata": {},
   "source": [
    "**Section 4 – Linear Regression Models**"
   ]
  },
  {
   "cell_type": "markdown",
   "id": "b7e28129",
   "metadata": {},
   "source": [
    "**1. Create an initial multiple linear regression model using 8 variables for period 1990_2010**"
   ]
  },
  {
   "cell_type": "code",
   "execution_count": 98,
   "id": "e8b5886f",
   "metadata": {},
   "outputs": [
    {
     "data": {
      "text/html": [
       "<table class=\"simpletable\">\n",
       "<caption>OLS Regression Results</caption>\n",
       "<tr>\n",
       "  <th>Dep. Variable:</th>        <td>Games_Won</td>    <th>  R-squared:         </th> <td>   0.955</td>\n",
       "</tr>\n",
       "<tr>\n",
       "  <th>Model:</th>                   <td>OLS</td>       <th>  Adj. R-squared:    </th> <td>   0.955</td>\n",
       "</tr>\n",
       "<tr>\n",
       "  <th>Method:</th>             <td>Least Squares</td>  <th>  F-statistic:       </th> <td>   1594.</td>\n",
       "</tr>\n",
       "<tr>\n",
       "  <th>Date:</th>             <td>Sun, 17 Jul 2022</td> <th>  Prob (F-statistic):</th>  <td>  0.00</td> \n",
       "</tr>\n",
       "<tr>\n",
       "  <th>Time:</th>                 <td>20:53:41</td>     <th>  Log-Likelihood:    </th> <td> -1443.6</td>\n",
       "</tr>\n",
       "<tr>\n",
       "  <th>No. Observations:</th>      <td>   608</td>      <th>  AIC:               </th> <td>   2905.</td>\n",
       "</tr>\n",
       "<tr>\n",
       "  <th>Df Residuals:</th>          <td>   599</td>      <th>  BIC:               </th> <td>   2945.</td>\n",
       "</tr>\n",
       "<tr>\n",
       "  <th>Df Model:</th>              <td>     8</td>      <th>                     </th>     <td> </td>   \n",
       "</tr>\n",
       "<tr>\n",
       "  <th>Covariance Type:</th>      <td>nonrobust</td>    <th>                     </th>     <td> </td>   \n",
       "</tr>\n",
       "</table>\n",
       "<table class=\"simpletable\">\n",
       "<tr>\n",
       "           <td></td>             <th>coef</th>     <th>std err</th>      <th>t</th>      <th>P>|t|</th>  <th>[0.025</th>    <th>0.975]</th>  \n",
       "</tr>\n",
       "<tr>\n",
       "  <th>Intercept</th>          <td>   45.8175</td> <td>    1.926</td> <td>   23.793</td> <td> 0.000</td> <td>   42.036</td> <td>   49.599</td>\n",
       "</tr>\n",
       "<tr>\n",
       "  <th>Final_Standing</th>     <td>   -0.9001</td> <td>    0.126</td> <td>   -7.128</td> <td> 0.000</td> <td>   -1.148</td> <td>   -0.652</td>\n",
       "</tr>\n",
       "<tr>\n",
       "  <th>Saves</th>              <td>    0.3124</td> <td>    0.018</td> <td>   17.493</td> <td> 0.000</td> <td>    0.277</td> <td>    0.348</td>\n",
       "</tr>\n",
       "<tr>\n",
       "  <th>Games_Lost</th>         <td>   -0.2203</td> <td>    0.020</td> <td>  -11.108</td> <td> 0.000</td> <td>   -0.259</td> <td>   -0.181</td>\n",
       "</tr>\n",
       "<tr>\n",
       "  <th>Runs_Scored</th>        <td>    0.0373</td> <td>    0.004</td> <td>    9.863</td> <td> 0.000</td> <td>    0.030</td> <td>    0.045</td>\n",
       "</tr>\n",
       "<tr>\n",
       "  <th>Earned_Run_Average</th> <td>   -7.4216</td> <td>    0.367</td> <td>  -20.233</td> <td> 0.000</td> <td>   -8.142</td> <td>   -6.701</td>\n",
       "</tr>\n",
       "<tr>\n",
       "  <th>Hits</th>               <td>    0.0247</td> <td>    0.002</td> <td>   10.134</td> <td> 0.000</td> <td>    0.020</td> <td>    0.029</td>\n",
       "</tr>\n",
       "<tr>\n",
       "  <th>Walks</th>              <td>    0.0142</td> <td>    0.002</td> <td>    7.052</td> <td> 0.000</td> <td>    0.010</td> <td>    0.018</td>\n",
       "</tr>\n",
       "<tr>\n",
       "  <th>Shutout</th>            <td>    0.3146</td> <td>    0.038</td> <td>    8.372</td> <td> 0.000</td> <td>    0.241</td> <td>    0.388</td>\n",
       "</tr>\n",
       "</table>\n",
       "<table class=\"simpletable\">\n",
       "<tr>\n",
       "  <th>Omnibus:</th>       <td> 0.374</td> <th>  Durbin-Watson:     </th> <td>   1.901</td>\n",
       "</tr>\n",
       "<tr>\n",
       "  <th>Prob(Omnibus):</th> <td> 0.829</td> <th>  Jarque-Bera (JB):  </th> <td>   0.291</td>\n",
       "</tr>\n",
       "<tr>\n",
       "  <th>Skew:</th>          <td>-0.050</td> <th>  Prob(JB):          </th> <td>   0.865</td>\n",
       "</tr>\n",
       "<tr>\n",
       "  <th>Kurtosis:</th>      <td> 3.039</td> <th>  Cond. No.          </th> <td>3.14e+04</td>\n",
       "</tr>\n",
       "</table><br/><br/>Notes:<br/>[1] Standard Errors assume that the covariance matrix of the errors is correctly specified.<br/>[2] The condition number is large, 3.14e+04. This might indicate that there are<br/>strong multicollinearity or other numerical problems."
      ],
      "text/plain": [
       "<class 'statsmodels.iolib.summary.Summary'>\n",
       "\"\"\"\n",
       "                            OLS Regression Results                            \n",
       "==============================================================================\n",
       "Dep. Variable:              Games_Won   R-squared:                       0.955\n",
       "Model:                            OLS   Adj. R-squared:                  0.955\n",
       "Method:                 Least Squares   F-statistic:                     1594.\n",
       "Date:                Sun, 17 Jul 2022   Prob (F-statistic):               0.00\n",
       "Time:                        20:53:41   Log-Likelihood:                -1443.6\n",
       "No. Observations:                 608   AIC:                             2905.\n",
       "Df Residuals:                     599   BIC:                             2945.\n",
       "Df Model:                           8                                         \n",
       "Covariance Type:            nonrobust                                         \n",
       "======================================================================================\n",
       "                         coef    std err          t      P>|t|      [0.025      0.975]\n",
       "--------------------------------------------------------------------------------------\n",
       "Intercept             45.8175      1.926     23.793      0.000      42.036      49.599\n",
       "Final_Standing        -0.9001      0.126     -7.128      0.000      -1.148      -0.652\n",
       "Saves                  0.3124      0.018     17.493      0.000       0.277       0.348\n",
       "Games_Lost            -0.2203      0.020    -11.108      0.000      -0.259      -0.181\n",
       "Runs_Scored            0.0373      0.004      9.863      0.000       0.030       0.045\n",
       "Earned_Run_Average    -7.4216      0.367    -20.233      0.000      -8.142      -6.701\n",
       "Hits                   0.0247      0.002     10.134      0.000       0.020       0.029\n",
       "Walks                  0.0142      0.002      7.052      0.000       0.010       0.018\n",
       "Shutout                0.3146      0.038      8.372      0.000       0.241       0.388\n",
       "==============================================================================\n",
       "Omnibus:                        0.374   Durbin-Watson:                   1.901\n",
       "Prob(Omnibus):                  0.829   Jarque-Bera (JB):                0.291\n",
       "Skew:                          -0.050   Prob(JB):                        0.865\n",
       "Kurtosis:                       3.039   Cond. No.                     3.14e+04\n",
       "==============================================================================\n",
       "\n",
       "Notes:\n",
       "[1] Standard Errors assume that the covariance matrix of the errors is correctly specified.\n",
       "[2] The condition number is large, 3.14e+04. This might indicate that there are\n",
       "strong multicollinearity or other numerical problems.\n",
       "\"\"\""
      ]
     },
     "execution_count": 98,
     "metadata": {},
     "output_type": "execute_result"
    }
   ],
   "source": [
    "lm_1990_2010=smf.ols(formula ='Games_Won ~ Final_Standing + Saves + Games_Lost + Runs_Scored + Earned_Run_Average+  Hits + Walks + Shutout ', data=df_1990_2010).fit()\n",
    "lm_1990_2010.summary()"
   ]
  },
  {
   "cell_type": "code",
   "execution_count": null,
   "id": "cdac48f5",
   "metadata": {},
   "outputs": [],
   "source": []
  },
  {
   "cell_type": "markdown",
   "id": "28283f56",
   "metadata": {},
   "source": [
    "**2. Second iteration,To keep the model simple:**\n",
    "\n",
    "\n",
    "* **delete 'Final_Standing',' have high coefficient with 'Games_Lost'.**\n",
    "* **delete 'Hits+ Walks', it 'has high coefficient with'Runs_Scored'.**\n",
    "* **delete Shutout, it has high coefficient with 'Earned_Run_Average'**"
   ]
  },
  {
   "cell_type": "code",
   "execution_count": 99,
   "id": "82eb87fa",
   "metadata": {},
   "outputs": [
    {
     "data": {
      "text/html": [
       "<table class=\"simpletable\">\n",
       "<caption>OLS Regression Results</caption>\n",
       "<tr>\n",
       "  <th>Dep. Variable:</th>        <td>Games_Won</td>    <th>  R-squared:         </th> <td>   0.934</td>\n",
       "</tr>\n",
       "<tr>\n",
       "  <th>Model:</th>                   <td>OLS</td>       <th>  Adj. R-squared:    </th> <td>   0.934</td>\n",
       "</tr>\n",
       "<tr>\n",
       "  <th>Method:</th>             <td>Least Squares</td>  <th>  F-statistic:       </th> <td>   2146.</td>\n",
       "</tr>\n",
       "<tr>\n",
       "  <th>Date:</th>             <td>Sun, 17 Jul 2022</td> <th>  Prob (F-statistic):</th>  <td>  0.00</td> \n",
       "</tr>\n",
       "<tr>\n",
       "  <th>Time:</th>                 <td>20:53:41</td>     <th>  Log-Likelihood:    </th> <td> -1559.3</td>\n",
       "</tr>\n",
       "<tr>\n",
       "  <th>No. Observations:</th>      <td>   608</td>      <th>  AIC:               </th> <td>   3129.</td>\n",
       "</tr>\n",
       "<tr>\n",
       "  <th>Df Residuals:</th>          <td>   603</td>      <th>  BIC:               </th> <td>   3151.</td>\n",
       "</tr>\n",
       "<tr>\n",
       "  <th>Df Model:</th>              <td>     4</td>      <th>                     </th>     <td> </td>   \n",
       "</tr>\n",
       "<tr>\n",
       "  <th>Covariance Type:</th>      <td>nonrobust</td>    <th>                     </th>     <td> </td>   \n",
       "</tr>\n",
       "</table>\n",
       "<table class=\"simpletable\">\n",
       "<tr>\n",
       "           <td></td>             <th>coef</th>     <th>std err</th>      <th>t</th>      <th>P>|t|</th>  <th>[0.025</th>    <th>0.975]</th>  \n",
       "</tr>\n",
       "<tr>\n",
       "  <th>Intercept</th>          <td>   62.6900</td> <td>    1.858</td> <td>   33.740</td> <td> 0.000</td> <td>   59.041</td> <td>   66.339</td>\n",
       "</tr>\n",
       "<tr>\n",
       "  <th>Saves</th>              <td>    0.3872</td> <td>    0.021</td> <td>   18.873</td> <td> 0.000</td> <td>    0.347</td> <td>    0.428</td>\n",
       "</tr>\n",
       "<tr>\n",
       "  <th>Games_Lost</th>         <td>   -0.1470</td> <td>    0.013</td> <td>  -11.272</td> <td> 0.000</td> <td>   -0.173</td> <td>   -0.121</td>\n",
       "</tr>\n",
       "<tr>\n",
       "  <th>Runs_Scored</th>        <td>    0.0821</td> <td>    0.002</td> <td>   49.978</td> <td> 0.000</td> <td>    0.079</td> <td>    0.085</td>\n",
       "</tr>\n",
       "<tr>\n",
       "  <th>Earned_Run_Average</th> <td>  -11.1583</td> <td>    0.326</td> <td>  -34.188</td> <td> 0.000</td> <td>  -11.799</td> <td>  -10.517</td>\n",
       "</tr>\n",
       "</table>\n",
       "<table class=\"simpletable\">\n",
       "<tr>\n",
       "  <th>Omnibus:</th>       <td> 3.802</td> <th>  Durbin-Watson:     </th> <td>   1.867</td>\n",
       "</tr>\n",
       "<tr>\n",
       "  <th>Prob(Omnibus):</th> <td> 0.149</td> <th>  Jarque-Bera (JB):  </th> <td>   3.654</td>\n",
       "</tr>\n",
       "<tr>\n",
       "  <th>Skew:</th>          <td>-0.152</td> <th>  Prob(JB):          </th> <td>   0.161</td>\n",
       "</tr>\n",
       "<tr>\n",
       "  <th>Kurtosis:</th>      <td> 3.228</td> <th>  Cond. No.          </th> <td>1.10e+04</td>\n",
       "</tr>\n",
       "</table><br/><br/>Notes:<br/>[1] Standard Errors assume that the covariance matrix of the errors is correctly specified.<br/>[2] The condition number is large, 1.1e+04. This might indicate that there are<br/>strong multicollinearity or other numerical problems."
      ],
      "text/plain": [
       "<class 'statsmodels.iolib.summary.Summary'>\n",
       "\"\"\"\n",
       "                            OLS Regression Results                            \n",
       "==============================================================================\n",
       "Dep. Variable:              Games_Won   R-squared:                       0.934\n",
       "Model:                            OLS   Adj. R-squared:                  0.934\n",
       "Method:                 Least Squares   F-statistic:                     2146.\n",
       "Date:                Sun, 17 Jul 2022   Prob (F-statistic):               0.00\n",
       "Time:                        20:53:41   Log-Likelihood:                -1559.3\n",
       "No. Observations:                 608   AIC:                             3129.\n",
       "Df Residuals:                     603   BIC:                             3151.\n",
       "Df Model:                           4                                         \n",
       "Covariance Type:            nonrobust                                         \n",
       "======================================================================================\n",
       "                         coef    std err          t      P>|t|      [0.025      0.975]\n",
       "--------------------------------------------------------------------------------------\n",
       "Intercept             62.6900      1.858     33.740      0.000      59.041      66.339\n",
       "Saves                  0.3872      0.021     18.873      0.000       0.347       0.428\n",
       "Games_Lost            -0.1470      0.013    -11.272      0.000      -0.173      -0.121\n",
       "Runs_Scored            0.0821      0.002     49.978      0.000       0.079       0.085\n",
       "Earned_Run_Average   -11.1583      0.326    -34.188      0.000     -11.799     -10.517\n",
       "==============================================================================\n",
       "Omnibus:                        3.802   Durbin-Watson:                   1.867\n",
       "Prob(Omnibus):                  0.149   Jarque-Bera (JB):                3.654\n",
       "Skew:                          -0.152   Prob(JB):                        0.161\n",
       "Kurtosis:                       3.228   Cond. No.                     1.10e+04\n",
       "==============================================================================\n",
       "\n",
       "Notes:\n",
       "[1] Standard Errors assume that the covariance matrix of the errors is correctly specified.\n",
       "[2] The condition number is large, 1.1e+04. This might indicate that there are\n",
       "strong multicollinearity or other numerical problems.\n",
       "\"\"\""
      ]
     },
     "execution_count": 99,
     "metadata": {},
     "output_type": "execute_result"
    }
   ],
   "source": [
    "lm_1990_2010=smf.ols(formula ='Games_Won ~ Saves+ Games_Lost+ Runs_Scored + Earned_Run_Average', data=df_1990_2010).fit()\n",
    "lm_1990_2010.summary()"
   ]
  },
  {
   "cell_type": "markdown",
   "id": "39a9ad0a",
   "metadata": {},
   "source": [
    "**r2 and F-statistic are large which is good and the p-values for the coefficient is close to zero which means is statisically significant. The only concern is the condition number is large but even after I tried to add or delete other variables, it is still large.**"
   ]
  },
  {
   "cell_type": "code",
   "execution_count": null,
   "id": "357877b3",
   "metadata": {},
   "outputs": [],
   "source": []
  },
  {
   "cell_type": "markdown",
   "id": "933586aa",
   "metadata": {},
   "source": [
    "**Section 5 – Model Validation**"
   ]
  },
  {
   "cell_type": "markdown",
   "id": "bab267e9",
   "metadata": {},
   "source": [
    "**In order to make the prediction for 2012 and 2015 using dataset from 1990 to 2010, I will select the training and test data sets from the original data df_1990_2010.**"
   ]
  },
  {
   "cell_type": "code",
   "execution_count": 100,
   "id": "dc101c21",
   "metadata": {},
   "outputs": [],
   "source": [
    "x_train,x_test, y_train, y_test = train_test_split(df_1990_2010,df_1990_2010['Games_Won'], test_size=0.3, random_state = 0)"
   ]
  },
  {
   "cell_type": "code",
   "execution_count": 122,
   "id": "04b3b19e",
   "metadata": {},
   "outputs": [
    {
     "data": {
      "text/html": [
       "<table class=\"simpletable\">\n",
       "<caption>OLS Regression Results</caption>\n",
       "<tr>\n",
       "  <th>Dep. Variable:</th>        <td>Games_Won</td>    <th>  R-squared:         </th> <td>   0.934</td> \n",
       "</tr>\n",
       "<tr>\n",
       "  <th>Model:</th>                   <td>OLS</td>       <th>  Adj. R-squared:    </th> <td>   0.934</td> \n",
       "</tr>\n",
       "<tr>\n",
       "  <th>Method:</th>             <td>Least Squares</td>  <th>  F-statistic:       </th> <td>   1489.</td> \n",
       "</tr>\n",
       "<tr>\n",
       "  <th>Date:</th>             <td>Sun, 17 Jul 2022</td> <th>  Prob (F-statistic):</th> <td>1.56e-246</td>\n",
       "</tr>\n",
       "<tr>\n",
       "  <th>Time:</th>                 <td>20:56:42</td>     <th>  Log-Likelihood:    </th> <td> -1091.7</td> \n",
       "</tr>\n",
       "<tr>\n",
       "  <th>No. Observations:</th>      <td>   425</td>      <th>  AIC:               </th> <td>   2193.</td> \n",
       "</tr>\n",
       "<tr>\n",
       "  <th>Df Residuals:</th>          <td>   420</td>      <th>  BIC:               </th> <td>   2214.</td> \n",
       "</tr>\n",
       "<tr>\n",
       "  <th>Df Model:</th>              <td>     4</td>      <th>                     </th>     <td> </td>    \n",
       "</tr>\n",
       "<tr>\n",
       "  <th>Covariance Type:</th>      <td>nonrobust</td>    <th>                     </th>     <td> </td>    \n",
       "</tr>\n",
       "</table>\n",
       "<table class=\"simpletable\">\n",
       "<tr>\n",
       "           <td></td>             <th>coef</th>     <th>std err</th>      <th>t</th>      <th>P>|t|</th>  <th>[0.025</th>    <th>0.975]</th>  \n",
       "</tr>\n",
       "<tr>\n",
       "  <th>Intercept</th>          <td>   59.5329</td> <td>    2.149</td> <td>   27.700</td> <td> 0.000</td> <td>   55.308</td> <td>   63.757</td>\n",
       "</tr>\n",
       "<tr>\n",
       "  <th>Saves</th>              <td>    0.4222</td> <td>    0.024</td> <td>   17.247</td> <td> 0.000</td> <td>    0.374</td> <td>    0.470</td>\n",
       "</tr>\n",
       "<tr>\n",
       "  <th>Games_Lost</th>         <td>   -0.1490</td> <td>    0.015</td> <td>   -9.765</td> <td> 0.000</td> <td>   -0.179</td> <td>   -0.119</td>\n",
       "</tr>\n",
       "<tr>\n",
       "  <th>Runs_Scored</th>        <td>    0.0822</td> <td>    0.002</td> <td>   41.915</td> <td> 0.000</td> <td>    0.078</td> <td>    0.086</td>\n",
       "</tr>\n",
       "<tr>\n",
       "  <th>Earned_Run_Average</th> <td>  -10.7485</td> <td>    0.393</td> <td>  -27.378</td> <td> 0.000</td> <td>  -11.520</td> <td>   -9.977</td>\n",
       "</tr>\n",
       "</table>\n",
       "<table class=\"simpletable\">\n",
       "<tr>\n",
       "  <th>Omnibus:</th>       <td> 2.463</td> <th>  Durbin-Watson:     </th> <td>   1.966</td>\n",
       "</tr>\n",
       "<tr>\n",
       "  <th>Prob(Omnibus):</th> <td> 0.292</td> <th>  Jarque-Bera (JB):  </th> <td>   2.215</td>\n",
       "</tr>\n",
       "<tr>\n",
       "  <th>Skew:</th>          <td>-0.154</td> <th>  Prob(JB):          </th> <td>   0.330</td>\n",
       "</tr>\n",
       "<tr>\n",
       "  <th>Kurtosis:</th>      <td> 3.174</td> <th>  Cond. No.          </th> <td>1.06e+04</td>\n",
       "</tr>\n",
       "</table><br/><br/>Notes:<br/>[1] Standard Errors assume that the covariance matrix of the errors is correctly specified.<br/>[2] The condition number is large, 1.06e+04. This might indicate that there are<br/>strong multicollinearity or other numerical problems."
      ],
      "text/plain": [
       "<class 'statsmodels.iolib.summary.Summary'>\n",
       "\"\"\"\n",
       "                            OLS Regression Results                            \n",
       "==============================================================================\n",
       "Dep. Variable:              Games_Won   R-squared:                       0.934\n",
       "Model:                            OLS   Adj. R-squared:                  0.934\n",
       "Method:                 Least Squares   F-statistic:                     1489.\n",
       "Date:                Sun, 17 Jul 2022   Prob (F-statistic):          1.56e-246\n",
       "Time:                        20:56:42   Log-Likelihood:                -1091.7\n",
       "No. Observations:                 425   AIC:                             2193.\n",
       "Df Residuals:                     420   BIC:                             2214.\n",
       "Df Model:                           4                                         \n",
       "Covariance Type:            nonrobust                                         \n",
       "======================================================================================\n",
       "                         coef    std err          t      P>|t|      [0.025      0.975]\n",
       "--------------------------------------------------------------------------------------\n",
       "Intercept             59.5329      2.149     27.700      0.000      55.308      63.757\n",
       "Saves                  0.4222      0.024     17.247      0.000       0.374       0.470\n",
       "Games_Lost            -0.1490      0.015     -9.765      0.000      -0.179      -0.119\n",
       "Runs_Scored            0.0822      0.002     41.915      0.000       0.078       0.086\n",
       "Earned_Run_Average   -10.7485      0.393    -27.378      0.000     -11.520      -9.977\n",
       "==============================================================================\n",
       "Omnibus:                        2.463   Durbin-Watson:                   1.966\n",
       "Prob(Omnibus):                  0.292   Jarque-Bera (JB):                2.215\n",
       "Skew:                          -0.154   Prob(JB):                        0.330\n",
       "Kurtosis:                       3.174   Cond. No.                     1.06e+04\n",
       "==============================================================================\n",
       "\n",
       "Notes:\n",
       "[1] Standard Errors assume that the covariance matrix of the errors is correctly specified.\n",
       "[2] The condition number is large, 1.06e+04. This might indicate that there are\n",
       "strong multicollinearity or other numerical problems.\n",
       "\"\"\""
      ]
     },
     "execution_count": 122,
     "metadata": {},
     "output_type": "execute_result"
    }
   ],
   "source": [
    "lm=smf.ols(formula ='Games_Won ~ Saves+ Games_Lost+ Runs_Scored + Earned_Run_Average', data=x_train).fit()\n",
    "lm.summary()"
   ]
  },
  {
   "cell_type": "code",
   "execution_count": null,
   "id": "cf61c481",
   "metadata": {},
   "outputs": [],
   "source": []
  },
  {
   "cell_type": "code",
   "execution_count": 102,
   "id": "7dd061f2",
   "metadata": {},
   "outputs": [],
   "source": [
    "df_compare=pd.DataFrame()"
   ]
  },
  {
   "cell_type": "code",
   "execution_count": 103,
   "id": "63226646",
   "metadata": {},
   "outputs": [],
   "source": [
    "df_compare['Actual']=x_test['Games_Won']"
   ]
  },
  {
   "cell_type": "code",
   "execution_count": 104,
   "id": "e88655d0",
   "metadata": {},
   "outputs": [],
   "source": [
    "df_compare['Predict']=lm.predict(x_test)"
   ]
  },
  {
   "cell_type": "code",
   "execution_count": 105,
   "id": "07171d4b",
   "metadata": {},
   "outputs": [],
   "source": [
    "df_compare['Residue']=x_test['Games_Won']-lm.predict(x_test)"
   ]
  },
  {
   "cell_type": "code",
   "execution_count": 106,
   "id": "7030490c",
   "metadata": {},
   "outputs": [
    {
     "data": {
      "text/html": [
       "<div>\n",
       "<style scoped>\n",
       "    .dataframe tbody tr th:only-of-type {\n",
       "        vertical-align: middle;\n",
       "    }\n",
       "\n",
       "    .dataframe tbody tr th {\n",
       "        vertical-align: top;\n",
       "    }\n",
       "\n",
       "    .dataframe thead th {\n",
       "        text-align: right;\n",
       "    }\n",
       "</style>\n",
       "<table border=\"1\" class=\"dataframe\">\n",
       "  <thead>\n",
       "    <tr style=\"text-align: right;\">\n",
       "      <th></th>\n",
       "      <th>Actual</th>\n",
       "      <th>Predict</th>\n",
       "      <th>Residue</th>\n",
       "    </tr>\n",
       "  </thead>\n",
       "  <tbody>\n",
       "    <tr>\n",
       "      <th>576</th>\n",
       "      <td>75</td>\n",
       "      <td>74.688432</td>\n",
       "      <td>0.311568</td>\n",
       "    </tr>\n",
       "    <tr>\n",
       "      <th>52</th>\n",
       "      <td>98</td>\n",
       "      <td>89.629002</td>\n",
       "      <td>8.370998</td>\n",
       "    </tr>\n",
       "    <tr>\n",
       "      <th>531</th>\n",
       "      <td>100</td>\n",
       "      <td>98.169861</td>\n",
       "      <td>1.830139</td>\n",
       "    </tr>\n",
       "    <tr>\n",
       "      <th>345</th>\n",
       "      <td>78</td>\n",
       "      <td>77.144935</td>\n",
       "      <td>0.855065</td>\n",
       "    </tr>\n",
       "    <tr>\n",
       "      <th>55</th>\n",
       "      <td>72</td>\n",
       "      <td>70.184138</td>\n",
       "      <td>1.815862</td>\n",
       "    </tr>\n",
       "  </tbody>\n",
       "</table>\n",
       "</div>"
      ],
      "text/plain": [
       "     Actual    Predict   Residue\n",
       "576      75  74.688432  0.311568\n",
       "52       98  89.629002  8.370998\n",
       "531     100  98.169861  1.830139\n",
       "345      78  77.144935  0.855065\n",
       "55       72  70.184138  1.815862"
      ]
     },
     "execution_count": 106,
     "metadata": {},
     "output_type": "execute_result"
    }
   ],
   "source": [
    "df_compare.head()"
   ]
  },
  {
   "cell_type": "code",
   "execution_count": 123,
   "id": "43e35a2c",
   "metadata": {},
   "outputs": [
    {
     "name": "stdout",
     "output_type": "stream",
     "text": [
      "3.1542973155341243\n"
     ]
    }
   ],
   "source": [
    "y_pred = lm.predict(x_test)\n",
    "rmse=np.sqrt(metrics.mean_squared_error(y_test, y_pred))\n",
    "print (rmse)"
   ]
  },
  {
   "cell_type": "markdown",
   "id": "8ad08b30",
   "metadata": {},
   "source": [
    "**rmse looks large, but I tried all of the 8 variables, this model is the best one.**"
   ]
  },
  {
   "cell_type": "code",
   "execution_count": null,
   "id": "ae78c2ce",
   "metadata": {},
   "outputs": [],
   "source": []
  },
  {
   "cell_type": "markdown",
   "id": "27011e9e",
   "metadata": {},
   "source": [
    "**Section 6 – Predictions**"
   ]
  },
  {
   "cell_type": "markdown",
   "id": "3030b073",
   "metadata": {},
   "source": [
    "**1. Create the dataframe for 'New York Yankees' and 'Toronto Blue Jays' of 2012 and 2015**"
   ]
  },
  {
   "cell_type": "code",
   "execution_count": 108,
   "id": "d7e4f0ae",
   "metadata": {},
   "outputs": [],
   "source": [
    "df_2012_NewYork=df[(df['Year']==2012) & (df['Team_Name']=='New York Yankees') ]"
   ]
  },
  {
   "cell_type": "code",
   "execution_count": 109,
   "id": "43a03a8a",
   "metadata": {},
   "outputs": [],
   "source": [
    "df_2015_NewYork=df[(df['Year']==2015) & (df['Team_Name']=='New York Yankees') ]"
   ]
  },
  {
   "cell_type": "code",
   "execution_count": 110,
   "id": "1d8437bb",
   "metadata": {},
   "outputs": [],
   "source": [
    "df_2012_Toronto=df[(df['Year']==2012) & (df['Team_Name']=='Toronto Blue Jays') ]"
   ]
  },
  {
   "cell_type": "code",
   "execution_count": 111,
   "id": "bc7683ce",
   "metadata": {},
   "outputs": [],
   "source": [
    "df_2015_Toronto=df[(df['Year']==2012) & (df['Team_Name']=='Toronto Blue Jays') ]"
   ]
  },
  {
   "cell_type": "code",
   "execution_count": null,
   "id": "76692fc1",
   "metadata": {},
   "outputs": [],
   "source": []
  },
  {
   "cell_type": "markdown",
   "id": "eeb48c43",
   "metadata": {},
   "source": [
    "**2. Use the 4th regression model from 1990 to 2010 and forecast the number of games won of  'New York Yankees' and 'Toronto Blue Jays'**"
   ]
  },
  {
   "cell_type": "code",
   "execution_count": 112,
   "id": "acdf5fb4",
   "metadata": {},
   "outputs": [],
   "source": [
    "df_2012_NewYork_compare=pd.DataFrame()\n",
    "df_2012_NewYork_compare['Actual']=df_2012_NewYork['Games_Won']\n",
    "df_2012_NewYork_compare['Predicted']=lm_1990_2010.predict(df_2012_NewYork)\n",
    "df_2012_NewYork_compare['Residual']=df_2012_NewYork_compare['Actual']-df_2012_NewYork_compare['Predicted']"
   ]
  },
  {
   "cell_type": "code",
   "execution_count": 113,
   "id": "bdef066e",
   "metadata": {},
   "outputs": [
    {
     "data": {
      "text/html": [
       "<div>\n",
       "<style scoped>\n",
       "    .dataframe tbody tr th:only-of-type {\n",
       "        vertical-align: middle;\n",
       "    }\n",
       "\n",
       "    .dataframe tbody tr th {\n",
       "        vertical-align: top;\n",
       "    }\n",
       "\n",
       "    .dataframe thead th {\n",
       "        text-align: right;\n",
       "    }\n",
       "</style>\n",
       "<table border=\"1\" class=\"dataframe\">\n",
       "  <thead>\n",
       "    <tr style=\"text-align: right;\">\n",
       "      <th></th>\n",
       "      <th>Actual</th>\n",
       "      <th>Predicted</th>\n",
       "      <th>Residual</th>\n",
       "    </tr>\n",
       "  </thead>\n",
       "  <tbody>\n",
       "    <tr>\n",
       "      <th>2702</th>\n",
       "      <td>95</td>\n",
       "      <td>95.786461</td>\n",
       "      <td>-0.786461</td>\n",
       "    </tr>\n",
       "  </tbody>\n",
       "</table>\n",
       "</div>"
      ],
      "text/plain": [
       "      Actual  Predicted  Residual\n",
       "2702      95  95.786461 -0.786461"
      ]
     },
     "execution_count": 113,
     "metadata": {},
     "output_type": "execute_result"
    }
   ],
   "source": [
    "df_2012_NewYork_compare.head()"
   ]
  },
  {
   "cell_type": "code",
   "execution_count": null,
   "id": "5fa0270a",
   "metadata": {},
   "outputs": [],
   "source": []
  },
  {
   "cell_type": "code",
   "execution_count": 114,
   "id": "c512aa12",
   "metadata": {},
   "outputs": [],
   "source": [
    "df_2015_NewYork_compare=pd.DataFrame()\n",
    "df_2015_NewYork_compare['Actual']=df_2015_NewYork['Games_Won']\n",
    "df_2015_NewYork_compare['Predicted']=lm_1990_2010.predict(df_2015_NewYork)\n",
    "df_2015_NewYork_compare['Residual']=df_2015_NewYork_compare['Actual']-df_2015_NewYork_compare['Predicted']"
   ]
  },
  {
   "cell_type": "code",
   "execution_count": 115,
   "id": "f54d9204",
   "metadata": {},
   "outputs": [
    {
     "data": {
      "text/html": [
       "<div>\n",
       "<style scoped>\n",
       "    .dataframe tbody tr th:only-of-type {\n",
       "        vertical-align: middle;\n",
       "    }\n",
       "\n",
       "    .dataframe tbody tr th {\n",
       "        vertical-align: top;\n",
       "    }\n",
       "\n",
       "    .dataframe thead th {\n",
       "        text-align: right;\n",
       "    }\n",
       "</style>\n",
       "<table border=\"1\" class=\"dataframe\">\n",
       "  <thead>\n",
       "    <tr style=\"text-align: right;\">\n",
       "      <th></th>\n",
       "      <th>Actual</th>\n",
       "      <th>Predicted</th>\n",
       "      <th>Residual</th>\n",
       "    </tr>\n",
       "  </thead>\n",
       "  <tbody>\n",
       "    <tr>\n",
       "      <th>2781</th>\n",
       "      <td>87</td>\n",
       "      <td>88.043063</td>\n",
       "      <td>-1.043063</td>\n",
       "    </tr>\n",
       "  </tbody>\n",
       "</table>\n",
       "</div>"
      ],
      "text/plain": [
       "      Actual  Predicted  Residual\n",
       "2781      87  88.043063 -1.043063"
      ]
     },
     "execution_count": 115,
     "metadata": {},
     "output_type": "execute_result"
    }
   ],
   "source": [
    "df_2015_NewYork_compare.head()"
   ]
  },
  {
   "cell_type": "code",
   "execution_count": null,
   "id": "252ae23e",
   "metadata": {},
   "outputs": [],
   "source": []
  },
  {
   "cell_type": "code",
   "execution_count": 116,
   "id": "850a5e9b",
   "metadata": {},
   "outputs": [],
   "source": [
    "df_2012_Toronto_compare=pd.DataFrame()\n",
    "df_2012_Toronto_compare['Actual']=df_2012_Toronto['Games_Won']\n",
    "df_2012_Toronto_compare['Predicted']=lm_1990_2010.predict(df_2012_Toronto)\n",
    "df_2012_Toronto_compare['Residual']=df_2012_Toronto_compare['Actual']-df_2012_Toronto_compare['Predicted']"
   ]
  },
  {
   "cell_type": "code",
   "execution_count": 117,
   "id": "2484d642",
   "metadata": {},
   "outputs": [
    {
     "data": {
      "text/html": [
       "<div>\n",
       "<style scoped>\n",
       "    .dataframe tbody tr th:only-of-type {\n",
       "        vertical-align: middle;\n",
       "    }\n",
       "\n",
       "    .dataframe tbody tr th {\n",
       "        vertical-align: top;\n",
       "    }\n",
       "\n",
       "    .dataframe thead th {\n",
       "        text-align: right;\n",
       "    }\n",
       "</style>\n",
       "<table border=\"1\" class=\"dataframe\">\n",
       "  <thead>\n",
       "    <tr style=\"text-align: right;\">\n",
       "      <th></th>\n",
       "      <th>Actual</th>\n",
       "      <th>Predicted</th>\n",
       "      <th>Residual</th>\n",
       "    </tr>\n",
       "  </thead>\n",
       "  <tbody>\n",
       "    <tr>\n",
       "      <th>2713</th>\n",
       "      <td>73</td>\n",
       "      <td>67.878666</td>\n",
       "      <td>5.121334</td>\n",
       "    </tr>\n",
       "  </tbody>\n",
       "</table>\n",
       "</div>"
      ],
      "text/plain": [
       "      Actual  Predicted  Residual\n",
       "2713      73  67.878666  5.121334"
      ]
     },
     "execution_count": 117,
     "metadata": {},
     "output_type": "execute_result"
    }
   ],
   "source": [
    "df_2012_Toronto_compare.head()"
   ]
  },
  {
   "cell_type": "code",
   "execution_count": null,
   "id": "f8a3d550",
   "metadata": {},
   "outputs": [],
   "source": []
  },
  {
   "cell_type": "code",
   "execution_count": 118,
   "id": "4a0d0b26",
   "metadata": {},
   "outputs": [],
   "source": [
    "df_2015_Toronto_compare=pd.DataFrame()\n",
    "df_2015_Toronto_compare['Actual']=df_2015_Toronto['Games_Won']\n",
    "df_2015_Toronto_compare['Predicted']=lm_1990_2010.predict(df_2015_Toronto)\n",
    "df_2015_Toronto_compare['Residual']=df_2015_Toronto_compare['Actual']-df_2015_Toronto_compare['Predicted']"
   ]
  },
  {
   "cell_type": "code",
   "execution_count": 119,
   "id": "974e8416",
   "metadata": {},
   "outputs": [
    {
     "data": {
      "text/html": [
       "<div>\n",
       "<style scoped>\n",
       "    .dataframe tbody tr th:only-of-type {\n",
       "        vertical-align: middle;\n",
       "    }\n",
       "\n",
       "    .dataframe tbody tr th {\n",
       "        vertical-align: top;\n",
       "    }\n",
       "\n",
       "    .dataframe thead th {\n",
       "        text-align: right;\n",
       "    }\n",
       "</style>\n",
       "<table border=\"1\" class=\"dataframe\">\n",
       "  <thead>\n",
       "    <tr style=\"text-align: right;\">\n",
       "      <th></th>\n",
       "      <th>Actual</th>\n",
       "      <th>Predicted</th>\n",
       "      <th>Residual</th>\n",
       "    </tr>\n",
       "  </thead>\n",
       "  <tbody>\n",
       "    <tr>\n",
       "      <th>2713</th>\n",
       "      <td>73</td>\n",
       "      <td>67.878666</td>\n",
       "      <td>5.121334</td>\n",
       "    </tr>\n",
       "  </tbody>\n",
       "</table>\n",
       "</div>"
      ],
      "text/plain": [
       "      Actual  Predicted  Residual\n",
       "2713      73  67.878666  5.121334"
      ]
     },
     "execution_count": 119,
     "metadata": {},
     "output_type": "execute_result"
    }
   ],
   "source": [
    "df_2015_Toronto_compare.head()"
   ]
  },
  {
   "cell_type": "markdown",
   "id": "8006430d",
   "metadata": {},
   "source": [
    "**Comment: The predict for 'New York Yankees' is more accurate than 'Toronto Blue Jays'.**"
   ]
  },
  {
   "cell_type": "code",
   "execution_count": null,
   "id": "e8082f13",
   "metadata": {},
   "outputs": [],
   "source": []
  },
  {
   "cell_type": "markdown",
   "id": "6256e051",
   "metadata": {},
   "source": [
    "**Section 7 – Conclusions**"
   ]
  },
  {
   "cell_type": "markdown",
   "id": "60c5b230",
   "metadata": {},
   "source": [
    "\n",
    "**According to our analysis and the regression model, the most effective strategies for teams won in different years are different.**\n",
    "\n",
    "**1. Before 1920, Offensive Measurements are more effective. The model is very simple and the most effective measurement is \"Hits\".**\n",
    "\n",
    "**2. From 1920-1960, defensive Measurements are more effective. The model is simple and the most effective measurements are \"Games_Lost' and 'Earned_Run_Average'.** \n",
    "\n",
    "**3. From 1960-1990, defensive Measurements are a little bit more effective than offensive Measurement, but almost the same.  The model is simple and the most effective measurements are 'Runs_Scored' and 'Games_Lost'.**\n",
    "\n",
    "**4. From 1990-2010, defensive Measurements are the same important as offensive Measurements for the team's 'Games_Won'. The most effective measurements are the 'Saves', 'Games_Lost', 'Runs_Scored' and 'Earned_Run_Average'.** \n",
    "\n",
    "**From recently year's data, we can conclude that more and more variables have impact on the Games_won. So, the model is more complex and it becomes difficult to predict the Games_Won accurately.**\n",
    "\n",
    "\n",
    "\n",
    "\n",
    "\n"
   ]
  },
  {
   "cell_type": "code",
   "execution_count": null,
   "id": "d7d08fc0",
   "metadata": {},
   "outputs": [],
   "source": []
  }
 ],
 "metadata": {
  "kernelspec": {
   "display_name": "Python 3 (ipykernel)",
   "language": "python",
   "name": "python3"
  },
  "language_info": {
   "codemirror_mode": {
    "name": "ipython",
    "version": 3
   },
   "file_extension": ".py",
   "mimetype": "text/x-python",
   "name": "python",
   "nbconvert_exporter": "python",
   "pygments_lexer": "ipython3",
   "version": "3.9.7"
  }
 },
 "nbformat": 4,
 "nbformat_minor": 5
}
